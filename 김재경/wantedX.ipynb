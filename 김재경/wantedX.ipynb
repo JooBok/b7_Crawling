{
 "cells": [
  {
   "cell_type": "code",
   "execution_count": 248,
   "metadata": {},
   "outputs": [],
   "source": [
    "import pandas as pd \n",
    "import numpy as np \n",
    "from bs4 import BeautifulSoup\n",
    "from selenium import webdriver\n",
    "from selenium.webdriver.common.by import By\n",
    "from selenium.webdriver.chrome.service import service\n",
    "from selenium.webdriver.chrome.options import Options\n",
    "import warnings\n",
    "warnings.filterwarnings(\"ignore\")\n",
    "import re\n",
    "import time\n",
    "import requests\n"
   ]
  },
  {
   "cell_type": "code",
   "execution_count": 181,
   "metadata": {},
   "outputs": [],
   "source": [
    "wan_url = '''https://www.wanted.co.kr/wdlist/518?country=kr&job_sort=job.recommend_order&years=-1&locations=all'''\n",
    "# 알림 표시 권한요청 거부\n",
    "chrome_options = Options()\n",
    "chrome_options.add_argument(\"--disable-notifications\")\n",
    "\n",
    "driver = webdriver.Chrome(options=chrome_options)\n",
    "driver.get(wan_url)\n",
    "html = driver.page_source\n",
    "soup = BeautifulSoup(html, 'html.parser')"
   ]
  },
  {
   "cell_type": "markdown",
   "metadata": {},
   "source": [
    "# 전체 구조 잡기"
   ]
  },
  {
   "cell_type": "code",
   "execution_count": null,
   "metadata": {},
   "outputs": [],
   "source": [
    "# 개발섹터 선택\n",
    "driver.find_element(By.XPATH, '//*[@id=\"__next\"]/div[3]/article/div/div[2]/button/span[2]').click()"
   ]
  },
  {
   "cell_type": "code",
   "execution_count": 13,
   "metadata": {},
   "outputs": [],
   "source": [
    "# 직무선택 (5개씩 선택해서 페이지 크롤링하고 다시 5개 선택후 크롤링 반복)\n",
    "\n",
    "# job_num = 2 ~ 38\n",
    "driver.find_element(By.XPATH, f'//*[@id=\"__next\"]/div[3]/article/div/div[2]/section/div[2]/div/button[{job_num}]').click()\n",
    "\n",
    "# 선택완료\n",
    "driver.find_element(By.XPATH, '//*[@id=\"__next\"]/div[3]/article/div/div[2]/section/div[3]/button/span[2]').click()"
   ]
  },
  {
   "cell_type": "code",
   "execution_count": 95,
   "metadata": {},
   "outputs": [],
   "source": [
    "# 5개씩 끊어서 2 ~ 38(2개 Exception)까지의 항목 선택 구조\n",
    "\n",
    "list = []\n",
    "x = 2\n",
    "try:\n",
    "    for j in range(8):\n",
    "        for i in range(5):\n",
    "            x += 2\n",
    "            job_num = int(x/2)            \n",
    "            list.append(job_num)\n",
    "except:\n",
    "    Exception"
   ]
  },
  {
   "cell_type": "code",
   "execution_count": 61,
   "metadata": {},
   "outputs": [],
   "source": [
    "# 로그인창 나올 시 다시 사이트로 돌아가기\n",
    "if driver.find_element(By.XPATH, '//*[@id=\"__next\"]/main/section/div/div/div/form/div[1]/button[1]').is_displayed():\n",
    "    driver.get(wan_url)\n",
    "\n",
    "# 수정\n",
    "try:\n",
    "    log_in_page = driver.find_element(By.XPATH, '//*[@id=\"__next\"]/main/section/div/div/div/form/div[1]/button[1]/p')\n",
    "    if log_in_page.is_displayed():\n",
    "        driver.get(wan_url)\n",
    "except:\n",
    "    pass"
   ]
  },
  {
   "cell_type": "code",
   "execution_count": null,
   "metadata": {},
   "outputs": [],
   "source": [
    "# 페이지 스크롤\n",
    "last_height = driver.execute_script(\"return document.body.scrollHeight\")\n",
    "while True:\n",
    "    driver.execute_script(\"window.scrollTo(0, document.body.scrollHeight);\")\n",
    "    time.sleep(2)\n",
    "    new_height = driver.execute_script(\"return document.body.scrollHeight\")\n",
    "    if new_height == last_height:\n",
    "        break\n",
    "    last_height = new_height\n"
   ]
  },
  {
   "cell_type": "code",
   "execution_count": 182,
   "metadata": {},
   "outputs": [],
   "source": [
    "import pandas as pd \n",
    "import numpy as np \n",
    "from bs4 import BeautifulSoup\n",
    "from selenium import webdriver\n",
    "from selenium.webdriver.common.by import By\n",
    "from selenium.webdriver.chrome.service import service\n",
    "from selenium.webdriver.chrome.options import Options\n",
    "import warnings\n",
    "warnings.filterwarnings(\"ignore\")\n",
    "import re\n",
    "import time\n",
    "import requests\n",
    "\n",
    "wan_url = '''https://www.wanted.co.kr/wdlist/518?country=kr&job_sort=job.recommend_order&years=-1&locations=all'''\n",
    "# 알림 표시 권한요청 거부\n",
    "chrome_options = Options()\n",
    "chrome_options.add_argument(\"--disable-notifications\")\n",
    "\n",
    "driver = webdriver.Chrome(options=chrome_options)\n",
    "driver.get(wan_url)\n",
    "html = driver.page_source\n",
    "soup = BeautifulSoup(html, 'html.parser')\n",
    "\n",
    "job_num = 2\n",
    "\n",
    "try:\n",
    "    for a in range(8):\n",
    "        for b in range(2,7):\n",
    "            # 개발섹터 선택\n",
    "            driver.find_element(By.XPATH, '//*[@id=\"__next\"]/div[3]/article/div/div[2]/button').click()\n",
    "            time.sleep(5)\n",
    "            # 직무 선택\n",
    "            job_num += 2\n",
    "            j_num = int(job_num/2)\n",
    "            driver.find_element(By.XPATH, '//*[@id=\"__next\"]/div[3]/article/div/div[2]/section/div[1]/div/button[2]').click()\n",
    "            \n",
    "        driver.find_element(By.XPATH, '//*[@id=\"__next\"]/div[3]/article/div/div[2]/section/div[3]/button/span[2]').click()\n",
    "            \n",
    "            # 이 부분이 직무 5개 선택 후 크롤링할 코드 블록이 들어갈 곳\n",
    "\n",
    "except: \n",
    "    Exception\n",
    "\n",
    "finally:\n",
    "    try:\n",
    "        log_in_page = driver.find_element(By.XPATH, '//*[@id=\"__next\"]/main/section/div/div/div/form/div[1]/button[1]/p')\n",
    "        if log_in_page.is_displayed():\n",
    "            driver.get(wan_url)\n",
    "            for a in range(8):\n",
    "                pass\n",
    "        \n",
    "    except:\n",
    "        Exception"
   ]
  },
  {
   "cell_type": "markdown",
   "metadata": {},
   "source": [
    "# 직무 선택 작동 X"
   ]
  },
  {
   "cell_type": "code",
   "execution_count": 233,
   "metadata": {},
   "outputs": [],
   "source": [
    "# 직무 첫 5개\n",
    "# aws\n",
    "\n",
    "wanted_url = '''https://www.wanted.co.kr/wdlist/518?country=kr&job_sort=job.recommend_order&years=-1&skill_tags=1698&selected=10110&selected=873&selected=872&selected=669&selected=660&locations=all'''\n",
    "\n",
    "chrome_options = Options()\n",
    "chrome_options.add_argument(\"--disable-notifications\")\n",
    "\n",
    "driver = webdriver.Chrome(options=chrome_options)\n",
    "driver.get(wanted_url)\n",
    "\n",
    "html = driver.page_source\n",
    "soup = BeautifulSoup(html, 'html.parser')"
   ]
  },
  {
   "cell_type": "code",
   "execution_count": 185,
   "metadata": {},
   "outputs": [
    {
     "data": {
      "text/plain": [
       "'Front-end Developer'"
      ]
     },
     "execution_count": 185,
     "metadata": {},
     "output_type": "execute_result"
    }
   ],
   "source": [
    "# title 공고제목\n",
    "driver.find_element(By.XPATH, f'//*[@id=\"__next\"]/div[3]/div[2]/ul/li[{num}]/div/a/div[2]/p').text"
   ]
  },
  {
   "cell_type": "code",
   "execution_count": 222,
   "metadata": {},
   "outputs": [
    {
     "data": {
      "text/plain": [
       "'현대캐피탈'"
      ]
     },
     "execution_count": 222,
     "metadata": {},
     "output_type": "execute_result"
    }
   ],
   "source": [
    "# corp 회사명\n",
    "driver.find_element(By.XPATH, f'//*[@id=\"__next\"]/div[3]/div[2]/ul/li[{num}]/div/a/div[2]/span').text"
   ]
  },
  {
   "cell_type": "code",
   "execution_count": 223,
   "metadata": {},
   "outputs": [],
   "source": [
    "# 회사 클릭\n",
    "driver.find_element(By.XPATH, f'//*[@id=\"__next\"]/div[3]/div[2]/ul/li[{num}]/div/a').click()"
   ]
  },
  {
   "cell_type": "code",
   "execution_count": 226,
   "metadata": {},
   "outputs": [
    {
     "data": {
      "text/plain": [
       "'경력 4-10년'"
      ]
     },
     "execution_count": 226,
     "metadata": {},
     "output_type": "execute_result"
    }
   ],
   "source": [
    "# 주소, 경력\n",
    "driver.find_element(By.XPATH, '//*[@id=\"__next\"]/main/div[1]/div/section/header/div/div[1]/span[2]').text\n",
    "driver.find_element(By.XPATH, '//*[@id=\"__next\"]/main/div[1]/div/section/header/div/div[1]/span[4]').text"
   ]
  },
  {
   "cell_type": "code",
   "execution_count": 227,
   "metadata": {},
   "outputs": [
    {
     "data": {
      "text/plain": [
       "' 백엔드개발경력4년이상또는이에준하는역량을보유하신분, Kotlin또는Java기반의객체지향설계및개발능력이있으신분, 다양한유관부서협업/소통에많은경험이있으신분, 문제해결을위한토론시열린자세와적극적인자세를가진분, 테스트코드에대한필요성을이해하고작성하는데망설임이없으신분, 질좋은코드를위해코드리뷰를적극이용하시는분'"
      ]
     },
     "execution_count": 227,
     "metadata": {},
     "output_type": "execute_result"
    }
   ],
   "source": [
    "# 기술\n",
    "re.sub('\\s', '', driver.find_element(By.XPATH, '//*[@id=\"__next\"]/main/div[1]/div/section/section/article[1]/div/div[2]/p/span').text).replace('-',', ')[1:]"
   ]
  },
  {
   "cell_type": "code",
   "execution_count": 238,
   "metadata": {},
   "outputs": [],
   "source": [
    "title = []\n",
    "corp = []\n",
    "\n",
    "for a in range(1, 13):\n",
    "    title.append(driver.find_element(By.XPATH, f'//*[@id=\"__next\"]/div[3]/div[2]/ul/li[{a}]/div/a/div[2]/p').text)\n",
    "    corp.append(driver.find_element(By.XPATH, f'//*[@id=\"__next\"]/div[3]/div[2]/ul/li[{a}]/div/a/div[2]/span').text)\n"
   ]
  },
  {
   "cell_type": "code",
   "execution_count": 244,
   "metadata": {},
   "outputs": [],
   "source": [
    "wan_res = pd.DataFrame(columns=['회사', '공고제목', '주소'])"
   ]
  },
  {
   "cell_type": "code",
   "execution_count": 253,
   "metadata": {},
   "outputs": [
    {
     "ename": "NoSuchElementException",
     "evalue": "Message: no such element: Unable to locate element: {\"method\":\"xpath\",\"selector\":\"/html/body/section/div/div[2]/ul/li[3]/button/div\"}\n  (Session info: chrome=122.0.6261.69); For documentation on this error, please visit: https://www.selenium.dev/documentation/webdriver/troubleshooting/errors#no-such-element-exception\nStacktrace:\n\tGetHandleVerifier [0x00007FF656844C82+3505170]\n\t(No symbol) [0x00007FF656470852]\n\t(No symbol) [0x00007FF656324145]\n\t(No symbol) [0x00007FF656369ADD]\n\t(No symbol) [0x00007FF656369C1C]\n\t(No symbol) [0x00007FF6563AAB27]\n\t(No symbol) [0x00007FF65638BECF]\n\t(No symbol) [0x00007FF6563A83B2]\n\t(No symbol) [0x00007FF65638BC33]\n\t(No symbol) [0x00007FF65635D618]\n\t(No symbol) [0x00007FF65635E6B1]\n\tGetHandleVerifier [0x00007FF6568767DD+3708781]\n\tGetHandleVerifier [0x00007FF6568CFC5D+4074477]\n\tGetHandleVerifier [0x00007FF6568C7DDF+4042095]\n\tGetHandleVerifier [0x00007FF65659A136+708806]\n\t(No symbol) [0x00007FF65647CB0F]\n\t(No symbol) [0x00007FF656477D14]\n\t(No symbol) [0x00007FF656477E6C]\n\t(No symbol) [0x00007FF6564679A4]\n\tBaseThreadInitThunk [0x00007FF984F6257D+29]\n\tRtlUserThreadStart [0x00007FF9866AAA58+40]\n",
     "output_type": "error",
     "traceback": [
      "\u001b[1;31m---------------------------------------------------------------------------\u001b[0m",
      "\u001b[1;31mNoSuchElementException\u001b[0m                    Traceback (most recent call last)",
      "Cell \u001b[1;32mIn[253], line 16\u001b[0m\n\u001b[0;32m     14\u001b[0m time\u001b[38;5;241m.\u001b[39msleep(\u001b[38;5;241m10\u001b[39m)\n\u001b[0;32m     15\u001b[0m driver\u001b[38;5;241m.\u001b[39mfind_element(By\u001b[38;5;241m.\u001b[39mXPATH, \u001b[38;5;124m'\u001b[39m\u001b[38;5;124m//*[@id=\u001b[39m\u001b[38;5;124m\"\u001b[39m\u001b[38;5;124m__next\u001b[39m\u001b[38;5;124m\"\u001b[39m\u001b[38;5;124m]/div[3]/div[1]/div[1]/div/div/div[2]/button\u001b[39m\u001b[38;5;124m'\u001b[39m)\u001b[38;5;241m.\u001b[39mclick()\n\u001b[1;32m---> 16\u001b[0m \u001b[43mdriver\u001b[49m\u001b[38;5;241;43m.\u001b[39;49m\u001b[43mfind_element\u001b[49m\u001b[43m(\u001b[49m\u001b[43mBy\u001b[49m\u001b[38;5;241;43m.\u001b[39;49m\u001b[43mXPATH\u001b[49m\u001b[43m,\u001b[49m\u001b[43m \u001b[49m\u001b[38;5;124;43m'\u001b[39;49m\u001b[38;5;124;43m/html/body/section/div/div[2]/ul/li[3]/button/div\u001b[39;49m\u001b[38;5;124;43m'\u001b[39;49m\u001b[43m)\u001b[49m\u001b[38;5;241m.\u001b[39mclick()\n\u001b[0;32m     18\u001b[0m \u001b[38;5;66;03m# 페이지 스크롤\u001b[39;00m\n\u001b[0;32m     19\u001b[0m last_height \u001b[38;5;241m=\u001b[39m driver\u001b[38;5;241m.\u001b[39mexecute_script(\u001b[38;5;124m\"\u001b[39m\u001b[38;5;124mreturn document.body.scrollHeight\u001b[39m\u001b[38;5;124m\"\u001b[39m)\n",
      "File \u001b[1;32mc:\\Users\\jaekyung\\AppData\\Local\\Programs\\Python\\Python312\\Lib\\site-packages\\selenium\\webdriver\\remote\\webdriver.py:741\u001b[0m, in \u001b[0;36mWebDriver.find_element\u001b[1;34m(self, by, value)\u001b[0m\n\u001b[0;32m    738\u001b[0m     by \u001b[38;5;241m=\u001b[39m By\u001b[38;5;241m.\u001b[39mCSS_SELECTOR\n\u001b[0;32m    739\u001b[0m     value \u001b[38;5;241m=\u001b[39m \u001b[38;5;124mf\u001b[39m\u001b[38;5;124m'\u001b[39m\u001b[38;5;124m[name=\u001b[39m\u001b[38;5;124m\"\u001b[39m\u001b[38;5;132;01m{\u001b[39;00mvalue\u001b[38;5;132;01m}\u001b[39;00m\u001b[38;5;124m\"\u001b[39m\u001b[38;5;124m]\u001b[39m\u001b[38;5;124m'\u001b[39m\n\u001b[1;32m--> 741\u001b[0m \u001b[38;5;28;01mreturn\u001b[39;00m \u001b[38;5;28;43mself\u001b[39;49m\u001b[38;5;241;43m.\u001b[39;49m\u001b[43mexecute\u001b[49m\u001b[43m(\u001b[49m\u001b[43mCommand\u001b[49m\u001b[38;5;241;43m.\u001b[39;49m\u001b[43mFIND_ELEMENT\u001b[49m\u001b[43m,\u001b[49m\u001b[43m \u001b[49m\u001b[43m{\u001b[49m\u001b[38;5;124;43m\"\u001b[39;49m\u001b[38;5;124;43musing\u001b[39;49m\u001b[38;5;124;43m\"\u001b[39;49m\u001b[43m:\u001b[49m\u001b[43m \u001b[49m\u001b[43mby\u001b[49m\u001b[43m,\u001b[49m\u001b[43m \u001b[49m\u001b[38;5;124;43m\"\u001b[39;49m\u001b[38;5;124;43mvalue\u001b[39;49m\u001b[38;5;124;43m\"\u001b[39;49m\u001b[43m:\u001b[49m\u001b[43m \u001b[49m\u001b[43mvalue\u001b[49m\u001b[43m}\u001b[49m\u001b[43m)\u001b[49m[\u001b[38;5;124m\"\u001b[39m\u001b[38;5;124mvalue\u001b[39m\u001b[38;5;124m\"\u001b[39m]\n",
      "File \u001b[1;32mc:\\Users\\jaekyung\\AppData\\Local\\Programs\\Python\\Python312\\Lib\\site-packages\\selenium\\webdriver\\remote\\webdriver.py:347\u001b[0m, in \u001b[0;36mWebDriver.execute\u001b[1;34m(self, driver_command, params)\u001b[0m\n\u001b[0;32m    345\u001b[0m response \u001b[38;5;241m=\u001b[39m \u001b[38;5;28mself\u001b[39m\u001b[38;5;241m.\u001b[39mcommand_executor\u001b[38;5;241m.\u001b[39mexecute(driver_command, params)\n\u001b[0;32m    346\u001b[0m \u001b[38;5;28;01mif\u001b[39;00m response:\n\u001b[1;32m--> 347\u001b[0m     \u001b[38;5;28;43mself\u001b[39;49m\u001b[38;5;241;43m.\u001b[39;49m\u001b[43merror_handler\u001b[49m\u001b[38;5;241;43m.\u001b[39;49m\u001b[43mcheck_response\u001b[49m\u001b[43m(\u001b[49m\u001b[43mresponse\u001b[49m\u001b[43m)\u001b[49m\n\u001b[0;32m    348\u001b[0m     response[\u001b[38;5;124m\"\u001b[39m\u001b[38;5;124mvalue\u001b[39m\u001b[38;5;124m\"\u001b[39m] \u001b[38;5;241m=\u001b[39m \u001b[38;5;28mself\u001b[39m\u001b[38;5;241m.\u001b[39m_unwrap_value(response\u001b[38;5;241m.\u001b[39mget(\u001b[38;5;124m\"\u001b[39m\u001b[38;5;124mvalue\u001b[39m\u001b[38;5;124m\"\u001b[39m, \u001b[38;5;28;01mNone\u001b[39;00m))\n\u001b[0;32m    349\u001b[0m     \u001b[38;5;28;01mreturn\u001b[39;00m response\n",
      "File \u001b[1;32mc:\\Users\\jaekyung\\AppData\\Local\\Programs\\Python\\Python312\\Lib\\site-packages\\selenium\\webdriver\\remote\\errorhandler.py:229\u001b[0m, in \u001b[0;36mErrorHandler.check_response\u001b[1;34m(self, response)\u001b[0m\n\u001b[0;32m    227\u001b[0m         alert_text \u001b[38;5;241m=\u001b[39m value[\u001b[38;5;124m\"\u001b[39m\u001b[38;5;124malert\u001b[39m\u001b[38;5;124m\"\u001b[39m]\u001b[38;5;241m.\u001b[39mget(\u001b[38;5;124m\"\u001b[39m\u001b[38;5;124mtext\u001b[39m\u001b[38;5;124m\"\u001b[39m)\n\u001b[0;32m    228\u001b[0m     \u001b[38;5;28;01mraise\u001b[39;00m exception_class(message, screen, stacktrace, alert_text)  \u001b[38;5;66;03m# type: ignore[call-arg]  # mypy is not smart enough here\u001b[39;00m\n\u001b[1;32m--> 229\u001b[0m \u001b[38;5;28;01mraise\u001b[39;00m exception_class(message, screen, stacktrace)\n",
      "\u001b[1;31mNoSuchElementException\u001b[0m: Message: no such element: Unable to locate element: {\"method\":\"xpath\",\"selector\":\"/html/body/section/div/div[2]/ul/li[3]/button/div\"}\n  (Session info: chrome=122.0.6261.69); For documentation on this error, please visit: https://www.selenium.dev/documentation/webdriver/troubleshooting/errors#no-such-element-exception\nStacktrace:\n\tGetHandleVerifier [0x00007FF656844C82+3505170]\n\t(No symbol) [0x00007FF656470852]\n\t(No symbol) [0x00007FF656324145]\n\t(No symbol) [0x00007FF656369ADD]\n\t(No symbol) [0x00007FF656369C1C]\n\t(No symbol) [0x00007FF6563AAB27]\n\t(No symbol) [0x00007FF65638BECF]\n\t(No symbol) [0x00007FF6563A83B2]\n\t(No symbol) [0x00007FF65638BC33]\n\t(No symbol) [0x00007FF65635D618]\n\t(No symbol) [0x00007FF65635E6B1]\n\tGetHandleVerifier [0x00007FF6568767DD+3708781]\n\tGetHandleVerifier [0x00007FF6568CFC5D+4074477]\n\tGetHandleVerifier [0x00007FF6568C7DDF+4042095]\n\tGetHandleVerifier [0x00007FF65659A136+708806]\n\t(No symbol) [0x00007FF65647CB0F]\n\t(No symbol) [0x00007FF656477D14]\n\t(No symbol) [0x00007FF656477E6C]\n\t(No symbol) [0x00007FF6564679A4]\n\tBaseThreadInitThunk [0x00007FF984F6257D+29]\n\tRtlUserThreadStart [0x00007FF9866AAA58+40]\n"
     ]
    }
   ],
   "source": [
    "from selenium import webdriver\n",
    "from selenium.webdriver.chrome.options import Options\n",
    "from bs4 import BeautifulSoup\n",
    "import time\n",
    "\n",
    "chrome_options = Options()\n",
    "chrome_options.add_argument(\"--disable-notifications\")\n",
    "\n",
    "driver = webdriver.Chrome(options=chrome_options)\n",
    "\n",
    "url = \"https://www.wanted.co.kr/wdlist/518?country=kr&job_sort=job.recommend_order&years=-1&skill_tags=1698&selected=10110&selected=873&selected=872&selected=669&selected=660&locations=all\"\n",
    "\n",
    "driver.get(url)\n",
    "time.sleep(10)\n",
    "driver.find_element(By.XPATH, '//*[@id=\"__next\"]/div[3]/div[1]/div[1]/div/div/div[2]/button').click()\n",
    "driver.find_element(By.input, \"ap_email\")\n",
    "driver.find_element(By.XPAYH, '/html/body/section/div/div[1]/div').click()\n",
    "\n",
    "# 페이지 스크롤\n",
    "last_height = driver.execute_script(\"return document.body.scrollHeight\")\n",
    "while True:\n",
    "    driver.execute_script(\"window.scrollTo(0, document.body.scrollHeight);\")\n",
    "    time.sleep(2)\n",
    "    new_height = driver.execute_script(\"return document.body.scrollHeight\")\n",
    "    if new_height == last_height:\n",
    "        break\n",
    "    last_height = new_height\n",
    "\n",
    "# 페이지 소스 가져오기\n",
    "html = driver.page_source\n",
    "driver.quit()  # 브라우저 종료\n",
    "\n",
    "# BeautifulSoup을 사용하여 페이지 파싱\n",
    "soup = BeautifulSoup(html, \"html.parser\")\n",
    "\n",
    "# 원하는 데이터 추출\n",
    "job_listings = soup.find_all(\"div\", class_=\"JobCard__card___22xP3\")\n",
    "\n",
    "for job in job_listings:\n",
    "    title = job.find(\"div\", class_=\"JobCard__title___1hw6c\").text.strip()\n",
    "    company = job.find(\"div\", class_=\"JobCard__company___1Yw3F\").text.strip()\n",
    "    location = job.find(\"div\", class_=\"JobCard__location___3w3cb\").text.strip()\n",
    "    print(f\"Title: {title}, Company: {company}, Location: {location}\")\n",
    "    wan_temp = pd.DataFrame([company, title, location], index = ['회사', '공고제목', '주소'])\n",
    "    wan_res = pd.concat([wan_res, wan_temp])\n",
    "wan_res"
   ]
  }
 ],
 "metadata": {
  "kernelspec": {
   "display_name": "base",
   "language": "python",
   "name": "python3"
  },
  "language_info": {
   "codemirror_mode": {
    "name": "ipython",
    "version": 3
   },
   "file_extension": ".py",
   "mimetype": "text/x-python",
   "name": "python",
   "nbconvert_exporter": "python",
   "pygments_lexer": "ipython3",
   "version": "3.12.2"
  }
 },
 "nbformat": 4,
 "nbformat_minor": 2
}
