{
 "cells": [
  {
   "cell_type": "code",
   "execution_count": 1,
   "metadata": {},
   "outputs": [
    {
     "name": "stdout",
     "output_type": "stream",
     "text": [
      "Hello World\n"
     ]
    }
   ],
   "source": [
    "print('Hello World')"
   ]
  },
  {
   "cell_type": "code",
   "execution_count": 1,
   "metadata": {},
   "outputs": [],
   "source": [
    "import pandas as pd \n",
    "import numpy as np \n",
    "from bs4 import BeautifulSoup\n",
    "from selenium import webdriver\n",
    "from selenium.webdriver.common.by import By\n",
    "from selenium.webdriver.chrome.service import service\n",
    "from selenium.webdriver.chrome.options import Options\n",
    "import warnings\n",
    "warnings.filterwarnings(\"ignore\")\n",
    "import re\n",
    "import time\n",
    "import requests\n",
    "from selenium.webdriver.common.keys import Keys"
   ]
  },
  {
   "cell_type": "markdown",
   "metadata": {},
   "source": [
    "# 구조\n",
    "> 스크롤             \n",
    "> 요소 보이면 크롤링                   \n",
    "> 스크롤 하다가 더보기 보이면 클릭"
   ]
  },
  {
   "cell_type": "code",
   "execution_count": null,
   "metadata": {},
   "outputs": [],
   "source": [
    "chrome_options = Options()\n",
    "# 전체화면\n",
    "chrome_options.add_argument(\"--start-maximized\")\n",
    "# 알림 표시 제거\n",
    "chrome_options.add_argument(\"--disable-notifications\")\n",
    "cour_url = '''https://www.coursera.org/search?query=aws'''\n",
    "driver = webdriver.Chrome(options=chrome_options)\n",
    "driver.get(cour_url)\n",
    "\n",
    "#스크롤하며 공고 찾기\n",
    "\n",
    "cour_res = pd.DataFrame(columns = ['강의명', '기술', '별점', '리뷰수'])\n",
    "\n",
    "for post_num in range(1, 999):\n",
    "    while True:\n",
    "        try:\n",
    "            # 공고 찾기\n",
    "            title = driver.find_element(\n",
    "                By.XPATH, f'//*[@id=\"rendered-content\"]/div/div/main/div[2]/div/div/div/div/div[2]/ul/li[{post_num}]/div/div/div/div/div/div[2]/div[1]/div[2]'\n",
    "                ).text\n",
    "            \n",
    "            # 있으면 클릭하고 break\n",
    "            if title.is_displayed():\n",
    "                try:\n",
    "                    # 강의명\n",
    "                    title = WebDriverWait(driver, 10).until(\n",
    "                            Ec.presence_of_element_located(\n",
    "                                (\n",
    "                                By.XPATH, f'//*[@id=\"rendered-content\"]/div/div/main/div[2]/div/div/div/div/div[2]/ul/li[{post_num}]/div/div/div/div/div/div[2]/div[1]/div[2]'\n",
    "                            )\n",
    "                            )\n",
    "                            ).text\n",
    "                    # 기술\n",
    "                    tec = driver.find_element(By.XPATH, f'//*[@id=\"rendered-content\"]/div/div/main/div[2]/div/div/div/div/div[2]/ul/li[{post_num}]/div/div/div/div/div/div[2]/div[2]').text\n",
    "                    # 별점\n",
    "                    star = driver.find_element(By.XPATH, f'//*[@id=\"rendered-content\"]/div/div/main/div[2]/div/div/div/div/div[2]/ul/li[{post_num}]/div/div/div/div/div/div[2]/div[3]').text.split('\\n')[0]\n",
    "                    # 리뷰수\n",
    "                    review = driver.find_element(By.XPATH, f'//*[@id=\"rendered-content\"]/div/div/main/div[2]/div/div/div/div/div[2]/ul/li[{post_num}]/div/div/div/div/div/div[2]/div[3]').text.split('\\n')[1]\n",
    "                except:\n",
    "                    None\n",
    "        # 없으면 오류제거하고 while True 반복 진행\n",
    "        except NoSuchElementException:\n",
    "            pass\n",
    "        # 스크롤 시작점=0, 500픽셀씩 내리기\n",
    "        driver.execute_script(\"window.scrollBy(0, 500);\")\n",
    "        time.sleep(2)\n",
    "        cour_temp = pd.DataFrame([title, tec, star, review], index = ['강의명', '기술', '별점', '리뷰수'])\n",
    "        cour_res = pd.concat([cour_res, cour_temp])\n"
   ]
  },
  {
   "cell_type": "markdown",
   "metadata": {},
   "source": [
    "# 구조 2"
   ]
  },
  {
   "cell_type": "code",
   "execution_count": 109,
   "metadata": {},
   "outputs": [
    {
     "ename": "TimeoutException",
     "evalue": "Message: \nStacktrace:\n\tGetHandleVerifier [0x00007FF693C77012+3522402]\n\t(No symbol) [0x00007FF693898352]\n\t(No symbol) [0x00007FF693745ABB]\n\t(No symbol) [0x00007FF69378BF0E]\n\t(No symbol) [0x00007FF69378C08C]\n\t(No symbol) [0x00007FF6937CE437]\n\t(No symbol) [0x00007FF6937AF09F]\n\t(No symbol) [0x00007FF6937CBDA3]\n\t(No symbol) [0x00007FF6937AEE03]\n\t(No symbol) [0x00007FF69377F4D4]\n\t(No symbol) [0x00007FF6937805F1]\n\tGetHandleVerifier [0x00007FF693CA9B9D+3730157]\n\tGetHandleVerifier [0x00007FF693CFF02D+4079485]\n\tGetHandleVerifier [0x00007FF693CF75D3+4048163]\n\tGetHandleVerifier [0x00007FF6939CA649+718233]\n\t(No symbol) [0x00007FF6938A4A3F]\n\t(No symbol) [0x00007FF69389FA94]\n\t(No symbol) [0x00007FF69389FBC2]\n\t(No symbol) [0x00007FF69388F2E4]\n\tBaseThreadInitThunk [0x00007FFACBF426BD+29]\n\tRtlUserThreadStart [0x00007FFACC8EDFB8+40]\n",
     "output_type": "error",
     "traceback": [
      "\u001b[1;31m---------------------------------------------------------------------------\u001b[0m",
      "\u001b[1;31mTimeoutException\u001b[0m                          Traceback (most recent call last)",
      "\u001b[1;32mc:\\Users\\user\\Documents\\b7_Crawling\\김재경\\coursera.ipynb Cell 6\u001b[0m line \u001b[0;36m3\n\u001b[0;32m     <a href='vscode-notebook-cell:/c%3A/Users/user/Documents/b7_Crawling/%EA%B9%80%EC%9E%AC%EA%B2%BD/coursera.ipynb#Y111sZmlsZQ%3D%3D?line=26'>27</a>\u001b[0m \u001b[39m# 스크롤 하며 Crawling , 더보기 나오면 클릭 루프 시작\u001b[39;00m\n\u001b[0;32m     <a href='vscode-notebook-cell:/c%3A/Users/user/Documents/b7_Crawling/%EA%B9%80%EC%9E%AC%EA%B2%BD/coursera.ipynb#Y111sZmlsZQ%3D%3D?line=27'>28</a>\u001b[0m \u001b[39mwhile\u001b[39;00m \u001b[39mTrue\u001b[39;00m:\n\u001b[0;32m     <a href='vscode-notebook-cell:/c%3A/Users/user/Documents/b7_Crawling/%EA%B9%80%EC%9E%AC%EA%B2%BD/coursera.ipynb#Y111sZmlsZQ%3D%3D?line=28'>29</a>\u001b[0m     \u001b[39m# 강의명\u001b[39;00m\n\u001b[1;32m---> <a href='vscode-notebook-cell:/c%3A/Users/user/Documents/b7_Crawling/%EA%B9%80%EC%9E%AC%EA%B2%BD/coursera.ipynb#Y111sZmlsZQ%3D%3D?line=29'>30</a>\u001b[0m     title_ele \u001b[39m=\u001b[39m WebDriverWait(driver, \u001b[39m10\u001b[39m)\u001b[39m.\u001b[39muntil(\n\u001b[0;32m     <a href='vscode-notebook-cell:/c%3A/Users/user/Documents/b7_Crawling/%EA%B9%80%EC%9E%AC%EA%B2%BD/coursera.ipynb#Y111sZmlsZQ%3D%3D?line=30'>31</a>\u001b[0m         EC\u001b[39m.\u001b[39mpresence_of_element_located(\n\u001b[0;32m     <a href='vscode-notebook-cell:/c%3A/Users/user/Documents/b7_Crawling/%EA%B9%80%EC%9E%AC%EA%B2%BD/coursera.ipynb#Y111sZmlsZQ%3D%3D?line=31'>32</a>\u001b[0m             (By\u001b[39m.\u001b[39mXPATH,  \u001b[39mf\u001b[39m\u001b[39m'\u001b[39m\u001b[39m//*[@id=\u001b[39m\u001b[39m\"\u001b[39m\u001b[39mrendered-content\u001b[39m\u001b[39m\"\u001b[39m\u001b[39m]/div/div/main/div[2]/div/div/div/div/div[2]/ul[1]/li[\u001b[39m\u001b[39m{\u001b[39;00mpost_num\u001b[39m}\u001b[39;00m\u001b[39m]/div/div/div/div/div/div[2]/div[1]\u001b[39m\u001b[39m'\u001b[39m\n\u001b[0;32m     <a href='vscode-notebook-cell:/c%3A/Users/user/Documents/b7_Crawling/%EA%B9%80%EC%9E%AC%EA%B2%BD/coursera.ipynb#Y111sZmlsZQ%3D%3D?line=32'>33</a>\u001b[0m              )\n\u001b[0;32m     <a href='vscode-notebook-cell:/c%3A/Users/user/Documents/b7_Crawling/%EA%B9%80%EC%9E%AC%EA%B2%BD/coursera.ipynb#Y111sZmlsZQ%3D%3D?line=33'>34</a>\u001b[0m              )\n\u001b[0;32m     <a href='vscode-notebook-cell:/c%3A/Users/user/Documents/b7_Crawling/%EA%B9%80%EC%9E%AC%EA%B2%BD/coursera.ipynb#Y111sZmlsZQ%3D%3D?line=34'>35</a>\u001b[0m              )\n\u001b[0;32m     <a href='vscode-notebook-cell:/c%3A/Users/user/Documents/b7_Crawling/%EA%B9%80%EC%9E%AC%EA%B2%BD/coursera.ipynb#Y111sZmlsZQ%3D%3D?line=35'>36</a>\u001b[0m     \u001b[39mif\u001b[39;00m title_ele\u001b[39m.\u001b[39mis_displayed():\n\u001b[0;32m     <a href='vscode-notebook-cell:/c%3A/Users/user/Documents/b7_Crawling/%EA%B9%80%EC%9E%AC%EA%B2%BD/coursera.ipynb#Y111sZmlsZQ%3D%3D?line=36'>37</a>\u001b[0m         title \u001b[39m=\u001b[39m title_ele\u001b[39m.\u001b[39mtext\u001b[39m.\u001b[39msplit(\u001b[39m'\u001b[39m\u001b[39m\\n\u001b[39;00m\u001b[39m'\u001b[39m)[\u001b[39m1\u001b[39m]\n",
      "File \u001b[1;32mc:\\ProgramData\\anaconda3\\Lib\\site-packages\\selenium\\webdriver\\support\\wait.py:105\u001b[0m, in \u001b[0;36mWebDriverWait.until\u001b[1;34m(self, method, message)\u001b[0m\n\u001b[0;32m    103\u001b[0m     \u001b[39mif\u001b[39;00m time\u001b[39m.\u001b[39mmonotonic() \u001b[39m>\u001b[39m end_time:\n\u001b[0;32m    104\u001b[0m         \u001b[39mbreak\u001b[39;00m\n\u001b[1;32m--> 105\u001b[0m \u001b[39mraise\u001b[39;00m TimeoutException(message, screen, stacktrace)\n",
      "\u001b[1;31mTimeoutException\u001b[0m: Message: \nStacktrace:\n\tGetHandleVerifier [0x00007FF693C77012+3522402]\n\t(No symbol) [0x00007FF693898352]\n\t(No symbol) [0x00007FF693745ABB]\n\t(No symbol) [0x00007FF69378BF0E]\n\t(No symbol) [0x00007FF69378C08C]\n\t(No symbol) [0x00007FF6937CE437]\n\t(No symbol) [0x00007FF6937AF09F]\n\t(No symbol) [0x00007FF6937CBDA3]\n\t(No symbol) [0x00007FF6937AEE03]\n\t(No symbol) [0x00007FF69377F4D4]\n\t(No symbol) [0x00007FF6937805F1]\n\tGetHandleVerifier [0x00007FF693CA9B9D+3730157]\n\tGetHandleVerifier [0x00007FF693CFF02D+4079485]\n\tGetHandleVerifier [0x00007FF693CF75D3+4048163]\n\tGetHandleVerifier [0x00007FF6939CA649+718233]\n\t(No symbol) [0x00007FF6938A4A3F]\n\t(No symbol) [0x00007FF69389FA94]\n\t(No symbol) [0x00007FF69389FBC2]\n\t(No symbol) [0x00007FF69388F2E4]\n\tBaseThreadInitThunk [0x00007FFACBF426BD+29]\n\tRtlUserThreadStart [0x00007FFACC8EDFB8+40]\n"
     ]
    }
   ],
   "source": [
    "from selenium import webdriver\n",
    "from selenium.webdriver.chrome.options import Options\n",
    "from selenium.webdriver.common.by import By\n",
    "from selenium.webdriver.support.ui import WebDriverWait\n",
    "from selenium.common.exceptions import NoSuchElementException\n",
    "from selenium.webdriver.support import expected_conditions as EC\n",
    "import pandas as pd\n",
    "import time\n",
    "\n",
    "chrome_options = Options()\n",
    "# 전체화면\n",
    "chrome_options.add_argument(\"--start-maximized\")\n",
    "# 알림 표시 제거\n",
    "chrome_options.add_argument(\"--disable-notifications\")\n",
    "cour_url = '''https://www.coursera.org/search?query=aws'''\n",
    "driver = webdriver.Chrome(options=chrome_options)\n",
    "driver.get(cour_url)\n",
    "\n",
    "cour_res = pd.DataFrame(columns = ['강의명', '기술', '별점', '리뷰수'])\n",
    "\n",
    "\n",
    "# 포스트 초기\n",
    "post_num = 1\n",
    "# pre = 지금 스크롤 높이\n",
    "pre_height = driver.execute_script('return document.body.scrollHeight')\n",
    "\n",
    "# 스크롤 하며 Crawling , 더보기 나오면 클릭 루프 시작\n",
    "while True:\n",
    "    # 강의명\n",
    "    title_ele = WebDriverWait(driver, 10).until(\n",
    "        EC.presence_of_element_located(\n",
    "            (By.XPATH,  f'//*[@id=\"rendered-content\"]/div/div/main/div[2]/div/div/div/div/div[2]/ul[1]/li[{post_num}]/div/div/div/div/div/div[2]/div[1]'\n",
    "             )\n",
    "             )\n",
    "             )\n",
    "    if title_ele.is_displayed():\n",
    "        title = title_ele.text.split('\\n')[1]\n",
    "        \n",
    "        # 기술\n",
    "        tec = driver.find_element(By.XPATH, f'//*[@id=\"__next\"]/main/div[2]/div/div/div/div/div[2]/ul/li[{post_num}]/div/div/div/div/div/div[2]/div[2]').text\n",
    "        \n",
    "        # 별점\n",
    "        star_review = driver.find_element(By.XPATH, f'//*[@id=\"__next\"]/main/div[2]/div/div/div/div/div[2]/ul/li[{post_num}]/div/div/div/div/div/div[2]/div[3]').text.split('\\n')\n",
    "        star = star_review[0]\n",
    "        review = star_review[1]\n",
    "        \n",
    "        # DataFrame에 추가\n",
    "        cour_temp = pd.DataFrame(\n",
    "            [title, tec, star, review],\n",
    "            index=['강의명', '기술', '별점', '리뷰수']\n",
    "            ).T\n",
    "        cour_res = pd.concat([cour_res, cour_temp])\n",
    "    \n",
    "    post_num += 1\n",
    "\n",
    "    # 스크롤 시작점=0, 500픽셀씩 내리기\n",
    "    driver.execute_script(\"window.scrollBy(0, 500);\")\n",
    "    time.sleep(2)\n",
    "    \n",
    "    # 새로운 스크롤 위치\n",
    "    new_height = driver.execute_script('return document.body.scrollHeight')\n",
    "    # 이전 스크롤 위치와 비교하여 같다면 페이지의 끝에 도달한 것이므로 루프 종료\n",
    "    if new_height == pre_height:\n",
    "        break\n",
    "    pre_height = new_height\n",
    "\n",
    "    # 더보기 버튼 나오면 누르기\n",
    "    try:\n",
    "        driver.find_element(\n",
    "            By.XPATH,\n",
    "            '//*[@id=\"rendered-content\"]/div/div/main/div[2]/div/div/div/div/div[2]/div[4]/button/span'\n",
    "            ).is_displayed()\n",
    "        driver.find_element(\n",
    "            By.XPATH,\n",
    "            '//*[@id=\"rendered-content\"]/div/div/main/div[2]/div/div/div/div/div[2]/div[4]/button/span'\n",
    "            ).click\n",
    "    except:\n",
    "        Exception"
   ]
  },
  {
   "cell_type": "code",
   "execution_count": 108,
   "metadata": {},
   "outputs": [
    {
     "data": {
      "text/html": [
       "<div>\n",
       "<style scoped>\n",
       "    .dataframe tbody tr th:only-of-type {\n",
       "        vertical-align: middle;\n",
       "    }\n",
       "\n",
       "    .dataframe tbody tr th {\n",
       "        vertical-align: top;\n",
       "    }\n",
       "\n",
       "    .dataframe thead th {\n",
       "        text-align: right;\n",
       "    }\n",
       "</style>\n",
       "<table border=\"1\" class=\"dataframe\">\n",
       "  <thead>\n",
       "    <tr style=\"text-align: right;\">\n",
       "      <th></th>\n",
       "      <th>강의명</th>\n",
       "      <th>기술</th>\n",
       "      <th>별점</th>\n",
       "      <th>리뷰수</th>\n",
       "    </tr>\n",
       "  </thead>\n",
       "  <tbody>\n",
       "  </tbody>\n",
       "</table>\n",
       "</div>"
      ],
      "text/plain": [
       "Empty DataFrame\n",
       "Columns: [강의명, 기술, 별점, 리뷰수]\n",
       "Index: []"
      ]
     },
     "execution_count": 108,
     "metadata": {},
     "output_type": "execute_result"
    }
   ],
   "source": [
    "cour_res"
   ]
  },
  {
   "cell_type": "code",
   "execution_count": null,
   "metadata": {},
   "outputs": [],
   "source": []
  }
 ],
 "metadata": {
  "kernelspec": {
   "display_name": "base",
   "language": "python",
   "name": "python3"
  },
  "language_info": {
   "codemirror_mode": {
    "name": "ipython",
    "version": 3
   },
   "file_extension": ".py",
   "mimetype": "text/x-python",
   "name": "python",
   "nbconvert_exporter": "python",
   "pygments_lexer": "ipython3",
   "version": "3.11.5"
  }
 },
 "nbformat": 4,
 "nbformat_minor": 2
}
