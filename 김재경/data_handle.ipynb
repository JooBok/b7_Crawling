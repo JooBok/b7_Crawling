{
 "cells": [
  {
   "cell_type": "markdown",
   "metadata": {},
   "source": [
    "# Wanted_insight_data_handle"
   ]
  },
  {
   "cell_type": "code",
   "execution_count": 53,
   "metadata": {},
   "outputs": [],
   "source": [
    "import pandas as pd\n",
    "import re"
   ]
  },
  {
   "cell_type": "code",
   "execution_count": 166,
   "metadata": {},
   "outputs": [
    {
     "data": {
      "text/html": [
       "<div>\n",
       "<style scoped>\n",
       "    .dataframe tbody tr th:only-of-type {\n",
       "        vertical-align: middle;\n",
       "    }\n",
       "\n",
       "    .dataframe tbody tr th {\n",
       "        vertical-align: top;\n",
       "    }\n",
       "\n",
       "    .dataframe thead th {\n",
       "        text-align: right;\n",
       "    }\n",
       "</style>\n",
       "<table border=\"1\" class=\"dataframe\">\n",
       "  <thead>\n",
       "    <tr style=\"text-align: right;\">\n",
       "      <th></th>\n",
       "      <th>기업명</th>\n",
       "      <th>업종분류</th>\n",
       "      <th>사원수</th>\n",
       "      <th>설립연도</th>\n",
       "      <th>매출액</th>\n",
       "    </tr>\n",
       "  </thead>\n",
       "  <tbody>\n",
       "    <tr>\n",
       "      <th>0</th>\n",
       "      <td>젭</td>\n",
       "      <td>시스템ㆍ응용 소프트웨어 개발 및 공급업</td>\n",
       "      <td>NaN</td>\n",
       "      <td>2년 (2022년 설립)</td>\n",
       "      <td>-원</td>\n",
       "    </tr>\n",
       "    <tr>\n",
       "      <th>0</th>\n",
       "      <td>서커스컴퍼니</td>\n",
       "      <td>시스템ㆍ응용 소프트웨어 개발 및 공급업</td>\n",
       "      <td>13명</td>\n",
       "      <td>11년 (2013년 설립)</td>\n",
       "      <td>22억2,380만원</td>\n",
       "    </tr>\n",
       "    <tr>\n",
       "      <th>0</th>\n",
       "      <td>블로코</td>\n",
       "      <td>시스템ㆍ응용 소프트웨어 개발 및 공급업</td>\n",
       "      <td>26명</td>\n",
       "      <td>9년 (2015년 설립)</td>\n",
       "      <td>22억1,128만원</td>\n",
       "    </tr>\n",
       "    <tr>\n",
       "      <th>0</th>\n",
       "      <td>피매치</td>\n",
       "      <td>자연과학 및 공학 융합 연구개발업</td>\n",
       "      <td>NaN</td>\n",
       "      <td>3년 (2021년 설립)</td>\n",
       "      <td>-원</td>\n",
       "    </tr>\n",
       "    <tr>\n",
       "      <th>0</th>\n",
       "      <td>만나플래닛</td>\n",
       "      <td>시스템ㆍ응용 소프트웨어 개발 및 공급업</td>\n",
       "      <td>NaN</td>\n",
       "      <td>8년 (2016년 설립)</td>\n",
       "      <td>123억8,113만원</td>\n",
       "    </tr>\n",
       "    <tr>\n",
       "      <th>...</th>\n",
       "      <td>...</td>\n",
       "      <td>...</td>\n",
       "      <td>...</td>\n",
       "      <td>...</td>\n",
       "      <td>...</td>\n",
       "    </tr>\n",
       "    <tr>\n",
       "      <th>0</th>\n",
       "      <td>인센드</td>\n",
       "      <td>시스템ㆍ응용 소프트웨어 개발 및 공급업</td>\n",
       "      <td>NaN</td>\n",
       "      <td>1년 (2023년 설립)</td>\n",
       "      <td>-원</td>\n",
       "    </tr>\n",
       "    <tr>\n",
       "      <th>0</th>\n",
       "      <td>큐픽스</td>\n",
       "      <td>의약품, 의료용품 및 화장품 도매업</td>\n",
       "      <td>NaN</td>\n",
       "      <td>7년 (2017년 설립)</td>\n",
       "      <td>-원</td>\n",
       "    </tr>\n",
       "    <tr>\n",
       "      <th>0</th>\n",
       "      <td>엔비티</td>\n",
       "      <td>세제, 화장품 및 광택제 제조업</td>\n",
       "      <td>6명</td>\n",
       "      <td>8년 (2016년 설립)</td>\n",
       "      <td>14억5,461만원</td>\n",
       "    </tr>\n",
       "    <tr>\n",
       "      <th>0</th>\n",
       "      <td>퍼니지</td>\n",
       "      <td>경비 및 경호 서비스업</td>\n",
       "      <td>6명</td>\n",
       "      <td>12년 (2012년 설립)</td>\n",
       "      <td>-원</td>\n",
       "    </tr>\n",
       "    <tr>\n",
       "      <th>0</th>\n",
       "      <td>아이오바이오</td>\n",
       "      <td>자연과학 연구개발업</td>\n",
       "      <td>37명</td>\n",
       "      <td>13년 (2011년 설립)</td>\n",
       "      <td>10억3,744만원</td>\n",
       "    </tr>\n",
       "  </tbody>\n",
       "</table>\n",
       "<p>1811 rows × 5 columns</p>\n",
       "</div>"
      ],
      "text/plain": [
       "       기업명                   업종분류  사원수            설립연도          매출액\n",
       "0        젭  시스템ㆍ응용 소프트웨어 개발 및 공급업  NaN   2년 (2022년 설립)           -원\n",
       "0   서커스컴퍼니  시스템ㆍ응용 소프트웨어 개발 및 공급업  13명  11년 (2013년 설립)   22억2,380만원\n",
       "0      블로코  시스템ㆍ응용 소프트웨어 개발 및 공급업  26명   9년 (2015년 설립)   22억1,128만원\n",
       "0      피매치     자연과학 및 공학 융합 연구개발업  NaN   3년 (2021년 설립)           -원\n",
       "0    만나플래닛  시스템ㆍ응용 소프트웨어 개발 및 공급업  NaN   8년 (2016년 설립)  123억8,113만원\n",
       "..     ...                    ...  ...             ...          ...\n",
       "0      인센드  시스템ㆍ응용 소프트웨어 개발 및 공급업  NaN   1년 (2023년 설립)           -원\n",
       "0      큐픽스    의약품, 의료용품 및 화장품 도매업  NaN   7년 (2017년 설립)           -원\n",
       "0      엔비티      세제, 화장품 및 광택제 제조업   6명   8년 (2016년 설립)   14억5,461만원\n",
       "0      퍼니지           경비 및 경호 서비스업   6명  12년 (2012년 설립)           -원\n",
       "0   아이오바이오             자연과학 연구개발업  37명  13년 (2011년 설립)   10억3,744만원\n",
       "\n",
       "[1811 rows x 5 columns]"
      ]
     },
     "execution_count": 166,
     "metadata": {},
     "output_type": "execute_result"
    }
   ],
   "source": [
    "data = pd.read_csv('./.gitignore/wanted_insight_data.csv', index_col= 0 )\n",
    "data"
   ]
  },
  {
   "cell_type": "code",
   "execution_count": 167,
   "metadata": {},
   "outputs": [],
   "source": [
    "data.loc[data.업종분류 == '-', '업종분류'] = None"
   ]
  },
  {
   "cell_type": "code",
   "execution_count": 168,
   "metadata": {},
   "outputs": [
    {
     "data": {
      "text/plain": [
       "array(['2년 (2022년 설립)', '11년 (2013년 설립)', '9년 (2015년 설립)',\n",
       "       '3년 (2021년 설립)', '8년 (2016년 설립)', '10년 (2014년 설립)',\n",
       "       '17년 (2007년 설립)', '13년 (2011년 설립)', '1년 (2023년 설립)',\n",
       "       '4년 (2020년 설립)', '6년 (2018년 설립)', '7년 (2017년 설립)', '5년 (2019년 설립)',\n",
       "       '23년 (2001년 설립)', '14년 (2010년 설립)', '26년 (1998년 설립)',\n",
       "       '29년 (1995년 설립)', '12년 (2012년 설립)', '28년 (1996년 설립)',\n",
       "       '20년 (2004년 설립)', '21년 (2003년 설립)', '24년 (2000년 설립)',\n",
       "       '18년 (2006년 설립)', '16년 (2008년 설립)', '19년 (2005년 설립)',\n",
       "       '25년 (1999년 설립)', '15년 (2009년 설립)', '30년 (1994년 설립)',\n",
       "       '31년 (1993년 설립)'], dtype=object)"
      ]
     },
     "execution_count": 168,
     "metadata": {},
     "output_type": "execute_result"
    }
   ],
   "source": [
    "data.설립연도.unique()"
   ]
  },
  {
   "cell_type": "code",
   "execution_count": 169,
   "metadata": {},
   "outputs": [],
   "source": [
    "data.설립연도 = data.설립연도.apply(lambda x: int(''.join(re.findall('(\\d\\d\\d\\d)', x))))"
   ]
  },
  {
   "cell_type": "code",
   "execution_count": 170,
   "metadata": {},
   "outputs": [
    {
     "data": {
      "text/html": [
       "<div>\n",
       "<style scoped>\n",
       "    .dataframe tbody tr th:only-of-type {\n",
       "        vertical-align: middle;\n",
       "    }\n",
       "\n",
       "    .dataframe tbody tr th {\n",
       "        vertical-align: top;\n",
       "    }\n",
       "\n",
       "    .dataframe thead th {\n",
       "        text-align: right;\n",
       "    }\n",
       "</style>\n",
       "<table border=\"1\" class=\"dataframe\">\n",
       "  <thead>\n",
       "    <tr style=\"text-align: right;\">\n",
       "      <th></th>\n",
       "      <th>기업명</th>\n",
       "      <th>업종분류</th>\n",
       "      <th>사원수</th>\n",
       "      <th>설립연도</th>\n",
       "      <th>매출액</th>\n",
       "    </tr>\n",
       "  </thead>\n",
       "  <tbody>\n",
       "    <tr>\n",
       "      <th>0</th>\n",
       "      <td>젭</td>\n",
       "      <td>시스템ㆍ응용 소프트웨어 개발 및 공급업</td>\n",
       "      <td>NaN</td>\n",
       "      <td>2022</td>\n",
       "      <td>None</td>\n",
       "    </tr>\n",
       "    <tr>\n",
       "      <th>0</th>\n",
       "      <td>서커스컴퍼니</td>\n",
       "      <td>시스템ㆍ응용 소프트웨어 개발 및 공급업</td>\n",
       "      <td>13명</td>\n",
       "      <td>2013</td>\n",
       "      <td>22억2,380만원</td>\n",
       "    </tr>\n",
       "    <tr>\n",
       "      <th>0</th>\n",
       "      <td>블로코</td>\n",
       "      <td>시스템ㆍ응용 소프트웨어 개발 및 공급업</td>\n",
       "      <td>26명</td>\n",
       "      <td>2015</td>\n",
       "      <td>22억1,128만원</td>\n",
       "    </tr>\n",
       "    <tr>\n",
       "      <th>0</th>\n",
       "      <td>피매치</td>\n",
       "      <td>자연과학 및 공학 융합 연구개발업</td>\n",
       "      <td>NaN</td>\n",
       "      <td>2021</td>\n",
       "      <td>None</td>\n",
       "    </tr>\n",
       "    <tr>\n",
       "      <th>0</th>\n",
       "      <td>만나플래닛</td>\n",
       "      <td>시스템ㆍ응용 소프트웨어 개발 및 공급업</td>\n",
       "      <td>NaN</td>\n",
       "      <td>2016</td>\n",
       "      <td>123억8,113만원</td>\n",
       "    </tr>\n",
       "    <tr>\n",
       "      <th>...</th>\n",
       "      <td>...</td>\n",
       "      <td>...</td>\n",
       "      <td>...</td>\n",
       "      <td>...</td>\n",
       "      <td>...</td>\n",
       "    </tr>\n",
       "    <tr>\n",
       "      <th>0</th>\n",
       "      <td>인센드</td>\n",
       "      <td>시스템ㆍ응용 소프트웨어 개발 및 공급업</td>\n",
       "      <td>NaN</td>\n",
       "      <td>2023</td>\n",
       "      <td>None</td>\n",
       "    </tr>\n",
       "    <tr>\n",
       "      <th>0</th>\n",
       "      <td>큐픽스</td>\n",
       "      <td>의약품, 의료용품 및 화장품 도매업</td>\n",
       "      <td>NaN</td>\n",
       "      <td>2017</td>\n",
       "      <td>None</td>\n",
       "    </tr>\n",
       "    <tr>\n",
       "      <th>0</th>\n",
       "      <td>엔비티</td>\n",
       "      <td>세제, 화장품 및 광택제 제조업</td>\n",
       "      <td>6명</td>\n",
       "      <td>2016</td>\n",
       "      <td>14억5,461만원</td>\n",
       "    </tr>\n",
       "    <tr>\n",
       "      <th>0</th>\n",
       "      <td>퍼니지</td>\n",
       "      <td>경비 및 경호 서비스업</td>\n",
       "      <td>6명</td>\n",
       "      <td>2012</td>\n",
       "      <td>None</td>\n",
       "    </tr>\n",
       "    <tr>\n",
       "      <th>0</th>\n",
       "      <td>아이오바이오</td>\n",
       "      <td>자연과학 연구개발업</td>\n",
       "      <td>37명</td>\n",
       "      <td>2011</td>\n",
       "      <td>10억3,744만원</td>\n",
       "    </tr>\n",
       "  </tbody>\n",
       "</table>\n",
       "<p>1811 rows × 5 columns</p>\n",
       "</div>"
      ],
      "text/plain": [
       "       기업명                   업종분류  사원수  설립연도          매출액\n",
       "0        젭  시스템ㆍ응용 소프트웨어 개발 및 공급업  NaN  2022         None\n",
       "0   서커스컴퍼니  시스템ㆍ응용 소프트웨어 개발 및 공급업  13명  2013   22억2,380만원\n",
       "0      블로코  시스템ㆍ응용 소프트웨어 개발 및 공급업  26명  2015   22억1,128만원\n",
       "0      피매치     자연과학 및 공학 융합 연구개발업  NaN  2021         None\n",
       "0    만나플래닛  시스템ㆍ응용 소프트웨어 개발 및 공급업  NaN  2016  123억8,113만원\n",
       "..     ...                    ...  ...   ...          ...\n",
       "0      인센드  시스템ㆍ응용 소프트웨어 개발 및 공급업  NaN  2023         None\n",
       "0      큐픽스    의약품, 의료용품 및 화장품 도매업  NaN  2017         None\n",
       "0      엔비티      세제, 화장품 및 광택제 제조업   6명  2016   14억5,461만원\n",
       "0      퍼니지           경비 및 경호 서비스업   6명  2012         None\n",
       "0   아이오바이오             자연과학 연구개발업  37명  2011   10억3,744만원\n",
       "\n",
       "[1811 rows x 5 columns]"
      ]
     },
     "execution_count": 170,
     "metadata": {},
     "output_type": "execute_result"
    }
   ],
   "source": [
    "data.loc[data.매출액 == '-원', '매출액'] = None\n",
    "data"
   ]
  },
  {
   "cell_type": "code",
   "execution_count": 171,
   "metadata": {},
   "outputs": [
    {
     "data": {
      "text/plain": [
       "기업명       0\n",
       "업종분류     28\n",
       "사원수     319\n",
       "설립연도      0\n",
       "매출액     733\n",
       "dtype: int64"
      ]
     },
     "execution_count": 171,
     "metadata": {},
     "output_type": "execute_result"
    }
   ],
   "source": [
    "data.isna().sum()"
   ]
  },
  {
   "cell_type": "code",
   "execution_count": 172,
   "metadata": {},
   "outputs": [
    {
     "data": {
      "text/plain": [
       "1343"
      ]
     },
     "execution_count": 172,
     "metadata": {},
     "output_type": "execute_result"
    }
   ],
   "source": [
    "data.duplicated().sum()"
   ]
  },
  {
   "cell_type": "code",
   "execution_count": 173,
   "metadata": {},
   "outputs": [],
   "source": [
    "data = data.drop_duplicates()"
   ]
  },
  {
   "cell_type": "code",
   "execution_count": 174,
   "metadata": {},
   "outputs": [
    {
     "data": {
      "text/plain": [
       "0"
      ]
     },
     "execution_count": 174,
     "metadata": {},
     "output_type": "execute_result"
    }
   ],
   "source": [
    "data.duplicated().sum()"
   ]
  },
  {
   "cell_type": "code",
   "execution_count": 268,
   "metadata": {},
   "outputs": [
    {
     "data": {
      "text/html": [
       "<div>\n",
       "<style scoped>\n",
       "    .dataframe tbody tr th:only-of-type {\n",
       "        vertical-align: middle;\n",
       "    }\n",
       "\n",
       "    .dataframe tbody tr th {\n",
       "        vertical-align: top;\n",
       "    }\n",
       "\n",
       "    .dataframe thead th {\n",
       "        text-align: right;\n",
       "    }\n",
       "</style>\n",
       "<table border=\"1\" class=\"dataframe\">\n",
       "  <thead>\n",
       "    <tr style=\"text-align: right;\">\n",
       "      <th></th>\n",
       "      <th>기업명</th>\n",
       "      <th>매출액</th>\n",
       "    </tr>\n",
       "  </thead>\n",
       "  <tbody>\n",
       "    <tr>\n",
       "      <th>0</th>\n",
       "      <td>서커스컴퍼니</td>\n",
       "      <td>22억2,380만원</td>\n",
       "    </tr>\n",
       "    <tr>\n",
       "      <th>0</th>\n",
       "      <td>블로코</td>\n",
       "      <td>22억1,128만원</td>\n",
       "    </tr>\n",
       "    <tr>\n",
       "      <th>0</th>\n",
       "      <td>만나플래닛</td>\n",
       "      <td>123억8,113만원</td>\n",
       "    </tr>\n",
       "    <tr>\n",
       "      <th>0</th>\n",
       "      <td>미트박스글로벌</td>\n",
       "      <td>317억4,225만원</td>\n",
       "    </tr>\n",
       "    <tr>\n",
       "      <th>0</th>\n",
       "      <td>로지스팟</td>\n",
       "      <td>280억836만원</td>\n",
       "    </tr>\n",
       "    <tr>\n",
       "      <th>...</th>\n",
       "      <td>...</td>\n",
       "      <td>...</td>\n",
       "    </tr>\n",
       "    <tr>\n",
       "      <th>0</th>\n",
       "      <td>미스터블루</td>\n",
       "      <td>285억7,165만원</td>\n",
       "    </tr>\n",
       "    <tr>\n",
       "      <th>0</th>\n",
       "      <td>트립비토즈</td>\n",
       "      <td>25억5,476만원</td>\n",
       "    </tr>\n",
       "    <tr>\n",
       "      <th>0</th>\n",
       "      <td>포커스미디어코리아</td>\n",
       "      <td>577억6,386만원</td>\n",
       "    </tr>\n",
       "    <tr>\n",
       "      <th>0</th>\n",
       "      <td>빅픽처인터렉티브</td>\n",
       "      <td>41억2,009만원</td>\n",
       "    </tr>\n",
       "    <tr>\n",
       "      <th>0</th>\n",
       "      <td>컴투스플랫폼</td>\n",
       "      <td>202억8,737만원</td>\n",
       "    </tr>\n",
       "  </tbody>\n",
       "</table>\n",
       "<p>244 rows × 2 columns</p>\n",
       "</div>"
      ],
      "text/plain": [
       "          기업명          매출액\n",
       "0      서커스컴퍼니   22억2,380만원\n",
       "0         블로코   22억1,128만원\n",
       "0       만나플래닛  123억8,113만원\n",
       "0     미트박스글로벌  317억4,225만원\n",
       "0        로지스팟    280억836만원\n",
       "..        ...          ...\n",
       "0       미스터블루  285억7,165만원\n",
       "0       트립비토즈   25억5,476만원\n",
       "0   포커스미디어코리아  577억6,386만원\n",
       "0    빅픽처인터렉티브   41억2,009만원\n",
       "0      컴투스플랫폼  202억8,737만원\n",
       "\n",
       "[244 rows x 2 columns]"
      ]
     },
     "execution_count": 268,
     "metadata": {},
     "output_type": "execute_result"
    }
   ],
   "source": [
    "data_concat = pd.concat([data.기업명, data.매출액], axis= 1)\n",
    "data_sales = data_concat.dropna()\n",
    "data_sales"
   ]
  },
  {
   "cell_type": "code",
   "execution_count": null,
   "metadata": {},
   "outputs": [],
   "source": [
    "data_sales_1 = data_sales.매출액.apply(lambda x: x.replace(',',''))\n",
    "\n",
    "data_sales_res = []\n",
    "try:\n",
    "    for q in data_sales_1:\n",
    "        if '조' in q:\n",
    "                data_sales_res.append(int(''.join(re.findall(r'(\\d+)조', q)))*100000000 + int(''.join(re.findall(r'(\\d+)억', q)))*10000 + int(''.join(re.findall(r'억(\\d+)', q))))\n",
    "        elif '억원' in q:\n",
    "             data_sales_res.append(int(''.join(re.findall(r'(\\d+)억원', q)))*10000)\n",
    "        elif '억' in q:\n",
    "           data_sales_res.append(int(''.join(re.findall(r'(\\d+)억', q)))*10000 + int(''.join(re.findall(r'억(\\d+)', q))))   \n",
    "        else:\n",
    "            data_sales_res.append(int(''.join(re.findall(r'(\\d+)만원', q))))\n",
    "except:\n",
    "     print(q)"
   ]
  },
  {
   "cell_type": "code",
   "execution_count": 222,
   "metadata": {},
   "outputs": [
    {
     "data": {
      "text/plain": [
       "array(['', '1', '3'], dtype=object)"
      ]
     },
     "execution_count": 222,
     "metadata": {},
     "output_type": "execute_result"
    }
   ],
   "source": [
    "data_sales_1.apply(lambda x: int(''.join(re.findall(r'(\\d+)조', x)))*100000000)"
   ]
  },
  {
   "cell_type": "code",
   "execution_count": 246,
   "metadata": {},
   "outputs": [],
   "source": [
    "data_sales_1 = data_sales.apply(lambda x: x.replace(',',''))\n",
    "\n",
    "data_sales_res = []\n",
    "try:\n",
    "    for q in data_sales_1:\n",
    "        if '조' in q:\n",
    "                data_sales_res.append(int(''.join(re.findall(r'(\\d+)조', q)))*100000000 + int(''.join(re.findall(r'(\\d+)억', q)))*10000 + int(''.join(re.findall(r'억(\\d+)', q))))\n",
    "        elif '억원' in q:\n",
    "             data_sales_res.append(int(''.join(re.findall(r'(\\d+)억원', q)))*10000)\n",
    "        elif '억' in q:\n",
    "           data_sales_res.append(int(''.join(re.findall(r'(\\d+)억', q)))*10000 + int(''.join(re.findall(r'억(\\d+)', q))))   \n",
    "        else:\n",
    "            data_sales_res.append(int(''.join(re.findall(r'(\\d+)만원', q))))\n",
    "except:\n",
    "     print(q)"
   ]
  },
  {
   "cell_type": "code",
   "execution_count": 163,
   "metadata": {},
   "outputs": [
    {
     "name": "stdout",
     "output_type": "stream",
     "text": [
      "[1203083011, 102000300, 1002000, 100020000, 100, 10000, 1000, 12304560789, 15000, 100023000]\n"
     ]
    }
   ],
   "source": [
    "def convert_sales_amount(amount):\n",
    "    # 입력된 문자열에서 조, 억, 만을 기준으로 숫자를 분리합니다.\n",
    "    units = {'조': 10 ** 12, '억': 10 ** 8, '만': 10 ** 4}\n",
    "    # 공백을 기준으로 문자열을 분할합니다.\n",
    "    split_amount = amount.split()\n",
    "    \n",
    "    # 결과를 저장할 변수 초기화\n",
    "    total_amount = 0\n",
    "    current_number = 0\n",
    "    \n",
    "    # 분할된 문자열을 순회하며 처리합니다.\n",
    "    for token in split_amount:\n",
    "        # 만일 token이 숫자로 변환 가능하다면,\n",
    "        if token.isdigit():\n",
    "            # 현재의 숫자로 갱신합니다.\n",
    "            current_number = int(token)\n",
    "        else:\n",
    "            # 숫자가 아닌 경우, 단위를 추출하여 해당 단위에 대응하는 값을 곱하여 더합니다.\n",
    "            unit = token[-1]  # 단위를 추출합니다.\n",
    "            number = int(token[:-1])  # 단위를 제외한 숫자를 추출합니다.\n",
    "            total_amount += number * units[unit]\n",
    "            # 현재의 숫자를 초기화합니다.\n",
    "            current_number = 0\n",
    "            \n",
    "    # 마지막으로 현재의 숫자를 더해줍니다.\n",
    "    total_amount += current_number\n",
    "    \n",
    "    return total_amount//10000\n",
    "\n",
    "# 테스트 데이터\n",
    "data_sales = [\n",
    "    '12조 308억 3011만',\n",
    "    '1조 200억 300만',\n",
    "    '100억 2000만',\n",
    "    '1조 2억',\n",
    "    '100만',\n",
    "    '1억',\n",
    "    '1000만',\n",
    "    '123조 456억 789만',\n",
    "    '1억 5000만',\n",
    "    '1조 2억 3000만',\n",
    "]\n",
    "\n",
    "# 변환된 데이터를 저장할 리스트\n",
    "converted_data = []\n",
    "\n",
    "# 데이터 변환 수행\n",
    "for amount in data_sales:\n",
    "    converted_data.append(convert_sales_amount(amount))\n",
    "\n",
    "print(converted_data)"
   ]
  },
  {
   "cell_type": "code",
   "execution_count": 52,
   "metadata": {},
   "outputs": [],
   "source": [
    "data.to_csv('wanted_insight_handle.csv')"
   ]
  },
  {
   "cell_type": "markdown",
   "metadata": {},
   "source": [
    "# Dart_data_handle"
   ]
  },
  {
   "cell_type": "code",
   "execution_count": 102,
   "metadata": {},
   "outputs": [],
   "source": [
    "data_1 = pd.read_csv('./.gitignore/wanted_dart_data.csv', index_col=0)"
   ]
  },
  {
   "cell_type": "code",
   "execution_count": 58,
   "metadata": {},
   "outputs": [
    {
     "name": "stdout",
     "output_type": "stream",
     "text": [
      "<class 'pandas.core.frame.DataFrame'>\n",
      "Index: 397 entries, 0 to 0\n",
      "Data columns (total 5 columns):\n",
      " #   Column     Non-Null Count  Dtype \n",
      "---  ------     --------------  ----- \n",
      " 0   기업명        397 non-null    object\n",
      " 1   주소         397 non-null    object\n",
      " 2   업종분류       397 non-null    object\n",
      " 3   설립연도       397 non-null    object\n",
      " 4   기업홈페이지URL  242 non-null    object\n",
      "dtypes: object(5)\n",
      "memory usage: 18.6+ KB\n"
     ]
    }
   ],
   "source": [
    "data_1.info()"
   ]
  },
  {
   "cell_type": "code",
   "execution_count": 103,
   "metadata": {},
   "outputs": [
    {
     "data": {
      "text/html": [
       "<div>\n",
       "<style scoped>\n",
       "    .dataframe tbody tr th:only-of-type {\n",
       "        vertical-align: middle;\n",
       "    }\n",
       "\n",
       "    .dataframe tbody tr th {\n",
       "        vertical-align: top;\n",
       "    }\n",
       "\n",
       "    .dataframe thead th {\n",
       "        text-align: right;\n",
       "    }\n",
       "</style>\n",
       "<table border=\"1\" class=\"dataframe\">\n",
       "  <thead>\n",
       "    <tr style=\"text-align: right;\">\n",
       "      <th></th>\n",
       "      <th>기업명</th>\n",
       "      <th>주소</th>\n",
       "      <th>업종분류</th>\n",
       "      <th>설립연도</th>\n",
       "      <th>기업홈페이지URL</th>\n",
       "    </tr>\n",
       "  </thead>\n",
       "  <tbody>\n",
       "    <tr>\n",
       "      <th>0</th>\n",
       "      <td>이큐브랩</td>\n",
       "      <td>서울특별시 구로구 디지털로34길 55 (구로동, 코오롱싸이언스밸리2차) 1503호</td>\n",
       "      <td>그 외 기타 특수 목적용 기계 제조업</td>\n",
       "      <td>2011-07-01</td>\n",
       "      <td>www.ecubelabs.com</td>\n",
       "    </tr>\n",
       "    <tr>\n",
       "      <th>0</th>\n",
       "      <td>마크비전코리아</td>\n",
       "      <td>서울특별시 강남구 테헤란로 427 (삼성동, 위워크타워) 6층 101호 102호, ...</td>\n",
       "      <td>응용 소프트웨어 개발 및 공급업</td>\n",
       "      <td>2019-12-12</td>\n",
       "      <td>NaN</td>\n",
       "    </tr>\n",
       "    <tr>\n",
       "      <th>0</th>\n",
       "      <td>미트박스글로벌</td>\n",
       "      <td>서울특별시 강남구 테헤란로34길 22 (역삼동)</td>\n",
       "      <td>전자상거래 소매 중개업</td>\n",
       "      <td>2014-05-19</td>\n",
       "      <td>https://www.meatbox.co.kr/</td>\n",
       "    </tr>\n",
       "    <tr>\n",
       "      <th>0</th>\n",
       "      <td>마켓디자이너스</td>\n",
       "      <td>서울특별시 강남구 테헤란로20길 9 (역삼동, 동궁빌딩) 3층, 13층</td>\n",
       "      <td>교육 서비스업</td>\n",
       "      <td>2017-02-09</td>\n",
       "      <td>NaN</td>\n",
       "    </tr>\n",
       "    <tr>\n",
       "      <th>0</th>\n",
       "      <td>이큐브랩</td>\n",
       "      <td>서울특별시 구로구 디지털로34길 55 (구로동, 코오롱싸이언스밸리2차) 1503호</td>\n",
       "      <td>그 외 기타 특수 목적용 기계 제조업</td>\n",
       "      <td>2011-07-01</td>\n",
       "      <td>www.ecubelabs.com</td>\n",
       "    </tr>\n",
       "    <tr>\n",
       "      <th>...</th>\n",
       "      <td>...</td>\n",
       "      <td>...</td>\n",
       "      <td>...</td>\n",
       "      <td>...</td>\n",
       "      <td>...</td>\n",
       "    </tr>\n",
       "    <tr>\n",
       "      <th>0</th>\n",
       "      <td>무신사</td>\n",
       "      <td>서울특별시 성동구 아차산로13길 11 (성수동2가) 무신사캠퍼스 N1 1층</td>\n",
       "      <td>통신 판매업</td>\n",
       "      <td>2012-06-25</td>\n",
       "      <td>NaN</td>\n",
       "    </tr>\n",
       "    <tr>\n",
       "      <th>0</th>\n",
       "      <td>에드워드코리아</td>\n",
       "      <td>충청남도 천안시 서북구 3공단1로 96 (차암동, 성원에드워드(주))</td>\n",
       "      <td>기체 펌프 및 압축기 제조업</td>\n",
       "      <td>1992-09-01</td>\n",
       "      <td>NaN</td>\n",
       "    </tr>\n",
       "    <tr>\n",
       "      <th>0</th>\n",
       "      <td>큐픽스</td>\n",
       "      <td>경기도 안양시 동안구 학의로 268 6층 625호(관양동,안양메가밸리)</td>\n",
       "      <td>건물설비 설치 공사업</td>\n",
       "      <td>1996-12-02</td>\n",
       "      <td>www.cnt85.com</td>\n",
       "    </tr>\n",
       "    <tr>\n",
       "      <th>0</th>\n",
       "      <td>슈퍼진</td>\n",
       "      <td>서울특별시 서초구 강남대로 373 (서초동, 홍우빌딩)</td>\n",
       "      <td>시스템 소프트웨어 개발 및 공급업</td>\n",
       "      <td>2016-12-08</td>\n",
       "      <td>NaN</td>\n",
       "    </tr>\n",
       "    <tr>\n",
       "      <th>0</th>\n",
       "      <td>아이오바이오</td>\n",
       "      <td>서울특별시 강남구 테헤란로4길 38, 8층</td>\n",
       "      <td>그 외 기타 의료용 기기 제조업</td>\n",
       "      <td>2011-08-09</td>\n",
       "      <td>www.aiobio.co.kr/</td>\n",
       "    </tr>\n",
       "  </tbody>\n",
       "</table>\n",
       "<p>397 rows × 5 columns</p>\n",
       "</div>"
      ],
      "text/plain": [
       "        기업명                                                 주소  \\\n",
       "0      이큐브랩      서울특별시 구로구 디지털로34길 55 (구로동, 코오롱싸이언스밸리2차) 1503호   \n",
       "0   마크비전코리아  서울특별시 강남구 테헤란로 427 (삼성동, 위워크타워) 6층 101호 102호, ...   \n",
       "0   미트박스글로벌                         서울특별시 강남구 테헤란로34길 22 (역삼동)   \n",
       "0   마켓디자이너스            서울특별시 강남구 테헤란로20길 9 (역삼동, 동궁빌딩) 3층, 13층   \n",
       "0      이큐브랩      서울특별시 구로구 디지털로34길 55 (구로동, 코오롱싸이언스밸리2차) 1503호   \n",
       "..      ...                                                ...   \n",
       "0       무신사          서울특별시 성동구 아차산로13길 11 (성수동2가) 무신사캠퍼스 N1 1층   \n",
       "0   에드워드코리아             충청남도 천안시 서북구 3공단1로 96 (차암동, 성원에드워드(주))   \n",
       "0       큐픽스            경기도 안양시 동안구 학의로 268 6층 625호(관양동,안양메가밸리)   \n",
       "0       슈퍼진                     서울특별시 서초구 강남대로 373 (서초동, 홍우빌딩)   \n",
       "0    아이오바이오                          서울특별시 강남구 테헤란로4길 38, 8층     \n",
       "\n",
       "                    업종분류        설립연도                   기업홈페이지URL  \n",
       "0   그 외 기타 특수 목적용 기계 제조업  2011-07-01           www.ecubelabs.com  \n",
       "0      응용 소프트웨어 개발 및 공급업  2019-12-12                         NaN  \n",
       "0           전자상거래 소매 중개업  2014-05-19  https://www.meatbox.co.kr/  \n",
       "0                교육 서비스업  2017-02-09                         NaN  \n",
       "0   그 외 기타 특수 목적용 기계 제조업  2011-07-01           www.ecubelabs.com  \n",
       "..                   ...         ...                         ...  \n",
       "0                 통신 판매업  2012-06-25                         NaN  \n",
       "0        기체 펌프 및 압축기 제조업  1992-09-01                         NaN  \n",
       "0            건물설비 설치 공사업  1996-12-02               www.cnt85.com  \n",
       "0     시스템 소프트웨어 개발 및 공급업  2016-12-08                         NaN  \n",
       "0      그 외 기타 의료용 기기 제조업  2011-08-09           www.aiobio.co.kr/  \n",
       "\n",
       "[397 rows x 5 columns]"
      ]
     },
     "execution_count": 103,
     "metadata": {},
     "output_type": "execute_result"
    }
   ],
   "source": [
    "data_1"
   ]
  },
  {
   "cell_type": "code",
   "execution_count": 104,
   "metadata": {},
   "outputs": [],
   "source": [
    "data_1.설립연도 = data_1.설립연도.apply(lambda x: ''.join(re.findall('\\d\\d\\d\\d', x)))"
   ]
  },
  {
   "cell_type": "code",
   "execution_count": 105,
   "metadata": {},
   "outputs": [],
   "source": [
    "data_1.drop_duplicates(inplace=True)"
   ]
  },
  {
   "cell_type": "code",
   "execution_count": 106,
   "metadata": {},
   "outputs": [],
   "source": [
    "data_1.주소 = data_1.주소.apply(lambda x: ' '.join(re.findall(r'\\b(\\w+[구시도])\\b', x)))"
   ]
  },
  {
   "cell_type": "code",
   "execution_count": 109,
   "metadata": {},
   "outputs": [],
   "source": [
    "data_1.to_csv('wanted_dart_handle.csv')"
   ]
  },
  {
   "cell_type": "markdown",
   "metadata": {},
   "source": [
    "# Catch_data_handle"
   ]
  }
 ],
 "metadata": {
  "kernelspec": {
   "display_name": "base",
   "language": "python",
   "name": "python3"
  },
  "language_info": {
   "codemirror_mode": {
    "name": "ipython",
    "version": 3
   },
   "file_extension": ".py",
   "mimetype": "text/x-python",
   "name": "python",
   "nbconvert_exporter": "python",
   "pygments_lexer": "ipython3",
   "version": "3.11.5"
  }
 },
 "nbformat": 4,
 "nbformat_minor": 2
}
