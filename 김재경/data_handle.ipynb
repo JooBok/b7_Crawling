{
 "cells": [
  {
   "cell_type": "markdown",
   "metadata": {},
   "source": [
    "# Wanted_insight_data_handle"
   ]
  },
  {
   "cell_type": "code",
   "execution_count": 82,
   "metadata": {},
   "outputs": [],
   "source": [
    "import pandas as pd\n",
    "import re\n",
    "import numpy as np "
   ]
  },
  {
   "cell_type": "code",
   "execution_count": 22,
   "metadata": {},
   "outputs": [
    {
     "data": {
      "text/html": [
       "<div>\n",
       "<style scoped>\n",
       "    .dataframe tbody tr th:only-of-type {\n",
       "        vertical-align: middle;\n",
       "    }\n",
       "\n",
       "    .dataframe tbody tr th {\n",
       "        vertical-align: top;\n",
       "    }\n",
       "\n",
       "    .dataframe thead th {\n",
       "        text-align: right;\n",
       "    }\n",
       "</style>\n",
       "<table border=\"1\" class=\"dataframe\">\n",
       "  <thead>\n",
       "    <tr style=\"text-align: right;\">\n",
       "      <th></th>\n",
       "      <th>기업명</th>\n",
       "      <th>업종분류</th>\n",
       "      <th>사원수</th>\n",
       "      <th>설립연도</th>\n",
       "      <th>매출액</th>\n",
       "    </tr>\n",
       "  </thead>\n",
       "  <tbody>\n",
       "    <tr>\n",
       "      <th>0</th>\n",
       "      <td>젭</td>\n",
       "      <td>시스템ㆍ응용 소프트웨어 개발 및 공급업</td>\n",
       "      <td>NaN</td>\n",
       "      <td>2년 (2022년 설립)</td>\n",
       "      <td>-원</td>\n",
       "    </tr>\n",
       "    <tr>\n",
       "      <th>0</th>\n",
       "      <td>서커스컴퍼니</td>\n",
       "      <td>시스템ㆍ응용 소프트웨어 개발 및 공급업</td>\n",
       "      <td>13명</td>\n",
       "      <td>11년 (2013년 설립)</td>\n",
       "      <td>22억2,380만원</td>\n",
       "    </tr>\n",
       "    <tr>\n",
       "      <th>0</th>\n",
       "      <td>블로코</td>\n",
       "      <td>시스템ㆍ응용 소프트웨어 개발 및 공급업</td>\n",
       "      <td>26명</td>\n",
       "      <td>9년 (2015년 설립)</td>\n",
       "      <td>22억1,128만원</td>\n",
       "    </tr>\n",
       "    <tr>\n",
       "      <th>0</th>\n",
       "      <td>피매치</td>\n",
       "      <td>자연과학 및 공학 융합 연구개발업</td>\n",
       "      <td>NaN</td>\n",
       "      <td>3년 (2021년 설립)</td>\n",
       "      <td>-원</td>\n",
       "    </tr>\n",
       "    <tr>\n",
       "      <th>0</th>\n",
       "      <td>만나플래닛</td>\n",
       "      <td>시스템ㆍ응용 소프트웨어 개발 및 공급업</td>\n",
       "      <td>NaN</td>\n",
       "      <td>8년 (2016년 설립)</td>\n",
       "      <td>123억8,113만원</td>\n",
       "    </tr>\n",
       "    <tr>\n",
       "      <th>...</th>\n",
       "      <td>...</td>\n",
       "      <td>...</td>\n",
       "      <td>...</td>\n",
       "      <td>...</td>\n",
       "      <td>...</td>\n",
       "    </tr>\n",
       "    <tr>\n",
       "      <th>0</th>\n",
       "      <td>인센드</td>\n",
       "      <td>시스템ㆍ응용 소프트웨어 개발 및 공급업</td>\n",
       "      <td>NaN</td>\n",
       "      <td>1년 (2023년 설립)</td>\n",
       "      <td>-원</td>\n",
       "    </tr>\n",
       "    <tr>\n",
       "      <th>0</th>\n",
       "      <td>큐픽스</td>\n",
       "      <td>의약품, 의료용품 및 화장품 도매업</td>\n",
       "      <td>NaN</td>\n",
       "      <td>7년 (2017년 설립)</td>\n",
       "      <td>-원</td>\n",
       "    </tr>\n",
       "    <tr>\n",
       "      <th>0</th>\n",
       "      <td>엔비티</td>\n",
       "      <td>세제, 화장품 및 광택제 제조업</td>\n",
       "      <td>6명</td>\n",
       "      <td>8년 (2016년 설립)</td>\n",
       "      <td>14억5,461만원</td>\n",
       "    </tr>\n",
       "    <tr>\n",
       "      <th>0</th>\n",
       "      <td>퍼니지</td>\n",
       "      <td>경비 및 경호 서비스업</td>\n",
       "      <td>6명</td>\n",
       "      <td>12년 (2012년 설립)</td>\n",
       "      <td>-원</td>\n",
       "    </tr>\n",
       "    <tr>\n",
       "      <th>0</th>\n",
       "      <td>아이오바이오</td>\n",
       "      <td>자연과학 연구개발업</td>\n",
       "      <td>37명</td>\n",
       "      <td>13년 (2011년 설립)</td>\n",
       "      <td>10억3,744만원</td>\n",
       "    </tr>\n",
       "  </tbody>\n",
       "</table>\n",
       "<p>1811 rows × 5 columns</p>\n",
       "</div>"
      ],
      "text/plain": [
       "       기업명                   업종분류  사원수            설립연도          매출액\n",
       "0        젭  시스템ㆍ응용 소프트웨어 개발 및 공급업  NaN   2년 (2022년 설립)           -원\n",
       "0   서커스컴퍼니  시스템ㆍ응용 소프트웨어 개발 및 공급업  13명  11년 (2013년 설립)   22억2,380만원\n",
       "0      블로코  시스템ㆍ응용 소프트웨어 개발 및 공급업  26명   9년 (2015년 설립)   22억1,128만원\n",
       "0      피매치     자연과학 및 공학 융합 연구개발업  NaN   3년 (2021년 설립)           -원\n",
       "0    만나플래닛  시스템ㆍ응용 소프트웨어 개발 및 공급업  NaN   8년 (2016년 설립)  123억8,113만원\n",
       "..     ...                    ...  ...             ...          ...\n",
       "0      인센드  시스템ㆍ응용 소프트웨어 개발 및 공급업  NaN   1년 (2023년 설립)           -원\n",
       "0      큐픽스    의약품, 의료용품 및 화장품 도매업  NaN   7년 (2017년 설립)           -원\n",
       "0      엔비티      세제, 화장품 및 광택제 제조업   6명   8년 (2016년 설립)   14억5,461만원\n",
       "0      퍼니지           경비 및 경호 서비스업   6명  12년 (2012년 설립)           -원\n",
       "0   아이오바이오             자연과학 연구개발업  37명  13년 (2011년 설립)   10억3,744만원\n",
       "\n",
       "[1811 rows x 5 columns]"
      ]
     },
     "execution_count": 22,
     "metadata": {},
     "output_type": "execute_result"
    }
   ],
   "source": [
    "data = pd.read_csv('./.gitignore/wanted_insight_data.csv', index_col= 0 )"
   ]
  },
  {
   "cell_type": "code",
   "execution_count": 23,
   "metadata": {},
   "outputs": [],
   "source": [
    "data.loc[data.업종분류 == '-', '업종분류'] = None"
   ]
  },
  {
   "cell_type": "code",
   "execution_count": 24,
   "metadata": {},
   "outputs": [
    {
     "data": {
      "text/plain": [
       "array(['2년 (2022년 설립)', '11년 (2013년 설립)', '9년 (2015년 설립)',\n",
       "       '3년 (2021년 설립)', '8년 (2016년 설립)', '10년 (2014년 설립)',\n",
       "       '17년 (2007년 설립)', '13년 (2011년 설립)', '1년 (2023년 설립)',\n",
       "       '4년 (2020년 설립)', '6년 (2018년 설립)', '7년 (2017년 설립)', '5년 (2019년 설립)',\n",
       "       '23년 (2001년 설립)', '14년 (2010년 설립)', '26년 (1998년 설립)',\n",
       "       '29년 (1995년 설립)', '12년 (2012년 설립)', '28년 (1996년 설립)',\n",
       "       '20년 (2004년 설립)', '21년 (2003년 설립)', '24년 (2000년 설립)',\n",
       "       '18년 (2006년 설립)', '16년 (2008년 설립)', '19년 (2005년 설립)',\n",
       "       '25년 (1999년 설립)', '15년 (2009년 설립)', '30년 (1994년 설립)',\n",
       "       '31년 (1993년 설립)'], dtype=object)"
      ]
     },
     "execution_count": 24,
     "metadata": {},
     "output_type": "execute_result"
    }
   ],
   "source": [
    "data.설립연도.unique()"
   ]
  },
  {
   "cell_type": "code",
   "execution_count": 25,
   "metadata": {},
   "outputs": [],
   "source": [
    "data.설립연도 = data.설립연도.apply(lambda x: int(''.join(re.findall('(\\d\\d\\d\\d)', x))))"
   ]
  },
  {
   "cell_type": "code",
   "execution_count": 26,
   "metadata": {},
   "outputs": [
    {
     "data": {
      "text/html": [
       "<div>\n",
       "<style scoped>\n",
       "    .dataframe tbody tr th:only-of-type {\n",
       "        vertical-align: middle;\n",
       "    }\n",
       "\n",
       "    .dataframe tbody tr th {\n",
       "        vertical-align: top;\n",
       "    }\n",
       "\n",
       "    .dataframe thead th {\n",
       "        text-align: right;\n",
       "    }\n",
       "</style>\n",
       "<table border=\"1\" class=\"dataframe\">\n",
       "  <thead>\n",
       "    <tr style=\"text-align: right;\">\n",
       "      <th></th>\n",
       "      <th>기업명</th>\n",
       "      <th>업종분류</th>\n",
       "      <th>사원수</th>\n",
       "      <th>설립연도</th>\n",
       "      <th>매출액</th>\n",
       "    </tr>\n",
       "  </thead>\n",
       "  <tbody>\n",
       "    <tr>\n",
       "      <th>0</th>\n",
       "      <td>젭</td>\n",
       "      <td>시스템ㆍ응용 소프트웨어 개발 및 공급업</td>\n",
       "      <td>NaN</td>\n",
       "      <td>2022</td>\n",
       "      <td>None</td>\n",
       "    </tr>\n",
       "    <tr>\n",
       "      <th>0</th>\n",
       "      <td>서커스컴퍼니</td>\n",
       "      <td>시스템ㆍ응용 소프트웨어 개발 및 공급업</td>\n",
       "      <td>13명</td>\n",
       "      <td>2013</td>\n",
       "      <td>22억2,380만원</td>\n",
       "    </tr>\n",
       "    <tr>\n",
       "      <th>0</th>\n",
       "      <td>블로코</td>\n",
       "      <td>시스템ㆍ응용 소프트웨어 개발 및 공급업</td>\n",
       "      <td>26명</td>\n",
       "      <td>2015</td>\n",
       "      <td>22억1,128만원</td>\n",
       "    </tr>\n",
       "    <tr>\n",
       "      <th>0</th>\n",
       "      <td>피매치</td>\n",
       "      <td>자연과학 및 공학 융합 연구개발업</td>\n",
       "      <td>NaN</td>\n",
       "      <td>2021</td>\n",
       "      <td>None</td>\n",
       "    </tr>\n",
       "    <tr>\n",
       "      <th>0</th>\n",
       "      <td>만나플래닛</td>\n",
       "      <td>시스템ㆍ응용 소프트웨어 개발 및 공급업</td>\n",
       "      <td>NaN</td>\n",
       "      <td>2016</td>\n",
       "      <td>123억8,113만원</td>\n",
       "    </tr>\n",
       "    <tr>\n",
       "      <th>...</th>\n",
       "      <td>...</td>\n",
       "      <td>...</td>\n",
       "      <td>...</td>\n",
       "      <td>...</td>\n",
       "      <td>...</td>\n",
       "    </tr>\n",
       "    <tr>\n",
       "      <th>0</th>\n",
       "      <td>인센드</td>\n",
       "      <td>시스템ㆍ응용 소프트웨어 개발 및 공급업</td>\n",
       "      <td>NaN</td>\n",
       "      <td>2023</td>\n",
       "      <td>None</td>\n",
       "    </tr>\n",
       "    <tr>\n",
       "      <th>0</th>\n",
       "      <td>큐픽스</td>\n",
       "      <td>의약품, 의료용품 및 화장품 도매업</td>\n",
       "      <td>NaN</td>\n",
       "      <td>2017</td>\n",
       "      <td>None</td>\n",
       "    </tr>\n",
       "    <tr>\n",
       "      <th>0</th>\n",
       "      <td>엔비티</td>\n",
       "      <td>세제, 화장품 및 광택제 제조업</td>\n",
       "      <td>6명</td>\n",
       "      <td>2016</td>\n",
       "      <td>14억5,461만원</td>\n",
       "    </tr>\n",
       "    <tr>\n",
       "      <th>0</th>\n",
       "      <td>퍼니지</td>\n",
       "      <td>경비 및 경호 서비스업</td>\n",
       "      <td>6명</td>\n",
       "      <td>2012</td>\n",
       "      <td>None</td>\n",
       "    </tr>\n",
       "    <tr>\n",
       "      <th>0</th>\n",
       "      <td>아이오바이오</td>\n",
       "      <td>자연과학 연구개발업</td>\n",
       "      <td>37명</td>\n",
       "      <td>2011</td>\n",
       "      <td>10억3,744만원</td>\n",
       "    </tr>\n",
       "  </tbody>\n",
       "</table>\n",
       "<p>1811 rows × 5 columns</p>\n",
       "</div>"
      ],
      "text/plain": [
       "       기업명                   업종분류  사원수  설립연도          매출액\n",
       "0        젭  시스템ㆍ응용 소프트웨어 개발 및 공급업  NaN  2022         None\n",
       "0   서커스컴퍼니  시스템ㆍ응용 소프트웨어 개발 및 공급업  13명  2013   22억2,380만원\n",
       "0      블로코  시스템ㆍ응용 소프트웨어 개발 및 공급업  26명  2015   22억1,128만원\n",
       "0      피매치     자연과학 및 공학 융합 연구개발업  NaN  2021         None\n",
       "0    만나플래닛  시스템ㆍ응용 소프트웨어 개발 및 공급업  NaN  2016  123억8,113만원\n",
       "..     ...                    ...  ...   ...          ...\n",
       "0      인센드  시스템ㆍ응용 소프트웨어 개발 및 공급업  NaN  2023         None\n",
       "0      큐픽스    의약품, 의료용품 및 화장품 도매업  NaN  2017         None\n",
       "0      엔비티      세제, 화장품 및 광택제 제조업   6명  2016   14억5,461만원\n",
       "0      퍼니지           경비 및 경호 서비스업   6명  2012         None\n",
       "0   아이오바이오             자연과학 연구개발업  37명  2011   10억3,744만원\n",
       "\n",
       "[1811 rows x 5 columns]"
      ]
     },
     "execution_count": 26,
     "metadata": {},
     "output_type": "execute_result"
    }
   ],
   "source": [
    "data.loc[data.매출액 == '-원', '매출액'] = None\n",
    "data"
   ]
  },
  {
   "cell_type": "code",
   "execution_count": 27,
   "metadata": {},
   "outputs": [
    {
     "data": {
      "text/plain": [
       "기업명       0\n",
       "업종분류     28\n",
       "사원수     319\n",
       "설립연도      0\n",
       "매출액     733\n",
       "dtype: int64"
      ]
     },
     "execution_count": 27,
     "metadata": {},
     "output_type": "execute_result"
    }
   ],
   "source": [
    "data.isna().sum()"
   ]
  },
  {
   "cell_type": "code",
   "execution_count": 28,
   "metadata": {},
   "outputs": [
    {
     "data": {
      "text/plain": [
       "1343"
      ]
     },
     "execution_count": 28,
     "metadata": {},
     "output_type": "execute_result"
    }
   ],
   "source": [
    "data.duplicated().sum()"
   ]
  },
  {
   "cell_type": "code",
   "execution_count": 29,
   "metadata": {},
   "outputs": [
    {
     "name": "stdout",
     "output_type": "stream",
     "text": [
      "<class 'pandas.core.frame.DataFrame'>\n",
      "Index: 1811 entries, 0 to 0\n",
      "Data columns (total 5 columns):\n",
      " #   Column  Non-Null Count  Dtype \n",
      "---  ------  --------------  ----- \n",
      " 0   기업명     1811 non-null   object\n",
      " 1   업종분류    1783 non-null   object\n",
      " 2   사원수     1492 non-null   object\n",
      " 3   설립연도    1811 non-null   int64 \n",
      " 4   매출액     1078 non-null   object\n",
      "dtypes: int64(1), object(4)\n",
      "memory usage: 84.9+ KB\n"
     ]
    }
   ],
   "source": [
    "data.info()"
   ]
  },
  {
   "cell_type": "code",
   "execution_count": 30,
   "metadata": {},
   "outputs": [],
   "source": [
    "data = data.drop_duplicates()"
   ]
  },
  {
   "cell_type": "code",
   "execution_count": 31,
   "metadata": {},
   "outputs": [
    {
     "data": {
      "text/plain": [
       "0"
      ]
     },
     "execution_count": 31,
     "metadata": {},
     "output_type": "execute_result"
    }
   ],
   "source": [
    "data.duplicated().sum()"
   ]
  },
  {
   "cell_type": "code",
   "execution_count": 32,
   "metadata": {},
   "outputs": [
    {
     "name": "stdout",
     "output_type": "stream",
     "text": [
      "<class 'pandas.core.frame.DataFrame'>\n",
      "Index: 468 entries, 0 to 0\n",
      "Data columns (total 5 columns):\n",
      " #   Column  Non-Null Count  Dtype \n",
      "---  ------  --------------  ----- \n",
      " 0   기업명     468 non-null    object\n",
      " 1   업종분류    463 non-null    object\n",
      " 2   사원수     375 non-null    object\n",
      " 3   설립연도    468 non-null    int64 \n",
      " 4   매출액     244 non-null    object\n",
      "dtypes: int64(1), object(4)\n",
      "memory usage: 21.9+ KB\n"
     ]
    }
   ],
   "source": [
    "data.info()"
   ]
  },
  {
   "cell_type": "code",
   "execution_count": 47,
   "metadata": {},
   "outputs": [
    {
     "data": {
      "text/plain": [
       "224"
      ]
     },
     "execution_count": 47,
     "metadata": {},
     "output_type": "execute_result"
    }
   ],
   "source": [
    "data['매출액'].isna().sum()"
   ]
  },
  {
   "cell_type": "code",
   "execution_count": 45,
   "metadata": {},
   "outputs": [],
   "source": [
    "data_sales = []\n",
    "\n",
    "for q in data['매출액']:\n",
    "    if q != None:\n",
    "        data_sales.append(q.replace(',',''))\n",
    "    else:\n",
    "        data_sales.append(None)"
   ]
  },
  {
   "cell_type": "code",
   "execution_count": 55,
   "metadata": {},
   "outputs": [],
   "source": [
    "data_sales_res = []\n",
    "try:\n",
    "    for q in data_sales:\n",
    "        if q != None: \n",
    "            if '조' in q:\n",
    "                    data_sales_res.append(int(''.join(re.findall(r'(\\d+)조', q)))*100000000 + int(''.join(re.findall(r'(\\d+)억', q)))*10000 + int(''.join(re.findall(r'억(\\d+)', q))))\n",
    "            elif '억원' in q:\n",
    "                 data_sales_res.append(int(''.join(re.findall(r'(\\d+)억원', q)))*10000)\n",
    "            elif '억' in q:\n",
    "               data_sales_res.append(int(''.join(re.findall(r'(\\d+)억', q)))*10000 + int(''.join(re.findall(r'억(\\d+)', q))))   \n",
    "            else:\n",
    "                data_sales_res.append(int(''.join(re.findall(r'(\\d+)만원', q))))\n",
    "        else:\n",
    "            data_sales_res.append(None)\n",
    "except:\n",
    "     print(q)"
   ]
  },
  {
   "cell_type": "code",
   "execution_count": 58,
   "metadata": {},
   "outputs": [
    {
     "name": "stderr",
     "output_type": "stream",
     "text": [
      "C:\\Users\\user\\AppData\\Local\\Temp\\ipykernel_50204\\193892315.py:1: SettingWithCopyWarning: \n",
      "A value is trying to be set on a copy of a slice from a DataFrame.\n",
      "Try using .loc[row_indexer,col_indexer] = value instead\n",
      "\n",
      "See the caveats in the documentation: https://pandas.pydata.org/pandas-docs/stable/user_guide/indexing.html#returning-a-view-versus-a-copy\n",
      "  data['매출액'] = data_sales_res\n"
     ]
    }
   ],
   "source": [
    "data['매출액'] = data_sales_res"
   ]
  },
  {
   "cell_type": "code",
   "execution_count": 68,
   "metadata": {},
   "outputs": [
    {
     "name": "stdout",
     "output_type": "stream",
     "text": [
      "<class 'pandas.core.frame.DataFrame'>\n",
      "Index: 468 entries, 0 to 0\n",
      "Data columns (total 5 columns):\n",
      " #   Column  Non-Null Count  Dtype  \n",
      "---  ------  --------------  -----  \n",
      " 0   기업명     468 non-null    object \n",
      " 1   업종분류    463 non-null    object \n",
      " 2   사원수     375 non-null    object \n",
      " 3   설립연도    468 non-null    int64  \n",
      " 4   매출액     244 non-null    float64\n",
      "dtypes: float64(1), int64(1), object(3)\n",
      "memory usage: 21.9+ KB\n"
     ]
    }
   ],
   "source": [
    "data.info()"
   ]
  },
  {
   "cell_type": "code",
   "execution_count": 69,
   "metadata": {},
   "outputs": [],
   "source": [
    "data.to_csv('2시 13분 중간 백업.csv')"
   ]
  },
  {
   "cell_type": "code",
   "execution_count": 72,
   "metadata": {},
   "outputs": [],
   "source": [
    "data1 = pd.read_csv('2시 13분 중간 백업.csv', index_col=0)"
   ]
  },
  {
   "cell_type": "code",
   "execution_count": 73,
   "metadata": {},
   "outputs": [
    {
     "data": {
      "text/html": [
       "<div>\n",
       "<style scoped>\n",
       "    .dataframe tbody tr th:only-of-type {\n",
       "        vertical-align: middle;\n",
       "    }\n",
       "\n",
       "    .dataframe tbody tr th {\n",
       "        vertical-align: top;\n",
       "    }\n",
       "\n",
       "    .dataframe thead th {\n",
       "        text-align: right;\n",
       "    }\n",
       "</style>\n",
       "<table border=\"1\" class=\"dataframe\">\n",
       "  <thead>\n",
       "    <tr style=\"text-align: right;\">\n",
       "      <th></th>\n",
       "      <th>기업명</th>\n",
       "      <th>업종분류</th>\n",
       "      <th>사원수</th>\n",
       "      <th>설립연도</th>\n",
       "      <th>매출액</th>\n",
       "    </tr>\n",
       "  </thead>\n",
       "  <tbody>\n",
       "    <tr>\n",
       "      <th>0</th>\n",
       "      <td>젭</td>\n",
       "      <td>시스템ㆍ응용 소프트웨어 개발 및 공급업</td>\n",
       "      <td>NaN</td>\n",
       "      <td>2022</td>\n",
       "      <td>NaN</td>\n",
       "    </tr>\n",
       "    <tr>\n",
       "      <th>0</th>\n",
       "      <td>서커스컴퍼니</td>\n",
       "      <td>시스템ㆍ응용 소프트웨어 개발 및 공급업</td>\n",
       "      <td>13명</td>\n",
       "      <td>2013</td>\n",
       "      <td>222380.0</td>\n",
       "    </tr>\n",
       "    <tr>\n",
       "      <th>0</th>\n",
       "      <td>블로코</td>\n",
       "      <td>시스템ㆍ응용 소프트웨어 개발 및 공급업</td>\n",
       "      <td>26명</td>\n",
       "      <td>2015</td>\n",
       "      <td>221128.0</td>\n",
       "    </tr>\n",
       "    <tr>\n",
       "      <th>0</th>\n",
       "      <td>피매치</td>\n",
       "      <td>자연과학 및 공학 융합 연구개발업</td>\n",
       "      <td>NaN</td>\n",
       "      <td>2021</td>\n",
       "      <td>NaN</td>\n",
       "    </tr>\n",
       "    <tr>\n",
       "      <th>0</th>\n",
       "      <td>만나플래닛</td>\n",
       "      <td>시스템ㆍ응용 소프트웨어 개발 및 공급업</td>\n",
       "      <td>NaN</td>\n",
       "      <td>2016</td>\n",
       "      <td>1238113.0</td>\n",
       "    </tr>\n",
       "    <tr>\n",
       "      <th>...</th>\n",
       "      <td>...</td>\n",
       "      <td>...</td>\n",
       "      <td>...</td>\n",
       "      <td>...</td>\n",
       "      <td>...</td>\n",
       "    </tr>\n",
       "    <tr>\n",
       "      <th>0</th>\n",
       "      <td>일만백만</td>\n",
       "      <td>시스템ㆍ응용 소프트웨어 개발 및 공급업</td>\n",
       "      <td>13명</td>\n",
       "      <td>2022</td>\n",
       "      <td>NaN</td>\n",
       "    </tr>\n",
       "    <tr>\n",
       "      <th>0</th>\n",
       "      <td>로위랩코리아</td>\n",
       "      <td>영화, 비디오물 및 방송 프로그램 제작업</td>\n",
       "      <td>18명</td>\n",
       "      <td>2021</td>\n",
       "      <td>NaN</td>\n",
       "    </tr>\n",
       "    <tr>\n",
       "      <th>0</th>\n",
       "      <td>퀀티파이드이에스지</td>\n",
       "      <td>시스템ㆍ응용 소프트웨어 개발 및 공급업</td>\n",
       "      <td>16명</td>\n",
       "      <td>2019</td>\n",
       "      <td>NaN</td>\n",
       "    </tr>\n",
       "    <tr>\n",
       "      <th>0</th>\n",
       "      <td>라온메디</td>\n",
       "      <td>의약품, 의료용 기구, 화장품 및 방향제 소매업</td>\n",
       "      <td>5명</td>\n",
       "      <td>2014</td>\n",
       "      <td>NaN</td>\n",
       "    </tr>\n",
       "    <tr>\n",
       "      <th>0</th>\n",
       "      <td>퍼니지</td>\n",
       "      <td>경비 및 경호 서비스업</td>\n",
       "      <td>6명</td>\n",
       "      <td>2012</td>\n",
       "      <td>NaN</td>\n",
       "    </tr>\n",
       "  </tbody>\n",
       "</table>\n",
       "<p>468 rows × 5 columns</p>\n",
       "</div>"
      ],
      "text/plain": [
       "          기업명                        업종분류  사원수  설립연도        매출액\n",
       "0           젭       시스템ㆍ응용 소프트웨어 개발 및 공급업  NaN  2022        NaN\n",
       "0      서커스컴퍼니       시스템ㆍ응용 소프트웨어 개발 및 공급업  13명  2013   222380.0\n",
       "0         블로코       시스템ㆍ응용 소프트웨어 개발 및 공급업  26명  2015   221128.0\n",
       "0         피매치          자연과학 및 공학 융합 연구개발업  NaN  2021        NaN\n",
       "0       만나플래닛       시스템ㆍ응용 소프트웨어 개발 및 공급업  NaN  2016  1238113.0\n",
       "..        ...                         ...  ...   ...        ...\n",
       "0        일만백만       시스템ㆍ응용 소프트웨어 개발 및 공급업  13명  2022        NaN\n",
       "0      로위랩코리아      영화, 비디오물 및 방송 프로그램 제작업  18명  2021        NaN\n",
       "0   퀀티파이드이에스지       시스템ㆍ응용 소프트웨어 개발 및 공급업  16명  2019        NaN\n",
       "0        라온메디  의약품, 의료용 기구, 화장품 및 방향제 소매업   5명  2014        NaN\n",
       "0         퍼니지                경비 및 경호 서비스업   6명  2012        NaN\n",
       "\n",
       "[468 rows x 5 columns]"
      ]
     },
     "execution_count": 73,
     "metadata": {},
     "output_type": "execute_result"
    }
   ],
   "source": [
    "data1"
   ]
  },
  {
   "cell_type": "code",
   "execution_count": 74,
   "metadata": {},
   "outputs": [],
   "source": [
    "data1.loc[data1.사원수 == '정보없음', '사원수'] = None\n",
    "data1.loc[data1.사원수 == 'nan', '사원수'] = None\n",
    "#.apply(lambda x: int(''.join(re.findall('\\d', x))))"
   ]
  },
  {
   "cell_type": "code",
   "execution_count": 84,
   "metadata": {},
   "outputs": [],
   "source": [
    "data_emp = []\n",
    "\n",
    "for f in data1['사원수']:\n",
    "    if pd.notna(f):\n",
    "        data_emp.append(int(''.join(re.findall('\\d', f))))\n",
    "    else:\n",
    "        data_emp.append(None)"
   ]
  },
  {
   "cell_type": "code",
   "execution_count": 87,
   "metadata": {},
   "outputs": [],
   "source": [
    "data1.사원수 = data_emp"
   ]
  },
  {
   "cell_type": "code",
   "execution_count": 90,
   "metadata": {},
   "outputs": [],
   "source": [
    "data1.to_csv('wanted_insight_handle.csv')"
   ]
  },
  {
   "cell_type": "markdown",
   "metadata": {},
   "source": [
    "# Dart_data_handle"
   ]
  },
  {
   "cell_type": "code",
   "execution_count": 98,
   "metadata": {},
   "outputs": [],
   "source": [
    "data_1 = pd.read_csv('./.gitignore/wanted_dart_data.csv', index_col=0)"
   ]
  },
  {
   "cell_type": "code",
   "execution_count": 99,
   "metadata": {},
   "outputs": [
    {
     "name": "stdout",
     "output_type": "stream",
     "text": [
      "<class 'pandas.core.frame.DataFrame'>\n",
      "Index: 397 entries, 0 to 0\n",
      "Data columns (total 5 columns):\n",
      " #   Column     Non-Null Count  Dtype \n",
      "---  ------     --------------  ----- \n",
      " 0   기업명        397 non-null    object\n",
      " 1   주소         397 non-null    object\n",
      " 2   업종분류       397 non-null    object\n",
      " 3   설립연도       397 non-null    object\n",
      " 4   기업홈페이지URL  242 non-null    object\n",
      "dtypes: object(5)\n",
      "memory usage: 18.6+ KB\n"
     ]
    }
   ],
   "source": [
    "data_1.info()"
   ]
  },
  {
   "cell_type": "code",
   "execution_count": 100,
   "metadata": {},
   "outputs": [],
   "source": [
    "data_1.설립연도 = data_1.설립연도.apply(lambda x: ''.join(re.findall('\\d\\d\\d\\d', x)))"
   ]
  },
  {
   "cell_type": "code",
   "execution_count": 101,
   "metadata": {},
   "outputs": [],
   "source": [
    "data_1.drop_duplicates(inplace=True)"
   ]
  },
  {
   "cell_type": "code",
   "execution_count": 102,
   "metadata": {},
   "outputs": [],
   "source": [
    "data_1.주소 = data_1.주소.apply(lambda x: ' '.join(re.findall(r'\\b(\\w+[구시도])\\b', x)))"
   ]
  },
  {
   "cell_type": "code",
   "execution_count": 104,
   "metadata": {},
   "outputs": [
    {
     "data": {
      "text/plain": [
       "array(['서울특별시 구로구', '서울특별시 강남구', '서울특별시 성동구', '서울특별시 금천구', '경기도 수원시 영통구',\n",
       "       '서울특별시 용산구', '서울특별시 서초구', '인천광역시 남동구', '경기도 성남시 분당구', '경상북도 구미시',\n",
       "       '전라남도 목포시', '경기도 안양시 동안구', '경기도 군포시', '서울특별시 마포구', '서울특별시 도봉구',\n",
       "       '서울특별시 송파구', '서울특별시 관악구', '서울특별시 중구', '서울특별시 영등포구', '경기도 성남시 중원구',\n",
       "       '서울특별시 종로구', '서울특별시 강동구', '경기도 성남시 수정구', '경기도 용인시', '경기도 안양시 만안구',\n",
       "       '경상남도 진주시', '인천광역시 서구', '서울특별시 동대문구', '대구광역시 수성구', '서울특별시 강서구',\n",
       "       '경기도 용인시 기흥구', '충청남도 천안시 서북구', '서울시 강남구', '경기도 시흥시', '충청남도 아산시',\n",
       "       '부산광역시 해운대구'], dtype=object)"
      ]
     },
     "execution_count": 104,
     "metadata": {},
     "output_type": "execute_result"
    }
   ],
   "source": [
    "data_1.주소.unique()"
   ]
  },
  {
   "cell_type": "code",
   "execution_count": 109,
   "metadata": {},
   "outputs": [],
   "source": [
    "data_1.to_csv('wanted_dart_handle.csv')"
   ]
  },
  {
   "cell_type": "markdown",
   "metadata": {},
   "source": [
    "# Catch_data_handle"
   ]
  },
  {
   "cell_type": "code",
   "execution_count": null,
   "metadata": {},
   "outputs": [],
   "source": []
  },
  {
   "cell_type": "markdown",
   "metadata": {},
   "source": [
    "# Wanted_data_handling"
   ]
  },
  {
   "cell_type": "code",
   "execution_count": 124,
   "metadata": {},
   "outputs": [
    {
     "data": {
      "text/html": [
       "<div>\n",
       "<style scoped>\n",
       "    .dataframe tbody tr th:only-of-type {\n",
       "        vertical-align: middle;\n",
       "    }\n",
       "\n",
       "    .dataframe tbody tr th {\n",
       "        vertical-align: top;\n",
       "    }\n",
       "\n",
       "    .dataframe thead th {\n",
       "        text-align: right;\n",
       "    }\n",
       "</style>\n",
       "<table border=\"1\" class=\"dataframe\">\n",
       "  <thead>\n",
       "    <tr style=\"text-align: right;\">\n",
       "      <th></th>\n",
       "      <th>기업명</th>\n",
       "      <th>주소</th>\n",
       "      <th>직무</th>\n",
       "      <th>자격요건</th>\n",
       "      <th>직급</th>\n",
       "      <th>이용하는기술스택/우대사항</th>\n",
       "      <th>해당 페이지 URL</th>\n",
       "    </tr>\n",
       "  </thead>\n",
       "  <tbody>\n",
       "    <tr>\n",
       "      <th>0</th>\n",
       "      <td>젭(zep)</td>\n",
       "      <td>서울특별시 강남구 강남대로94길 10 케이스퀘어 8층</td>\n",
       "      <td>소프트웨어 엔지니어</td>\n",
       "      <td>하나이상의프로그래밍언어를다룰수있는분•새로운지식,기술에대한관심과열정이있으신분•협업과커...</td>\n",
       "      <td>경력 3-10년</td>\n",
       "      <td>• 멀티 쓰레드와 분할 서버 환경을 이해하시는 분, • 웹소켓 서버에 대한 이해가 ...</td>\n",
       "      <td>https://www.wanted.co.kr/wd/180861</td>\n",
       "    </tr>\n",
       "    <tr>\n",
       "      <th>1</th>\n",
       "      <td>서커스컴퍼니</td>\n",
       "      <td>서울시 강남구 논현동 87-3 우신논현빌딩 3층</td>\n",
       "      <td>소프트웨어 엔지니어</td>\n",
       "      <td>나이/성별/학력/전공무관, 3년이상의웹어플리케이션개발,운영경험, Node,.Net...</td>\n",
       "      <td>신입-경력 8년</td>\n",
       "      <td>- 품질 좋은 소프트웨어 개발을 위해 지속적으로 노력해오신 분, - 객체지향 개발 ...</td>\n",
       "      <td>https://www.wanted.co.kr/wd/207284</td>\n",
       "    </tr>\n",
       "    <tr>\n",
       "      <th>2</th>\n",
       "      <td>블로코(blocko)</td>\n",
       "      <td>경기도 성남시 분당구 성남대로 331번길 9-13, 3층(정자동, 이현빌딩)</td>\n",
       "      <td>소프트웨어 엔지니어</td>\n",
       "      <td>Golang개발경력2년이상, 대용량데이터,쓰레드프로그래밍에익숙한분</td>\n",
       "      <td>경력 2-10년</td>\n",
       "      <td>• 블록체인 관련 개발 경험, • 블록체인 스마트 컨트랙트 개발 경험, • 타 언어...</td>\n",
       "      <td>https://www.wanted.co.kr/wd/206690</td>\n",
       "    </tr>\n",
       "    <tr>\n",
       "      <th>3</th>\n",
       "      <td>피매치</td>\n",
       "      <td>마포구 마포대로 122 프론트원 13층</td>\n",
       "      <td>소프트웨어 엔지니어</td>\n",
       "      <td>경력:동종업(AI서비스개발/운영)2년이상또는그에준하는역량을가지신분•대용량데이터활용이...</td>\n",
       "      <td>경력 2-5년</td>\n",
       "      <td>• 헬스케어 분야에서의 경험이 있으신 분, • 자연어 생성 모델(LLM) 관련 경험...</td>\n",
       "      <td>https://www.wanted.co.kr/wd/186806</td>\n",
       "    </tr>\n",
       "    <tr>\n",
       "      <th>4</th>\n",
       "      <td>만나플래닛</td>\n",
       "      <td>서울시 구로구 경인로661, 101동 15층</td>\n",
       "      <td>소프트웨어 엔지니어</td>\n",
       "      <td>5년이상JAVA개발경험을가지신분ㆍ팀원들과원할한커뮤니케이션이가능하신분ㆍ스스로할일을정하...</td>\n",
       "      <td>경력 5-10년</td>\n",
       "      <td>ㆍRest API를 이해하고 API를 개발할 수 있는 분, ㆍGit, redmine...</td>\n",
       "      <td>https://www.wanted.co.kr/wd/206244</td>\n",
       "    </tr>\n",
       "    <tr>\n",
       "      <th>5</th>\n",
       "      <td>패스트레인(여신티켓)</td>\n",
       "      <td>강남구 테헤란로 423 현대타워 10층</td>\n",
       "      <td>소프트웨어 엔지니어</td>\n",
       "      <td>iOS네이티브앱개발3년이상의개발경험이있으신분•iOS네이티브앱프로젝트시작과배포까지싸이...</td>\n",
       "      <td>경력 3-7년</td>\n",
       "      <td>• RESTful API에 대한 이해를 갖추신 분  , • 다양한 아키텍쳐 및 코드...</td>\n",
       "      <td>https://www.wanted.co.kr/wd/179720</td>\n",
       "    </tr>\n",
       "    <tr>\n",
       "      <th>6</th>\n",
       "      <td>미트박스글로벌</td>\n",
       "      <td>서울 강남구 테헤란로34길 22, 미트박스글로벌빌딩</td>\n",
       "      <td>소프트웨어 엔지니어</td>\n",
       "      <td>CloudInfra(aws,gcp,azure,ncp등)사용/구축경험•helmchar...</td>\n",
       "      <td>경력 2-7년</td>\n",
       "      <td>• 컨테이너, 쿠버네티스 빌드 배포 구축 경험, • CI/CD 시스템 활용 및 구축...</td>\n",
       "      <td>https://www.wanted.co.kr/wd/202156</td>\n",
       "    </tr>\n",
       "    <tr>\n",
       "      <th>7</th>\n",
       "      <td>로지스팟</td>\n",
       "      <td>서초구 사임당로 174, 13층(서초동,강남미래타워) 로지스팟</td>\n",
       "      <td>소프트웨어 엔지니어</td>\n",
       "      <td>4년대졸자및ComputerScience관련전공자•10년이상프로덕트리더십역할경험•뛰어...</td>\n",
       "      <td>경력 10-20년</td>\n",
       "      <td>• 공급망, 물류산업 경험 및 이해도, • SaaS 및 플랫폼 서비스 경험</td>\n",
       "      <td>https://www.wanted.co.kr/wd/205962</td>\n",
       "    </tr>\n",
       "  </tbody>\n",
       "</table>\n",
       "</div>"
      ],
      "text/plain": [
       "           기업명                                          주소          직무  \\\n",
       "0       젭(zep)               서울특별시 강남구 강남대로94길 10 케이스퀘어 8층  소프트웨어 엔지니어   \n",
       "1       서커스컴퍼니                  서울시 강남구 논현동 87-3 우신논현빌딩 3층  소프트웨어 엔지니어   \n",
       "2  블로코(blocko)  경기도 성남시 분당구 성남대로 331번길 9-13, 3층(정자동, 이현빌딩)  소프트웨어 엔지니어   \n",
       "3          피매치                       마포구 마포대로 122 프론트원 13층  소프트웨어 엔지니어   \n",
       "4        만나플래닛                    서울시 구로구 경인로661, 101동 15층  소프트웨어 엔지니어   \n",
       "5  패스트레인(여신티켓)                       강남구 테헤란로 423 현대타워 10층  소프트웨어 엔지니어   \n",
       "6      미트박스글로벌                서울 강남구 테헤란로34길 22, 미트박스글로벌빌딩  소프트웨어 엔지니어   \n",
       "7         로지스팟          서초구 사임당로 174, 13층(서초동,강남미래타워) 로지스팟  소프트웨어 엔지니어   \n",
       "\n",
       "                                                자격요건         직급  \\\n",
       "0  하나이상의프로그래밍언어를다룰수있는분•새로운지식,기술에대한관심과열정이있으신분•협업과커...   경력 3-10년   \n",
       "1   나이/성별/학력/전공무관, 3년이상의웹어플리케이션개발,운영경험, Node,.Net...   신입-경력 8년   \n",
       "2               Golang개발경력2년이상, 대용량데이터,쓰레드프로그래밍에익숙한분   경력 2-10년   \n",
       "3  경력:동종업(AI서비스개발/운영)2년이상또는그에준하는역량을가지신분•대용량데이터활용이...    경력 2-5년   \n",
       "4  5년이상JAVA개발경험을가지신분ㆍ팀원들과원할한커뮤니케이션이가능하신분ㆍ스스로할일을정하...   경력 5-10년   \n",
       "5  iOS네이티브앱개발3년이상의개발경험이있으신분•iOS네이티브앱프로젝트시작과배포까지싸이...    경력 3-7년   \n",
       "6  CloudInfra(aws,gcp,azure,ncp등)사용/구축경험•helmchar...    경력 2-7년   \n",
       "7  4년대졸자및ComputerScience관련전공자•10년이상프로덕트리더십역할경험•뛰어...  경력 10-20년   \n",
       "\n",
       "                                       이용하는기술스택/우대사항  \\\n",
       "0  • 멀티 쓰레드와 분할 서버 환경을 이해하시는 분, • 웹소켓 서버에 대한 이해가 ...   \n",
       "1  - 품질 좋은 소프트웨어 개발을 위해 지속적으로 노력해오신 분, - 객체지향 개발 ...   \n",
       "2  • 블록체인 관련 개발 경험, • 블록체인 스마트 컨트랙트 개발 경험, • 타 언어...   \n",
       "3  • 헬스케어 분야에서의 경험이 있으신 분, • 자연어 생성 모델(LLM) 관련 경험...   \n",
       "4  ㆍRest API를 이해하고 API를 개발할 수 있는 분, ㆍGit, redmine...   \n",
       "5  • RESTful API에 대한 이해를 갖추신 분  , • 다양한 아키텍쳐 및 코드...   \n",
       "6  • 컨테이너, 쿠버네티스 빌드 배포 구축 경험, • CI/CD 시스템 활용 및 구축...   \n",
       "7          • 공급망, 물류산업 경험 및 이해도, • SaaS 및 플랫폼 서비스 경험   \n",
       "\n",
       "                           해당 페이지 URL  \n",
       "0  https://www.wanted.co.kr/wd/180861  \n",
       "1  https://www.wanted.co.kr/wd/207284  \n",
       "2  https://www.wanted.co.kr/wd/206690  \n",
       "3  https://www.wanted.co.kr/wd/186806  \n",
       "4  https://www.wanted.co.kr/wd/206244  \n",
       "5  https://www.wanted.co.kr/wd/179720  \n",
       "6  https://www.wanted.co.kr/wd/202156  \n",
       "7  https://www.wanted.co.kr/wd/205962  "
      ]
     },
     "execution_count": 124,
     "metadata": {},
     "output_type": "execute_result"
    }
   ],
   "source": [
    "data_2 = pd.read_csv('./.gitignore/wanted_data.csv', index_col=0)\n",
    "data_2.head(8)"
   ]
  },
  {
   "cell_type": "code",
   "execution_count": 114,
   "metadata": {},
   "outputs": [
    {
     "data": {
      "text/plain": [
       "array(['경력 3-10년', '신입-경력 8년', '경력 2-10년', '경력 2-5년', '경력 5-10년',\n",
       "       '경력 3-7년', '경력 2-7년', '경력 10-20년', '경력 5-15년', '경력 7-15년',\n",
       "       '경력 10-15년', '신입-경력 20년', '경력 5-9년', '경력 4-10년', '경력 1-10년',\n",
       "       '경력 2-4년', '경력 1-3년', '경력 10-25년', '경력 7-20년', '경력 8-15년',\n",
       "       '경력 3-6년', '경력 6-9년', '경력 3-5년', '경력 7-10년', '경력 4-15년', '경력 5-8년',\n",
       "       '경력 5-12년', '경력 1-5년', '경력 6-15년', '경력 5-7년', '신입-경력 2년',\n",
       "       '경력 4-8년', '경력 2-9년', '경력 8-20년', '신입', '신입-경력 10년', '경력 3-30년',\n",
       "       '경력 5-30년', '경력 1-15년', '경력 3-9년', '경력 5-20년', '경력 7-12년',\n",
       "       '신입-경력 5년', '경력 3-15년', '경력 6-10년', '경력 3-20년', '경력 10-30년',\n",
       "       '경력 2-20년', '경력 7-30년', '경력 3-12년', '경력 4-9년', '경력 2-12년',\n",
       "       '경력 2-8년', '경력 3-4년', '경력 2-6년', '경력 1-20년', '신입-경력 7년', '경력 2-3년',\n",
       "       '신입-경력 3년', '경력 1-7년', '경력 2-15년', '경력 3-18년', '경력 4-7년',\n",
       "       '경력 2-14년', '경력 3-8년', '경력 5-6년', '경력 7-9년', '경력 5-11년',\n",
       "       '경력 10-14년', '경력 7-11년', '경력 4-6년', '경력 7-17년', '경력 8-10년',\n",
       "       '경력 9-12년', '경력 4-5년', '경력 1-2년', '신입-경력 15년', '경력 8-14년',\n",
       "       '경력 5-14년', '경력 9-20년', '경력 7-14년', '경력 1-4년', '경력 7-35년',\n",
       "       '경력 2-2년', '경력 3-11년', '신입-경력 12년', '경력 3-25년', '경력 4-12년',\n",
       "       '경력 1-6년', '경력 5-25년', '경력 8-12년', '경력 10-17년', '경력 1-8년',\n",
       "       '경력 7-18년'], dtype=object)"
      ]
     },
     "execution_count": 114,
     "metadata": {},
     "output_type": "execute_result"
    }
   ],
   "source": [
    "data_2.직급.unique()"
   ]
  },
  {
   "cell_type": "code",
   "execution_count": 118,
   "metadata": {},
   "outputs": [],
   "source": [
    "new_career = []\n",
    "\n",
    "for z in data_2.직급.apply(lambda x: x.split('-')[0]):\n",
    "    if z == '신입':\n",
    "        new_career.append(0)\n",
    "    else:\n",
    "        new_career.append(int(''.join(re.findall('\\d', z))))"
   ]
  },
  {
   "cell_type": "code",
   "execution_count": 125,
   "metadata": {},
   "outputs": [],
   "source": [
    "data_2.직급 = new_career"
   ]
  },
  {
   "cell_type": "code",
   "execution_count": 129,
   "metadata": {},
   "outputs": [],
   "source": [
    "data_2.to_csv('wanted_data.csv')"
   ]
  },
  {
   "cell_type": "code",
   "execution_count": 130,
   "metadata": {},
   "outputs": [
    {
     "data": {
      "text/html": [
       "<div>\n",
       "<style scoped>\n",
       "    .dataframe tbody tr th:only-of-type {\n",
       "        vertical-align: middle;\n",
       "    }\n",
       "\n",
       "    .dataframe tbody tr th {\n",
       "        vertical-align: top;\n",
       "    }\n",
       "\n",
       "    .dataframe thead th {\n",
       "        text-align: right;\n",
       "    }\n",
       "</style>\n",
       "<table border=\"1\" class=\"dataframe\">\n",
       "  <thead>\n",
       "    <tr style=\"text-align: right;\">\n",
       "      <th></th>\n",
       "      <th>기업명</th>\n",
       "      <th>주소</th>\n",
       "      <th>직무</th>\n",
       "      <th>자격요건</th>\n",
       "      <th>직급</th>\n",
       "      <th>이용하는기술스택/우대사항</th>\n",
       "      <th>해당 페이지 URL</th>\n",
       "    </tr>\n",
       "  </thead>\n",
       "  <tbody>\n",
       "    <tr>\n",
       "      <th>0</th>\n",
       "      <td>젭(zep)</td>\n",
       "      <td>서울특별시 강남구 강남대로94길 10 케이스퀘어 8층</td>\n",
       "      <td>소프트웨어 엔지니어</td>\n",
       "      <td>하나이상의프로그래밍언어를다룰수있는분•새로운지식,기술에대한관심과열정이있으신분•협업과커...</td>\n",
       "      <td>3</td>\n",
       "      <td>• 멀티 쓰레드와 분할 서버 환경을 이해하시는 분, • 웹소켓 서버에 대한 이해가 ...</td>\n",
       "      <td>https://www.wanted.co.kr/wd/180861</td>\n",
       "    </tr>\n",
       "    <tr>\n",
       "      <th>1</th>\n",
       "      <td>서커스컴퍼니</td>\n",
       "      <td>서울시 강남구 논현동 87-3 우신논현빌딩 3층</td>\n",
       "      <td>소프트웨어 엔지니어</td>\n",
       "      <td>나이/성별/학력/전공무관, 3년이상의웹어플리케이션개발,운영경험, Node,.Net...</td>\n",
       "      <td>0</td>\n",
       "      <td>- 품질 좋은 소프트웨어 개발을 위해 지속적으로 노력해오신 분, - 객체지향 개발 ...</td>\n",
       "      <td>https://www.wanted.co.kr/wd/207284</td>\n",
       "    </tr>\n",
       "    <tr>\n",
       "      <th>2</th>\n",
       "      <td>블로코(blocko)</td>\n",
       "      <td>경기도 성남시 분당구 성남대로 331번길 9-13, 3층(정자동, 이현빌딩)</td>\n",
       "      <td>소프트웨어 엔지니어</td>\n",
       "      <td>Golang개발경력2년이상, 대용량데이터,쓰레드프로그래밍에익숙한분</td>\n",
       "      <td>2</td>\n",
       "      <td>• 블록체인 관련 개발 경험, • 블록체인 스마트 컨트랙트 개발 경험, • 타 언어...</td>\n",
       "      <td>https://www.wanted.co.kr/wd/206690</td>\n",
       "    </tr>\n",
       "    <tr>\n",
       "      <th>3</th>\n",
       "      <td>피매치</td>\n",
       "      <td>마포구 마포대로 122 프론트원 13층</td>\n",
       "      <td>소프트웨어 엔지니어</td>\n",
       "      <td>경력:동종업(AI서비스개발/운영)2년이상또는그에준하는역량을가지신분•대용량데이터활용이...</td>\n",
       "      <td>2</td>\n",
       "      <td>• 헬스케어 분야에서의 경험이 있으신 분, • 자연어 생성 모델(LLM) 관련 경험...</td>\n",
       "      <td>https://www.wanted.co.kr/wd/186806</td>\n",
       "    </tr>\n",
       "    <tr>\n",
       "      <th>4</th>\n",
       "      <td>만나플래닛</td>\n",
       "      <td>서울시 구로구 경인로661, 101동 15층</td>\n",
       "      <td>소프트웨어 엔지니어</td>\n",
       "      <td>5년이상JAVA개발경험을가지신분ㆍ팀원들과원할한커뮤니케이션이가능하신분ㆍ스스로할일을정하...</td>\n",
       "      <td>5</td>\n",
       "      <td>ㆍRest API를 이해하고 API를 개발할 수 있는 분, ㆍGit, redmine...</td>\n",
       "      <td>https://www.wanted.co.kr/wd/206244</td>\n",
       "    </tr>\n",
       "    <tr>\n",
       "      <th>...</th>\n",
       "      <td>...</td>\n",
       "      <td>...</td>\n",
       "      <td>...</td>\n",
       "      <td>...</td>\n",
       "      <td>...</td>\n",
       "      <td>...</td>\n",
       "      <td>...</td>\n",
       "    </tr>\n",
       "    <tr>\n",
       "      <th>1957</th>\n",
       "      <td>인센드</td>\n",
       "      <td>경기도 성남시 분당구 황새울로319번길 6 410호</td>\n",
       "      <td>BI 엔지니어</td>\n",
       "      <td>경력8년이상•창의성,협동심,도전정신중간에포기하지않는개발자와같이하고싶습니다.</td>\n",
       "      <td>8</td>\n",
       "      <td>• 개발 및 인력에 대한 리더쉽 소유하신분 , • Full Stack 능력을 가지신분</td>\n",
       "      <td>https://www.wanted.co.kr/wd/195532</td>\n",
       "    </tr>\n",
       "    <tr>\n",
       "      <th>1958</th>\n",
       "      <td>큐픽스</td>\n",
       "      <td>경기 성남시 분당구 대왕판교로 670, 유스페이스2 B동 605호</td>\n",
       "      <td>루비온레일즈 개발자</td>\n",
       "      <td>석사학위이상의2년이상경력자(혹은이에준하는실력보유자)•전문연구요원(병역특례)신입/전직...</td>\n",
       "      <td>2</td>\n",
       "      <td>• Amazon Web Services 등 클라우드 환경에서 Terraform 등의...</td>\n",
       "      <td>https://www.wanted.co.kr/wd/207738</td>\n",
       "    </tr>\n",
       "    <tr>\n",
       "      <th>1959</th>\n",
       "      <td>엔비티(NBT)</td>\n",
       "      <td>서울특별시 서초구 서초대로38길 12, 마제스타시티 타워1 14층</td>\n",
       "      <td>루비온레일즈 개발자</td>\n",
       "      <td>백엔드개발,운영실무6년이상또는그에준하는역량을보유하신분•RESTfulAPI에대한경험및...</td>\n",
       "      <td>6</td>\n",
       "      <td>• 모바일 광고, 특히 AdTech에 대한 경험이 있으신 분, • Ruby on R...</td>\n",
       "      <td>https://www.wanted.co.kr/wd/177555</td>\n",
       "    </tr>\n",
       "    <tr>\n",
       "      <th>1960</th>\n",
       "      <td>퍼니지</td>\n",
       "      <td>서울 성동구 연무장5가길 25 성수역 SK V1 Tower</td>\n",
       "      <td>루비온레일즈 개발자</td>\n",
       "      <td>학력:무관•경력:백엔드개발3년이상(django,Nest.js,기타백엔드프레임워크)•...</td>\n",
       "      <td>3</td>\n",
       "      <td>• Ruby on Rails 프로젝트 유경험자, • 앱 서비스를 개발/운영해보신 분</td>\n",
       "      <td>https://www.wanted.co.kr/wd/207959</td>\n",
       "    </tr>\n",
       "    <tr>\n",
       "      <th>1961</th>\n",
       "      <td>아이오바이오</td>\n",
       "      <td>서울시 강남구 테헤란로4길 38</td>\n",
       "      <td>CIO,Chief Information Officer</td>\n",
       "      <td>이런분과함께하고싶어요.\"•디바이스부터플랫폼까지관련경력10년이상보유자로조직리딩유경험자...</td>\n",
       "      <td>10</td>\n",
       "      <td>\"이런 경험이 있으시면 더 좋아요.\", , • 국내외 소프트웨어 의료기기에 대한 규...</td>\n",
       "      <td>https://www.wanted.co.kr/wd/184039</td>\n",
       "    </tr>\n",
       "  </tbody>\n",
       "</table>\n",
       "<p>1962 rows × 7 columns</p>\n",
       "</div>"
      ],
      "text/plain": [
       "              기업명                                          주소  \\\n",
       "0          젭(zep)               서울특별시 강남구 강남대로94길 10 케이스퀘어 8층   \n",
       "1          서커스컴퍼니                  서울시 강남구 논현동 87-3 우신논현빌딩 3층   \n",
       "2     블로코(blocko)  경기도 성남시 분당구 성남대로 331번길 9-13, 3층(정자동, 이현빌딩)   \n",
       "3             피매치                       마포구 마포대로 122 프론트원 13층   \n",
       "4           만나플래닛                    서울시 구로구 경인로661, 101동 15층   \n",
       "...           ...                                         ...   \n",
       "1957          인센드                경기도 성남시 분당구 황새울로319번길 6 410호   \n",
       "1958          큐픽스        경기 성남시 분당구 대왕판교로 670, 유스페이스2 B동 605호   \n",
       "1959     엔비티(NBT)        서울특별시 서초구 서초대로38길 12, 마제스타시티 타워1 14층   \n",
       "1960          퍼니지            서울 성동구 연무장5가길 25 성수역 SK V1 Tower   \n",
       "1961       아이오바이오                           서울시 강남구 테헤란로4길 38   \n",
       "\n",
       "                                 직무  \\\n",
       "0                        소프트웨어 엔지니어   \n",
       "1                        소프트웨어 엔지니어   \n",
       "2                        소프트웨어 엔지니어   \n",
       "3                        소프트웨어 엔지니어   \n",
       "4                        소프트웨어 엔지니어   \n",
       "...                             ...   \n",
       "1957                        BI 엔지니어   \n",
       "1958                     루비온레일즈 개발자   \n",
       "1959                     루비온레일즈 개발자   \n",
       "1960                     루비온레일즈 개발자   \n",
       "1961  CIO,Chief Information Officer   \n",
       "\n",
       "                                                   자격요건  직급  \\\n",
       "0     하나이상의프로그래밍언어를다룰수있는분•새로운지식,기술에대한관심과열정이있으신분•협업과커...   3   \n",
       "1      나이/성별/학력/전공무관, 3년이상의웹어플리케이션개발,운영경험, Node,.Net...   0   \n",
       "2                  Golang개발경력2년이상, 대용량데이터,쓰레드프로그래밍에익숙한분   2   \n",
       "3     경력:동종업(AI서비스개발/운영)2년이상또는그에준하는역량을가지신분•대용량데이터활용이...   2   \n",
       "4     5년이상JAVA개발경험을가지신분ㆍ팀원들과원할한커뮤니케이션이가능하신분ㆍ스스로할일을정하...   5   \n",
       "...                                                 ...  ..   \n",
       "1957          경력8년이상•창의성,협동심,도전정신중간에포기하지않는개발자와같이하고싶습니다.   8   \n",
       "1958  석사학위이상의2년이상경력자(혹은이에준하는실력보유자)•전문연구요원(병역특례)신입/전직...   2   \n",
       "1959  백엔드개발,운영실무6년이상또는그에준하는역량을보유하신분•RESTfulAPI에대한경험및...   6   \n",
       "1960  학력:무관•경력:백엔드개발3년이상(django,Nest.js,기타백엔드프레임워크)•...   3   \n",
       "1961  이런분과함께하고싶어요.\"•디바이스부터플랫폼까지관련경력10년이상보유자로조직리딩유경험자...  10   \n",
       "\n",
       "                                          이용하는기술스택/우대사항  \\\n",
       "0     • 멀티 쓰레드와 분할 서버 환경을 이해하시는 분, • 웹소켓 서버에 대한 이해가 ...   \n",
       "1     - 품질 좋은 소프트웨어 개발을 위해 지속적으로 노력해오신 분, - 객체지향 개발 ...   \n",
       "2     • 블록체인 관련 개발 경험, • 블록체인 스마트 컨트랙트 개발 경험, • 타 언어...   \n",
       "3     • 헬스케어 분야에서의 경험이 있으신 분, • 자연어 생성 모델(LLM) 관련 경험...   \n",
       "4     ㆍRest API를 이해하고 API를 개발할 수 있는 분, ㆍGit, redmine...   \n",
       "...                                                 ...   \n",
       "1957    • 개발 및 인력에 대한 리더쉽 소유하신분 , • Full Stack 능력을 가지신분   \n",
       "1958  • Amazon Web Services 등 클라우드 환경에서 Terraform 등의...   \n",
       "1959  • 모바일 광고, 특히 AdTech에 대한 경험이 있으신 분, • Ruby on R...   \n",
       "1960     • Ruby on Rails 프로젝트 유경험자, • 앱 서비스를 개발/운영해보신 분   \n",
       "1961  \"이런 경험이 있으시면 더 좋아요.\", , • 국내외 소프트웨어 의료기기에 대한 규...   \n",
       "\n",
       "                              해당 페이지 URL  \n",
       "0     https://www.wanted.co.kr/wd/180861  \n",
       "1     https://www.wanted.co.kr/wd/207284  \n",
       "2     https://www.wanted.co.kr/wd/206690  \n",
       "3     https://www.wanted.co.kr/wd/186806  \n",
       "4     https://www.wanted.co.kr/wd/206244  \n",
       "...                                  ...  \n",
       "1957  https://www.wanted.co.kr/wd/195532  \n",
       "1958  https://www.wanted.co.kr/wd/207738  \n",
       "1959  https://www.wanted.co.kr/wd/177555  \n",
       "1960  https://www.wanted.co.kr/wd/207959  \n",
       "1961  https://www.wanted.co.kr/wd/184039  \n",
       "\n",
       "[1962 rows x 7 columns]"
      ]
     },
     "execution_count": 130,
     "metadata": {},
     "output_type": "execute_result"
    }
   ],
   "source": [
    "data_2"
   ]
  },
  {
   "cell_type": "code",
   "execution_count": 1,
   "metadata": {},
   "outputs": [],
   "source": [
    "# 불용어\n",
    "from konlpy.tag import Kkma\n",
    "from konlpy.utils import pprint\n",
    "from konlpy import tag\n",
    "# 워드클라우드\n",
    "import os\n",
    "from os import path\n",
    "from wordcloud import WordCloud\n",
    "import matplotlib.pyplot as plt"
   ]
  },
  {
   "cell_type": "code",
   "execution_count": 2,
   "metadata": {},
   "outputs": [],
   "source": [
    "kkma = Kkma()"
   ]
  },
  {
   "cell_type": "code",
   "execution_count": 4,
   "metadata": {},
   "outputs": [
    {
     "ename": "NameError",
     "evalue": "name 'data_2' is not defined",
     "output_type": "error",
     "traceback": [
      "\u001b[1;31m---------------------------------------------------------------------------\u001b[0m",
      "\u001b[1;31mNameError\u001b[0m                                 Traceback (most recent call last)",
      "\u001b[1;32mc:\\Users\\user\\Documents\\b7_Crawling\\김재경\\data_handle.ipynb Cell 45\u001b[0m line \u001b[0;36m2\n\u001b[0;32m      <a href='vscode-notebook-cell:/c%3A/Users/user/Documents/b7_Crawling/%EA%B9%80%EC%9E%AC%EA%B2%BD/data_handle.ipynb#X62sZmlsZQ%3D%3D?line=0'>1</a>\u001b[0m abc \u001b[39m=\u001b[39m \u001b[39m'\u001b[39m\u001b[39m'\u001b[39m\n\u001b[1;32m----> <a href='vscode-notebook-cell:/c%3A/Users/user/Documents/b7_Crawling/%EA%B9%80%EC%9E%AC%EA%B2%BD/data_handle.ipynb#X62sZmlsZQ%3D%3D?line=1'>2</a>\u001b[0m \u001b[39mfor\u001b[39;00m b \u001b[39min\u001b[39;00m data_2[\u001b[39m'\u001b[39m\u001b[39m이용하는기술스택/우대사항\u001b[39m\u001b[39m'\u001b[39m]:\n\u001b[0;32m      <a href='vscode-notebook-cell:/c%3A/Users/user/Documents/b7_Crawling/%EA%B9%80%EC%9E%AC%EA%B2%BD/data_handle.ipynb#X62sZmlsZQ%3D%3D?line=2'>3</a>\u001b[0m     abc \u001b[39m+\u001b[39m\u001b[39m=\u001b[39m \u001b[39m'\u001b[39m\u001b[39m'\u001b[39m\u001b[39m.\u001b[39mjoin(re\u001b[39m.\u001b[39msub(\u001b[39m'\u001b[39m\u001b[39m[^a-zA-Z]\u001b[39m\u001b[39m'\u001b[39m, \u001b[39m'\u001b[39m\u001b[39m \u001b[39m\u001b[39m'\u001b[39m, b))\n\u001b[0;32m      <a href='vscode-notebook-cell:/c%3A/Users/user/Documents/b7_Crawling/%EA%B9%80%EC%9E%AC%EA%B2%BD/data_handle.ipynb#X62sZmlsZQ%3D%3D?line=3'>4</a>\u001b[0m abc \u001b[39m=\u001b[39m \u001b[39m'\u001b[39m\u001b[39m \u001b[39m\u001b[39m'\u001b[39m\u001b[39m.\u001b[39mjoin(abc\u001b[39m.\u001b[39msplit())\n",
      "\u001b[1;31mNameError\u001b[0m: name 'data_2' is not defined"
     ]
    }
   ],
   "source": [
    "# abc = ''\n",
    "# for b in data_2['이용하는기술스택/우대사항']:\n",
    "    # abc += ''.join(re.sub('[^a-zA-Z]', ' ', b))\n",
    "# abc = ' '.join(abc.split())"
   ]
  },
  {
   "cell_type": "code",
   "execution_count": 8,
   "metadata": {},
   "outputs": [
    {
     "ename": "NameError",
     "evalue": "name 'data_2' is not defined",
     "output_type": "error",
     "traceback": [
      "\u001b[1;31m---------------------------------------------------------------------------\u001b[0m",
      "\u001b[1;31mNameError\u001b[0m                                 Traceback (most recent call last)",
      "\u001b[1;32mc:\\Users\\user\\Documents\\b7_Crawling\\김재경\\data_handle.ipynb Cell 46\u001b[0m line \u001b[0;36m3\n\u001b[0;32m      <a href='vscode-notebook-cell:/c%3A/Users/user/Documents/b7_Crawling/%EA%B9%80%EC%9E%AC%EA%B2%BD/data_handle.ipynb#X63sZmlsZQ%3D%3D?line=0'>1</a>\u001b[0m tec_word \u001b[39m=\u001b[39m \u001b[39m'\u001b[39m\u001b[39m'\u001b[39m\n\u001b[1;32m----> <a href='vscode-notebook-cell:/c%3A/Users/user/Documents/b7_Crawling/%EA%B9%80%EC%9E%AC%EA%B2%BD/data_handle.ipynb#X63sZmlsZQ%3D%3D?line=2'>3</a>\u001b[0m \u001b[39mfor\u001b[39;00m j \u001b[39min\u001b[39;00m data_2[\u001b[39m'\u001b[39m\u001b[39m이용하는기술스택/우대사항\u001b[39m\u001b[39m'\u001b[39m]:\n\u001b[0;32m      <a href='vscode-notebook-cell:/c%3A/Users/user/Documents/b7_Crawling/%EA%B9%80%EC%9E%AC%EA%B2%BD/data_handle.ipynb#X63sZmlsZQ%3D%3D?line=3'>4</a>\u001b[0m     tec_word \u001b[39m+\u001b[39m\u001b[39m=\u001b[39m \u001b[39m'\u001b[39m\u001b[39m \u001b[39m\u001b[39m'\u001b[39m\u001b[39m.\u001b[39mjoin(kkma\u001b[39m.\u001b[39mnouns(j\u001b[39m.\u001b[39mreplace(\u001b[39m'\u001b[39m\u001b[39mㆍ\u001b[39m\u001b[39m'\u001b[39m,\u001b[39m'\u001b[39m\u001b[39m'\u001b[39m)))\n\u001b[0;32m      <a href='vscode-notebook-cell:/c%3A/Users/user/Documents/b7_Crawling/%EA%B9%80%EC%9E%AC%EA%B2%BD/data_handle.ipynb#X63sZmlsZQ%3D%3D?line=4'>5</a>\u001b[0m tec_word\n",
      "\u001b[1;31mNameError\u001b[0m: name 'data_2' is not defined"
     ]
    }
   ],
   "source": [
    "tec_word = ''\n",
    "\n",
    "for j in data_2['이용하는기술스택/우대사항']:\n",
    "    tec_word += ' '.join(kkma.nouns(j.replace('ㆍ','')))\n",
    "tec_word"
   ]
  },
  {
   "cell_type": "code",
   "execution_count": 7,
   "metadata": {},
   "outputs": [
    {
     "name": "stdout",
     "output_type": "stream",
     "text": [
      "불용어 제거 전 : []\n",
      "불용어 제거 후 : []\n"
     ]
    }
   ],
   "source": [
    "tec_abc = tec_word\n",
    "\n",
    "stop_words ='''등 사용 분 환경 가능 x X 다양 년이상 테스트 이해 수 기반 장애 테스트 가능 경험 이해 분 환경 이해 관심 처리 엔드 년 녀 백 업 보유 기술 실무 백 보 신 배포 언어 개선 이용 활용 보신 성능 간 업무 베이스 지식 고민 ㄴ 오픈오픈 소스소스 적인 도구 참여 레 이상 플 코드 작성 관련 본인 유지 사항 검색 서비스 o ㅇ 수행 마이크로 초기  경험자  케이션  우대사항  1 개 리 2 강 기 거시 외부 가 고가 4 스크 하 어 처음 대용량 애 큐 효율 즐거움 새 이 만 마 로 in 밖 제로 유 배 포 십 핀 학위 공유 니스 인정 강점 활 용해 폼 인 줄 ㅁ 오픈 워크 그 션  오 스트 탑 ㄹ 서 3 계 i me my myself we our ours ourselves you you're you've you'll you'd your yours yourself yourselves he him his himself she she's her hers herself it it's its itself they them their theirs themselves what which who whom this that that'll these those am is are was were be been being have has had having do does did doing a an the and but if or because as until while of at by for with about against between into through during before after above below to from up down in out on off over under again further then once here there when where why how all any both each few more most other some such no nor not only own same so than too very s t can will just 아 휴 아이구 아이쿠 아이고 어 나 우리 저희 따라 의해 을 를 에 의 가 으로 로 에게 뿐이다 의거하여 근거하여 입각하여 기준으로 예하면 예를 들면 예를 들자면 저 소인 소생 저희 지말고 하지마 하지마라 다른 물론 또한 그리고 비길수 없다 해서는 안된다 뿐만 아니라 만이 아니다 만은 아니다 막론하고 관계없이 그치지 않다 그러나 그런데 하지만 든간에 논하지 않다 따지지 않다 설사 비록 더라도 아니면 만 못하다 하는 편이 낫다 불문하고 향하여 향해서 향하다 쪽으로 틈타 이용하여 타다 오르다 제외하고 이 외에 이 밖에 하여야 비로소 한다면 몰라도 외에도 이곳 여기 부터 기점으로 따라서 할 생각이다 하려고하다 이리하여 그리하여 그렇게 함으로써 하지만 일때 할때 앞에서 중에서 보는데서 으로써 로써 까지 해야한다 일것이다 반드시 할줄알다 할수있다 할수있어 임에 틀림없다 한다면 등 등등 제 겨우 단지 다만 할뿐 딩동 댕그 대해서 대하여 대하면 훨씬 얼마나 얼마만큼 얼마큼 남짓 여 얼마간 약간 다소 좀 조금 다수 몇 얼마 지만 하물며 또한 그러나 그렇지만 하지만 이외에도 대해 말하자면 뿐이다 다음에 반대로 반대로 말하자면 이와 반대로 바꾸어서 말하면 바꾸어서 한다면 만약 그렇지않으면 까악 툭 딱 삐걱거리다 보드득 비걱거리다 꽈당 응당 해야한다 에 가서 각 각각 여러분 각종 각자 제각기 하도록하다 와 과 그러므로 그래서 고로 한 까닭에 하기 때문에 거니와 이지만 대하여 관하여 관한 과연 실로 아니나다를가 생각한대로 진짜로 한적이있다 하곤하였다 하 하하 허허 아하 거바 와 오 왜 어째서 무엇때문에 어찌 하겠는가 무슨 어디 어느곳 더군다나 하물며 더욱이는 어느때 언제 야 이봐 어이 여보시오 흐흐 흥 휴 헉헉 헐떡헐떡 영차 여차 어기여차 끙끙 아야 앗 아야 콸콸 졸졸 좍좍 뚝뚝 주룩주룩 솨 우르르 그래도 또 그리고 바꾸어말하면 바꾸어말하자면 혹은 혹시 답다 및 그에 따르는 때가 되어 즉 지든지 설령 가령 하더라도 할지라도 일지라도 지든지 몇 거의 하마터면 인젠 이젠 된바에야 된이상 만큼 어찌됏든 그위에 게다가 점에서 보아 비추어 보아 고려하면 하게될것이다 일것이다 비교적 좀 보다더 비하면 시키다 하게하다 할만하다 의해서 연이서 이어서 잇따라 뒤따라 뒤이어 결국 의지하여 기대여 통하여 자마자 더욱더 불구하고 얼마든지 마음대로 주저하지 않고 곧 즉시 바로 당장 하자마자 밖에 안된다 하면된다 그래 그렇지 요컨대 다시 말하자면 바꿔 말하면 즉 구체적으로 말하자면 시작하여 시초에 이상 허 헉 허걱 바와같이 해도좋다 해도된다 게다가 더구나 하물며 와르르 팍 퍽 펄렁 동안 이래 하고있었다 이었다 에서 로부터 까지 예하면 했어요 해요 함께 같이 더불어 마저 마저도 양자 모두 습니다 가까스로 하려고하다 즈음하여 다른 다른 방면으로 해봐요 습니까 했어요 말할것도 없고 무릎쓰고 개의치않고 하는것만 못하다 하는것이 낫다 매 매번 들 모 어느것 어느 로써 갖고말하자면 어디 어느쪽 어느것 어느해 어느 년도 라 해도 언젠가 어떤것 어느것 저기 저쪽 저것 그때 그럼 그러면 요만한걸 그래 그때 저것만큼 그저 이르기까지 할 줄 안다 할 힘이 있다 너 너희 당신 어찌 설마 차라리 할지언정 할지라도 할망정 할지언정 구토하다 게우다 토하다 메쓰겁다 옆사람 퉤 쳇 의거하여 근거하여 의해 따라 힘입어 그 다음 버금 두번째로 기타 첫번째로 나머지는 그중에서 견지에서 형식으로 쓰여 입장에서 위해서 단지 의해되다 하도록시키다 뿐만아니라 반대로 전후 전자 앞의것 잠시 잠깐 하면서 그렇지만 다음에 그러한즉 그런즉 남들 아무거나 어찌하든지 같다 비슷하다 예컨대 이럴정도로 어떻게 만약 만일 위에서 서술한바와같이 인 듯하다 하지 않는다면 만약에 무엇 무슨 어느 어떤 아래윗 조차 한데 그럼에도 불구하고 여전히 심지어 까지도 조차도 하지 않도록 않기 위하여 때 시각 무렵 시간 동안 어때 어떠한 하여금 네 예 우선 누구 누가 알겠는가 아무도 줄은모른다 줄은 몰랏다 하는 김에 겸사겸사 하는바 그런 까닭에 한 이유는 그러니 그러니까 때문에 그 너희 그들 너희들 타인 것 것들 너 위하여 공동으로 동시에 하기 위하여 어찌하여 무엇때문에 붕붕 윙윙 나 우리 엉엉 휘익 윙윙 오호 아하 어쨋든 만 못하다 하기보다는 차라리 하는 편이 낫다 흐흐 놀라다 상대적으로 말하자면 마치 아니라면 쉿 그렇지 않으면 그렇지 않다면 안 그러면 아니었다면 하든지 아니면 이라면 좋아 알았어 하는것도 그만이다 어쩔수 없다 하나 일 일반적으로 일단 한켠으로는 오자마자 이렇게되면 이와같다면 전부 한마디 한항목 근거로 하기에 아울러 하지 않도록 않기 위해서 이르기까지 이 되다 로 인하여 까닭으로 이유만으로 이로 인하여 그래서 이 때문에 그러므로 그런 까닭에 알 수 있다 결론을 낼 수 있다 으로 인하여 있다 어떤것 관계가 있다 관련이 있다 연관되다 어떤것들 에 대해 이리하여 그리하여 여부 하기보다는 하느니 하면 할수록 운운 이러이러하다 하구나 하도다 다시말하면 다음으로 에 있다 에 달려 있다 우리 우리들 오히려 하기는한데 어떻게 어떻해 어찌됏어 어때 어째서 본대로 자 이 이쪽 여기 이것 이번 이렇게말하자면 이런 이러한 이와 같은 요만큼 요만한 것 얼마 안 되는 것 이만큼 이 정도의 이렇게 많은 것 이와 같다 이때 이렇구나 것과 같이 끼익 삐걱 따위 와 같은 사람들 부류의 사람들 왜냐하면 중의하나 오직 오로지 에 한하다 하기만 하면 도착하다 까지 미치다 도달하다 정도에 이르다 할 지경이다 결과에 이르다 관해서는 여러분 하고 있다 한 후 혼자 자기 자기집 자신 우에 종합한것과같이 총적으로 보면 총적으로 말하면 총적으로 대로 하다 으로서 참 그만이다 할 따름이다 쿵 탕탕 쾅쾅 둥둥 봐 봐라 아이야 아니 와아 응 아이 참나 년 월 일 령 영 일 이 삼 사 오 육 륙 칠 팔 구 이천육 이천칠 이천팔 이천구 하나 둘 셋 넷 다섯 여섯 일곱 여덟 아홉 령 영 이 있 하 것 들 그 되 수 이 보 않 없 나 사람 주 아니 등 같 우리 때 년 가 한 지 대하 오 말 일 그렇 위하 때문 그것 두 말하 알 그러나 받 못하 일 그런 또 문제 더 사회 많 그리고 좋 크 따르 중 나오 가지 씨 시키 만들 지금 생각하 그러 속 하나 집 살 모르 적 월 데 자신 안 어떤 내 내 경우 명 생각 시간 그녀 다시 이런 앞 보이 번 나 다른 어떻 여자 개 전 들 사실 이렇 점 싶 말 정도 좀 원 잘 통하 놓 don don't should should've now d ll m o re ve y ain aren aren't couldn couldn't didn didn't doesn doesn't hadn hadn't hasn hasn't haven haven't isn isn't ma mightn mightn't mustn mustn't needn needn't shan shan't shouldn shouldn't wasn wasn't weren weren't won won't wouldn wouldn't 키 5 군 보여 주실 S Private Service Multi SAFE in trouble shooting code degree performancd and v d D end B writing I F Safety'''\n",
    "\n",
    "stop_words = set(stop_words.split(' '))\n",
    "word_tokens = kkma.morphs(tec_abc)\n",
    "\n",
    "result = [word for word in word_tokens if not word in stop_words]\n",
    "\n",
    "print('불용어 제거 전 :',word_tokens) \n",
    "print('불용어 제거 후 :',result)"
   ]
  },
  {
   "cell_type": "code",
   "execution_count": null,
   "metadata": {},
   "outputs": [],
   "source": []
  }
 ],
 "metadata": {
  "kernelspec": {
   "display_name": "base",
   "language": "python",
   "name": "python3"
  },
  "language_info": {
   "codemirror_mode": {
    "name": "ipython",
    "version": 3
   },
   "file_extension": ".py",
   "mimetype": "text/x-python",
   "name": "python",
   "nbconvert_exporter": "python",
   "pygments_lexer": "ipython3",
   "version": "3.11.5"
  }
 },
 "nbformat": 4,
 "nbformat_minor": 2
}
