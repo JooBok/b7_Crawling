{
 "cells": [
  {
   "cell_type": "code",
   "execution_count": 2,
   "metadata": {},
   "outputs": [],
   "source": [
    "import pandas as pd\n",
    "import numpy as np "
   ]
  },
  {
   "cell_type": "code",
   "execution_count": 19,
   "metadata": {},
   "outputs": [],
   "source": [
    "data2_1 = pd.read_csv('wanted_2_1.csv', index_col=0)\n",
    "data2_2 = pd.read_csv('wanted_2_2.csv', index_col=0)\n",
    "data2_3 = pd.read_csv('wanted_2_3.csv', index_col=0)\n",
    "data2_4 = pd.read_csv('wanted_2_4.csv', index_col=0)\n",
    "data2_5 = pd.read_csv('wanted_2_5.csv', index_col=0)\n",
    "data2_6 = pd.read_csv('wanted_2_6.csv', index_col=0)\n",
    "data2_7 = pd.read_csv('wanted_2_7.csv', index_col=0)\n",
    "data2_8 = pd.read_csv('wanted_2_8.csv', index_col=0)\n",
    "data2_9 = pd.read_csv('wanted_2_9.csv', index_col=0)\n",
    "data3_1 = pd.read_csv('wanted_3_1.csv', index_col=0)\n",
    "data3_2 = pd.read_csv('wanted_3_2.csv', index_col=0)\n",
    "data3_3 = pd.read_csv('wanted_3_3.csv', index_col=0)\n",
    "data4_1 = pd.read_csv('wanted_4_1.csv', index_col=0)\n",
    "data4_2 = pd.read_csv('wanted_4_2.csv', index_col=0)\n",
    "data4_3 = pd.read_csv('wanted_4_3.csv', index_col=0)\n",
    "data4_4 = pd.read_csv('wanted_4_4.csv', index_col=0)\n",
    "data4_5 = pd.read_csv('wanted_4_5.csv', index_col=0)\n",
    "data5_1 = pd.read_csv('wanted_5_1.csv', index_col=0)\n",
    "data6_1 = pd.read_csv('wanted_6_1.csv', index_col=0)\n",
    "data7_1 = pd.read_csv('wanted_7_1.csv', index_col=0)\n",
    "data8_1 = pd.read_csv('wanted_8_1.csv', index_col=0)\n",
    "data20 = pd.read_csv('wanted_20.csv', index_col=0)\n",
    "data35 = pd.read_csv('wanted_35.csv', index_col=0)\n",
    "data38 = pd.read_csv('wanted_38.csv', index_col=0)"
   ]
  },
  {
   "cell_type": "code",
   "execution_count": 20,
   "metadata": {},
   "outputs": [],
   "source": [
    "final_wan_res = pd.concat([data2_1, data2_2, data2_3, data2_4, data2_5, data2_6,\n",
    "                           data2_7, data2_8, data2_9, data3_1, data3_2, data3_3,\n",
    "                           data4_1, data4_2, data4_3, data4_4, data4_5, data5_1,\n",
    "                           data6_1, data7_1, data8_1, data20, data35, data38], ignore_index=True)"
   ]
  },
  {
   "cell_type": "code",
   "execution_count": 26,
   "metadata": {},
   "outputs": [
    {
     "name": "stdout",
     "output_type": "stream",
     "text": [
      "<class 'pandas.core.frame.DataFrame'>\n",
      "RangeIndex: 1963 entries, 0 to 1962\n",
      "Data columns (total 7 columns):\n",
      " #   Column         Non-Null Count  Dtype \n",
      "---  ------         --------------  ----- \n",
      " 0   기업명            1963 non-null   object\n",
      " 1   주소             1963 non-null   object\n",
      " 2   직무             1963 non-null   int64 \n",
      " 3   자격요건           1963 non-null   object\n",
      " 4   직급             1963 non-null   object\n",
      " 5   이용하는기술스택/우대사항  1963 non-null   object\n",
      " 6   해당 페이지 URL     1963 non-null   object\n",
      "dtypes: int64(1), object(6)\n",
      "memory usage: 107.5+ KB\n"
     ]
    }
   ],
   "source": [
    "final_wan_res.info()"
   ]
  },
  {
   "cell_type": "code",
   "execution_count": 28,
   "metadata": {},
   "outputs": [
    {
     "ename": "NameError",
     "evalue": "name 'EC' is not defined",
     "output_type": "error",
     "traceback": [
      "\u001b[1;31m---------------------------------------------------------------------------\u001b[0m",
      "\u001b[1;31mNameError\u001b[0m                                 Traceback (most recent call last)",
      "\u001b[1;32mc:\\Users\\user\\Documents\\b7_Crawling\\김재경\\데이터 머지.ipynb Cell 5\u001b[0m line \u001b[0;36m2\n\u001b[0;32m     <a href='vscode-notebook-cell:/c%3A/Users/user/Documents/b7_Crawling/%EA%B9%80%EC%9E%AC%EA%B2%BD/%EB%8D%B0%EC%9D%B4%ED%84%B0%20%EB%A8%B8%EC%A7%80.ipynb#X16sZmlsZQ%3D%3D?line=20'>21</a>\u001b[0m driver\u001b[39m.\u001b[39mget(url)\n\u001b[0;32m     <a href='vscode-notebook-cell:/c%3A/Users/user/Documents/b7_Crawling/%EA%B9%80%EC%9E%AC%EA%B2%BD/%EB%8D%B0%EC%9D%B4%ED%84%B0%20%EB%A8%B8%EC%A7%80.ipynb#X16sZmlsZQ%3D%3D?line=22'>23</a>\u001b[0m \u001b[39m# 직무 선택\u001b[39;00m\n\u001b[0;32m     <a href='vscode-notebook-cell:/c%3A/Users/user/Documents/b7_Crawling/%EA%B9%80%EC%9E%AC%EA%B2%BD/%EB%8D%B0%EC%9D%B4%ED%84%B0%20%EB%A8%B8%EC%A7%80.ipynb#X16sZmlsZQ%3D%3D?line=23'>24</a>\u001b[0m search_job \u001b[39m=\u001b[39m WebDriverWait(driver, \u001b[39m10\u001b[39m)\u001b[39m.\u001b[39muntil(\n\u001b[1;32m---> <a href='vscode-notebook-cell:/c%3A/Users/user/Documents/b7_Crawling/%EA%B9%80%EC%9E%AC%EA%B2%BD/%EB%8D%B0%EC%9D%B4%ED%84%B0%20%EB%A8%B8%EC%A7%80.ipynb#X16sZmlsZQ%3D%3D?line=24'>25</a>\u001b[0m EC\u001b[39m.\u001b[39mpresence_of_element_located(\n\u001b[0;32m     <a href='vscode-notebook-cell:/c%3A/Users/user/Documents/b7_Crawling/%EA%B9%80%EC%9E%AC%EA%B2%BD/%EB%8D%B0%EC%9D%B4%ED%84%B0%20%EB%A8%B8%EC%A7%80.ipynb#X16sZmlsZQ%3D%3D?line=25'>26</a>\u001b[0m     (\n\u001b[0;32m     <a href='vscode-notebook-cell:/c%3A/Users/user/Documents/b7_Crawling/%EA%B9%80%EC%9E%AC%EA%B2%BD/%EB%8D%B0%EC%9D%B4%ED%84%B0%20%EB%A8%B8%EC%A7%80.ipynb#X16sZmlsZQ%3D%3D?line=26'>27</a>\u001b[0m         By\u001b[39m.\u001b[39mXPATH, \u001b[39m'\u001b[39m\u001b[39m//*[@id=\u001b[39m\u001b[39m\"\u001b[39m\u001b[39m__next\u001b[39m\u001b[39m\"\u001b[39m\u001b[39m]/div[3]/article/div/div[2]/button\u001b[39m\u001b[39m'\u001b[39m\n\u001b[0;32m     <a href='vscode-notebook-cell:/c%3A/Users/user/Documents/b7_Crawling/%EA%B9%80%EC%9E%AC%EA%B2%BD/%EB%8D%B0%EC%9D%B4%ED%84%B0%20%EB%A8%B8%EC%A7%80.ipynb#X16sZmlsZQ%3D%3D?line=27'>28</a>\u001b[0m         )\n\u001b[0;32m     <a href='vscode-notebook-cell:/c%3A/Users/user/Documents/b7_Crawling/%EA%B9%80%EC%9E%AC%EA%B2%BD/%EB%8D%B0%EC%9D%B4%ED%84%B0%20%EB%A8%B8%EC%A7%80.ipynb#X16sZmlsZQ%3D%3D?line=28'>29</a>\u001b[0m         )\n\u001b[0;32m     <a href='vscode-notebook-cell:/c%3A/Users/user/Documents/b7_Crawling/%EA%B9%80%EC%9E%AC%EA%B2%BD/%EB%8D%B0%EC%9D%B4%ED%84%B0%20%EB%A8%B8%EC%A7%80.ipynb#X16sZmlsZQ%3D%3D?line=29'>30</a>\u001b[0m         )\n\u001b[0;32m     <a href='vscode-notebook-cell:/c%3A/Users/user/Documents/b7_Crawling/%EA%B9%80%EC%9E%AC%EA%B2%BD/%EB%8D%B0%EC%9D%B4%ED%84%B0%20%EB%A8%B8%EC%A7%80.ipynb#X16sZmlsZQ%3D%3D?line=30'>31</a>\u001b[0m search_job\u001b[39m.\u001b[39mclick()\n\u001b[0;32m     <a href='vscode-notebook-cell:/c%3A/Users/user/Documents/b7_Crawling/%EA%B9%80%EC%9E%AC%EA%B2%BD/%EB%8D%B0%EC%9D%B4%ED%84%B0%20%EB%A8%B8%EC%A7%80.ipynb#X16sZmlsZQ%3D%3D?line=32'>33</a>\u001b[0m \u001b[39m# 직무 숫자에 맞춰 직무 list 만들기\u001b[39;00m\n",
      "\u001b[1;31mNameError\u001b[0m: name 'EC' is not defined"
     ]
    }
   ],
   "source": [
    "import pandas as pd\n",
    "from selenium import webdriver\n",
    "from selenium.webdriver.common.by import By\n",
    "from selenium.webdriver.chrome.options import Options\n",
    "from selenium.webdriver.support import expected_conditions as EC\n",
    "from selenium.webdriver.support.ui import WebDriverWait\n",
    "import time\n",
    "\n",
    "# 크롬옵션 설정\n",
    "chrome_options = Options()\n",
    "# 꺼짐 방지 (gqu가속 x)\n",
    "chrome_options.add_argument('--disable-gpu') \n",
    "# 창 크기에 따라 XPATH가 달라져 크기 고정\n",
    "chrome_options.add_argument(\"--start-maximized\")\n",
    "# 알림표시 제거\n",
    "chrome_options.add_argument(\"--disable-notifications\")\n",
    "# 옵션 적용\n",
    "driver = webdriver.Chrome(options=chrome_options)\n",
    "\n",
    "url = \"https://www.wanted.co.kr/wdlist/518?country=kr&job_sort=job.recommend_order&years=-1&locations=all\"\n",
    "# chrome url 넣어서 실행\n",
    "driver.get(url)\n",
    "\n",
    "# 직무 선택\n",
    "search_job = WebDriverWait(driver, 10).until(\n",
    "EC.presence_of_element_located(\n",
    "    (\n",
    "        By.XPATH, '//*[@id=\"__next\"]/div[3]/article/div/div[2]/button'\n",
    "        )\n",
    "        )\n",
    "        )\n",
    "search_job.click()\n",
    "\n",
    "# 직무 숫자에 맞춰 직무 list 만들기\n",
    "job_description_list = []\n",
    "for mung in range(2,39):\n",
    "    job_description_list.append(driver.find_element(By.XPATH, f'//*[@id=\"__next\"]/div[3]/article/div/div[2]/section/div[1]/div/button[{mung}]').text)\n",
    "\n",
    "# 직무 list를 직무에 적용\n",
    "for job_description in range(2,39):\n",
    "    final_wan_res.loc[final_wan_res.직무 == job_description, '직무'] = job_description_list[job_description - 2]\n",
    "    time.sleep(0.5)"
   ]
  },
  {
   "cell_type": "code",
   "execution_count": null,
   "metadata": {},
   "outputs": [],
   "source": []
  }
 ],
 "metadata": {
  "kernelspec": {
   "display_name": "base",
   "language": "python",
   "name": "python3"
  },
  "language_info": {
   "codemirror_mode": {
    "name": "ipython",
    "version": 3
   },
   "file_extension": ".py",
   "mimetype": "text/x-python",
   "name": "python",
   "nbconvert_exporter": "python",
   "pygments_lexer": "ipython3",
   "version": "3.11.5"
  }
 },
 "nbformat": 4,
 "nbformat_minor": 2
}
