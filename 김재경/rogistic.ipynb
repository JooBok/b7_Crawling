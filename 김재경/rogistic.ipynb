{
 "cells": [
  {
   "cell_type": "code",
   "execution_count": 1,
   "metadata": {},
   "outputs": [],
   "source": [
    "import pandas as pd\n",
    "import numpy as np\n",
    "import seaborn as sns\n",
    "import matplotlib.pyplot as plt\n",
    "import statsmodels.api as sm\n",
    "from sklearn.preprocessing import StandardScaler, OneHotEncoder"
   ]
  },
  {
   "cell_type": "code",
   "execution_count": 40,
   "metadata": {},
   "outputs": [],
   "source": [
    "data = pd.read_csv('./wanted_result.csv', index_col = 0)"
   ]
  },
  {
   "cell_type": "code",
   "execution_count": 47,
   "metadata": {},
   "outputs": [
    {
     "data": {
      "text/plain": [
       "False"
      ]
     },
     "execution_count": 47,
     "metadata": {},
     "output_type": "execute_result"
    }
   ],
   "source": [
    "'10인이상' in data['이용하는기술스택/우대사항']"
   ]
  },
  {
   "cell_type": "code",
   "execution_count": 4,
   "metadata": {},
   "outputs": [],
   "source": [
    "data.dropna(subset='업종분류', inplace = True)"
   ]
  },
  {
   "cell_type": "code",
   "execution_count": 48,
   "metadata": {},
   "outputs": [
    {
     "data": {
      "text/html": [
       "<div>\n",
       "<style scoped>\n",
       "    .dataframe tbody tr th:only-of-type {\n",
       "        vertical-align: middle;\n",
       "    }\n",
       "\n",
       "    .dataframe tbody tr th {\n",
       "        vertical-align: top;\n",
       "    }\n",
       "\n",
       "    .dataframe thead th {\n",
       "        text-align: right;\n",
       "    }\n",
       "</style>\n",
       "<table border=\"1\" class=\"dataframe\">\n",
       "  <thead>\n",
       "    <tr style=\"text-align: right;\">\n",
       "      <th></th>\n",
       "      <th>기업명</th>\n",
       "      <th>업종분류</th>\n",
       "      <th>사원수</th>\n",
       "      <th>설립연도</th>\n",
       "      <th>기업형태</th>\n",
       "      <th>매출액</th>\n",
       "      <th>주소</th>\n",
       "      <th>직무</th>\n",
       "      <th>자격요건</th>\n",
       "      <th>직급</th>\n",
       "      <th>이용하는기술스택/우대사항</th>\n",
       "      <th>해당 페이지 URL</th>\n",
       "      <th>기업 홈페이지 URL</th>\n",
       "      <th>수요</th>\n",
       "    </tr>\n",
       "  </thead>\n",
       "  <tbody>\n",
       "    <tr>\n",
       "      <th>0</th>\n",
       "      <td>젭</td>\n",
       "      <td>데이터베이스 및 온라인정보 제공업</td>\n",
       "      <td>NaN</td>\n",
       "      <td>2021</td>\n",
       "      <td>NaN</td>\n",
       "      <td>NaN</td>\n",
       "      <td>서울특별시 강남구</td>\n",
       "      <td>소프트웨어 엔지니어</td>\n",
       "      <td>프로그래밍언어,열정,성실</td>\n",
       "      <td>3</td>\n",
       "      <td>멀티,쓰레드,분할,서버,웹,웹소켓,소켓,클라우드,구축,메타버스,AWS</td>\n",
       "      <td>https://www.wanted.co.kr/wd/180861</td>\n",
       "      <td>NaN</td>\n",
       "      <td>1</td>\n",
       "    </tr>\n",
       "    <tr>\n",
       "      <th>1</th>\n",
       "      <td>서커스컴퍼니</td>\n",
       "      <td>응용 소프트웨어 개발 및 공급업</td>\n",
       "      <td>20.0</td>\n",
       "      <td>2012</td>\n",
       "      <td>중소기업</td>\n",
       "      <td>170563.0</td>\n",
       "      <td>서울특별시 강남구</td>\n",
       "      <td>소프트웨어 엔지니어</td>\n",
       "      <td>전공무관,Node,Net,Nginx,Apache,SystemDesign,MySQL,...</td>\n",
       "      <td>0</td>\n",
       "      <td>소프트웨어,객체지향,빌드,배포,자동화,프로젝트,서버,아키텍처,버전관리,AWS,EC,...</td>\n",
       "      <td>https://www.wanted.co.kr/wd/207284</td>\n",
       "      <td>www.circuscompany.com</td>\n",
       "      <td>1</td>\n",
       "    </tr>\n",
       "    <tr>\n",
       "      <th>2</th>\n",
       "      <td>블로코</td>\n",
       "      <td>응용 소프트웨어 개발 및 공급업</td>\n",
       "      <td>29.0</td>\n",
       "      <td>2014</td>\n",
       "      <td>중소기업</td>\n",
       "      <td>118214.0</td>\n",
       "      <td>경기도 성남시 분당구</td>\n",
       "      <td>소프트웨어 엔지니어</td>\n",
       "      <td>개발경력2년,대용량데이터,데이터,Golang</td>\n",
       "      <td>2</td>\n",
       "      <td>블록,블록체인,체인,트랙트,프레임워크,개발경험,암호화,전자서명,클라우드,spring...</td>\n",
       "      <td>https://www.wanted.co.kr/wd/206690</td>\n",
       "      <td>ww.blocko.io</td>\n",
       "      <td>1</td>\n",
       "    </tr>\n",
       "    <tr>\n",
       "      <th>3</th>\n",
       "      <td>피매치</td>\n",
       "      <td>자연과학 및 공학 융합 연구개발업</td>\n",
       "      <td>NaN</td>\n",
       "      <td>2021</td>\n",
       "      <td>NaN</td>\n",
       "      <td>5286.0</td>\n",
       "      <td>서울특별시 성북구</td>\n",
       "      <td>소프트웨어 엔지니어</td>\n",
       "      <td>서비스개발,데이터,딥러닝프레임워크,AI,Python,Tensorflow,Pytorch</td>\n",
       "      <td>2</td>\n",
       "      <td>헬스,헬스케어,자연어,모델,영문,논문,분석,LLM,Linux,Docker</td>\n",
       "      <td>https://www.wanted.co.kr/wd/186806</td>\n",
       "      <td>www.pmatch.co.kr</td>\n",
       "      <td>1</td>\n",
       "    </tr>\n",
       "    <tr>\n",
       "      <th>4</th>\n",
       "      <td>만나플래닛</td>\n",
       "      <td>응용 소프트웨어 개발 및 공급업</td>\n",
       "      <td>134.0</td>\n",
       "      <td>2016</td>\n",
       "      <td>중소기업</td>\n",
       "      <td>1419493.0</td>\n",
       "      <td>서울특별시 구로구</td>\n",
       "      <td>소프트웨어 엔지니어</td>\n",
       "      <td>JAVA</td>\n",
       "      <td>5</td>\n",
       "      <td>협업,프레임워크,트렌드,Rest API,API,Git,redmine</td>\n",
       "      <td>https://www.wanted.co.kr/wd/206244</td>\n",
       "      <td>www.manna-planet.com</td>\n",
       "      <td>1</td>\n",
       "    </tr>\n",
       "    <tr>\n",
       "      <th>...</th>\n",
       "      <td>...</td>\n",
       "      <td>...</td>\n",
       "      <td>...</td>\n",
       "      <td>...</td>\n",
       "      <td>...</td>\n",
       "      <td>...</td>\n",
       "      <td>...</td>\n",
       "      <td>...</td>\n",
       "      <td>...</td>\n",
       "      <td>...</td>\n",
       "      <td>...</td>\n",
       "      <td>...</td>\n",
       "      <td>...</td>\n",
       "      <td>...</td>\n",
       "    </tr>\n",
       "    <tr>\n",
       "      <th>1956</th>\n",
       "      <td>무신사</td>\n",
       "      <td>전자상거래 소매업</td>\n",
       "      <td>1354.0</td>\n",
       "      <td>2012</td>\n",
       "      <td>중견기업</td>\n",
       "      <td>64516211.0</td>\n",
       "      <td>서울특별시 성동구</td>\n",
       "      <td>BI 엔지니어</td>\n",
       "      <td>해당경력5년,업무능력보유,데이터,파이프,파이프라인설계,프로그래밍경험,중급,중급이상,...</td>\n",
       "      <td>5</td>\n",
       "      <td>프로덕트,클라우드,데이터,인프라,구축,시각화,툴,프로세싱,분석,모델링,도출,Apac...</td>\n",
       "      <td>https://www.wanted.co.kr/wd/180361</td>\n",
       "      <td>www.musinsa.com</td>\n",
       "      <td>1</td>\n",
       "    </tr>\n",
       "    <tr>\n",
       "      <th>1957</th>\n",
       "      <td>인센드</td>\n",
       "      <td>응용 소프트웨어 개발 및 공급업</td>\n",
       "      <td>NaN</td>\n",
       "      <td>2023</td>\n",
       "      <td>NaN</td>\n",
       "      <td>NaN</td>\n",
       "      <td>경기도 성남시 분당구</td>\n",
       "      <td>BI 엔지니어</td>\n",
       "      <td>경력8년이상,창의성,협동심,도전,도전정신</td>\n",
       "      <td>8</td>\n",
       "      <td>리더쉽,능력,Full Stack</td>\n",
       "      <td>https://www.wanted.co.kr/wd/195532</td>\n",
       "      <td>NaN</td>\n",
       "      <td>1</td>\n",
       "    </tr>\n",
       "    <tr>\n",
       "      <th>1958</th>\n",
       "      <td>큐픽스</td>\n",
       "      <td>컴퓨터 프로그래밍 서비스업</td>\n",
       "      <td>59.0</td>\n",
       "      <td>2015</td>\n",
       "      <td>중소기업</td>\n",
       "      <td>280419.0</td>\n",
       "      <td>경기도 성남시 분당구</td>\n",
       "      <td>루비온레일즈 개발자</td>\n",
       "      <td>석사,석사학위이상,학위,2년이상경력자,실력보유자,전문,전문연구요원,연구,병역,병역특...</td>\n",
       "      <td>2</td>\n",
       "      <td>클라우드,웹,웹서비스,구축,고민해본,모니터링,탐지,해결,대규모,트래픽,글로벌,자동화...</td>\n",
       "      <td>https://www.wanted.co.kr/wd/207738</td>\n",
       "      <td>www.cupix.com</td>\n",
       "      <td>1</td>\n",
       "    </tr>\n",
       "    <tr>\n",
       "      <th>1959</th>\n",
       "      <td>엔비티</td>\n",
       "      <td>광고매체 판매업</td>\n",
       "      <td>77.0</td>\n",
       "      <td>2012</td>\n",
       "      <td>중소기업</td>\n",
       "      <td>10251976.0</td>\n",
       "      <td>서울특별시 서초구</td>\n",
       "      <td>루비온레일즈 개발자</td>\n",
       "      <td>백엔드개발,운영실무6년,이해도,외부서비스,조직이제공,내부시스템,트래픽,트래픽서비스,...</td>\n",
       "      <td>6</td>\n",
       "      <td>모바일,광고,서버,비즈니스,클라우드,AdTech,Ruby on Rails,Sprin...</td>\n",
       "      <td>https://www.wanted.co.kr/wd/177555</td>\n",
       "      <td>www.nbt.com</td>\n",
       "      <td>1</td>\n",
       "    </tr>\n",
       "    <tr>\n",
       "      <th>1961</th>\n",
       "      <td>아이오바이오</td>\n",
       "      <td>그 외 기타 의료용 기기 제조업</td>\n",
       "      <td>34.0</td>\n",
       "      <td>2011</td>\n",
       "      <td>중소기업</td>\n",
       "      <td>119139.0</td>\n",
       "      <td>서울특별시 강남구</td>\n",
       "      <td>CIO,Chief Information Officer</td>\n",
       "      <td>플랫폼,디바이스,관련경력10년,리딩,석사,석사이상,역량보유자,디지털,디지털헬스케어,...</td>\n",
       "      <td>10</td>\n",
       "      <td>국내외,소프트웨어,의료기기,기기,규제,스타트업,성장,플랫폼,구강,구강카메라,카메라,...</td>\n",
       "      <td>https://www.wanted.co.kr/wd/184039</td>\n",
       "      <td>www.aiobio.co.kr</td>\n",
       "      <td>1</td>\n",
       "    </tr>\n",
       "  </tbody>\n",
       "</table>\n",
       "<p>1932 rows × 14 columns</p>\n",
       "</div>"
      ],
      "text/plain": [
       "         기업명                업종분류     사원수  설립연도  기업형태         매출액           주소  \\\n",
       "0          젭  데이터베이스 및 온라인정보 제공업     NaN  2021   NaN         NaN    서울특별시 강남구   \n",
       "1     서커스컴퍼니   응용 소프트웨어 개발 및 공급업    20.0  2012  중소기업    170563.0    서울특별시 강남구   \n",
       "2        블로코   응용 소프트웨어 개발 및 공급업    29.0  2014  중소기업    118214.0  경기도 성남시 분당구   \n",
       "3        피매치  자연과학 및 공학 융합 연구개발업     NaN  2021   NaN      5286.0    서울특별시 성북구   \n",
       "4      만나플래닛   응용 소프트웨어 개발 및 공급업   134.0  2016  중소기업   1419493.0    서울특별시 구로구   \n",
       "...      ...                 ...     ...   ...   ...         ...          ...   \n",
       "1956     무신사           전자상거래 소매업  1354.0  2012  중견기업  64516211.0    서울특별시 성동구   \n",
       "1957     인센드   응용 소프트웨어 개발 및 공급업     NaN  2023   NaN         NaN  경기도 성남시 분당구   \n",
       "1958     큐픽스      컴퓨터 프로그래밍 서비스업    59.0  2015  중소기업    280419.0  경기도 성남시 분당구   \n",
       "1959     엔비티            광고매체 판매업    77.0  2012  중소기업  10251976.0    서울특별시 서초구   \n",
       "1961  아이오바이오   그 외 기타 의료용 기기 제조업    34.0  2011  중소기업    119139.0    서울특별시 강남구   \n",
       "\n",
       "                                 직무  \\\n",
       "0                        소프트웨어 엔지니어   \n",
       "1                        소프트웨어 엔지니어   \n",
       "2                        소프트웨어 엔지니어   \n",
       "3                        소프트웨어 엔지니어   \n",
       "4                        소프트웨어 엔지니어   \n",
       "...                             ...   \n",
       "1956                        BI 엔지니어   \n",
       "1957                        BI 엔지니어   \n",
       "1958                     루비온레일즈 개발자   \n",
       "1959                     루비온레일즈 개발자   \n",
       "1961  CIO,Chief Information Officer   \n",
       "\n",
       "                                                   자격요건  직급  \\\n",
       "0                                         프로그래밍언어,열정,성실   3   \n",
       "1     전공무관,Node,Net,Nginx,Apache,SystemDesign,MySQL,...   0   \n",
       "2                              개발경력2년,대용량데이터,데이터,Golang   2   \n",
       "3       서비스개발,데이터,딥러닝프레임워크,AI,Python,Tensorflow,Pytorch   2   \n",
       "4                                                  JAVA   5   \n",
       "...                                                 ...  ..   \n",
       "1956  해당경력5년,업무능력보유,데이터,파이프,파이프라인설계,프로그래밍경험,중급,중급이상,...   5   \n",
       "1957                             경력8년이상,창의성,협동심,도전,도전정신   8   \n",
       "1958  석사,석사학위이상,학위,2년이상경력자,실력보유자,전문,전문연구요원,연구,병역,병역특...   2   \n",
       "1959  백엔드개발,운영실무6년,이해도,외부서비스,조직이제공,내부시스템,트래픽,트래픽서비스,...   6   \n",
       "1961  플랫폼,디바이스,관련경력10년,리딩,석사,석사이상,역량보유자,디지털,디지털헬스케어,...  10   \n",
       "\n",
       "                                          이용하는기술스택/우대사항  \\\n",
       "0                멀티,쓰레드,분할,서버,웹,웹소켓,소켓,클라우드,구축,메타버스,AWS   \n",
       "1     소프트웨어,객체지향,빌드,배포,자동화,프로젝트,서버,아키텍처,버전관리,AWS,EC,...   \n",
       "2     블록,블록체인,체인,트랙트,프레임워크,개발경험,암호화,전자서명,클라우드,spring...   \n",
       "3              헬스,헬스케어,자연어,모델,영문,논문,분석,LLM,Linux,Docker   \n",
       "4                 협업,프레임워크,트렌드,Rest API,API,Git,redmine   \n",
       "...                                                 ...   \n",
       "1956  프로덕트,클라우드,데이터,인프라,구축,시각화,툴,프로세싱,분석,모델링,도출,Apac...   \n",
       "1957                                  리더쉽,능력,Full Stack   \n",
       "1958  클라우드,웹,웹서비스,구축,고민해본,모니터링,탐지,해결,대규모,트래픽,글로벌,자동화...   \n",
       "1959  모바일,광고,서버,비즈니스,클라우드,AdTech,Ruby on Rails,Sprin...   \n",
       "1961  국내외,소프트웨어,의료기기,기기,규제,스타트업,성장,플랫폼,구강,구강카메라,카메라,...   \n",
       "\n",
       "                              해당 페이지 URL            기업 홈페이지 URL  수요  \n",
       "0     https://www.wanted.co.kr/wd/180861                    NaN   1  \n",
       "1     https://www.wanted.co.kr/wd/207284  www.circuscompany.com   1  \n",
       "2     https://www.wanted.co.kr/wd/206690           ww.blocko.io   1  \n",
       "3     https://www.wanted.co.kr/wd/186806       www.pmatch.co.kr   1  \n",
       "4     https://www.wanted.co.kr/wd/206244   www.manna-planet.com   1  \n",
       "...                                  ...                    ...  ..  \n",
       "1956  https://www.wanted.co.kr/wd/180361        www.musinsa.com   1  \n",
       "1957  https://www.wanted.co.kr/wd/195532                    NaN   1  \n",
       "1958  https://www.wanted.co.kr/wd/207738          www.cupix.com   1  \n",
       "1959  https://www.wanted.co.kr/wd/177555            www.nbt.com   1  \n",
       "1961  https://www.wanted.co.kr/wd/184039       www.aiobio.co.kr   1  \n",
       "\n",
       "[1932 rows x 14 columns]"
      ]
     },
     "execution_count": 48,
     "metadata": {},
     "output_type": "execute_result"
    }
   ],
   "source": [
    "data"
   ]
  },
  {
   "cell_type": "code",
   "execution_count": 49,
   "metadata": {},
   "outputs": [
    {
     "data": {
      "text/plain": [
       "4.0"
      ]
     },
     "execution_count": 49,
     "metadata": {},
     "output_type": "execute_result"
    }
   ],
   "source": [
    "data.업종분류.value_counts().median()"
   ]
  },
  {
   "cell_type": "code",
   "execution_count": 50,
   "metadata": {},
   "outputs": [
    {
     "data": {
      "text/plain": [
       "업종분류\n",
       "응용 소프트웨어 개발 및 공급업                True\n",
       "시스템 소프트웨어 개발 및 공급업               True\n",
       "데이터베이스 및 온라인정보 제공업               True\n",
       "전자상거래 소매업                        True\n",
       "포털 및 기타 인터넷 정보매개 서비스업            True\n",
       "                                ...  \n",
       "그 외 기타 건축자재 도매업                 False\n",
       "영화, 비디오물 및 방송프로그램 제작 관련 서비스업    False\n",
       "상품 종합 도매업                       False\n",
       "기타 전문 서비스업                      False\n",
       "검퓨터시스템 통합 자문 및 구축 서비스업          False\n",
       "Name: count, Length: 125, dtype: bool"
      ]
     },
     "execution_count": 50,
     "metadata": {},
     "output_type": "execute_result"
    }
   ],
   "source": [
    "data.업종분류.value_counts() > 4"
   ]
  },
  {
   "cell_type": "code",
   "execution_count": 51,
   "metadata": {},
   "outputs": [],
   "source": [
    "data['수요'] = data['업종분류'].apply(lambda x: 1 if data['업종분류'].value_counts()[x] > 4 else 0)"
   ]
  },
  {
   "cell_type": "code",
   "execution_count": 52,
   "metadata": {},
   "outputs": [
    {
     "data": {
      "text/plain": [
       "수요\n",
       "1    1764\n",
       "0     168\n",
       "Name: count, dtype: int64"
      ]
     },
     "execution_count": 52,
     "metadata": {},
     "output_type": "execute_result"
    }
   ],
   "source": [
    "data.수요.value_counts()"
   ]
  },
  {
   "cell_type": "code",
   "execution_count": 53,
   "metadata": {},
   "outputs": [
    {
     "data": {
      "text/plain": [
       "기업명                0\n",
       "업종분류               0\n",
       "사원수              961\n",
       "설립연도               0\n",
       "기업형태             837\n",
       "매출액              162\n",
       "주소                 0\n",
       "직무                 0\n",
       "자격요건              18\n",
       "직급                 0\n",
       "이용하는기술스택/우대사항      7\n",
       "해당 페이지 URL         0\n",
       "기업 홈페이지 URL       22\n",
       "수요                 0\n",
       "dtype: int64"
      ]
     },
     "execution_count": 53,
     "metadata": {},
     "output_type": "execute_result"
    }
   ],
   "source": [
    "data.isna().sum()"
   ]
  },
  {
   "cell_type": "code",
   "execution_count": 54,
   "metadata": {},
   "outputs": [
    {
     "name": "stderr",
     "output_type": "stream",
     "text": [
      "c:\\ProgramData\\anaconda3\\Lib\\site-packages\\IPython\\core\\events.py:93: UserWarning: Glyph 49688 (\\N{HANGUL SYLLABLE SU}) missing from current font.\n",
      "  func(*args, **kwargs)\n",
      "c:\\ProgramData\\anaconda3\\Lib\\site-packages\\IPython\\core\\events.py:93: UserWarning: Glyph 50836 (\\N{HANGUL SYLLABLE YO}) missing from current font.\n",
      "  func(*args, **kwargs)\n",
      "c:\\ProgramData\\anaconda3\\Lib\\site-packages\\IPython\\core\\pylabtools.py:152: UserWarning: Glyph 49688 (\\N{HANGUL SYLLABLE SU}) missing from current font.\n",
      "  fig.canvas.print_figure(bytes_io, **kw)\n",
      "c:\\ProgramData\\anaconda3\\Lib\\site-packages\\IPython\\core\\pylabtools.py:152: UserWarning: Glyph 50836 (\\N{HANGUL SYLLABLE YO}) missing from current font.\n",
      "  fig.canvas.print_figure(bytes_io, **kw)\n"
     ]
    },
    {
     "data": {
      "image/png": "[encoded data removed]",
      "text/plain": [
       "<Figure size 640x480 with 1 Axes>"
      ]
     },
     "metadata": {},
     "output_type": "display_data"
    }
   ],
   "source": [
    "sns.countplot(x = data['수요']);"
   ]
  },
  {
   "cell_type": "code",
   "execution_count": 167,
   "metadata": {},
   "outputs": [],
   "source": [
    "data.reset_index(drop = True ,inplace= True )\n",
    "data.drop_duplicates(inplace = True)"
   ]
  },
  {
   "cell_type": "raw",
   "metadata": {},
   "source": [
    "문제점\n",
    "\n",
    "1. 자격요건과 우대사항의 value값이 너무 많아 Onehot인코딩을 하였을 경우 희소행렬이 된다"
   ]
  },
  {
   "cell_type": "code",
   "execution_count": 168,
   "metadata": {},
   "outputs": [
    {
     "name": "stdout",
     "output_type": "stream",
     "text": [
      "Accuracy: 0.9216216216216216\n",
      "Classification Report:\n",
      "              precision    recall  f1-score   support\n",
      "\n",
      "           0       1.00      0.06      0.12        31\n",
      "           1       0.92      1.00      0.96       339\n",
      "\n",
      "    accuracy                           0.92       370\n",
      "   macro avg       0.96      0.53      0.54       370\n",
      "weighted avg       0.93      0.92      0.89       370\n",
      "\n"
     ]
    }
   ],
   "source": [
    "from sklearn.impute import SimpleImputer\n",
    "from sklearn.pipeline import Pipeline\n",
    "from sklearn.compose import ColumnTransformer\n",
    "from sklearn.preprocessing import StandardScaler, OneHotEncoder\n",
    "from sklearn.model_selection import train_test_split\n",
    "from sklearn.linear_model import LogisticRegression\n",
    "from sklearn.metrics import accuracy_score, classification_report\n",
    "import statsmodels.api as sm\n",
    "    \n",
    "# 기업명\t업종분류\t사원수\t설립연도\t기업형태\t매출액\t주소\t직무\t자격요건\t직급\t이용하는기술스택/우대사항\t해당 페이지 URL\t기업 홈페이지 URL\t수요\n",
    "\n",
    "# 데이터 준비\n",
    "X = data.drop(columns=['기업명', '업종분류', '사원수', '설립연도', '매출액', '자격요건', '해당 페이지 URL', '기업 홈페이지 URL', '수요'])\n",
    "y = data['수요']\n",
    "\n",
    "# 훈련 데이터와 테스트 데이터로 분리\n",
    "X_train, X_test, y_train, y_test = train_test_split(X, y, test_size=0.2, random_state=42)\n",
    "\n",
    "# 수치형 변수와 범주형 변수 선택\n",
    "numeric_features = X[['직급']].columns\n",
    "categorical_features = X[['기업형태', '주소', '직무', '직급', '이용하는기술스택/우대사항']].columns\n",
    "\n",
    "# Pipeline 설정\n",
    "numeric_transformer = Pipeline(steps=[\n",
    "    ('imputer', SimpleImputer(strategy='median')),\n",
    "    ('scaler', StandardScaler())])\n",
    "\n",
    "preprocessor = ColumnTransformer(\n",
    "    transformers=[\n",
    "        ('num', numeric_transformer, numeric_features),\n",
    "        ('cat', OneHotEncoder(handle_unknown='ignore'), categorical_features)])\n",
    "\n",
    "# 전처리된 설명변수들을 구하기\n",
    "X_train_processed = preprocessor.fit_transform(X_train)\n",
    "X_test_processed = preprocessor.transform(X_test)\n",
    "\n",
    "# 로지스틱 회귀 모델 학습\n",
    "logreg_model = LogisticRegression()\n",
    "logreg_model.fit(X_train_processed, y_train)\n",
    "\n",
    "# 테스트 데이터로 예측\n",
    "y_pred = logreg_model.predict(X_test_processed)\n",
    "\n",
    "print(\"Accuracy:\", accuracy_score(y_test, y_pred))\n",
    "print(\"Classification Report:\")\n",
    "print(classification_report(y_test, y_pred))\n",
    "\n"
   ]
  },
  {
   "cell_type": "code",
   "execution_count": 169,
   "metadata": {},
   "outputs": [
    {
     "name": "stdout",
     "output_type": "stream",
     "text": [
      "Column names: ['const', '기업형태_대기업', '기업형태_소기업', '기업형태_중견기업', '기업형태_중소기업', '기업형태_nan', '주소_강원도 인제군', '주소_강원도 춘천시', '주소_경기도 고양시 일산동구', '주소_경기도 고양시 일산서구', '주소_경기도 과천시', '주소_경기도 광명시', '주소_경기도 군포시', '주소_경기도 군포시 당동', '주소_경기도 남양주시', '주소_경기도 성남시 분당구', '주소_경기도 성남시 수정구', '주소_경기도 성남시 중원구', '주소_경기도 수원시 영통구', '주소_경기도 안양시 동안구', '주소_경기도 용인시 수지구', '주소_경기도 화성시', '주소_경상남도 김해시', '주소_경상남도 창원시', '주소_경상북도 경산시', '주소_경상북도 포항시 남구', '주소_고양시 덕양구', '주소_광주광역시 동구', '주소_대구광역시 남구', '주소_대구광역시 달성군', '주소_대구광역시 동구', '주소_대구광역시 수성구', '주소_대구광역시 중구', '주소_대전광역시 서구', '주소_대전광역시 유성구', '주소_대전광역시 중구', '주소_부산 광역시 해운대구', '주소_부산광역시 동구', '주소_부산광역시 연제구', '주소_부산광역시 해운대구', '주소_서울득별시 서울특별시 영등포구', '주소_서울특별시 강남구', '주소_서울특별시 강동구', '주소_서울특별시 강서구', '주소_서울특별시 관악구', '주소_서울특별시 광진구', '주소_서울특별시 구로구', '주소_서울특별시 금천구', '주소_서울특별시 동대문구', '주소_서울특별시 동작구', '주소_서울특별시 마포구', '주소_서울특별시 서대문구', '주소_서울특별시 서초구', '주소_서울특별시 성동구', '주소_서울특별시 성북구', '주소_서울특별시 송파구', '주소_서울특별시 영등포구', '주소_서울특별시 용산구', '주소_서울특별시 종로구', '주소_서울특별시 중구', '주소_서을특별시 서울특별시 마포구', '주소_세종시 나성동', '주소_울산광역시 남구', '주소_인천광역시 서구', '주소_인천광역시 연수구', '주소_전라남도 목포시', '주소_전라북도 완주군', '주소_전라북도 전주시 완산구', '주소_제주특별자치도 서귀포시', '주소_제주특별자치도 제주시', '주소_충청남도 아산시', '주소_충청남도 예산군', '주소_충청남도 천안시 서북구', '직무_.NET 개발자', '직무_BI 엔지니어', '직무_C,C++ 개발자', '직무_CIO,Chief Information Officer', '직무_CTO,Chief Technology Officer', '직무_DBA', '직무_DevOps / 시스템 관리자', '직무_ERP전문가', '직무_Node.js 개발자', '직무_PHP 개발자', '직무_QA,테스트 엔지니어', '직무_VR 엔지니어', '직무_iOS 개발자', '직무_개발 매니저', '직무_그래픽스 엔지니어', '직무_기술지원', '직무_데이터 사이언티스트', '직무_데이터 엔지니어', '직무_루비온레일즈 개발자', '직무_머신러닝 엔지니어', '직무_보안 엔지니어', '직무_블록체인 플랫폼 엔지니어', '직무_서버 개발자', '직무_소프트웨어 엔지니어', '직무_시스템,네트워크 관리자', '직무_안드로이드 개발자', '직무_영상,음성 엔지니어', '직무_웹 개발자', '직무_웹 퍼블리셔', '직무_임베디드 개발자', '직무_자바 개발자', '직무_크로스플랫폼 앱 개발자', '직무_파이썬 개발자', '직무_프로덕트 매니저', '직무_프론트엔드 개발자', '직무_하드웨어 엔지니어', '직급_0', '직급_1', '직급_2', '직급_3', '직급_4', '직급_5', '직급_6', '직급_7', '직급_8', '직급_9', '직급_10', '이용하는기술스택/우대사항_AP Router,Network switch,Network SoC', '이용하는기술스택/우대사항_AR Foundation,Android,iOS Native,OpenCV,Graphics Engine Rendering pipeline,Shader', '이용하는기술스택/우대사항_AWS', '이용하는기술스택/우대사항_AWS,MQTT,PHP', '이용하는기술스택/우대사항_Agile,Cross function team', '이용하는기술스택/우대사항_Ajax,React,Next js,Jquery,Typescript', '이용하는기술스택/우대사항_BA,BS in Math,Statistics,Economics,Computer Science,or other quantitative fields,Advanced degrees are preferred but not required,Professional,level English,years experience doing quantitative analysis,Prior successful experience in a startup is highly desirable', '이용하는기술스택/우대사항_CTO', '이용하는기술스택/우대사항_Codesonar,Helix QAC,Artifactory,PTC Integrity,V,Model,Knowledge of Automotive SPICE,Yocto,GitLab,Android', '이용하는기술스택/우대사항_DCMI,SDRAM,EEPROM', '이용하는기술스택/우대사항_ERP,WMS,RDBMS,MSSQL,MYSQL,RESTful API,GIT,SVN', '이용하는기술스택/우대사항_Experience in implementing software,services based on AI,ML models,Understanding of Genomics and NGS,Next Generation Sequencing,is a plus', '이용하는기술스택/우대사항_Experiences with Pub,Sub,and,or Kafka,Experience with database schema design,Experiences with FastAPI,Experiences with Container,K,s,and,or cloud platform,Knowledge of MLOps pipeline and image processing,computer vision algorithms,Fluency in verbal and written English', '이용하는기술스택/우대사항_Fluent English communication,both speaking and written,Strong theoretical background and expertise in Medical Physics,preferably MRI,st author of papers in top,tier Computer Vision ML,DL or Medical Imaging conferences or journals,e,g,CVPR,ICCV,ECCV,NeurIPS,TMI,MICCAI,or ISMRM,Winning prizes in competitive Computer Vision,Medical Imaging challenges,e,g,kaggle', '이용하는기술스택/우대사항_Front Framework,vue,js,react,js,angular,js,C', '이용하는기술스택/우대사항_ISMS', '이용하는기술스택/우대사항_Kotlin,Spring Boot,GraphQL,NoSQL,Redis,MongoDB,Open Source', '이용하는기술스택/우대사항_MVVM,SwiftUI,Core Bluetooth,Core Location', '이용하는기술스택/우대사항_Python,TF,Random Forest,ML,React', '이용하는기술스택/우대사항_Python,Tensorflow,NLP,ML Library', '이용하는기술스택/우대사항_Rust,Cucumber,AWS,CloudFormation,Terraform', '이용하는기술스택/우대사항_Superset,Jupyter,AWS', '이용하는기술스택/우대사항_UX,UI', '이용하는기술스택/우대사항_database,AWS,EC,Cognito,S,app,database,Language,C,C,Makefile or CMake,shell script,AWS,EC,Cognito,S,app,Flask,Python', '이용하는기술스택/우대사항_가독성,유지보수성,모델링,문서화,능력,대용량,데이터,분석,빅데이터,인프라,문제,해결,머스,업계,스타트업,AWS,Data,driven Thinking,IT', '이용하는기술스택/우대사항_가상,가상자산,자산,거래소,데이터,대용량,트래픽,api', '이용하는기술스택/우대사항_가상,플랫폼,구축,커뮤니케이션,능력,AWS,Atlassian JIRA,Confluence', '이용하는기술스택/우대사항_개념,검증,자동화,자격증,스타트업,API', '이용하는기술스택/우대사항_개념,숙지,앱,스토어,배포,풀스택,환영,UI,UX,AI', '이용하는기술스택/우대사항_개발경험,영상,통화,플리케이션,실시간,데이터,처리,제어,긍정적,마인드,커뮤니케이션,능력,골프,토론,안주,RTSP,NVR S,W,FFmpeg,WebRTC,WebSocket,TCP,IP,Embaded Device', '이용하는기술스택/우대사항_개발자,문제,해결,비대칭,부동산,주도적,부동산시장,에너지', '이용하는기술스택/우대사항_개발자,전기차,충전기,하드웨어,지식,양산,Android', '이용하는기술스택/우대사항_개발자,학습', '이용하는기술스택/우대사항_개발조직,비개발조직,의사소통,능력,WEP,APP,AWS', '이용하는기술스택/우대사항_개발툴,로그,추출,검증,효율적,프로세스,구축,소프트웨어,보안,툴,부하,성능,애자일,자일,블루투스,기기,모바일,앱,원리,네트워크,웹,QA,Native App,Web,Mobile Web,QA', '이용하는기술스택/우대사항_개발환경,동시성,제어,성능,튜닝,자동화,배포,유경험자,웹,웹사이트,보안,인하우스,하우스,고성능,대용량,계정,포트폴리오,로그,Flutter,React,Docker,JavaScript,Dart,AWS,Giithub', '이용하는기술스택/우대사항_거부감,대용량,트래픽,웹,앱,배포,도전,커뮤니케이션,협업,협업스킬,Java,Scala,Kotlin,Python', '이용하는기술스택/우대사항_거부감,도메인,프론트,프론트엔드,엔드,애플리케이션,백엔드,모바일앱,성능,측정,기술스택,툴,프레임워크,클라이언트,사이드,에러,트래킹,로그,모니터링,DDD,DevOps,MMP,Mobile Measurement Partner,Flutter,Provider,Google Firebase,Datadog', '이용하는기술스택/우대사항_검색엔진최적화,엔진,최적화,서버,사이드,렌더링,모바일,앱,웹,웹앱,기획,모니터링,셰어라운드,온라인,프로젝트,포트폴리오,문제,정의,해결,SEO,SSR,or', '이용하는기술스택/우대사항_게임,개발사,소켓,서버,프라우드넷,아이,아이펀엔진,엔진,백엔드,엔드,플랫폼,top,MMO', '이용하는기술스택/우대사항_게임,라이브,클라이언트,인프라', '이용하는기술스택/우대사항_게임,파이프라인,라인,소셜카지노,카지노,모바일,영어,커뮤니케이션,능력,QA,QA,Advanced', '이용하는기술스택/우대사항_게임,파이프라인,라인,소셜카지노,카지노,장기간,모바일,영어,커뮤니케이션,능력,유관,자격증,Jira,Confluence,Unity,QA,QA,Advanced,QA', '이용하는기술스택/우대사항_게임,플랫폼,접속량,분산,처리,아키텍처,대량,서버,구축,27001,보안,심사,Python,Shell script,ISMS,ISO,Fluency in English', '이용하는기술스택/우대사항_겸,겸험이,험이,검증,행동,행동로그,로그,Charles proxy tool,Postman API Test,DB,GTM logging', '이용하는기술스택/우대사항_경력자,군전역,전역,간부', '이용하는기술스택/우대사항_경력자,자동차,부품,문서,문서작성,전자공학,반도체,반도체공학,기계공,기계공학과,메카트로닉스,메카트로닉스공학,전공자,인증업무,유경험자,PM,UL,IEC', '이용하는기술스택/우대사항_계열,전공자,활용능력,능력,국제표준화기구,표준화,기구,유관,프로그래밍,지식,프로젝트,협업,커뮤니케이션,디자인,IT,OA,Excel,PowerPoint,ISO,Python,JavaScript,Java,SQL,Unity,Unreal Engine,QA,JIRA,Confluence,Slack,CI,CD,Pipeline,API,QA', '이용하는기술스택/우대사항_고가용성,확장성,아키텍처,대규모,트래픽,처리,알고리즘,성능,최적화,분산,Front,end Framework,React,vuejs', '이용하는기술스택/우대사항_고급,고급사용,블록,블록체인,체인,지갑,AWS,OAuth', '이용하는기술스택/우대사항_고도,고도몰,영카트,카트,머스,솔루션,플랫폼,대용량,트래픽,처리,e,commerce,e,PHP', '이용하는기술스택/우대사항_고도,고도몰,카페,쇼핑몰,플랫폼,튜닝,정보처리기사,처리,기사,플리케이션,배포,백엔드,엔드,모듈,패턴,100만건,깃헙,코드버전,네트워크,지식,인트라넷,개념,포트,포트포워딩,워딩,Android,Java,App,iOS,Swift,App,Node,js,Pattern,DB,SVN', '이용하는기술스택/우대사항_고도,고도몰,카페24,24,쇼핑몰,플랫폼,튜닝,정보처리기사,처리,기사,플리케이션,배포,백엔드,엔드,모듈,패턴,100만건,깃헙,코드버전,네트워크,지식,인트라넷,개념,포트,포트포워딩,워딩,Android,Java,App,iOS,Swift,App,Node,js,Pattern,DB,SVN', '이용하는기술스택/우대사항_고도화,자동화,프로세스,웹,앱,프로젝트,런칭,핀테크,테크,업계,언스,유경험자,자격증,협업,소통,보훈,QA,QA,JIRA,ITS,ISTQB,CSTS', '이용하는기술스택/우대사항_고성능,대용량,노하우,애플리케이션,역량,Kotlin', '이용하는기술스택/우대사항_골프,배포,스타트업,적극성', '이용하는기술스택/우대사항_공급망,물류산업,플랫폼,SaaS', '이용하는기술스택/우대사항_공학계열,계열,시스템공학전공,알고리즘,모델링,공개적,프로젝트,논문,능력,검증,HR,AI', '이용하는기술스택/우대사항_공학계열,계열,전공자,컴퓨터공학,수학,통계학,프로젝트,분석,리딩,호텔,리조트,트렌드,지식,개선점,목표,채용절차,포트폴리오,합격자,IT,Ownership,MB', '이용하는기술스택/우대사항_공학과,박사,학위,자격증,차량,블랙박스,경력자,AWS Certification,DashCam,Computer vision,Embedded Linux,OpenCV,ADAS,DMS,DSP,FW', '이용하는기술스택/우대사항_과장급,프로젝트,보안,악성,악성코드,분석,머신러닝,모델,자격증,대리,대리급,PM,PL,IT,IT,Linux,Network,IT', '이용하는기술스택/우대사항_관련전공자,전공자,대규모,자동화,심사,보안,지식,문제,문제해결,해결,능력,SRE,DevOps,ECS,EKS,Language Skill,Terraform,Python,Bash,ISMS', '이용하는기술스택/우대사항_관리회계,회계,프로세스,구축,모듈,자격증,SAP,CO,SAP,SAP S,HANA', '이용하는기술스택/우대사항_광고,광고플랫폼,플랫폼,대용량,데이터,데이타', '이용하는기술스택/우대사항_광고,도메인,성능,최적화,모니터링,구축,대규모,웹,웹뷰,애자일,자일,프로세스,업무해본,프로덕트,Monorepo,B,C,A,B,SSR,Next,js,Nuxt', '이용하는기술스택/우대사항_구글,페이스북,카카오,아키텍쳐,프로젝트,제품군,키텍,코드리뷰,품질향상,향상,적극적,웹,웹서비스,프로세스,셋팅,리딩,비즈니스,커뮤니케이션,OpenApi,Serverless,TypeScript,AWS,Lambda,API Gateway,SQS,SNS,CloudWatch,S,RDS,DynamoDB,Production', '이용하는기술스택/우대사항_구축,대규모,확장,배포,E,commerce,Front,End,Back,End,Design System,UI Framework,Library,AWS,S,CloudFront,codecommit', '이용하는기술스택/우대사항_구축,대용량,트래픽,처리,AWS,Kafka MQ,MicroService Architecture', '이용하는기술스택/우대사항_구축,마인드,학습,능력,프레임워크,인프라,형상,형상관리,배포,태스크,Java,Spring Web MVC,Spring Boot,JPA,AWS,DBMS,Mysql,Github,Jenkins,JIRA,Confluence,IDE,IntelliJ IDEA', '이용하는기술스택/우대사항_구축,머신러닝,딥러닝,신용평가모델,모델,분산,메시지,비동기,동기,정의,BM,AI,CRM,ERP,B,B,Python,Web Framework,Django,Flask,FastAPI,PostgresSQL,Replication,Failover,Database', '이용하는기술스택/우대사항_구축,머신러닝,모델,웹,AWS,Azure,Public Cloud,AI,JavaScript,React,UI,App,DevOps,MLOps,SAFE AI', '이용하는기술스택/우대사항_구축,메시지,브로커,On,premise,OpenStack,IaaS,Private,Public Cloud,Multi Cloud,AD,LDAP,Directory Service,Vault,Multi Cloud,Kafka', '이용하는기술스택/우대사항_구축,모델,학습,배포,언어권,거리낌,영어,의사소통,퀄리티,서로,피드백,개발자,지식,인사이트,주인의식,책임,MSA,AI,Docker,Kubernetes,container ecosystem,Triton,TensorRT,GPU Computing,Cuda,Dev Talk', '이용하는기술스택/우대사항_구축,빌드,배포,자동화,대용량,트래픽,아키텍처,애플리케이션,마이크로,마이크로서비스,다중,서버,데이터,동기화,글로벌,캐시,프레임워크,웹,프론트,알고리즘,자료구조,데이터베이스,네트워크,백로그,로그,역량,트렌드,코딩,코딩테스트,임원면접,업무관련,노트북,B,C,DDD,Domain Driven Design,Spring Boot,MVC,WebFlux,Spring Cloud,CI,CD,Linux,Unix,Docker,Kubernetes,Monolithic Architecture,MSA,MSA,Kafka,Redis,Firebase,JavaScript,Admin,CS', '이용하는기술스택/우대사항_구축,코파일럿,파일럿,대용량,데이터,사이언스,학위,경진대회,수상,수상경력,MLflow,MLOps,Feature Store,Java,GenAI,Data Lake,BigQuery,Spark,ML,AI', '이용하는기술스택/우대사항_구축,플랫폼,문제점,AWS,CloudWatch,Datadog,Observability,Cloud Formation Terraform,IaC', '이용하는기술스택/우대사항_국내외,소프트웨어,의료기기,기기,규제,스타트업,성장,플랫폼,구강,구강카메라,카메라,구강스캐너,스캐너,치과,연계,치과의사,치과위생사,위생사,의료분야,자격증,IoT,Radiology Information System,PACS,X,ray,CBCT', '이용하는기술스택/우대사항_굿스플,스플,사방,사방넷,AOS,iOS,RN,API', '이용하는기술스택/우대사항_글로벌,과의,협업,영어,커뮤니케이션,능력,프레임워크,딥러닝,모델,프로덕트,완성도,집요함,체계적,학습,파이프라인,라인,기획,라이브,코딩,계발,애착,줄,아시,효율성,프로세스,성장,매사,주도적,책임감,Research Team,PyTorch,TensorFlow,LOVO', '이용하는기술스택/우대사항_금융,금융클라우드,클라우드,인프라,알람,구축,사이클,튜닝,네트워크,전문적,지식,AWS,Kubernetes,CI,CD,Logging,Backup,Monitoring,Linux Kernel', '이용하는기술스택/우대사항_금융,금융투자,투자,도메인,주식,클라우드,형상,형상관리,협업,AWS,Git,Jira', '이용하는기술스택/우대사항_금융,데이터,국내외,주식,거시경제,환율,원자재,글로벌,벤더,벤더사,핸들링,연구조직,협업,영어,회화,LSEG,S,P,Cloud,DB,Data catalog', '이용하는기술스택/우대사항_금융,블록,블록체인,체인,데이터,빅데이터,웨어하우스,하우스,프레임워크,프로덕션,파이프라인,라인,실시간,컨테이너,스트레이션,레이션,자동화,인프라,운용,록,록체인,BigQuery,Snowflake,Spark,Trino,DBT,OLTP,OLAP Database,Airflow,ETL,Kafka,Flink,Kubernetes,CI,CD,AWS,GCP,Cloud,IaC', '이용하는기술스택/우대사항_금융,블록,블록체인,체인,암호화,암호화폐,거래소,코인,토큰,유관,가상,가상자산,자산,지식,거래,탐구,학습,동료,외부,파트너,커뮤니케이션,성장,욕구,생산성,향상,협업,협업툴,툴,Java,Javascript,Python,Jira,Confluence,Slack', '이용하는기술스택/우대사항_금융,성능,멀티,멀티프로세스,프로세스,티스,티스레드,프로그래밍,대용량,처리,영어,성장,프로덕트,아이,API,API', '이용하는기술스택/우대사항_긍,긍적적,적적,마인드,커뮤니케이션,능력,문제,원인,파악,해결,신기술,도전,정신,나신,스포츠,골프,종아,안주,비디오,스트리밍,Front,End Senior Engineer,HTML,CSS,HLS', '이용하는기술스택/우대사항_긍,긍적적,적적,마인드,커뮤니케이션,능력,문제,원인,파악,해결,신기술,도전,정신,나신,스포츠,골프,종아,안주,서버,클라우드,서버리스,Back,End Senior Engineer,WebSocket,AWS,DB,DynamoDB', '이용하는기술스택/우대사항_긍정적,마인드,마인드셋,성격,상호,배려,마음,역량,그림,헌신,자세,성장,토론,전문적,호기심,지식,갈망,학습,메타인지,인지,성찰,바꾸기,Team Work,commitment,growth mindset,dialogue,discusion,excellency,re,think', '이용하는기술스택/우대사항_긍정적,성격,의사소통,문제,해결,능력,프론트,엔드,런칭,인터페이스,웹,구축,서버,PC,Mobile,Web,script,AWS,RESTFul API,Linux', '이용하는기술스택/우대사항_긍정적,커뮤니케이션,협업,클라우드,구축,팀원,프로젝트,코드리뷰,성장,엔지니어링,앱,키오스,플랫펌,앱서비스,AWS,GCP,socket,io,redis,MySQL,MariaDB,MongoDB,O,O', '이용하는기술스택/우대사항_기계,기계공학,자동차,로봇,항공,석사,학위,영어,논문,C,Python,C,Git,Jira,UnitTest,Ubuntu,Jenkins,Visual Studio,VS Code,Unreal Engine', '이용하는기술스택/우대사항_기술기반,솔루션,규격,공인,공인인증,AI', '이용하는기술스택/우대사항_기술스택,스타트업,인프라,구축,성장,심리적,허들,아이디어,배포,웹,웹소설,소설,콘텐츠,프로젝트,프론트,프론트엔드,엔드,백엔드,개발자,개발자이지만,이지만,리딩,프롬,프롬프트,엔지니어링,React,Next,js,Mysql,Mongodb,AWS,React,Node,js,OpenAI,API,ChatGPT', '이용하는기술스택/우대사항_기술지원,솔루션,형상,형상관리,브랜치,Perforce,Perforce,Perforce,Perforce,CI,CD', '이용하는기술스택/우대사항_기획,노션,외국어,학습,figma', '이용하는기술스택/우대사항_기획,디버깅,프로파일링,파일링,퍼포먼스,튜닝,성능,최적화,피드백,개선점,CRM,ERP,B,B,CI,CD', '이용하는기술스택/우대사항_기획,디자인,백엔드,엔드,커뮤니케이션,애자일,자일,확산,리딩,리딩해본,라이브러리,프런트,프런트엔드,프레임워크,키텍,코드리뷰,품질향상,향상,적극적,상태관리,비동기,플리케이션,배포,반응형,웹,웹표준,Typescript,RESTful API,SPA,UI,React,Vue,js,Redux,Rxjs,npm Package,UI', '이용하는기술스택/우대사항_기획,디자인,의사소통,대응,처리,능력,프레임워크,개별적,협력,Typescript', '이용하는기술스택/우대사항_기획,라이프,사이클,디지털,고도화,프로젝트,방법론,임상,임상시험,도메인,지식,협업,협업도구,프로토타이핑,타이핑,PM,Agile,Slack,Notion,Jira,Confluence,Figma', '이용하는기술스택/우대사항_기획,라이프,사이클,리딩,디지털,고도화,프로젝트,방법론,임상,임상시험,도메인,지식,협업,협업도구,프로토타이핑,타이핑,PO,PM,Agile,Slack,Notion,Jira,Confluence,Figma', '이용하는기술스택/우대사항_기획,문서,도출,프로젝트,리더,하이브리드,앱,Android,iOS,PM,Javascript', '이용하는기술스택/우대사항_기획,반응형,웹,웹사이트,영어,소통,에이,에이전시,전시', '이용하는기술스택/우대사항_기획,적극적,성능,최적화,오픈소스,스타트업,컨테이너,인프라,구축,AWS,kubernetes', '이용하는기술스택/우대사항_기획,프로젝트,컴퓨터공학,전공자,소프트웨어,딥러닝,머신러닝,지식,AI', '이용하는기술스택/우대사항_기획,프론트,프론트엔드,엔드,구성원,문제,파악,해결,적극적,플리케이션,배포,구축,아키텍처,대용량,트래픽,도메인,모델링,동료,지식,피드백,커뮤니케이션,Docker,CI,CD,Microservices,ORM,JIRA,Confluence,Slack', '이용하는기술스택/우대사항_기획자,디자이너,동료,개발자,커뮤니케이션,협업,소스코드,형상,형상관리,웹,웹에이전시,에이,전시,Git,AWS', '이용하는기술스택/우대사항_네트워크,라우팅,프로토콜,구축,솔루션,L,L,Static,OSPF,BGP,Public,Private Cloud,ELK', '이용하는기술스택/우대사항_네트워크,지식,TCP,IP', '이용하는기술스택/우대사항_논리적,물리적,인프라,자동화,프런트,DBMS,AWS,react', '이용하는기술스택/우대사항_논문,모델,그로스,그로스해킹,해킹,데이터,분석,로그,Linux,Google Analytics', '이용하는기술스택/우대사항_논문,특허,시계열,이미지,영상,딥러닝,머신러닝,알고리즘,컴퓨터공학,산업공학,전기전자,학위', '이용하는기술스택/우대사항_논문,특허,이미지,영상,데이터,프로젝트,시계열,딥러닝,머신러닝,알고리즘,컴퓨터공학,산업공학,전기전자,학위', '이용하는기술스택/우대사항_논문,학습,SLAM,SfM,Visual Odometry,MLOps', '이용하는기술스택/우대사항_능동적,주도적,긍정적,실행력,나신', '이용하는기술스택/우대사항_능력,MLOps,ML,DevOps', '이용하는기술스택/우대사항_능력,모바일,하드웨어,소프트웨어,지식,협업,툴,자격증,자동화,게임,포트폴리오,게임업계,업계,적극적,부탁드립,드립,MS Office,JIRA,Confluence,ISTQB,CSTS,QA,T,C', '이용하는기술스택/우대사항_능력,오픈소스,분석,취약사항,지식,ORM,AWS', '이용하는기술스택/우대사항_단순,프로세스,테스팅,스팅,자동화,자격증,agile,QA,React,Node,js,E,E,ISTQB,CSTS,SW', '이용하는기술스택/우대사항_단위테스트,배포,자동화,프로그래밍,학습,적극적,협업,기획,디자인,하드웨어,하드웨어개발자,개발자,문제,정의,해결책,능력,업무영역,한계,성장,성장과정,능동적,해결,외주,UI,AWS,Webpack,Node,JS,Git,Jira,Confluence', '이용하는기술스택/우대사항_단위테스트,자동화,배포,웹,웹사이트,성능,측정,최적화,UI', '이용하는기술스택/우대사항_대규모,대용량,트래픽,처리,기획자,디자이너,이해관계자,관계자,협업,문제,문제해결역량,해결,역량,논리적,긍정적,마인드,신기술,컴퓨터공학,전공자,SW', '이용하는기술스택/우대사항_대규모,데이터,연계,솔루션,구축,프로세스,프로젝트,서버,Elasticsearch,Windows,Linux,OS', '이용하는기술스택/우대사항_대규모,머스,도메인,기술적,성장,적극적,비즈니스,MSA,Kubernetes', '이용하는기술스택/우대사항_대규모,업체,정보보호,개인정보보호,자격증,인증심사원,B,C,CISSP,CISA,ISMS,P,CISO,CPO,Chief of privacy officer', '이용하는기술스택/우대사항_대규모,웹,반응형웹,주도적,임상,임상시험,도메인,지식,UI', '이용하는기술스택/우대사항_대규모,웹,주도적,임상,임상시험,도메인,지식', '이용하는기술스택/우대사항_대규모,클라이언트,플랫폼,머스,성능,웹,웹디자인,디자인,정도', '이용하는기술스택/우대사항_대규모,트래픽,처리,능력,Typescript,MySQL,Nest,js', '이용하는기술스택/우대사항_대규모,트래픽,처리,능력,구축,파이프라인,라인,Node,js,Typescript,MySQL,Nestjs,Graph DB,AWS,Docker,CI,CD', '이용하는기술스택/우대사항_대규모,트래픽,처리,인프라,인증심사,심사,대응,MSA,Terraform,IaC,ISMS', '이용하는기술스택/우대사항_대량,트래픽,데이터,처리,대규모,일괄,크래프,크래프톤,도전,전화,실무면접,최종면접,입사지원서,포트폴리오,고용행태,행태,Backend,Terraform,Docker,Kubernetes,CI,CD,E,E,Unit Test,Build,Dist,Phone Interview,Technical Fit Test,Technical Fit Interview,Culture Fit Interview', '이용하는기술스택/우대사항_대시,대시보드,보드,배포,단위테스트,기능테스트,종단,종단테스트,빌드,자동화,웹,퍼포먼스,최적화,문제,해결,B,B', '이용하는기술스택/우대사항_대외,대외서비스,핀테크,테크,간편,간편결제,vue,js Typescript,CI,CD Pipeline,Maven,Git,Jenkins,Sonarqube,Docker,Container,Kubernetes', '이용하는기술스택/우대사항_대용량,금융,금융데이터,데이터,모델링,Pipeline,Docker,K,S,DevOps,Kubeflow,MLflow,MLOps,Airflow,Flyte,DataOps,Machine Learning,Deep Learning', '이용하는기술스택/우대사항_대용량,데이터,집계,분석,분산,처리,컨테이너,스트레이션,레이션,광고,플랫폼,개별,보훈,보훈대상자,RDMS,NoSQL,Kubernetes or OpenShift,SSP,DSP,DMP', '이용하는기술스택/우대사항_대용량,데이터,처리,기획,런칭,웹,크롤링,수집,프로그램,React,Node,API', '이용하는기술스택/우대사항_대용량,데이터,처리,스타트업,성장,주도적,문젤를,젤를,해결,웹,크롤링,수집,프로그램,컷,능력,PO,API', '이용하는기술스택/우대사항_대용량,데이터,처리,운영경험,CI,CD,Docker,Jenkins,RDBMS,AWS,Cloud,Video Streaming,Webrtc', '이용하는기술스택/우대사항_대용량,트래픽,구축,고도화,데이터,파이프라인,라인,플러그인,마이크로,웹,제작,로그,Elasticsearch,AWS,Cloud Native,Kafka,Redis,Python,Docker,Kubernetes,React,Github', '이용하는기술스택/우대사항_대용량,트래픽,분산,처리,클라우드,Python,shell script,Ansible,Chef,Puppet,SaltStack,Configuration Management Tool,AWS,GCP,Docker,container,OpenStack', '이용하는기술스택/우대사항_대용량,트래픽,안정적,처리,문제,해결,기술적,성장,도전,적극적', '이용하는기술스택/우대사항_대용량,트래픽,처리,마이크로,마이크로서비스,아키텍처,컨테이너,스트레이션,레이션,구축,k,s,AWS', '이용하는기술스택/우대사항_대용량,트래픽,처리,성능,최적화,자동화,사이버,보안,원칙,베스트,프랙티스,AWS IoT Core,Kafka', '이용하는기술스택/우대사항_대용량,트래픽,처리,스타트업,아키텍처,조직문화,누비랩,프로베이션,역량,프로세스,전화,런스,포트폴리오,깃,깃허브,허브,형식,동기,프로젝트,문제,해결,스펙터라,플랫폼,리더,AI,AI,Cognitive AI,Image Segmentation,LLM,LMM,MLOps,D,Open,d,PCL,Point Cloud Library,Front,end,TypeScript,React,Next,js,React Native,Back,end,Node,js,Javascript,ES,Nest,js,Express,Sequelize,ORM,MySQL,AWS,Docker,EKS,GitOps,Github,Slack,Notion,Jira,Figma,Framer,PDF,HR Lead,CEO,HR', '이용하는기술스택/우대사항_대용량,트레,처리,TDD', '이용하는기술스택/우대사항_대인관계,커뮤니케이션,능력,보드,보드게임,게임,모바일,앱,자격증,QA,ISTQB,CSTE', '이용하는기술스택/우대사항_대치,대치동,2호선,선릉역,릉,주5일,19,시차,4대보험,티스,티스코,구성원,성장,정비,방문', '이용하는기술스택/우대사항_대형,Agile scrum,Agile', '이용하는기술스택/우대사항_데스크톱,데스크톱앱,앱,엔지니어링,역량,하이브리드,핵심가치,성장,Electron,PC', '이용하는기술스택/우대사항_데이터,가공,분석,모델,모델링,프로세스,실험,비즈니스,머스,도메인,ML,AWS,databricks,Spark', '이용하는기술스택/우대사항_데이터,데이터베이스,인덱스,성능,분석,튜닝,서버,구축,DB,DBA', '이용하는기술스택/우대사항_데이터,데이터셋,수집,대규모,파이프라인,라인,구축,엔지니어링,음성,처리,라이브,코딩,계발,애착,줄,아시,효율성,프로세스,성장,매사,주도적,책임감,LOVO', '이용하는기술스택/우대사항_데이터,레이크,스타트업,B,B SaaS', '이용하는기술스택/우대사항_데이터,레이크,운용,엔지니어링,구축,처우협의,합격자,전화,전화인터뷰,Hadoop,Spark,ETL,Kubernetes,Cloud,AWS Kinesis,AWS Glue,AWS Lamda,AWS S,AWS EKS,AWS DynamoDB etc,Kubernetes,Apache Spark,Presto,Trino,Terraform,Prometheus,Elastic Search', '이용하는기술스택/우대사항_데이터,분석,딥러닝,모델,프로덕트,트렌드,논문,학습,인사이트,전산,계열,업계,스타트업,크리스,마인드,마인드셋,패션,신발,네이버,글로벌,협업,커뮤니케이션,능력,의류,제작,성장,책임감,업무방식,소통,창의적인,동료,토론,AI,IT', '이용하는기술스택/우대사항_데이터,분석,수학,통계학,마이닝,박사,학위,도메인,앱,플랫폼,금융,금융관련,의사결정,모델링,비즈니스,임팩트,창출,액션,액션플랜,플랜,도출,실험,체계적,통계적,가설,검정,기술적,역량', '이용하는기술스택/우대사항_데이터,스크래핑,레디스,디스,맴캐,맴캐시드,시드,캐싱,데이터베이스,글로벌,런칭,팀워크,협업,협업능력,능력,커뮤니케이션,나신,개발도구,프로세스,RDBMS', '이용하는기술스택/우대사항_데이터,시각화,렌더링,웹,웹아키텍처,아키텍처,형상,빌드,자동화,라이브러리,지식,보안,KendoUI,Highchart,D,CSR,SSR,GIT,NPM,Webpack,JavaScript,Typescript,Elasticsearch', '이용하는기술스택/우대사항_데이터,시각화,보안,솔루션,콘솔,Highchart,D', '이용하는기술스택/우대사항_데이터,시각화,인프라,클라우드,서버,신기술,Vuejs,AWS', '이용하는기술스택/우대사항_데이터,시각화,클라우드,컴퓨팅,구축,앱,백엔드,엔드,디자인,디자인시스템,협업,컴포넌트,테스트코드,코드리뷰,컨테이너,분산,분산관리,자동화,개발경험,WebGL,Three,js,AWS,React Native,Flutter,Nest,js,Express,js,Node,js,Figma,Zeplin,Linux,Docker,Git,Jira,CI,CD', '이용하는기술스택/우대사항_데이터,시각화,프로젝트,서버,시계열,데이터베이스,성능,D,js,visx,Chart,DDD,TDD,BDD,Unit Test,Interaction Test,Visual Regression Test,Integration Test,E,E Test,ReactiveX,NB,IoT,LoRaWAN', '이용하는기술스택/우대사항_데이터,파이프라인,라인,고가용성,확장성,보안,네트워크,서버,요소,컴퓨터공학,학사,기초,지식,클라우드,CI,CD,DevOps,MLOps,Kubernetes,H,W,Infra,CS,AWS', '이용하는기술스택/우대사항_데이터베이스,컨테이너,협업', '이용하는기술스택/우대사항_데이팅,플랫폼,비즈니스,스타트업,데이터,파이프라인,라인,인프라,구축,경력자,희망자,주도적,앱,분석,프로덕트,O,O,O,O', '이용하는기술스택/우대사항_도메인,기획,구성원,동시다발,다발,우선순위,업계,여의도,여의도동,22,39,39층,Back Office Product,Short Term Sprint,Agile', '이용하는기술스택/우대사항_도메인,웹,프레임워크,앱,백오피스,지식,기초,레거시,퍼블릭,유지보수,e,commerce,React,Vue,Svelte,Backend,SpringBoot,NestJS,Tomcat,jQuery', '이용하는기술스택/우대사항_도메인,프론트,프론트엔드,엔드,지식,B,B,MSA,JVM,Kotlin,Groovy,Linux,React,Angular,Vue,Docker,k,s', '이용하는기술스택/우대사항_도메인,플랫폼,유경험자,학부,졸업자,SW', '이용하는기술스택/우대사항_도전적,주도적,형상,협업,3.0,Git,Jira,Spring boot', '이용하는기술스택/우대사항_도전적,주도적,형상,협업,3.0,외부,보고,Git,Jira,Spring boot,API,API', '이용하는기술스택/우대사항_동료,적극적,커뮤니케이션,PHP Laravel framework,AWS', '이용하는기술스택/우대사항_동영상,온라인,광고,플랫폼,능력,개선점,선점,NeRF,Problem Solving,Problem Finding', '이용하는기술스택/우대사항_동영상,온라인,광고,플랫폼,대규모,보안,자격증,졸업자,AWS', '이용하는기술스택/우대사항_두이,두이노,라즈베리,라즈베리파이,센서,데이터,IOT,API,DB', '이용하는기술스택/우대사항_디버깅,안드로이드,윈도,윈도우즈,리눅스,기기,마이크로,마이크로마우스,마우스,로봇,모터,책임감,Visual Studio,Native App,App,App,App,Software', '이용하는기술스택/우대사항_디자인,원칙,인터페이스,지침,프로그래밍,패턴,앱,기술적,처리,실시간,데이터,동기화,문제,해결,앱스토어,유지보수,개인정보보호,보안,Apple,App,DI,Bluetooth,BLE,Testable', '이용하는기술스택/우대사항_디자인,웹,성능,최적화,클라우드,웹앱,보안,측면,UX,AWS', '이용하는기술스택/우대사항_디자인,웹,앱,업계,통계,데이터,분석,스타트업,성장,프로덕트,협업,협업도구,UI,UX,SQL,IT,SaaS,Jira,Confluence', '이용하는기술스택/우대사항_디자인,패턴,클린,아키텍처,유닛,앱,트렌드,최적화,MVVM,Modular Architecture,CI,CD,Firebase,Ga,crash,iOS,iPad OS,mac OS', '이용하는기술스택/우대사항_디지털,광고,플랫폼,기획,비즈니스,목표,성공적,달성해본,데이터,프로덕트,딜리버리,요구사항정의,정의,포메이션,아키텍처,스토리,수용조건,이해관계자,관계자,소통,PO,Page Proposal,Product Requirement Document,Information Architecture,JTBD,Acceptance Criteria', '이용하는기술스택/우대사항_디지털,신호,신호처리,처리,알고리즘,통계,통계학과,응용수학과,수학과,산업공학,전자공학,컴퓨터공학,전공자,딥러닝,논문,실험,분석,역량,보건,헬스,헬스케어,기초,지식,프로젝트', '이용하는기술스택/우대사항_딥러닝,모델,최적화,아바,모션,음성,도메인,감정,감정분석,분석,Inference system,D,blendshape,rigging,STT,TTS,Lip,sync', '이용하는기술스택/우대사항_딥러닝알고리즘,알고리즘,동영상,스트리밍,유경험자,인코딩,코딩,최적화,AI', '이용하는기술스택/우대사항_라이브,Git,JS,Graph QL', '이용하는기술스택/우대사항_라이브,Git,JS,Graph QL,PHP,LALAVEL,JAVA,SPRING', '이용하는기술스택/우대사항_라이브,론칭,협업,팀워크,능력', '이용하는기술스택/우대사항_라이브,백엔드,엔드,지식,블록,블록체인,체인,업계,성능,성능향상,향상,AWS,Amazon Web Services,Typescript,UX,UI,SEO', '이용하는기술스택/우대사항_라이브러리,도전적,마이크로,프론트,엔드,터보,레포,Recoil,React,query', '이용하는기술스택/우대사항_라이브러리,디자인,패턴,클린,아키텍처,주도적,동료,수평적,커뮤니케이션,글로벌,대규모,구축,앱,태블릿,협업,Jetpack,Compose,Hilt,MVVM,Android,CI,CD,SDK,API,iOS,Slack,Clickup,Figma,Notion', '이용하는기술스택/우대사항_라이브러리,플레이어,협업,능력,커뮤니케이션,적극적,문제,진단,혁신적,해결,Front,React,VueJS,E,commerce,RESTful,API,Spring Boot,JPA,QueryDSL,AWS,GCP,Cloud', '이용하는기술스택/우대사항_라즈베리,라즈베리파이,두이,노환경,회로,분석,IoT,MCU,C,RTOS', '이용하는기술스택/우대사항_런칭,기획,디자인,비즈니스,성장,그로스,해킹,아이디어,프로토,프로토타이핑,타이핑,협업,관계자,논리적,커뮤니케이션,역량,B,B SaaS,UI,UX,UI,UX,UI,UX', '이용하는기술스택/우대사항_런칭,스타트업,프로젝트,구축,동료,커뮤니케이션,긍정적,마인드,Git', '이용하는기술스택/우대사항_런칭,제작,프로젝트,리딩,소통,모델링,프로그램,능력,디자인,툴,협업,스타트업,바이오,바이오테크,테크,디지털,헬스,헬스케어,동종업계,업계,Unity,Unreal,VR,VR,AR,PM,PL,Maya,D Max,D,Figma,Zeplin,Adobe', '이용하는기술스택/우대사항_레거시,대용량,사용경험자,vue,js,react,js,svelte,AWS,Kubernetes', '이용하는기술스택/우대사항_레거시,배포,사용중,TDD,AWS,Laravel,express,React,js,Vue,js', '이용하는기술스택/우대사항_레거시,분석,역량,데이터,개선의지,구축,풀스택,협업,툴,관련경험,포트폴리오,서류검토,Elastic Search,Apache Solr,JIRA,Confluence', '이용하는기술스택/우대사항_레거시,성능,향상,최적화,웹,반응형,디자인,모바일,앱,웹뷰,리더,프론트,프론트엔드,엔드,구축,마인드,근본적,호기심,구성원,React Native,UI,AWS,GCP,Vercel,Netlify,CI,CD,mono repo', '이용하는기술스택/우대사항_렌더링,최적화,프론트,프론트엔드,엔드,성능,지식', '이용하는기술스택/우대사항_론칭,광고,광고플랫폼,플랫폼,운영사,데이터,경력자,PL', '이용하는기술스택/우대사항_론칭,대용량,트래픽,문제,정의,해결,자동화,빌드,적극적,커뮤니케이션', '이용하는기술스택/우대사항_롤,롤업,기술지식,지식,유경험자,암호학,서버,RAAS SDK,AWS', '이용하는기술스택/우대사항_롱위켄드,자기개발', '이용하는기술스택/우대사항_리눅스,개발경험,네트워크,보안,지식,지식보유,클라우드,오픈소스,프로젝트,Go', '이용하는기술스택/우대사항_리눅스,모니터링,로그,분석,구축,마이그레이션,shell script,Prometheus,Grafana,Docker,K,s,Database,Oracle,MySQL,MariaDB,Web,Was,Apache,Tomcat,CI,CD,Jenkins,Argo', '이용하는기술스택/우대사항_리눅스,배포,Ubuntu,AWS', '이용하는기술스택/우대사항_리더쉽,능력,Full Stack', '이용하는기술스택/우대사항_리딩,강연,강의,교수,석박사,박사,학위,Computer Science,East', '이용하는기술스택/우대사항_리팩토링,적극적,화의,필요성,오픈소스,프로젝트,커뮤니티,UI,UX', '이용하는기술스택/우대사항_리팩토링,주도적,프로덕션,배포,알고리즘,성능,속도,메모리,논리적,안정적,BIM', '이용하는기술스택/우대사항_마이그레이션,프론트,프론트엔드,엔드,구축,반응형,웹,유지보수,앱,유경험자,legacy,E,Commerce,Unit,Integration,E,E,CI,CD,or,Source Management System,Branch Strategy,OAS,OpenAPI Specification,php,node,js,hybrid,native', '이용하는기술스택/우대사항_마이크로,마이크로서비스,아키텍처,Kubernetes,Provisioned service,On,demand service,Kinesis,SNS FIFO,SQS FIFO,DynamoDB,Aurora Serverless v', '이용하는기술스택/우대사항_마이크로,마이크로서비스,아키텍처,빌드,배포,자동화,대규모,실시간,트래픽,처리,기획,구성원,사안,원활히,히,소통,업무도구,Linux,Jenkins,Python,Java,Kotlin,PostgreSQL,Redis,AMQP,Kafka,Git,Gitlab,MS Teams,Jira,Docker,CI,CD,Gitlab CI', '이용하는기술스택/우대사항_마이크로,마이크로서비스,키텍,서버,유관,프로젝트,동시성,제어,성능,튜닝,자동화,배포,유경험자,웹,웹사이트,보안,인하우스,하우스,고성능,대용량,포트폴리오,java,Kotlin,Spring framework,boot,batch,E,Commerce,React,DevOps,AWS', '이용하는기술스택/우대사항_마케팅,지식,머스,플랫폼,성능,엘라스틱서치,서치,고도화', '이용하는기술스택/우대사항_매트릭스,수평적,협업,리더십,구성원,차원,커뮤니케이션,능력,SLA,agile', '이용하는기술스택/우대사항_머스,Kafka', '이용하는기술스택/우대사항_머스,광고,솔루션,보고,프로젝트,리딩,기획,런칭,Facebook,Google,Tiktok', '이용하는기술스택/우대사항_머스,금융,투자,데이터,분석,오픈소스,프로젝트,스트리밍,시계열,영어,영어회화,회화,B,B SaaS,OLAP,Kafka,InfluxDB,DB,ML,DL,VC,Growth hacking', '이용하는기술스택/우대사항_머스,도메인,모델링,엔지니어,엔지니어링,모델,실서비스,클라우드,ML,AWS', '이용하는기술스택/우대사항_머스,도메인,분석,데이터,모델,엔지니어링,실험,비즈니스,ML', '이용하는기술스택/우대사항_머스,도메인,시나리오,레이팅,데이터,툴,생애,UT,GA,Amplitude,SQL,A,B test,PMF,Growth', '이용하는기술스택/우대사항_머스,도메인,프로덕트,고도화,스킬셋,기획,Stakeholder,Data Analytics,Amplitude,databricks,GA,GTM,SQL,BigQuery,Tableau etc,Jira,Confluence,prototype,figma', '이용하는기술스택/우대사항_머스,물류서비스,연동경험,솔루션,지그재그,사방,사방넷,플레이오토,오토,프로덕트,인프라,ex,AWS', '이용하는기술스택/우대사항_머스,소프트웨어,경력자,전공자,전산학,컴퓨터공학,정보통신공학,개발경력', '이용하는기술스택/우대사항_머스,애드,애드테크,테크,도메인,주도적', '이용하는기술스택/우대사항_머스,업계,테이블,인덱스,튜닝,백업,복구,컴퓨터공학,전공자,자료구조,네트워크,운영체제,알고리즘,MySQL DB,MongoDB,Front,end framework,Vue,js,nuxt,js,Linux,Web Server,scale out', '이용하는기술스택/우대사항_머스,오픈마켓,마켓,주문,중개,기획,피드백,개선점,CRM,ERP,B,B,CI,CD', '이용하는기술스택/우대사항_머스,플랫폼,웹,프로세스,주도적,대용량,실시간,애플리케이션,키텍,역량,인프라,AWS', '이용하는기술스택/우대사항_머스,플랫폼,웹,프로세스,주도적,대용량,실시간,애플리케이션,키텍,역량,인프라,시니어,AWS', '이용하는기술스택/우대사항_머스,플랫폼,주도적,성장,E,Next,js', '이용하는기술스택/우대사항_머신러닝,모델,학습,배포,플리케이션,프로덕션,향상,엔지니어,엔지니어링,대규모,트래픽,처리,백엔드,엔드,서버,분산,데이터베이스,대용량,실시간,병렬,영어,AI,ML,AI,RDBMS,DynamoDB,Cassandra,Spark,Flink', '이용하는기술스택/우대사항_머신러닝,파이프라인,라인,구축,비즈니스,서빙,서빙해본,그로스,그로스해킹,해킹,데이터,분석,통계,산업경영,사이언스,박사,학위', '이용하는기술스택/우대사항_멀티,쓰레드,분할,서버,웹,웹소켓,소켓,클라우드,구축,메타버스,AWS', '이용하는기술스택/우대사항_멀티미디어,이미지,처리,퍼포먼스,최적화,협업,칸,칸반방식,디자인,소통,Modular Architecture,Xcode Profiling Tool,Notion,Slack,Task,Figma', '이용하는기술스택/우대사항_멀티미디어,프레임워크,동영상,동영상압축포맷,압축,포맷,툴,알고리즘,주관적,개관적,화질,화질측정지표,측정,플랫폼,유지보수,클라우드,FFmpeg,Gstreamer,H,HEVC,AWCY', '이용하는기술스택/우대사항_멤버십,트레,트레바리,바리,파트너,오아시스,2시간,인재추천,100만원,가기,만큼,명랑,서로,에너지,크루', '이용하는기술스택/우대사항_모델,기획,데이터,분석,분산,학습,PB,TB,AI', '이용하는기술스택/우대사항_모델,대용량,데이터,사이언스,프로세스,팀원,성장,ML,DL,MLflow,MLOps,Docker,Airflow,Data Lake,BigQuery,Spark,ML,AWS,Cloud', '이용하는기술스택/우대사항_모델,머신러닝,딥러닝,프로덕트,최적화,국제학술대회,논문,석사,석사학위,학위,SW,Object Detection,Recognition,Segmentation,Inference', '이용하는기술스택/우대사항_모델,변화,스타트업,모니터링,로깅,깅,구축,목표,B,B,Python,OKR', '이용하는기술스택/우대사항_모델,알고리즘,논문,특허,작성자,국내외,입상자,학습,애플리케이션,프레임워크인,워크인,제조업,창출,수율,생산성,신기술,호기심,성장,LLM,GenAI,AI,Kaggle,Open Source LLM,Leader Board,Hugging Face,LLM,LangChain,AI,SHE', '이용하는기술스택/우대사항_모델,파이프라인,라인,프로덕트,비즈니스,효율적,데이터,신기술,호기심,성장,AI,ML,Llama,Generative AI,Cloud and Managed Services,Azure,API', '이용하는기술스택/우대사항_모델링,능력,프로세스,동료,커뮤니케이션,컨테이너,인프라,Refactoring,ORM,DB,Docker', '이용하는기술스택/우대사항_모듈,러에,성장,이티브,플리케이션,모터,모터사이클,사이클,Webpack,Parcel,GraphQL,Next,js,Remix,js,SPA framework,SSR,UI,UX,React,Native', '이용하는기술스택/우대사항_모듈,자격증,프로그램,이수,SAP SCM,MM,ABAP Programming,SAP,SAP S,HANA', '이용하는기술스택/우대사항_모듈,플러그인,지식,프레임워크,스펙,Webpack,UI,HTML,ES,FrontEnd,UI', '이용하는기술스택/우대사항_모바일,광고,리포팅,포팅,웹,비동기,동기,처리,AdTech,React,Vue,SPA', '이용하는기술스택/우대사항_모바일,광고,서버,비즈니스,클라우드,AdTech,Ruby on Rails,Spring,Kotlin,AWS,GCP', '이용하는기술스택/우대사항_모바일,안티치트,치트,솔루션,난독,프로젝트,프로그램,분석,전화,입사지원서,포트폴리오,LLVM,Clang,Unreal Engine,Phone Interview,Technical Fit Test,Technical Fit Interview,Culture Fit Interview', '이용하는기술스택/우대사항_모바일,앱,게임,라이브,아바,커스,커스터마이징,Unity,PlayCanvas,OpenGL,WebGL,XR,AR,VR,D', '이용하는기술스택/우대사항_모바일,앱,웹,서버,사이드,백엔드,엔드,템플,템플릿,릿,엔진,애자일,자일,프로세스,프로덕트,로그,자동화,React,Vue,SPA,jsp,thymeleaf,Github', '이용하는기술스택/우대사항_모바일,플랫폼,리눅스,지식,대량,트랜잭션,처리,24,주도적,문제,정의,해결,도출,x', '이용하는기술스택/우대사항_목적,제품리더,리더,외부,적극적,온라인,상거래,프로젝트,진행사례,포트폴리오,기획,기획산출물,산출물,Sample', '이용하는기술스택/우대사항_무선전력전송,전력,전송,지식,컨버터,툴,박사,졸업생,High Power SMPS,DC,DC,OrCad,CST', '이용하는기술스택/우대사항_무선전력전송,전력,전송,지식,코일,안테나,툴,박사,졸업생,OrCad,CST', '이용하는기술스택/우대사항_문서,문서관리시스템,빌드,클라우드,서버,프론트,프론트엔드,엔드,모바일,앱,webpack,rollup,AWS,Azure,React,Flutter', '이용하는기술스택/우대사항_문제,문제해결,해결,능력,커뮤니케이션,투자,주식,대주주,횡포,Front,end,Redwoodjs,Storybook,GraphQL,TailwindCSS,App,Flutter,Fastlane,Back,end,Redwoodjs,serverless,AWS Lambda,Infra,AWS,Terraform,Serverless Framework,DB,PostgreSQL,Amazon Dynamo DB,python', '이용하는기술스택/우대사항_문제,문제해결,해결,능력,커뮤니케이션,투자,주식,대주주,횡포,Front,end,Redwoodjs,Storybook,GraphQL,TailwindCSS,App,Flutter,Fastlane,Back,end,Redwoodjs,serverless,AWS Lambda,Infra,Terraform,Serverless Framework,Fastlane,DB,PostgreSQL,Amazon Dynamo DB,python,fastAPI', '이용하는기술스택/우대사항_문제,정의,해결책,적극성,협업,자동화,배포,GitHub', '이용하는기술스택/우대사항_문제,해결,개발자', '이용하는기술스택/우대사항_문제,해결,능력,결정력,커뮤니케이션,팀워크,법률,계약,소프트웨어,학습,변화,적응력,주도성,책임감,내외부,이해관계자,관계자,협력,보안,CISSP,CISM,CompTIA Security', '이용하는기술스택/우대사항_문제,해결,능력,플랫폼,거부감,앱,런칭,Git,JIRA,Confluence,iOS,Reactive Programming,Flutter', '이용하는기술스택/우대사항_문제,해결,오픈소스,분석,수정,안정적,실시간,데이터,라인,구축,기타사항,희망,마스킹,파일,파일형태,채용절차,1차면접,2차면접,처우협의,온라인,채용정보,채용인원,인원,채용유형,유형,경력직,근무지역,지역,14,미림,미림타워,공고,공고기간,상시,상시채용,완료,Cloud Native,Kafka,CDC,PDF,URL', '이용하는기술스택/우대사항_미디어,스트리밍,프로토콜,협업,적극적,글로벌,팬덤,플랫폼,앱,Tizen TV app,Web or,NET Framework,VOD,Live Streaming,RTP,RTSP,HLS,MPEG,DASH,Unit Test,CI,CD,Git,Code review', '이용하는기술스택/우대사항_박사,자율주행,알고리즘,센서,데이터,처리,Robotics,RADAR', '이용하는기술스택/우대사항_박사,학위,그래픽스,자율주행,지도,데이터,지식,지리정보체계,외국어,능력,OpenGL,WebGL,vtk,D,Blender,DS Max,Maya,D', '이용하는기술스택/우대사항_반응형,디자인,시맨틱,맨,웹,크로스,브라우징,지식,문서,설명서,능동적,프론트,프론트엔드,엔드,User Interface,API,technical writing,Unit,E,E', '이용하는기술스택/우대사항_반응형,디자인,컴포넌트,브라우저,호환성,웹,성능,최적화,지식,크로스,브라우징,Typescript,SPA,SEO,Selenium,Static Web Generator,Jekyll,Hugo', '이용하는기술스택/우대사항_반응형,웹,커뮤니케이션,팀워크,자존,typescript', '이용하는기술스택/우대사항_반응형웹,웹,대규모,주도적,임상,임상시험,도메인,지식,FE,UI,BE', '이용하는기술스택/우대사항_반응형웹,웹,주도적,임상,임상시험,도메인,지식,UI', '이용하는기술스택/우대사항_발생시,직접,해결,백엔드,엔드', '이용하는기술스택/우대사항_방법론,엔지니어,심사원,전문,임상,제약,Agile,Scrum,QA', '이용하는기술스택/우대사항_방법론,프로젝트,케이스,파트너,대용량,처리,비동기,트래커,백로,진행과정,운영플랫폼,플랫폼,적합,Agile,TDD,WMS,OMS,Event Driven Architecture,JIRA,Asana', '이용하는기술스택/우대사항_방법론,플리케이션,코드리뷰,품질향상,향상,머스,서비스개발,앱,앱스토어,스토어,최적화,동료,커뮤니케이션,TDD,ASO,compose,swiftUI,UI', '이용하는기술스택/우대사항_방법론,플리케이션,향상,머스,앱,앱스토어,스토어,최적화,동료,커뮤니케이션,TDD,ASO,compose,swiftUI,UI', '이용하는기술스택/우대사항_배포,AWS,Azure,Serverless BE', '이용하는기술스택/우대사항_배포,AWS,Terraform,Terragrunt,Github Actions,Datadog,Canary,blue,green', '이용하는기술스택/우대사항_배포,네트워크,프로그래밍,분산,영상,영상처리,처리,WPF,UI Library,Dev Express,Teleric,Custom Control,DB,Git,WPF,Winform,Web,IT', '이용하는기술스택/우대사항_배포,모바일,오픈소스,프로젝트,기여경험여,기여경험,Docker Container,web app,app', '이용하는기술스택/우대사항_배포,배포관리,결격사항,채용절차,전화,입사지원서,Phone Interview,Technical Fit Interview,Culture Fit Interview', '이용하는기술스택/우대사항_배포,빌드,자동화,구축,모니터링,탐지,해결,글로벌,플랫폼,국제화,AWS,ECS,EKS,Redis,MongoDB', '이용하는기술스택/우대사항_배포,클라우드,블록,블록체인,체인,심층,영어,의사소통,Kubernetes,Big Data,Serverless microservice,API gateway,Lambda', '이용하는기술스택/우대사항_백신,드라이버,아키텍처,리버싱,치트,프로그램,분석,전화,포트폴리오,OS,Unreal Engine,x,x,Phone Interview,Technical Fit Test,Technical Fit Interview,Culture Fit Interview', '이용하는기술스택/우대사항_백엔드,엔드,Firebase,Restful API,TDD', '이용하는기술스택/우대사항_백엔드,엔드,SaaS,MySQL DB', '이용하는기술스택/우대사항_백엔드,엔드,개발자,스타트업,궁극,아키텍처,집착,인프라,일의,성장,욕구,헌신,A to Z,AWS', '이용하는기술스택/우대사항_백엔드,엔드,능력,디자인,직관,문제점,해결,주도적,책임감,문제,정의,해결책,REST API', '이용하는기술스택/우대사항_백엔드,엔드,대규모,트래픽,처리,분산,프로덕션,서버,메타버스,게임,블록,블록체인,체인,K,s,Typescript', '이용하는기술스택/우대사항_백엔드,엔드,문제,해결,리딩,네이버,카카오,빅테크,테크', '이용하는기술스택/우대사항_백엔드,엔드,보안,쿠버,티스,솔루션,자격증,로그,유투브', '이용하는기술스택/우대사항_백엔드,엔드,서버,대용량,트래픽,응답,속도,클라우드,플랫폼,프론트,기획자,디자이너,소통,API,AWS,GCP', '이용하는기술스택/우대사항_백엔드,엔드,서버,폴리,폴리곤,곤,비트,비트럼,럼,네트,네트워크,구축,프록시,록,패턴,업그레이더블,그레이,더블,컨트랙트,트랙트,보안,지식,Node,js,Dapp,Audit', '이용하는기술스택/우대사항_백엔드,엔드,앱', '이용하는기술스택/우대사항_백엔드,엔드,유니티3,D', '이용하는기술스택/우대사항_백엔드,엔드,의도,연계,수식,nestjs,AWS,github,CI,CD,prisma orm,Jira', '이용하는기술스택/우대사항_백엔드,엔드,프론트,프론트엔드,프로젝트,영어,일본어,능통,능통자,소통,Java Spring,JavaScript,SI,Salesforce Certification', '이용하는기술스택/우대사항_백엔드로,엔,프로덕션,생태계,모듈러,패키지,상태관리,웹,프론트,프론트엔드,엔드,프레임워크,비동기,동기,처리,도메인,지식,아키텍처,고도화,모바일,매칭,커뮤니케이션,ios,Swift,android,Kotlin,Modern JavaScript,ES,JavaScript,npm,yarn,React,Query,Recoil,webpack,Babel,Jest,REST API,React,SPA,CS,A,Z,OS', '이용하는기술스택/우대사항_벡터,툴,프로그램,프로젝트,프로그래밍,소프트웨어,동종업계,업계,경력자,CAPL', '이용하는기술스택/우대사항_병역,병역특례,특례,보충역,프로그래밍,취약점,분석,보안,동아리,해킹,해킹대회,C,C,JAVA,Windows,Linux', '이용하는기술스택/우대사항_보건,보건의료,빅데이터,데이터,석사,박사이', '이용하는기술스택/우대사항_보신분,유닛,주도적,문제,해결,머스,업계,스타트업,MVVM,RIBs,Modular Architecture,SwiftUI,Combine,Data,driven Thinking,IT', '이용하는기술스택/우대사항_보안,공정성,스크립트,효율성,석사,학위,상위급,위급,학회지,회지,저널,논문,저자,ML,fairness,explainability,Bash,Python,ML,DL', '이용하는기술스택/우대사항_보안,네트워크,지식,정보보호시스템,실무경험,ISMS', '이용하는기술스택/우대사항_보안,보안솔루션,솔루션,구축,보안업무,자동화,역량,27001,대응,개발환경,모니터링,AWS,DevOps,B,B SaaS,Security Engineer,Python,API,Infrastructure as Code,IaC,K,S,ISMS,P,ISO,ISO,PCI,DSS,AWS Security,End,Point,SaaS,Automation,BYOD Security,Risk Assessment,DevSecOps,CI,CD Pipeline Security,Jenkins,Docker,K,S,Scalr,Terraform,Cloud Native Security,CNAPP,CWPP,CSPM,CIEM,SaaSPM,KSPM,DSPM,API Security,End,Point,Okta,Crowdstrike,Kandji,password,Paloalto SASE,Network,CISCO Meraki,Jira,Confluence,Slack,Github,Google Workspace,Splunk', '이용하는기술스택/우대사항_보안,서버,네트워크,환경자,기초,기초식', '이용하는기술스택/우대사항_보안,심의,인증심사원,기타사항,프로젝트,예시,인원,해결,채용절차,파일,변환,희망,마스킹,채용정보,채용인원,채용유형,유형,경력직,공고,공고기간,게시,게시일,완료,ISMS,P,AWS Security,CKS,Github,Gitlab,Bit Bucket,hwp,pdf', '이용하는기술스택/우대사항_보안,인프라,구축,솔루션,보안관련,자격증,인증심사원,AWS,EndPoint,DRM,DLP,IDaaS,CPPG,CISSP,ISMS,P', '이용하는기술스택/우대사항_보안,해킹,해킹대회,IoT,CVE,KVE', '이용하는기술스택/우대사항_보여,보여주실,주실,배포,자동화,리팩토링,Github Repository,Nest,js,DevOps,Docker,KBS,CI,CD', '이용하는기술스택/우대사항_복잡,도메인,해결,클라우드,대용량,데이터,파이프라인,라인,데이터셋,비정형,코드리뷰,AWS,GCP,ETL,Spark,Airflow,BigQuery,Git,Gitlab,Jira,Confluence,Docker', '이용하는기술스택/우대사항_분리,리액트로,액,트로,변경해본,AWS Cloud Fornt,WEB,WAS', '이용하는기술스택/우대사항_분석,라이브러리,운영관련,Java Open Source,Apache Tomcat', '이용하는기술스택/우대사항_불편,커뮤니케이션,클라우드,리눅스,JWT,WebSocket,Spring Security,AWS', '이용하는기술스택/우대사항_블랙박스,넥,넥티,업종,SW', '이용하는기술스택/우대사항_블록,블록체인,체인,EVM', '이용하는기술스택/우대사항_블록,블록체인,체인,가상,가상자산,자산,스타트업,효율,분석,Lean startup,Agile Organization', '이용하는기술스택/우대사항_블록,블록체인,체인,개발자,소통,문제,해결,Git,GitHub,Go,Q,Optional,Optional,Keplr', '이용하는기술스택/우대사항_블록,블록체인,체인,개발자,소통,문제,해결,MobX,React Native,Git,GitHub,Go,Q,Optional,Optional,Keplr', '이용하는기술스택/우대사항_블록,블록체인,체인,게임,프로젝트,런칭,오픈소스,컨트리뷰터,해커톤,수상,영어,의사소통,어려움,전산,end,to,end', '이용하는기술스택/우대사항_블록,블록체인,체인,메인,메인넷,경헙자,헙자', '이용하는기술스택/우대사항_블록,블록체인,체인,보안,인프라,Web,CI,CD', '이용하는기술스택/우대사항_블록,블록체인,체인,분산,프로덕션,서버,클라우드,백엔드,엔드,풀스택,오픈소스,입사지원서,포트폴리오,Golang', '이용하는기술스택/우대사항_블록,블록체인,체인,생태계,그림,채팅,지식,열정적,리딩,주니어,개발자,성장,탐구심,AI,AI,AI', '이용하는기술스택/우대사항_블록,블록체인,체인,생태계,그림,채팅,지식,열정적,탐구심,AI,AI,AI', '이용하는기술스택/우대사항_블록,블록체인,체인,서버,디자인,패턴,설계도,Web,Node,js,API', '이용하는기술스택/우대사항_블록,블록체인,체인,업체,리서치,기술특허,특허,수강,논문,학습,지식,구조화,문서화,컴퓨터활용능력,능력,자격증,MS Office', '이용하는기술스택/우대사항_블록,블록체인,체인,지식,세팅,팀원,의사소통,도전,성장,수평적,자기개발,학습,Cosmos SDK,gRPC,Web,WAS Server', '이용하는기술스택/우대사항_블록,블록체인,체인,컨트랙트,프론트,프론트엔드,엔드,유닛,실시간,구축,웹,성능,분석,최적화,부채,해결,리팩토링,피드백,커뮤니케이션,Next,js,WebSocket', '이용하는기술스택/우대사항_블록,블록체인,체인,크립토,프로젝트,Web', '이용하는기술스택/우대사항_블록,블록체인,체인,트랙트,프레임워크,개발경험,암호화,전자서명,클라우드,spring,boot,nodejs,lua,Docker,AWS,ElasticSearch', '이용하는기술스택/우대사항_블록,블록체인,체인,프로젝트,백엔드,엔드,개발자,협업,온라인,오프라인,컨퍼런스,발표,Typescript,Web,js', '이용하는기술스택/우대사항_비동기,동기,분산,NoSQL,Kafka,MSA', '이용하는기술스택/우대사항_비동기,동기,처리,처리개념,개념,안드로이드,블루투스,아키텍처,능력,디자이너,협업,앱,Coroutine,Flow,RX,BLE,PM', '이용하는기술스택/우대사항_비디오,압축,영상,처리,프로젝트,리눅스', '이용하는기술스택/우대사항_비정형,DB,Amazon Web Service,Querydsl,JPA', '이용하는기술스택/우대사항_비젼,의료영상,영상,소프트웨어,스타트업,바이오,바이오테크,테크,디지털,헬스,헬스케어,동종업계,업계,유경험자', '이용하는기술스택/우대사항_비즈니스,로직,해결,문제,자동화,실천,서비스장애,재발,재발방지대책,방지,대책,수립,유경험자,코드리뷰,페어,페어코딩,코딩,성능,측정,모니터링,측정치,논리적,트랜젝션,Message broker,NoSQL,GCP,NCP,Cloud,TDD', '이용하는기술스택/우대사항_비즈니스,성능,최적화,배포,자동화,비동기,동기,프로그래밍,효율적,데이터,대응,처리,능력,DB,SQL,InfluxDB,MongoDB,Elasticsearch,Docker,API', '이용하는기술스택/우대사항_빅데이터,데이터,처리,플랫폼,Python,ROS', '이용하는기술스택/우대사항_빌드,배포,자동화,성능,최적화,네트워크,논리적,제시,기획,디자인,디자인팀,협업,문제,해결,팀원,과의,커뮤니케이션,Node,js,AWS,CI,CD,HTTP', '이용하는기술스택/우대사항_빌드,배포,자동화,성능,튜닝,노하우,프로덕트,AWS,Azure,Cloud Infra,lasticsearch', '이용하는기술스택/우대사항_빌드,배포,자동화,아키텍처,서버,도메인,모델링,코드리뷰,AWS,Microservices,Open API,JPA,Hibernate,ORM,Git,Gitlab,Jira,Confluence,Docker', '이용하는기술스택/우대사항_빌드,배포,자동화,아키텍처,서버,도메인,모델링,풀스택,AWS,Microservices,Open API,JPA,Hibernate,ORM', '이용하는기술스택/우대사항_빌드,배포,자동화,역량,적극적,열정적,공부,Linux,Jenkins,ORM', '이용하는기술스택/우대사항_빌드,배포,자동화,컨테이너,모니터링,데이터,시각화,보훈,Docker,Kubernetes', '이용하는기술스택/우대사항_상용서비스,백엔드,엔드,구축,프로젝트,데이터베이스,보안,가이드라인,시큐,코딩,배포,운용,대용량,데이터,처리,Node,js,PM,PL,Linux', '이용하는기술스택/우대사항_상태관리,emotion,styled component,recoil,mobx,Web,APP', '이용하는기술스택/우대사항_상태관리,라이브러리,웹,컴퓨터전공,소프트웨어,소프트웨어전공,커뮤니케이션,능력,주도적,React,UI,UX', '이용하는기술스택/우대사항_상태관리,서버,서버프로그래밍,그래밍,BLOC,riverpod,nodejs,express,nestjs,mongoDB,react', '이용하는기술스택/우대사항_상태관리,클라이언트,반응형,크로스,브라우징,웹,웹접근성과,웹표준,Redux,compont,RESTFul API,javascript,ES,DOM,HTML,CSS,PC,Mobile,AWS,Git,GitHub', '이용하는기술스택/우대사항_서버,네트워크,무중단,배포,논리적,제시,기획,디자인,디자인팀,협업,문제,해결,팀원,과의,커뮤니케이션,AWS,OpenSearch,Cognito,Test,DB schema,CI,CD,Python,Java', '이용하는기술스택/우대사항_서버,사이드,렌더링,웹,앱,웹사이트,국어,국제화,효율적,SSR,SEO,Android,iOS Web viwe,JavaScript Interface', '이용하는기술스택/우대사항_서버,사이드,렌더링,웹앱,웹,웹사이트,정적,분석,배포,자동화,국어,국제화,효율적,영어,회화,SSR,Typescript,SEO', '이용하는기술스택/우대사항_서버,사이드,렌더링,최적화,유지보수,디자인,가이드,협업,전역,해소,호출,캐시,제어,상호,상호작용,작용,3.0,클라우드,SSR,Figma,props drilling,ReactQuery,API,REST,Postman,Open API,Vercel,S,CloudFront', '이용하는기술스택/우대사항_서버,사이드,모바일,모바일앱,앱,웹,웹앱,협업,배포,프로세스,자동화,프론트,프론트엔드,엔드,성능,최적화,라이브러리,생산성,향상,하기,UI', '이용하는기술스택/우대사항_서버,사이드,모바일,모바일앱,앱,웹,웹앱,협업,배포,프로세스,자동화,프론트,프론트엔드,엔드,성능,최적화,라이브러리,생산성,향상,하기,처핏,UI', '이용하는기술스택/우대사항_서버,서버관리,풀스택,개발자,겅,형상,형상관리,툴,전공지식,지식,React,Nextjs,AWS,DBMS,SVN,Linux,PG', '이용하는기술스택/우대사항_서버,서버리스,아키텍처,비동기,동기,메시지,대용량,트래픽,지식,역량,기술력,주세,프로젝트,회사명,담당업무,이전,단순,나열,대해,AWS Lambda,SQS,Kafka,MSA', '이용하는기술스택/우대사항_서버,서버리스,컴퓨팅,깃,깃허브,허브,버전관리,디파이,피드백,커뮤니케이션,AWS Lambda,Truffle,Hardhat,Foundry', '이용하는기술스택/우대사항_서버,서버리스,컴퓨팅,인메모리,메모리,데이터베이스,성능,유닛,실시간,구축,피드백,커뮤니케이션,AWS Lambda,Redis,Memcached,WebSocket', '이용하는기술스택/우대사항_서버,인프라,동영상,스트리밍,C,NDK,Spring Webflux,AWS,Ubuntu', '이용하는기술스택/우대사항_서버,정확,예측,집중,미래,통용,기본기,모델링,Kubernetes,Istio,Terraform', '이용하는기술스택/우대사항_석사,데이터,시각화,그래프,라이브러리,인프라,계정,효율적,클라우드,보안,지식,로그,파이프라인,라인,분석,코딩,D,js,Plotly,js,C,Go,Rust,AWS,EKS,multi tenancy SaaS Service,Cloud,IaC,Terraform,Ansible,Ex,Terraform,Ansible', '이용하는기술스택/우대사항_석사,박사,박사학위,학위,알고리즘,성능,최적화,동시성,프로그래밍,분산,분산처리,처리,solidity,smart contract', '이용하는기술스택/우대사항_석사,박사,학위,수여자,여자,영어,영어가능자,자율주행로봇,로봇,라인,라인트레이서,트레이서,열정적,팀원,동기,외국어,경력3년이상,기계,메카트로닉스,응용소프트웨어공학,소프트웨어,제어,제어계측공학,계측,navigation,ISO,AMR,Autonomous Mobile Robot,or,ROS,OPIc IL', '이용하는기술스택/우대사항_석사,박사,학위,자율주행로봇,로봇,라인,라인트레이서,트레이서,열정적,팀원,동기,Navigation,ISO,AMR or,ROS', '이용하는기술스택/우대사항_석사,박사,학위,학회,발표,학술지,논문,알고리즘,디버깅,영상,영상처리,처리,최적화,역량,ICCV,CVPR,ECCV,IJCV,FTCGV,Noise Reduction,Contrast Enhancement,Sharpness Enhancement,Video smoothing,Super resolution,GPU Programming,Visual C,C coding,Python,Latency', '이용하는기술스택/우대사항_석사,석사학위,학위,박사,박사학위,박사과정', '이용하는기술스택/우대사항_석사,애자일,자일,스크럼,프레임워크,기술팀,책임자,프론트,프론트엔드,엔드,백엔드,역량,AI,PL,MLOps', '이용하는기술스택/우대사항_석사,전공자,Computer Vision,Robotics,FFMpeg', '이용하는기술스택/우대사항_석사,학력,학력무관', '이용하는기술스택/우대사항_석사,학위,논문,클라우드,플랫폼,프로덕션,서버,효율,구축,Pre,trained Language Model,NLP,LLM,SCI,AWS,Azure,Google Cloud,Throughput,Latency,LLM Inference API', '이용하는기술스택/우대사항_석사,학위,인공지능,모델,프롬,프롬프트,엔지니어링,파인,파인튜닝,튜닝,파이프라인,라인,기술적,구축,스타트업,프로세스,성장,AI,GPT,Stable Diffusion,LLM,LLM,LLM,MLOps', '이용하는기술스택/우대사항_석사,학위,자율주행로봇,로봇,라인,라인트레이서,트레이서,AMR or,ROS', '이용하는기술스택/우대사항_석사,학위,학력,예정자,논문,학회,저널,수상,화상,미션,축소,확대,서류검토,포트폴리오,파일,AI,AI,Kaggle,AI Competition,PDF,URL', '이용하는기술스택/우대사항_선정,주도적,개발경험,프레임워크,개발자,디자이너,협업,애자일,자일,프로세스,스프린트,지식,React,TypeScript,Cypress,PlayWright,E,E,Golang,Postgres,Docker,AWS,Git,Figma,UI,UX,MVP', '이용하는기술스택/우대사항_성격,친화력,화력,기획,능력,UX', '이용하는기술스택/우대사항_성능,벤치마킹,최적화,도메인,프로그래밍,프레임워크,레거시,프로젝트,점진적,리팩터링,팩터링,유닛,파이프라인,라인,대용량,아키텍처,데이터,구축,메세지,브로커,애자일,자일,프로세스,복적,자동화,효율,ERP,CRM,NodeJS,JUnit,AWS,GCP,Cloud,Infra,CI,CD,AL,ML,DL,Microservice,Docker,Kubernetes,Container,Kubernetes Cluster,Kafka,RabbitMQ,Scrum,MVP,Minimum Viable Product', '이용하는기술스택/우대사항_성능,분석,튜닝,프레임워크,SQL,Angular,js,Redis', '이용하는기술스택/우대사항_성능,최적화,배포,자동화,비즈니스,효율적,데이터,대응,처리,능력,SW Architect,DB,Oracle,SQL Server,MySQL,MariaDB,PostgreSQL,influxDB,MongoDB,SQL,Docker,API', '이용하는기술스택/우대사항_성능,최적화,웹,웹뷰,클라우드,Front,end,AWS Lambda,S', '이용하는기술스택/우대사항_성능,최적화,테스트코드,코드리뷰,협업,웹,웹뷰,글로벌,플랫폼,국제화,배포,UI,SSR,AWS', '이용하는기술스택/우대사항_성능,최적화,해킹,보안,개념,웹,구축,포트폴리오,Generic,Material design paradigm,Skeuomorphic Paradigm,Chrome Lighthouse,Score test,XSS,CSRF,File Sanitizer,WCAG,FCP,CLS,LCP,A,y Testing', '이용하는기술스택/우대사항_성장,개선안,아이디어,능동적,가실,팀빌딩,클라우드,컴퓨팅,2.0,권한,Open API,OAuth,Spring Security', '이용하는기술스택/우대사항_성장,스케일,스케일업,대용량,데이터,배치,젠,젠킨스,킨스,깃헙,액션,파이프라인,라인,구축,트래픽,성능,Microservices,Kubernetes,CI,CD,Cache,MQ,NoSQL', '이용하는기술스택/우대사항_세무,회계,프로그램,자격증,배포,오픈소스,프레임워크,능력,AWS', '이용하는기술스택/우대사항_세일,세일즈맵,즈맵,스타트업,마음', '이용하는기술스택/우대사항_센서,인터페이스,프로그램,option,PCB Artwork,option,STMicro,STM,CubeIDE,STM,CubeMX,option,UART,I,C,SPI,option,C,C,Python,option,EMI', '이용하는기술스택/우대사항_센서,조명,모터,모듈,제어,소프트웨어,능력', '이용하는기술스택/우대사항_셰어라운드,온라인,프로젝트,포트폴리오,문제,정의,해결,or', '이용하는기술스택/우대사항_소셜,메타버스,서버,그래픽스,D', '이용하는기술스택/우대사항_소스분석,분석,백앤드,앤드,협업,협업툴,툴,유경험자,플리케이션,플랫폼,데이터,AWS,Figma,Notion', '이용하는기술스택/우대사항_소통,개발자', '이용하는기술스택/우대사항_소통,협업,적극적,내시,클라우드,인프라,문제,해결,비지니스,실천,능력,AWS', '이용하는기술스택/우대사항_소프트웨어,Camera,Geometry,Linux', '이용하는기술스택/우대사항_소프트웨어,객체지향,빌드,배포,자동화,프로젝트,서버,아키텍처,버전관리,AWS,EC,S,CF,Git', '이용하는기술스택/우대사항_소프트웨어,객체지향,숙달,호기심,동료,자극,성장,고객중심,문제,문제해결,해결,능력,커뮤니케이션', '이용하는기술스택/우대사항_소프트웨어,기획,배포,자동화,블록,블록체인,체인,지식,문서,능력,테스트케이스,케이스,집계,통계,자격증,QC,QA,App,Web API,IT,STQB,CSTS', '이용하는기술스택/우대사항_소프트웨어,센서,데이터,처리,C,Deep learning,ROS,RADAR', '이용하는기술스택/우대사항_소프트웨어,소프트웨어자산관리사,자산,관리사,자격증,업무관리툴,툴,C,SAM,Jira,Confluence,Bitbucket,Slack', '이용하는기술스택/우대사항_소프트웨어,신뢰성,신뢰성검사,동적,유경험자,배포,서버,자동화,프론트,백엔드,엔드,Full Stack', '이용하는기술스택/우대사항_소프트웨어,정보기술,학사,학위,서버,대규모,탐지,해결,부하,성능,역량,방법론,팀간의,협업,Rust,Monitoring,Logging,Alert,Stress Test,Agile,Scrum,Tech stack,tool,TypeScript,Python,gRPC,AWS,GCP,Terraform,Docker,PostgreSQL,RabbitMQ,GitHub,GitHub Actions', '이용하는기술스택/우대사항_소프트웨어,정보기술,학사,학위,역량,주도적,문제,분석,솔루션,방법론,팀간의,협업,지식,Agile,Scrum,Modern web technology,Canvas rendering,WebAssembly,WebGL,WebGPU', '이용하는기술스택/우대사항_소프트웨어,쿠버,티스,솔루션,자격증,로그,유튜브', '이용하는기술스택/우대사항_소프트웨어,핀테크,테크,SDLC,STLC', '이용하는기술스택/우대사항_속도,스타트업,애자일,자일,리딩,아키텍처,국어,Microservice,E,Commerce', '이용하는기술스택/우대사항_솔루션,개발자,프로젝트,성능,최적화,퍼블리싱,내외,협업,소통,컨테이너,스트레이션,레이션,파이프라인,라인,구축,오픈소스,퍼블릭,쿠버,티스,PaaS,F,E,Webpack,Babel,Typescript,HTML,CSS,PaaS,B,E,Kubernetes,Openshift,CI,CD,Jenkins,Tekton,ArgoCD,Helm,Operator,Terraform,IaC,Kubernetes,ELK,Istio,EKS,GKS', '이용하는기술스택/우대사항_솔루션,경력자,보안,보안관제,디버그,데이터,로그,결함,오류,분석,체계적,AI,IT,TS,CCTV,Python,Java', '이용하는기술스택/우대사항_솔루션,자격증,커뮤니케이션,역량,Salesforce,Salesforce', '이용하는기술스택/우대사항_솔루션,전공자,전공자분,Cloud,WAS,APM,Docker,Kubernetes,IT', '이용하는기술스택/우대사항_솔루션,클라우드,자격증,적극적,보훈,Kubernetes,MSA,Public Cloud,AWS,Azure,DB,Oracle,Tibero,Linux', '이용하는기술스택/우대사항_쇼핑물,구축,고도화,앱,클라우드,프로젝트,배포,ANDROID,KOTLIN,IOS,SWIFT,AWS,Azure,GITHUB ACTION', '이용하는기술스택/우대사항_수평적,개발자,디자인,겨울방학,인터넷,세미나,Peer,Best world class,or', '이용하는기술스택/우대사항_수평적,팀웍,복잡,성능,최적화,방법론,UI,Agile,TDD,SW', '이용하는기술스택/우대사항_수학,통계,공학계열,계열,시스템공학전공,알고리즘,모델링,공개적,프로젝트,논문,능력,검증,HR,AI', '이용하는기술스택/우대사항_수학,통계학,시스템공학,컴퓨터활용능력,능력,석사,석사학위,학위,수여자,여자,해당직무,인턴,인턴경력,근무경험', '이용하는기술스택/우대사항_숙력,14,오픈소스,프로젝트,리버스,엔지니어링,보안,보안솔루션,솔루션,C,C,boost', '이용하는기술스택/우대사항_스케일,스케일업,문제,해결,주도적,자발적,리팩토링,열의', '이용하는기술스택/우대사항_스크래핑,데이터,컨테이너,인프라', '이용하는기술스택/우대사항_스크럼,애자일,자일,프로세스,팀웍', '이용하는기술스택/우대사항_스타일시트,시트,패키지,상태관리,모듈,분할,클라우드,디자인,Bootstrap,SPSS,SASS,Vue,Python,Flask,SQL Alchemy,MySQL DB,VUEX,Redux,SSR,Next,Nuxt,Webpack,Babel,ES,AWS,Google', '이용하는기술스택/우대사항_스타트업,Git,webrtc', '이용하는기술스택/우대사항_스타트업,데이터,파이프라인,라인,인프라,구축,경력자,희망자,플랫폼,비즈니스,주도적,앱,분석,프로덕트,O,O', '이용하는기술스택/우대사항_스타트업,데일리,데일리샷,샷,인프라,구축,유지보수,머스,풀필먼트,먼트,대규모,실시간,트래픽,처리,리팩토링,오픈소스,AWS', '이용하는기술스택/우대사항_스타트업,리딩,부문,리더,리더급,성장,금융,백엔드,엔드,풀스택,헬스,헬스케어,디바이스,변화,협업,협업툴,툴,능력,논리적,체계적,문제,문제해결,해결,커뮤니케이션,웹,앱,프로젝트,어려움,빌드,자동화,배포,대용량,트래픽,S,W,Jira,Confluence,Git,CI,CD', '이용하는기술스택/우대사항_스타트업,린스타트업,프론트,프론트엔드,엔드,반응형,디자인,프로세스,포스타입,도전,문제,정의,해결,엔지니어,손코딩,코딩,MVP,PDF,ex', '이용하는기술스택/우대사항_스타트업,영어,커뮤니케이션,능력,SaaS,Mac OS App,Flutter,Vue,React,Web App', '이용하는기술스택/우대사항_스타트업,인프라,웹,프레임워크,네트워크,대규모,트래픽,프로세스,포스타입,도전,문제,정의,해결,엔지니어,손코딩,코딩,MVP,AWS,MVC,HTTP,SQL,NoSQL,PDF,ex', '이용하는기술스택/우대사항_스타트업,주도적,책임감,프로젝트,팀원,지도', '이용하는기술스택/우대사항_스타트업,컴퓨터공학,소프트웨어,소프트웨어공학,클라우드,프로젝트,개발경험,정부,정책,HTML,CSS,Javascript,ES,Swagger,REST API,Jenkins,Multi Module', '이용하는기술스택/우대사항_스타트업의,업의,변화,실행력,디자인,성능,UI,UX,Fault,Tolerant,Websocket,gRPC,Core Web Vitals', '이용하는기술스택/우대사항_스타트업의,업의,변화,실행력,레이어,레이어드,어드,프레임워크,대규모,분산,처리,안정적,구축,성능,최적화,Spring MVC,Spring Boot,NestJS', '이용하는기술스택/우대사항_스토어,앱,유지보수,프로젝트,패키지,지식,그래픽스,갈망,Realm,Database,HTTP,REST API,Unity,D Renderer', '이용하는기술스택/우대사항_시스템공학,전공자,블록,블록체인,체인,노드,영어,의사소통,Tendermint', '이용하는기술스택/우대사항_시차,시차출퇴근,시행,패밀리,패밀리데이,데이,조기퇴근,도서구입비,구입비,체력,체력훈련비,훈련비', '이용하는기술스택/우대사항_시차출근,17,19,강서,강서구,화곡동,5호선,화곡역,5분,10분이내', '이용하는기술스택/우대사항_신규서비스,구축,ERD', '이용하는기술스택/우대사항_신기술,욕구,기록,효율,자동화,구성원,협업,서로,긍정적,태도,마인드,스타트업,지식,데이터베이스,모델링,실시간,대규모,트래픽,대용량,데이터,처리,클라우드,인프라,자연어,자연어처리,텍스트,텍스트마이닝,마이닝,인공지능,플랫폼,프레임워크,B,B SaaS,RPA,MSA,MicroService Architecture,Event,Domain Driven Architecture,AWS,Nginx,Apache,Varnish,Redis,RabbitMQ,Kafka,Next,js', '이용하는기술스택/우대사항_신약,신약개발,화학,생물학,데이터,분석,모델링,질량,질량분석,연구개발,개발환경,외국어,영어,커뮤니케이션,능력,MS,Linux,git,docker', '이용하는기술스택/우대사항_신약,신약개발,화학,생물학,질량,질량분석데이터,분석,데이터,제약사,바이오,바이오업계,업계,10인,다양성,PMP', '이용하는기술스택/우대사항_실시간,디자이너,협업,WebSocket,Zeplin,E,E', '이용하는기술스택/우대사항_실시간,서버,모니터링,대응,배포,적극적,문제점,수정,성장,자동화,구축,구축경험,대규모,트래픽,처리,함수,함수형,비지니스,전문가,지식,공개적,앱,개발자,기획자,디자이너,제품팀,협업,AWS,CI,CD,Docker', '이용하는기술스택/우대사항_심사,알람,구축,인프라,사이클,ISMS,CI,CD,Logging,Backup,Monitoring', '이용하는기술스택/우대사항_심사,정보보안기사,보안,기사,자격증,클라우드,ISMS,P,CISSP', '이용하는기술스택/우대사항_심사원,클라우드,보안,구축,보안툴,툴,ISMS,P,AWS,IaC,Infrastructure as Code,SIEM,Prowler', '이용하는기술스택/우대사항_아키텍,패턴,코드베이스,유닛,이슈관리,RESTful API,UI,UI,jira', '이용하는기술스택/우대사항_아키텍처,대용량,트래픽,처리,메시지,머신러닝,딥러닝,프로세스,프로그램,이미지,텍스트,알고리즘,트렌드,지식,개선점,목표,MSA,kafka,Back,end,AI,Ownership', '이용하는기술스택/우대사항_아키텍쳐,프로세스,프로젝트,협업,업무환경,SwiftUI,Swift Concurrency,Combine,Sourcery,Tuist,Clean Architecture,Git,flow,GitHub Action,XCTest,Slack,Notion,Jira,Github,Figma,Copilot', '이용하는기술스택/우대사항_안드로이드,디바이스,데이터,지식,알고리즘,툴,메커니즘,SW,OS,MDM,Analytics,Attribution,Integration', '이용하는기술스택/우대사항_안드로이드,이티브,iOS', '이용하는기술스택/우대사항_안드로이드,이티브,라이브,자이로,자이로센서,센서,럭,럭시,GPS', '이용하는기술스택/우대사항_안드로이드,플랫폼,프로그래밍,디자인,패턴,기술적,처리,실시간,데이터,동기화,문제,해결,DI,Bluetooth,BLE,Testable', '이용하는기술스택/우대사항_알고리즘,경진대회,문제,제작,컴퓨팅,프로덕트,소프트웨어,코딩,코딩테스트,문제점,아이디어,책임감,신중,SCPC,UPC', '이용하는기술스택/우대사항_알고리즘,데이터,데이터구조,프론트,프론트엔드,엔드,Nest,js,Next,js,AWS,React,CI,CD', '이용하는기술스택/우대사항_알고리즘,딥러닝,학습,논문,능력,머신러닝,석사,학위,수상,상위입상자,입상자,ML,Kaggle,AI,Challenge', '이용하는기술스택/우대사항_알고리즘,성능,성능최적화,최적화,분산,처리,금융,혁신,도전,AWS', '이용하는기술스택/우대사항_애니메이션,canvas', '이용하는기술스택/우대사항_애자일,자일,방법론,프로젝트,단위테스트,기능테스트,종단,종단테스트,빌드,자동화,배포,보훈,OKR', '이용하는기술스택/우대사항_애플리케이션,iOS,RxJava,Coroutine', '이용하는기술스택/우대사항_앱,기획,프로세스,웹,플랫폼,배포,툴,Figma,XD,Zeplin,Jira,Confluence', '이용하는기술스택/우대사항_앱,런칭,주도적,분석,최적화,트렌드,전산학,컴퓨터과학,글로벌,게임,그래픽,인터렉티브,컨텐츠,복잡,기술적,문제,긍정적,태도,창의적인,해결,도전,도전정신,정신,XCode Instruments,iOS,Open Source contributor,protobuf,gRPC', '이용하는기술스택/우대사항_앱,런칭,최적화,디자인,패턴,증권,플랫폼,긍정적,기타사항,프로젝트,예시,인원,해결,채용절차,파일,변환,희망,마스킹,채용정보,유형,경력직,지역,14,미림,미림타워,공고,게시,게시일,완료,Github,Gitlab,Bit Bucket,Pre,Test,hwp,pdf', '이용하는기술스택/우대사항_앱,서버,클라이언트,사이드,협업,모바일,가이드라인,파이어베이스,앰플,앰플리튜드,튜드,분석,툴,채용절차,서류검토,React Native,RESTful API,Typescript,Back,end,Git,UX,UI', '이용하는기술스택/우대사항_앱,성능,최적화,주도적,파이프라인,라인,구축,컴포넌트,모듈,CI,CD,React Native Reanimated', '이용하는기술스택/우대사항_앱,스토어,배포,팀원,협업,채팅,영상,영상통화,통화,Notion,Figma,WebSocket,WebRTC', '이용하는기술스택/우대사항_앱,스토어,배포,팀원,협업,채팅,영상,영상통화,통화,스터디,웹,Notion,Figma,WebSocket,WebRTC', '이용하는기술스택/우대사항_앱,웹,분석,외국어,커뮤니케이션,대시,대시보드,보드,제작,Google analytics,PPT,Excel', '이용하는기술스택/우대사항_앱,유경험자,애플리케이션,Vert,x,reactive,NodeJS,WebRTC', '이용하는기술스택/우대사항_앱,유닛,반응형,웹,성장,레거시,시야,아이디어,주시,React Native,A,B,UI', '이용하는기술스택/우대사항_앱,이티브,하이브리드,디자인,패턴,지식,역량,기술력,주세,포트폴리오,공해,프로젝트,회사명,담당업무,이전,단순,나열,대해,자격증,어학,공인,React,Conccurrent mode,suspense,context,Swift,Java,Kotlin,Flutter,MVP,MVVM,Story book,Framer,UI,UX', '이용하는기술스택/우대사항_앱,제작,팀단위,프로젝트,운영중,문제,처리,처리해본,Android,iOS', '이용하는기술스택/우대사항_양산,양산개발,Power', '이용하는기술스택/우대사항_업계,경력자,전자상거래,상거래,플랫폼,플랫폼비지니스,비지니스,인터넷,인터넷사업,정보보호,보안,법률적,자격증,인증심사원,e,Commerce,CPPG,ISMS,P', '이용하는기술스택/우대사항_업계,프로젝트,RPA,UIpath', '이용하는기술스택/우대사항_업무용,솔루션,웹,애자일,자일,프로세스,지식,AWS Cloud', '이용하는기술스택/우대사항_에듀테크,스타트업,추천시스템,구축,목적,디자이너,협업,소통,프로세스,처우협의,GNN,LLaMA,Falcon,LLM,Fine,tuning,PM', '이용하는기술스택/우대사항_엔드,엔드유저,인프라,구축,개선안,아이디어,성장,논리적,체계적,문제,문제해결,해결,능력,AWS', '이용하는기술스택/우대사항_엔드,엔드유저,인프라,구축,인공지능,개선안,아이디어,성장,논리적,체계적,문제,문제해결,해결,능력,AWS', '이용하는기술스택/우대사항_엔드,운영경험,비즈니스,도메인,논리적,체계적,문제,해결,능력,32,두이,두이노,C,ESP,IoT', '이용하는기술스택/우대사항_엔지니어링,음성,데이터,처리,프레임워크,딥러닝,모델,라이브,코딩,계발,애착,줄,아시,효율성,프로세스,성장,매사,주도적,책임감,QA,Pytorch,Tensorflow,Generative AI product,LOVO', '이용하는기술스택/우대사항_엔진,게임,데이터,저장소,역량,업계,학사,석사,학위,지식,Unity,Cocos Creator,UI,D,iOS,Android,Typescript,Javascript,MySQL,MongoDB,Redis,AWS Cloud', '이용하는기술스택/우대사항_역량,대규모,아키텍처,분산,구축,백엔드,엔드,서버,엔지니어,쿠버,티스,컨테이너,스트레이션,레이션,클라우드,인프라,운용,최적화,머신러닝,Hadoop,Spark,Kafka,Hive,AWS,Terrraform,IaC,DB,SQL query,AI', '이용하는기술스택/우대사항_역량,대용량,트래픽,처리,인프라,구축,아키텍처,네이버,클라우드,플랫폼,보안,지식,네트워크,업계,프로세스,지원방법,자유형식,형식,파일,포트폴리오,MSA,PDF,Github,PDF', '이용하는기술스택/우대사항_역량,동영상,온라인,광고,플랫폼,스타트업,모델,이미지,텍스트,비정형,데이터,처리,딥러닝,능력,MLOps,Problem Solving', '이용하는기술스택/우대사항_역량,빅데이터,데이터,분석,플랫폼,머신러닝,모델링,시각화,툴,대시,대시보드,보드,Hadoop MapReduce,Hive,Spark,AI,Tableau', '이용하는기술스택/우대사항_역량,안정적,대응,능력,보안,운영중인,람다,OOP,pytest,unittest,AWS,CloudFoundation,SAM,Infrastructure as Code pipeline', '이용하는기술스택/우대사항_역량,플랫폼,웹,팀원,의사소통,모델,Python,DB,SQL,linux,RestFul API,Ai', '이용하는기술스택/우대사항_역량,협업,인터넷,처리,대규모,트래픽,대용량,데이터,구축,능력,오픈소스,커뮤니티,심사,코딩,코딩테스트,포트폴리오,로그,전문,지식,심층,문제,제시,서로,가치관,이후,개별적,완료,Spring Boot,Framework,Kubernates,Git,Flow,Gitlab,Flow,failover,Github,fit', '이용하는기술스택/우대사항_영상,영상관련,광학,광학기구개발,기구,경력자,광학분석,분석,S,W,Code,v,OSLO', '이용하는기술스택/우대사항_영상,영상처리,처리,딥러닝,모델,Computer Vision,etc,vision', '이용하는기술스택/우대사항_영상,유경험자,외부,출력,기기,오픈소스,유사언어,2년이상,CI,CD,Java,Kotiln', '이용하는기술스택/우대사항_영어,능통,증권,금융,상품,백오피스,증권사,자산,운용,금융업계,업계,법률,전자금융거래법,거래법,증권거래법,SI,IT,IT,ITSM,ITIL', '이용하는기술스택/우대사항_영어,독해,능력,스타트업,클라우드,유경험자,마이크로,마이크로서비스,Machine Learning,Python,NoSQL,Docker,Kubernetes,Microservice', '이용하는기술스택/우대사항_영어,메신저,이기,이기종,인프라,직접,이횽해,유지보수,지식,입사지원서,포트폴리오,Windows,Ubuntu,Infrastructure as code,Cloud,On,prem,terrafrom,AzureRM template,AWS cloudformation,Google Deployment manager,Coding,Python,Java,Data,SQL', '이용하는기술스택/우대사항_영어,실력,리딩,리딩해본,Verbal and Written,Global Dev Team', '이용하는기술스택/우대사항_영어,중국어,대용량,트레,처리,네트워크,보안,런칭,B,C', '이용하는기술스택/우대사항_영어,커뮤니케이션,Kotlin,Java', '이용하는기술스택/우대사항_영어,커뮤니케이션,백엔드,엔드,서버,데이터,분석,마케팅,솔루션,머스,리터,틱스,비즈니스,도메인,클라우드,컴퓨팅,웹,배포,라이브러리,문제,해결책,처리,프레임워크,Python,AWS S,Azure,Serverless,Pandas,Numpy,root,Python,Go,Pandas,NumPy,AWS Lambda,AWS S,PostgreSQL', '이용하는기술스택/우대사항_영어,커뮤니케이션,자격증,스타트업,Amazon AWS,Microsoft Azure,GCP', '이용하는기술스택/우대사항_예측,문제,파악,솔루션,하이브리드,앱,반응형,웹,프레임워크,시용기간,구성원,조직문화,핵심가치,책임감,역량,진보,변화,도전,성장,목표,업계,전문,소통,다양성,추진력,외국어,글로벌,테크,플랫폼,크루,디지털,교육경험,혁신,Next,js,Interview Process,Core Value,Accountability,Progress,Professionalism,Team work,Mission,Vision,Misson,Vision,AI', '이용하는기술스택/우대사항_오픈소스,구축,퍼블릭,클라우드,가상,자동화,Redis,RabbitMQ,elk,Azure,OpenStack,VMWare,Linux,CentOS,Rocky,Ubuntu,Shell Script,docker', '이용하는기술스택/우대사항_오픈소스,프로젝트,Unit Test,UI Test,ARKit,Core NFC', '이용하는기술스택/우대사항_오픈소스,프로젝트,공공,클라우드,파이프라인,라인,구축,대규모,트래픽,처리,인프라,리눅스,퍼포먼스,튜닝,네트워크,보안,포트폴리오,해결,해결방법,회고,프리젠테이션,프로세스,실무역량,무역량,처핏,처우협의,입사확정,순서,런스,입사일로,일로,계약,Kubernetes,Terraform,CloudFormation,Infrastructure as Code,CI,CD,IDS,IPS,WAF', '이용하는기술스택/우대사항_오픈소스,프로젝트,성장,웹,웹프레임워크,Python,Go,Ruby,Node,js', '이용하는기술스택/우대사항_온라인,광고,플랫폼,졸업자,렌더링,최적화,프론트,프론트엔드,엔드,성능,지식', '이용하는기술스택/우대사항_온라인,머스,쇼핑몰,구축,스포츠,스포츠업계,업계,경력자,대용량,트래픽,마라톤,달리기,or', '이용하는기술스택/우대사항_온라인,커머스,회원,상품,주문,도메인,이벤트,스트리밍,플랫폼,클라우드,대규모,구축,MSA,Kafka,RabbitMQ,AWS,Test Case,MongoDB,NoSQL,Back Office', '이용하는기술스택/우대사항_온라인,커머스,회원,상품,주문,도메인,클라우드,대규모,구축,비즈니스,모델링,AWS,Test Case,MongoDB,NoSQL,DB', '이용하는기술스택/우대사항_우대사항이자,방향성,머신러닝,파이프라인,라인,스트레이션,레이션,데이터,딥러닝,논문,팔로,팔로우,컨퍼런스,출판,기록,k,s,Airflow,Top,tier AI', '이용하는기술스택/우대사항_운용,지도,라이브러리,배포,aws cognito,s,amplify,three,js,NPM', '이용하는기술스택/우대사항_운용,호환성,정확,활용경험,설계자,복잡,도메인,로직,성능,최적화,가격,소프트웨어,원칙,준수자,논술,포트폴리오,RFC,RFC,RESTful API,Pattern language,Generic,Type Theory,OOP,FRP Paradigm,Sync,TDD,BDD,proxy buffering tuning,RI,SP,SI,GitOps,Java,Typescript,Agile Scrum,Kanban Process,Scrum master', '이용하는기술스택/우대사항_원격,최적화,엔진,라이브러리,구축,대용량,트래픽,분산,처리,아키텍쳐,SaaS,OpenAI API,LangChain,Node,js Web Framework,Amazon Web Services,Lambda,EC,S,CloudFront,Database,Elastic Search,Cloud', '이용하는기술스택/우대사항_웹,규격,풀스택,장점,긍정적,적극적,커뮤니케이션,리더십,팔로워십,밸런스,HTML,CSS,W,C', '이용하는기술스택/우대사항_웹,글로벌,온라인,공학계열,계열,시스템공학전공', '이용하는기술스택/우대사항_웹,대용량,트래픽,서버,서버리스,마이크로,아키텍쳐,B,B SaaS', '이용하는기술스택/우대사항_웹,런칭,라이브,마이그레이션,고성능,대용량,트래픽,서버,아키텍처,메시지,데이터,데이터처리,처리,유닛,스트레스,구축,배포,채용절차,오프라인,과제전형,기술조직,평판,평판조회,조회,처우협의,최종합류,기술과제,전달,주차별,차별,지연,양해,POC,MVP,Live,AWS Infra,Container,Docker', '이용하는기술스택/우대사항_웹,런칭,라이브러리,처리,주도적,문제,정의,해결,디자이너,협업,블록,블록체인,체인,입사지원서,포트폴리오,Redux,React Query,UI,UX,Next,js,SSR,Server,side rendering', '이용하는기술스택/우대사항_웹,모바일,텍스트,마이닝,머신러닝,알고리즘,통계,수집,처리,백오피스,대규모,트래픽,대용량,데이터,분석,로그,인프라,아키텍처,B,C,AWS', '이용하는기술스택/우대사항_웹,배포,골프장,클럽,클럽하우스,하우스,스탭,프로세스,지식,사설,MS Azure VM,IIS,Node,js,github,git,MS SQL Stored Procedure', '이용하는기술스택/우대사항_웹,브라우저,원리,성능,향상,점진적,이관,성장,주실,GraphQL,Relay,UI,UX', '이용하는기술스택/우대사항_웹,서버,서버사이드,사이드,렌더링,크로스,크로스플랫폼,플랫폼,앱,배포,퍼블릭,클라우드,웹사이트,성능,측정,최적화,React Native,Flutter,CI,CD,AWS', '이용하는기술스택/우대사항_웹,성능,프레임워크,정적,타이핑,툴,패턴,웹뷰,대응,SEO,Next,js,SSR,Typescript,Flow,Javascript,Redux', '이용하는기술스택/우대사항_웹,스타트업,커뮤니케이션,능력', '이용하는기술스택/우대사항_웹,스타트업,협업,툴,독립적,주도적인,역량,적극적,문제,분석,원인,해결,능력,성격,탐구,Vue,js,Notion,Slack,Jira,Github', '이용하는기술스택/우대사항_웹,앱,백엔드,엔드,유경험자,스타트업,Node,js,Typescript,Nest,Next,React Native,React,Redis,Kafka,MSA,IT', '이용하는기술스택/우대사항_웹,온라인,OAuth,Vue,JS,Next,JS,React Native,LMS', '이용하는기술스택/우대사항_웹,웹디자인,디자인,포트폴리오,그래픽스,비즈니스,영어,회화,Unity,D,AI,BackEnd', '이용하는기술스택/우대사항_웹,웹서비스,기획,클라우드,피그,피그마,제작,디자이너,협업,프로젝트,대용량,데이터,처리,모바일,서버,유경험자,논리적,문제,해결,주도적,UI,UX,NoSQL,AWS,IoT Core,API,Git,Jira,Confluence', '이용하는기술스택/우대사항_웹,웹서비스,아키텍쳐,역량,전문,툴,업체,구축,프로젝트,지식,MSA,websquare,UI,SI,IT,Big Data,M,L,D,L,AI', '이용하는기술스택/우대사항_웹,웹서비스,프로세스,커뮤니케이션,능력,개발경험,Cloud,AWS,NCP,Python,django,flask', '이용하는기술스택/우대사항_웹,웹접근,획득,프로젝트,성능,최적화,협업,툴,관련경험,포트폴리오,서류검토,Javascript,git,Zeplin,Figma,UI,JIRA,Confluence', '이용하는기술스택/우대사항_웹,웹표준,Web Component', '이용하는기술스택/우대사항_웹,인프라,구성원,긍정적,커뮤니케이션,머스,프로젝트,대용량,데이터,처리,배포,nginx,tomcat,redis,ES,NoSQL,AWS', '이용하는기술스택/우대사항_웹,컨테이너,형상,솔루션,팀워크,동료,협업,Docker,Kubernetes,Git,GitLab', '이용하는기술스택/우대사항_웹,코드리뷰,Javascript,Git,Gitlab,Jira,Confluence,Docker', '이용하는기술스택/우대사항_웹,패키지,배포,Next,js,UI,UX,npm,Jest,Cypress,e,e,TDD', '이용하는기술스택/우대사항_웹,프로젝트,유니티,도전,긍정적,마인드,책임감,WebGL,D,Digital Transformation', '이용하는기술스택/우대사항_웹,플리케이션,클라우드,환경내,성능,측정,유닛,Windows System API,AWS,Vue,js', '이용하는기술스택/우대사항_웹,플리케이션,프로젝트,구성원,server,side,client,side,Javascript,Linux,Unix,JS Framework,Game Engine,Unity,Grunt,build tool', '이용하는기술스택/우대사항_웹,플리케이션,프론트,프론트엔드,엔드,대용량,트래픽,처리,사용중인,협업,플랫폼,인프라,데이터,Computer Science,Engineering,Django Framework,Git,JIRA,Swagger,Python Django,Node,js Express,JAVA Spring,AWS,Jenkins,MySQL,Redis,Elastic Search,ELK', '이용하는기술스택/우대사항_웹,플리케이션,프론트,프론트엔드,엔드,음악,음악유통정산,유통,정산,프로젝트,참여경험,로그,주실,개발자,Computer Science,Engineering,Python,Django Framework,ELK', '이용하는기술스택/우대사항_웹,학습,능력,성장,아이디어,적극적,협업,능동적,웹서비스,기획,리딩,클라우드,AngularJS,ReactJS,VueJS,javascript framework,Spring framework,node,js,front,end,HTML,CSS,javascript,HTML,CSS,javascript', '이용하는기술스택/우대사항_웹,협업,협업툴,툴,능력,네트워크,개발환경,미들웨어,문서,JIRA,CONFLUENCE,GIT,MOQUPS,LINUX', '이용하는기술스택/우대사항_웹앱,모노레포,데이터,시각화,상호,상호작용,작용,디자인,성능,측정,웹,오픈소스,에듀테크,개발자,기획,디자이너,협업,부채,효율적,프론트,프론트엔드,엔드,생태계,변화,토론,적극적,네이밍,능력,나신,프로세스,자유형식,형식,파일,포트폴리오,Web Capabilities,PWA,Service Worker,Workbox,GraphQL,Apollo,Relay,Webpack,Vite,Rush,NX,Turborepo,D,Storybook,Bit,FCP,LCP,FID,INP,RichEditor,trouble shooting,PDF,Github,PDF', '이용하는기술스택/우대사항_유경험자,TypeScript,Node,Express,Vue,AWS,Azure,Google Cloud', '이용하는기술스택/우대사항_유경험자,TypeScript,Node,Express,Vue,Kotlin,database,AWS,Azure,Google Cloud', '이용하는기술스택/우대사항_유경험자,개발자,협업,스타트업,바이오,바이오테크,테크,디지털,헬스,헬스케어,동종업계,업계,Frontend,React,Backend', '이용하는기술스택/우대사항_유경험자,모바일,PM', '이용하는기술스택/우대사항_유경험자,배포,프로세스,구축,AWS,RDBMS,NoSQL,CI,CD', '이용하는기술스택/우대사항_유경험자,이중화,Docker,DB', '이용하는기술스택/우대사항_유관,비즈니스,동료,지식,의사소통,역량,웹,시맨틱,맨,SEO,UI,UX,Engineer', '이용하는기술스택/우대사항_유관,오픈소스,프레임워크,클라우드,협업,성능,최적화,튜닝,Redis,kafka,ElasticSearch,AWS,GCP,Azure,etc,Git,Jenkins,Docker,Engineer,TypeScript,DB', '이용하는기술스택/우대사항_유닛,클린,아키텍처,프로젝트,디자인,패턴,지식,능동적,문제점,해결,웹,웹뷰,앱,딥링크,처리,UI,MVP,MVVM,MVC,Jetpack Compose', '이용하는기술스택/우대사항_유지보수,리팩터링,팩터링,코드리뷰,품질향상,향상,적극적,키택,프레임워크,라이브러리,성장,RESTful API,AWS,Service', '이용하는기술스택/우대사항_유지보수,모듈,프로젝트,유지보수성,10명,엔지니어,디버깅,난이도,해결,패러다임,학습,오픈소스,작업물,문서,외부,로그,기록,업데이트,CI,CD,Instrument,Readme', '이용하는기술스택/우대사항_유지보수,하드웨어,엔지니어,협업,소프트웨어,인터페이스,제어,타모듈,모듈,BSP,Embedded Linux Software,Framework,RTOS,MCU Device Driver,Android,Device Driver,HAL,Yoto,Application,Linux Application,System Programming,Android HAL,framework,Bluetooth,Embedded Linux Software,Framework,SPI,UART,Part', '이용하는기술스택/우대사항_유지보수성,확장성,문서화,TypeScript', '이용하는기술스택/우대사항_의료기기,기기,양산,보드,펌웨어,ARM base MCU,FW', '이용하는기술스택/우대사항_의료분야,논문,디지털,헬스,헬스케어,스타트업,의료영상처리,영상,처리,배포,개발환경,Python,Backend,AWS', '이용하는기술스택/우대사항_의사소통,능력,나신,적극적,인성,역량,최적화,리팩토링,프론트,프론트엔드,엔드,성능,크로스,크로스브라우징,생산성,퍼포먼스,적응력,개발문서,문서,영어,독해,Typescript,Jest,Jasmine,Mocha', '이용하는기술스택/우대사항_이공,이공계열,계열,졸업자,스타트업,보안,지식,프론트,프론트엔드,엔드,백엔드,데이터,오너십,성장,애자일,자일,프로세스,스프린트,React,FastAPI,MVP', '이용하는기술스택/우대사항_이공계,전산,소프트웨어,계열,서버,네트워크,보안,지식,역량,자동화,생산성,향상,프로세스,모니터링,동종업계,업계,게임,CDN,Cloud,VM,Container,Kubernetes,Docker,AWS,Azure', '이용하는기술스택/우대사항_이기,이기종,데이터베이스,마이그레이션,대용량,트래픽,처리,이관,데이터,인증심사,심사,대응,계획,수립,인프라,구축,Database Architecture,HA,Load Balancing,On premise,Cloud,AWS,RDS,Aurora,DynamoDB,Cloud,SQL,MySQL,MSSQL,Oracle,Postgre SQL,e,Commerce,MSA,ISMS,Data Backup,Mongodb', '이용하는기술스택/우대사항_이미지,서버,서빙,오픈소스,수정,Diffusion Model,Stable Diffusion,Pipeline,PyTorch,Linux,Docker,FastAPI,API', '이용하는기술스택/우대사항_이미지,영상,처리,자동화,아이디어,디자인,가이드,동영상,앱,온라인,커뮤니케이션,능력,iOS,Asana,Slack,Notion', '이용하는기술스택/우대사항_이미지,프로세싱,데이터,분석,OpenCV,numpy,pandas', '이용하는기술스택/우대사항_이벤트,대용량,처리,문서,필요성,클라우드,협업,협업해본,도전,데이터,엔지니어링,있으,부분,Kinesis,Kafka,Swagger,api doc,Test,Python,Pyspark,AWS,NCP,GCP,git,jira,confluence,ChatGpt,AI', '이용하는기술스택/우대사항_이전,개발자,케이스,패키지,제작,배포,관장,성능,비법,RN,RN,RN', '이용하는기술스택/우대사항_이티브,유닛,반응형,웹,구축,성장,주시,IOS,Android,A,B,UI,Monorepo', '이용하는기술스택/우대사항_인공지능,모델,웹,앱,서빙,백엔드,엔드,백엔드,문제,도전적,해결책,팀원,협업,클라이언트,html canvas,threejs,D,D', '이용하는기술스택/우대사항_인공지능,모델,웹,앱,서빙,성능,노하우', '이용하는기술스택/우대사항_인공지능,모델,웹,앱,서빙,코드품질,커버리지,적극적,대용량,트래픽,처리,분산,프레임워크,운영환경,클린,클린코드,리팩토링,DB,DevOps,Celery,Docker,Orchestration', '이용하는기술스택/우대사항_인공지능,물리,애니메이션,인터랙티브,스토리텔링,캐릭터,디자인,모델링,소프트웨어,춤동작,퍼포먼스,캡,캡처,피드백,게임,AI,D', '이용하는기술스택/우대사항_인공지능,학위,모델,최적화,경량,하드웨어,배포,학습,파이프라인,라인,구축,정부,학회,도전,의욕,클라우드,웹,웹서비스,Inference system,ML,R,D,AWS,GCP,Azure,Server side', '이용하는기술스택/우대사항_인공지능,학위,프로젝트,현업,협업,웹,웹서비스,클린,상호,배려,소통,탐색,한편,신중,주도적,학습,사전질문,네이션,동기,프로세스,포트폴리오,처우협의,입사안내,Server side', '이용하는기술스택/우대사항_인과,추론,통계적,이커머스,데이터,분석,대시,대시보드,보드,제작,목적,목적조직,프로덕트,디자이너,엔지니어,협업,그로스,해킹,성장,비즈니스,A,B,GCP Bigquery,Lean Startup', '이용하는기술스택/우대사항_인근,인근거주자,커뮤니케이션,대인관계,컴퓨터공학,소프트웨어,소프트웨어공학,관련전공자,전공자,교육기관,희망자,실력,제자,양성', '이용하는기술스택/우대사항_인센티브,복리후생비', '이용하는기술스택/우대사항_인센티브,상품권,재직자,움공제,시행,포상휴가,가족,소노호텔,호텔,리조트,회원권,중식,야근시', '이용하는기술스택/우대사항_인터넷,정보보호,영향평가,흐름도,기술적,보안,수검,대응,자격증,ISMS,P,PIA', '이용하는기술스택/우대사항_인프라,C,Go,Rust,AWS', '이용하는기술스택/우대사항_인프라,구축,서버,라이브,협업,커뮤니케이션', '이용하는기술스택/우대사항_인프라,능력,배포,자동화,대규모,비기능,웹,성능,FastAPI,Spring Boot,Oracle,Aurora MySQL,AWS,Backend', '이용하는기술스택/우대사항_인프라,대용량,Blockchain,Mainnet,Terraform,Kubernetes,database schema,Spark', '이용하는기술스택/우대사항_인프라,보안,27001,인증심사,심사,대응,ML,Ops,Onpremis IDC,ISO,ISMS,P', '이용하는기술스택/우대사항_인프라,세팅,게임,게임서버,서버,네트워크,모듈,외국,AWS,API,DynamoDB,Redshift,Docker,RabbitMQ,GlobalService', '이용하는기술스택/우대사항_인프라,이벤트,아키텍처,패턴,백엔드,엔드,동향,탐구,성능,리소스,IaC,Infrastructure as Code,MSA,Micro,Service Architecture', '이용하는기술스택/우대사항_일본어,블록,블록체인,체인,지식', '이용하는기술스택/우대사항_임베디드,라이브러리,포팅,알고리즘,기획,무선충전,지식,F,W,IoT', '이용하는기술스택/우대사항_임베디드,펌웨어,블루투스,근거리무선통신,Python,IoT,HW', '이용하는기술스택/우대사항_자격요건,결산,결산마감,프로세스,프로젝트,컨설턴트,외주,유지보수,운영인력,협업,유관,유관부서,도출,문제점,파악,개선안,SAP SCM,SAP MM,LE', '이용하는기술스택/우대사항_자격요건,구축,Public Cloud,AWS,Auzre,GCP,Kubernetes,container platform,Ansible,Chef,Puppet,configuration as code,Jenkins,Gitlab CI,Bamboo,pipeline as code,Terraform,Cloudformation,VMWare VRA,server provisioning,Jira,Confluence', '이용하는기술스택/우대사항_자격요건,그룹,그룹사,유형,자산,자산관리,컴퓨터공학,자격증,오픈소스,스크립트,활용능력,능력,2013,백업,클라우드,인프라,인프라운영,플리케이션,네트워크,방화벽,보안,보안장비,기획,IT,Certificate,MS Solution,AD,Exchange,Lync,Version,Office,SaaS,Google Workspace,Jira,Storage,IDC,Windows,Linux,OS,VPN', '이용하는기술스택/우대사항_자격요건,외부,흐름,구축,자동화,network,Cloud,On,premise,Shell script,tool', '이용하는기술스택/우대사항_자격요건,정보보호,보안,전공자,커뮤니케이션,능력,기획,외국어,영어,일어', '이용하는기술스택/우대사항_자격요건,컴퓨터공학,보안,전공자,솔루션,파일,분석,리버스,엔지니어링,해킹,구축,온라인,게임,블록,블록체인,체인,취약점,점검,SIEM', '이용하는기술스택/우대사항_자격요건,해외법인,법인,대응,능력,영어,일본어,구축,유지보수,역량,회계,자격증,유관,유관부서,프로세스,내부통제,통제,운영경험,SAP ERP GSI,Global Single Instance,ABAP,IT,SQL,CDS View,BI Tool,Non SAP ERP Roll,out,SAP ERP CO Module Certification,ITGC', '이용하는기술스택/우대사항_자격증,계열,프로젝트,협업,커뮤니케이션,활용능력,능력,ISTQB,CSTS,IT,Unity,Unreal Engine,Tester,JIRA,Confluence,Slack,OA,Excel,PowerPoint', '이용하는기술스택/우대사항_자격증,분산,처리,구축,AWS Certified Data Engineer,Associate,DEA,AWS Certified Data Analytics,Specialty,DAS,Airflow,AWS MWAA,Hadoop MR,Hive,Spark,AWS EKS,k,s', '이용하는기술스택/우대사항_자격증,웹,웹서비스,클라우드,계열,전공자,Low,code,Mendix Rapid,REST,Micro service,IT', '이용하는기술스택/우대사항_자격증,자동화,애자일,자일,성능,ISTQB,Gatekeeper', '이용하는기술스택/우대사항_자동,데이터,처리,솔루션,머신러닝,모델,프로젝트,협업,협업툴,툴,실력,포트폴리오,계신,AI,AWS SageMaker', '이용하는기술스택/우대사항_자동차,넥티드,지식,앱,국어,Bluetooth', '이용하는기술스택/우대사항_자동차,샤시,엔지니어링,가상,제어기,프로젝트,시뮬레이션,소프트웨어,차량,네트워크,항공,운전가능,자차,ADAS HIL,Simulink,AUTOSAR Application modeling,Python,C,C,CAN,Ethernet', '이용하는기술스택/우대사항_자동차,임베디드,소프트웨어,소프트웨어개발,자동화,방법론,품질관리,QA,Agile,Lean', '이용하는기술스택/우대사항_자동차,하드,하드웨어,엔지니어,협업,영어,커뮤니케이션,AOSP,Automotive,SW,Embedded Linux Software,Framework', '이용하는기술스택/우대사항_자동화,구축,모바일,디자인,리더,계신,App,Web,CI,CD,Pipeline,Software QA', '이용하는기술스택/우대사항_자동화,직접,제약,주도적,기본기,데이터베이스,컴퓨터네트워크,네트워크,데이터,알고리즘,대용량,금융,금융데이터,수집,적재,전처리,모델링,수상,Algorithmic Trading,SW Architect,production,CS,OS,SW,Pipeline,DB Performance Tuning,SQL Tuning,Machine Learning,Deep Learning,Competition,Docker,K,S,DevOps,Kubeflow,MLflow,MLOps,Airflow,Flyte,DataOps', '이용하는기술스택/우대사항_자동화,툴,시나리오,애자일,자일,스크럼,프로세스,프레임워크,제시,주도적,개발자,출신,전업,웹,모바일,백엔드,엔드,파이프라인,라인,개발환경,운영환경,사교적,성격,소프트웨어,테스팅,스팅,자격증,Selenium,Appium,Espresso,Postman,API,QA,SDLC,STLC,QA,pivot,CI,CD,e,g,ISTQB,CSTS', '이용하는기술스택/우대사항_자바,웹,앱,플리케이션,AWS', '이용하는기술스택/우대사항_자발적,리팩토링,백오피스,개발경험,웹,RESTful API,SPA,Single Page Application', '이용하는기술스택/우대사항_자사,자사상품,상품,차키,차량,제어,솔루션', '이용하는기술스택/우대사항_자율주행,운항,입상자', '이용하는기술스택/우대사항_자율주행,학위,유관,유관분야,현업,영문,번역,자격증,로그,구축,문서화,Sphinx,Doxygen,Swagger,API,SDK,API', '이용하는기술스택/우대사항_자율주행로봇,로봇,관련분야,프로젝트,전자공학,로봇공학,석사,학위,영어,능통', '이용하는기술스택/우대사항_재무,재무회계,회계,프로세스,구축,모듈,자격증,SAP,FI,SAP,SAP S,HANA', '이용하는기술스택/우대사항_적극적,JPA,Hibernate,ORM,AWS', '이용하는기술스택/우대사항_전공자,공유기,Docsis,GPON,XGS,PON,AP', '이용하는기술스택/우대사항_전공자,기기,소프트웨어,플레이어,협업,능력,SCM,WMS,TMS,PDA,E,commerce,RESTful,API,AWS,GCP,Cloud', '이용하는기술스택/우대사항_전공자,물류시스템,정산,도메인,컨테이너,WMS,TMS,E,commerce,MSA,Microservices Architecture,RESTful,API,Spring Boot,JPA,QueryDSL,AWS,GCP,Cloud,Jenkins,Docker,Kubernetes,CI,CD', '이용하는기술스택/우대사항_전공자,백엔드,엔드,목표,책임,코드리뷰,대용량,트래픽,대응,IT,Java,Python,JS,RESTful API,Open API', '이용하는기술스택/우대사항_전공자,영화,드라마,콘텐츠,클라우드,실시간,대용량,데이터,소규모,프로젝트,리딩,소프트웨어,생명,생명주기,애자일,자일,스프린트,프로세스,B,B,SDLC,MVP', '이용하는기술스택/우대사항_전공자,이중,이중전공,복수,복수전공,스타트업,웹,앱,성능,최적화,문제,해결,열정적,CI,CD', '이용하는기술스택/우대사항_전공자,자격증,배포,툴,프로젝트,빌드,Cloud,ELK,Jenkins,Nexus', '이용하는기술스택/우대사항_전공자,자료구조,네트워크,운영체제,알고리즘,모바일,웹,웹뷰,백엔드,엔드,구축,리딩,Typescript,E,Commerce,Unit,Integration,E,E,CI,CD,or,MSA,Source Management System,Branch Strategy,OAS,OpenAPI Specification', '이용하는기술스택/우대사항_전공자,자료구조,네트워크,운영체제,알고리즘,협업,영상,변환,웹,웹사이트,크롤링,서버,-24,Git,Confluence,Jira,Slack,Jenkins CI,CD,Linux,Web Server,scale out,FFMPEG,AWS EC', '이용하는기술스택/우대사항_전공자,학력,오픈소스,미터', '이용하는기술스택/우대사항_전공자,회계,지식,문제,대응,해결,동료,적극적,성장,부분,시간투자,투자,조직문화,개발문화,IT', '이용하는기술스택/우대사항_전기차,Serverless Framework,AWS Cloud,BackEnd,AWS,Route,API G,W,Lambda,S,Dynamo,SQS,SNS,etc,TDD', '이용하는기술스택/우대사항_전기차,인프라,모빌리티,빌리티,리서치,앱,주도적,토론,주장,프로젝트,능력,EV Infra', '이용하는기술스택/우대사항_전력,재생에너지,에너지,전기관련,자격증,ICT,EMS,PMS,BMS', '이용하는기술스택/우대사항_전문,전문연구요원,편입,프론트', '이용하는기술스택/우대사항_전문,처리,통화,채용전형,1차면접,인성,인성검사,2차면접,Golang,vue,js,AWS,Socket', '이용하는기술스택/우대사항_전문,프로젝트,리딩,유지보수,AWS,Java,Net', '이용하는기술스택/우대사항_전문,프로젝트,리딩,유지보수,거부감,병원,연관,헬스,헬스케어,솔루션,DB,OCS,EMR,OCS,EMR,DW,DB,C,Java', '이용하는기술스택/우대사항_전산,웹,플리케이션,교육기관,이수,머스,프로젝트,레저,전공자,영어,문서,독해,채용절차,포트폴리오,합격자,PHP,e,MB', '이용하는기술스택/우대사항_전산,전공자,뮤케이션,능력,솔루션,클라우드,대용량,데이터,적재,분석,유경험자,Ad,Tech,AWS,GCP', '이용하는기술스택/우대사항_전산학,석사,학위,서버,효율적,인프라,파이프라인,라인,AWS,DevOps,D,ML', '이용하는기술스택/우대사항_전자공학,시스템공학,정보처리기사,처리,기사,사용경험자,운용,Git,Redis,Mysql or MariaDB,Linux', '이용하는기술스택/우대사항_전자공학,전공자,졸업자,기초,마이크로,프로세서,32,혹,하드웨어,펌웨어,능력,레벨,IT,STM,etc,Schematic,FreeRTOS,Linux,ADC,DAC,I,C,SPI,UART,USB,etc,BLE,BT,Wifi,LPWA IoT,LoRa,Cat,M', '이용하는기술스택/우대사항_전자회로,회로,RF', '이용하는기술스택/우대사항_점심,구비,업무용,최고급,노트북,모니터,가설,가설검증,검증,이타,동료', '이용하는기술스택/우대사항_정보보안기사,보안,기사,스크립트,능력,CPPG,Python,Shell Script', '이용하는기술스택/우대사항_정보처리기사,처리,기사,전공자', '이용하는기술스택/우대사항_정산,회계,실시간,데이터,처리,도메인,모델링,웹,프론트,프론트엔드,엔드,능력,지식,기술도입,거부감,개발문화,적극적,E,Commerce,O,O,Kafka,Kafka Streams,NoSQL,MongoDB,Couchbase,AWS,JPA,Hibernate,ORM,UI', '이용하는기술스택/우대사항_제어기,유경험자,차량,차량연동,지식,중국어,영어,능통,Tier,OEM,Tier,Embedded system software,MCU,CAN,I,F,ISO,Functional Safety,Cyber Security', '이용하는기술스택/우대사항_제작,연계,연계해본,라온메디,OpenGL Shader,Unity,D,Custom UI Component,Unity,D,Library,D View,Application,B,B', '이용하는기술스택/우대사항_졸업자,유관,유관업무,경력자,IT', '이용하는기술스택/우대사항_주도적,동영상,커뮤니케이션,협업,능력,긍정적,마인드', '이용하는기술스택/우대사항_주도적,효율적,개발환경,기획,동료,협업,시너지,문제,해결,해결법,프로젝트,스타트업,대기업,Back,end,Devops,CTO', '이용하는기술스택/우대사항_주문,배송,머스,도메인,자사,앱,프로덕트,기획,프로젝트,리딩,CS,PM,PO', '이용하는기술스택/우대사항_주요서비스,유경험자,aws,ec,s,amplify,lambda,SPA,vue,react,angular,Frontend,node,RoR,Django,Backend', '이용하는기술스택/우대사항_줄,유지보수,실서버,서버,경험해본,PHP,CI,CD,DevOps', '이용하는기술스택/우대사항_증시,도메인,자연어,처리,스타트업,성장,주식,투자,AI', '이용하는기술스택/우대사항_지속적인,생산성,학습,블록,블록체인,체인,도메인,지식,적합,3차,런스,처우협의,시간동안,온라인,해치,해치랩스의,스의,미션,역할수행,후보자분의,분의,역량,심도,안내드리고,드리고,소정의,정의,기간동안,디자인,파일,문서,지갑,출하,출하신,피칭,3시간,오프,오프라인,라인,대해,전문,동료,가치관,해치랩스,랩스,협업,지향점,Language,TypeScript,Frameworks,React,Next,js,Style,TailwindCSS,Emotion,Tamagui,Bundler,Webpack,Vite,Metro,Test,Playwright,Vitest,Jest,Workspace,pnpm,TurboRepo,lerna,API', '이용하는기술스택/우대사항_지식,2인,외주,개발사,Dev Ops,AWS Cloud,NET,Go,Java,MSA', '이용하는기술스택/우대사항_지식,Terraform,Scripting Language,Bash,Powershell,Python', '이용하는기술스택/우대사항_지식,모델,학습,배포,논문,주저,경진대회,수상,수상경력,프로젝트,석사,석사학위,학위,AI,AI,AI,Journal,Conference,AI,R,D,AI', '이용하는기술스택/우대사항_지식,심사,대응,Shell script,Java,Network,DBMS,oracle,mysql,mssql,PCI,DSS,ISMS', '이용하는기술스택/우대사항_지식,앱,웹,Aws,Flutter', '이용하는기술스택/우대사항_지식,업계,경력자,Network,Wi,Fi', '이용하는기술스택/우대사항_지식,웹,성능,문제,진단,최적화,브라우저,렌더링,웹서버,웹사이트,보안,리팩토링,증권,핀테크,테크,프로젝트,Web perfomance,UI,UX', '이용하는기술스택/우대사항_직관적,실용적,능력,내시,마크비전,API,Material UI,Semantic UI,Ant Design,UI Framework,React,Typescript,React,query,Lerna,Material UI,Figma,Swagger,Jira,Bitbucket pipelines,AWS', '이용하는기술스택/우대사항_직접,기획,성장,플랫폼,스케일,스케일업,리더,리더십,모바일,앱,웹,백엔드,엔드,데이터베이스,UX,Flutter,NextJS,Typescript,NestJS,Typescript,MySQL,PostgreSQL,ORM', '이용하는기술스택/우대사항_직접,팀빌딩,수평적,성공적,프로그래밍,능력,방법론,Agile,TDD,SW', '이용하는기술스택/우대사항_차량,대규모,프로젝트,Automotive,SW,Embedded Project PM,Jira,Confluence,Tool', '이용하는기술스택/우대사항_책임감,주도적,도메인,안드로이드,모바일,최적화,인터페이스,토스플레이스,Kotlin,RxJava,Kotlin Coroutines,View System,Jetpack Compose,TDS,Toss Design System,Model,View,Whatever', '이용하는기술스택/우대사항_처리,간결함,결함,자동화,커뮤니케이션,보안,보안솔루션,솔루션,구축,정보보호,전자금융,금융,컴플라이언스에,플라이,스에,아키텍처,Active Directory,M,AWS', '이용하는기술스택/우대사항_체인,탐정,분석가,보안,전공자,블록,블록체인,암호화폐,전문,취약점,탐지,자동화,해킹,영어,의사소통,문서,Forensic,Forensic,BoB,Major', '이용하는기술스택/우대사항_최적화,배포,자동화,디자인,프론트,프론트엔드,엔드,반응형,웹,서버,사이드,렌더링,모바일,앱,웹앱,SEO,E,E,UI,SSR', '이용하는기술스택/우대사항_최적화,블록,블록체인,체인,생태계,그림,채팅,지식,열정적,리딩,주니어,개발자,성장,탐구심,AWS,AI,AI,AI', '이용하는기술스택/우대사항_최적화,클라우드,인프라,Monolithic Architecture,AWS', '이용하는기술스택/우대사항_최적화,클라우드,인프라,구축,대용량,데이터,데이터기반,ORM,DB,AWS,NestJS,Microservice,CI,CD,ECR,ECS', '이용하는기술스택/우대사항_최적화,파이프라인,라인,고가용성,구축,프레미스,미스,서버,네트워크,Hadoop,Ecosystem,Apache Airflow,Kafka,AWS,ETL', '이용하는기술스택/우대사항_추가적인,클라우드,플랫폼,배포,자동화,대기업,파견,Spring Security,Spring Data JPA,Spring Cloud,Spring,AWS,Azure,Google Cloud,TDD,Test,Driven Development', '이용하는기술스택/우대사항_축구,스포츠,데이터,효율적,문제,적극적,자동화,생산성,향상,프로세스,Cloud Infra,AWS,Typescript,React,admin,Nest,js,ETL,CI,CD', '이용하는기술스택/우대사항_측정,데이터,성능,최적화,기술적,의사결정,배포,AWS', '이용하는기술스택/우대사항_카메라,모듈,기획,배포,Native,UX', '이용하는기술스택/우대사항_카메라,촬영,이미지,처리,자이로,자이로센서,센서,기울기,이벤트,하드웨어,핸들링,숙지,각각,앱,구성요소,요소,프로덕트,원리,사용법,방법론,구축,도전,마켓,호기심,학습,변수,변수명과,명과,함수,함수명,불편,자발적,발표,공부,Android Platform,Android Architecture Components,Kotlin Coroutine,TDD,Unit Test,UI Test,CI,CD,Code Refactoring,Architecture,Open Source Project,Flutter,Google I,O', '이용하는기술스택/우대사항_커뮤니케이션,논문,트랙,레코드,Ph,d,writing skills', '이용하는기술스택/우대사항_커뮤니케이션,능력,반응형,비동기,동기,프로그래밍,프로세스,패턴,디자인,구축,클린,아키텍처,Rxjava Coroutine,MVVM,MVI,CI,CD,Multi Module Architecture', '이용하는기술스택/우대사항_커뮤니케이션,능력,인프라,데이터,인공지능,AWS,AI', '이용하는기술스택/우대사항_커뮤니케이션,능력,채용절차,포트폴리오,딜랏,서로,온라인,코딩,코딩테스트,처우협의,Git,or,Tea Time,Introduction Meeting,CEO,Casual Talk,CEO', '이용하는기술스택/우대사항_커뮤니케이션,능력,프로세스,개발방법론,방법론,구축,대용량,트래픽,자동화,클라우드,클라우드환경,총판,대행사,Test Driven Development,TDD,CI,CD,NoSQL,AWS,Serverless,API', '이용하는기술스택/우대사항_커뮤니케이션,능력,협업,호기심,생산,생산적인,주도적,영어,의사소통,어려움,퀄리티,서로,피드백,개발자,지식,인사이트,주인의식,책임,SaaS,e,g,Webpack,Rollup,Vite,Dev Talk', '이용하는기술스택/우대사항_커뮤니케이션,변화,적응,성장,대용량,웹,웹서비스,마이크로,마이크로서비스,키텍,AWS', '이용하는기술스택/우대사항_커뮤니케이션,팀워크,자존,능동적', '이용하는기술스택/우대사항_커뮤니케이션,팀웍,소프트스킬', '이용하는기술스택/우대사항_컨테이너,구축,CI,CD,DevOps,MySQL,ELK,Kubernetes', '이용하는기술스택/우대사항_컨테이너,구축,CI,CD,DevOps,MySQL,ELK,Kubernetes,AWS,Cloud', '이용하는기술스택/우대사항_컨테이너,쿠버,티스,빌드,배포,구축,솔루션,CI,CD,REST API,Webhook,SW code Static Analysis,EFK stack,zabbix,APM', '이용하는기술스택/우대사항_컨테이너,쿠버,티스,빌드,배포,구축,오픈소스,솔루션,CI,CD,Jira Plug,in Scriptrunner,REST API,Webhook,Jira,SW,trouble shooting,SW code Static Analysis,Cloud Infra,aws,gcp,azure,nCloud', '이용하는기술스택/우대사항_컨퍼런스,저널,뉴럴,네트워크,경량,최적화,알고리즘,병역,병역특례,특례,Top Tier', '이용하는기술스택/우대사항_컴포넌트,워크스페이스,스페이스,멀티,멀티모듈,모듈,프로젝트,프론트,프론트엔드,엔드,배포,자동화,동영상,스트리밍,국어,구현경험,Storybook,pnpm,i,n', '이용하는기술스택/우대사항_컴포넌트,협업,효율적,개발문화,기술도입,거부감,부천,부천지사,지사,웹,웹툰융합센터,툰,융합,Typescript,Javascript Style,REST API,UI,UX,Git,Jira', '이용하는기술스택/우대사항_컴퓨터공학,소프트웨어,계열,전공자,선형,선형대수,대수,이론', '이용하는기술스택/우대사항_컴퓨터공학,유관,졸업자,소프트웨어,개발자,Micro Service Architecture,Agile,DevOps', '이용하는기술스택/우대사항_컴퓨터공학,전공자,이전,스톡,스톡옵션,디자인,패턴,클린,아키텍처,유닛,유닛테스트,플리케이션,최적화,데이터,분석,의사결정,프로젝트,스프린트,문서,작성경험,React,React Native,OOP,codepush fastlane,CI,CD,UI,PRD,Tech Spec', '이용하는기술스택/우대사항_컴퓨터공학,전산,수학,석사,박사,학위,모바일,제작,Android,iOS,App,RDB,MySQL,NoSQL DB,MongoDB,Redis', '이용하는기술스택/우대사항_컴퓨터공학,전산,수학,석사,박사,학위,모바일,제작,개념,소프트웨어,기초,완성,Android,iOS,App,RDB,MySQL,NoSQL DB,MongoDB,Redis,Async', '이용하는기술스택/우대사항_컴퓨터공학,정보통신,출신,자격증,오픈소스,솔루션,모니터링,자동화,IT', '이용하는기술스택/우대사항_컴퓨터비전,주제,석사,석사학위,학위,학회,프로젝트,효율적,기본기,역량,자료구조,알고리즘,지식,CVPR,ICCV,ECCV,ML,NeurIPS,ICLR,ICML,AAAI,IJCAI,Human Pose Estimation', '이용하는기술스택/우대사항_코딩,앱,성형,PHP,React Native,Python,AI', '이용하는기술스택/우대사항_코어,블록,블록체인,체인,툴,리믹스,믹스,트랙트,EVM,web,js,ether,js,truffle,Golang,RDBMS,NoSQL', '이용하는기술스택/우대사항_콘텐츠,제작,개념적,신기술,인터렉티브,완성도,소통,협업,능력,능동적,책임감,긍정적,MR,OOP,SwiftUI', '이용하는기술스택/우대사항_크래프,크래프톤,합리적,가격,구성원,전용,식당,조식,중식,최고급,리프레시,재충전,헌신,노고,기념품,포상휴가,취미,계발,사내동호회,가족,마음,생일날,상품권,반차,성장,사외,역량,직무교육,인사이트,확대,외국어,글로벌,어학,능력,향상,영어,중국어,일본어,한국어,외부,팀워크,동료,소통,편리,어린이집,직접,휴양시설,리조트,불편,자차,운동비,증진,마인드,스트레스,부정적,긍정적,전문,심리,상담', '이용하는기술스택/우대사항_크롤링,유지보수,유저향,자동화,생산성,Amplitude,GTM,Tableau,BigQuery,Airflow,tech', '이용하는기술스택/우대사항_클라우드,PG,VAN,Net,OpenAPI', '이용하는기술스택/우대사항_클라우드,경력자,웹,프레임워크,프로토콜,모바일,플리케이션,성능,튜닝,AWS,Python,Django,Flask,MySQL,NoSQL,Redis,Cassandra,Elasticsearch,MQTT,FCM,APNS', '이용하는기술스택/우대사항_클라우드,구축,도메인,플랫폼,테이블,최적화,백업,복구,AWS,GCP,Azure,NCP,DB', '이용하는기술스택/우대사항_클라우드,구축,팀원,프로젝트,코드리뷰,커버리지,성장,엔지니어링,긍정적,커뮤니케이션,협업,앱,키오스,플랫펌,앱서비스,AWS,GCP,Test Double,socket,io,redis,MySQL,MariaDB,MongoDB,O,O', '이용하는기술스택/우대사항_클라우드,구축,프로젝트,경력자,인프라,자동화,지역,주5일', '이용하는기술스택/우대사항_클라우드,대규모,구축,문제,해결,인프라,자동화,자동화해본,마이크로,마이크로서비스,아키텍처,문제해결,능력,안정적,Terraform,Helm,Packer,Kubernetes,Istio', '이용하는기술스택/우대사항_클라우드,데이터,분석,프로덕트,분석툴,대시,대시보드,보드,툴,AWS,GCP,A,B,Amplitude,Mixpanel,Redash,Tableau,QuickSight', '이용하는기술스택/우대사항_클라우드,만난,문제,해결,반대,기한,토끼,토끼굴,굴,목표,책,최적,해결책,이후,유지보수,성장,배려,배려심,커뮤니케이션,협업,능력,AWS,Kubernetes,GitOps,CI,CD,Kubernetes,CI,CD', '이용하는기술스택/우대사항_클라우드,모델,학사,석사,학위,프로젝트,자격증,마인드,근본적,구성원,협업,aws,gcp,azure,AI,huggingface platform,open source,or,AI,AI', '이용하는기술스택/우대사항_클라우드,문제,해결,성능,최적화,역량,보안과,규정,대용량,AWS', '이용하는기술스택/우대사항_클라우드,보안,27001,대응,협업,커뮤니케이션,능력,AWS,Azure,GCP,ISO,ISO,ISMS,P,PCI,DSS,CISSP,CISM,CCSP,ISMS,P,PIA,CPPG', '이용하는기술스택/우대사항_클라우드,서버,구축,성능,21,AWS,docker,K,s,Redis,NoSql,DB,JPA,Tool,Spring Boot,x,Java,JPA,IDE,IntelliJ,DB,AuroraDB,MySql,Redis,K,s,EKS,Docker,AWS,Bitbucket,Jira,Confluence,Slack,Postman', '이용하는기술스택/우대사항_클라우드,웹,앱,소통,성장,능력,개발자,문제,해결,비대칭,부동산,주도적,부동산시장,에너지,vue,react,svelte,UX,html,css', '이용하는기술스택/우대사항_클라우드,웹,웹서비스,구축,고민해본,모니터링,탐지,해결,대규모,트래픽,글로벌,자동화,생산성,리팩토링,주도적,프로덕션,배포,명령어,서버,Amazon Web Services,Terraform,IaC,Elastic Stack,Event driven architecture,Datadog,Sumo Logic,Prometheus,Linux', '이용하는기술스택/우대사항_클라우드,웹,프레임워크,대용량,AWS,Python,Django,Flask,MySQL,NoSQL,Redis,Elasticsearch', '이용하는기술스택/우대사항_클라우드,웹,프레임워크,대용량,대용량서비스,AWS,Python,Django,Flask,MySQL,NoSQL,Redis,Elasticsearch', '이용하는기술스택/우대사항_클라우드,유지보수,형상,형상관리,머스,e', '이용하는기술스택/우대사항_클라우드,인증심사,심사,대응,자격증,지식,보안,보안장비,인프라,자동화,프로그램,스크립트,마이그레이션,AWS,AWS,ISMS,AWS SA,On,Premise,N,W,Infra,docker,ansible,terraform,bash,python,go,On,Premise,AWS', '이용하는기술스택/우대사항_클라우드,인프라,구축,도메인,대용량,데이터,처리,대규모,트래픽,객체지향,숙달,성능,최적화,MSA,Microservice Architecture,CQRS,Command Query Responsibility Segregation,AWS,Kafka,Cognito,NoSQL,Application', '이용하는기술스택/우대사항_클라우드,자격증,구축,대규모,서버,자동화,AWS,Kubernetes,Docker', '이용하는기술스택/우대사항_클라우드,자격증,웹,웹서비스,구축,영어,커뮤니케이션,서버,엔지니어,Amazon Web Services,Google Cloud,and Microsoft Azure,Terraform,IaC,OpenStack,Shell Script,Python,IDC', '이용하는기술스택/우대사항_클라우드,자격증,인프라,지식,문제,해결,도전,의사소통,AWS,Developer,SysOps Adminstrator Associate,DevOps Professional,IT', '이용하는기술스택/우대사항_클라우드,적성,53,중급,지식,리눅스,개념,명령어,해킹,방어,방어기술,보안,기초,AWS,AWS,VPC,CI,CD,EC,ELB,RDS,WAF,Route,Cloudfront', '이용하는기술스택/우대사항_클라우드,컨테이너,GraphQL,AWS,Azure,jupyter,superset,Docker,Kubernetes', '이용하는기술스택/우대사항_클라우드,컨테이너,배포,파이프라인,라인,구축,백엔드,엔드,AWS,Azure,Docker,Kubernetes,CI,CD,NET', '이용하는기술스택/우대사항_클라우드,컨테이너,스트레이션,레이션,영어,능통,능통자,AWS,Azure,Google Cloud,Kubernetes,Docker', '이용하는기술스택/우대사항_클라우드,프로토콜,NodeJS,SQL,REST API,AWS,IoT', '이용하는기술스택/우대사항_클라우드,프로토콜,프로젝트,안전,보안,보안기술,대규모,임베디드,시스템프로젝트,협업,역량,Rust,Container', '이용하는기술스택/우대사항_클라우드,플랫폼,구축,최적화,인프라,Data engineer,Mlops,AWS,GCP,Terraform,Infrastructure as Code,Kubernetes,EKS,Mlops', '이용하는기술스택/우대사항_클라우드,플랫폼,데이터,구축,대용량,처리,프로젝트,자격증,Apache Spark,IT', '이용하는기술스택/우대사항_클라이언트,메타버스,스타트업', '이용하는기술스택/우대사항_타인,개발환경,동료,점진적,거부감,UI,UX', '이용하는기술스택/우대사항_타인,소스코드,대용량,웹,웹서비스,컨테이너,자동화,배포,모니터링,AWS,Docker', '이용하는기술스택/우대사항_테스트코드,직관적,실용적,능력,프로젝트,성공적,마크비전,기술스택,Testable,API,Kotlin,Python,Ktor,Netty,Exposed,Gradle,Postgresql,MongoDB,OpenSearch,Redis,AWS,Kubernetes,eks,ELK,Bitbucket pipeline,Sentry,Swagger', '이용하는기술스택/우대사항_테스트코드,필요성,망설임,대규모,트래픽,처리,확장,데이터,아키텍처,프레임웍,웍,대용량,분산,분산처리,제작,빌드,배포,자동화,비동기,메시지,비즈니스,영어,회화,JAVA,Spring,Spring Boot,Web Application,NoSQL,Redis,MariaDB,Redis,Kafka,React,Vue,js,Node,js,CI,CD,MQ,Kafka,AWS SQS,MSA', '이용하는기술스택/우대사항_토대,지향점,레거시,교체,성공적,레벨,플랫폼,스타트업,e,commerce,NestJS,D', '이용하는기술스택/우대사항_토큰,토큰증권,증권,아가,토큰화,미래,주도적,유행,오프라인,커뮤니케이션,금융,자산,블록,블록체인,체인,스타트업,Tokenisation', '이용하는기술스택/우대사항_통계학,지식,논리적,체계적,문제,문제해결,해결,능력,의사전달,전달,협업,UI', '이용하는기술스택/우대사항_툴,Kosko,CDK,S,RDS MySQL,Aurora Serverless,MongoDB,DynamoDB,DB', '이용하는기술스택/우대사항_툴,알고리즘,블록,블록체인,체인,분산,지식,소스코드,오픈소스,생태계,영어,커뮤니케이션,Jira,PoS,PBFT,Cosmos,SDK,Tendermint,Ethereum,EVM,Git,Github,DeFi,NFT', '이용하는기술스택/우대사항_툴,툴링,퍼블릭,클라우드,클러스터,소프트웨어,구축,AWS', '이용하는기술스택/우대사항_툴,프로젝트,리딩,목표,범위,리스크,적극적,주도적,돌,돌봄서비스,봄,관심도,육아관련,Slack,Figma,Confluence,Jira,Amplitude,Tableau', '이용하는기술스택/우대사항_툴,프론트,프론트엔드,엔드,모듈,러에,프레임워크,블록,블록체인,체인,영어,커뮤니케이션,Jira,Webpack,ESBuild,E,E,unit testing,CI,CD,web,js,ether,js,Cosmos,Tendermint,Cosmos,SDK,CosmJS,NFT,DeFi', '이용하는기술스택/우대사항_튜닝,방법론,지식,비관계형,데이터베이스,성능,Data Warehouse', '이용하는기술스택/우대사항_트래픽,처리,앱,웹,성능,최적화,React Native,AWS,UI,UX', '이용하는기술스택/우대사항_트랙트,블록,블록체인,체인,공부,프로젝트,DApp,Typescript,Solidity,Klaytn', '이용하는기술스택/우대사항_트렌드,전공자,대용량,트래픽,페어,코딩,TypeScript,ReactNative,Android,Ios', '이용하는기술스택/우대사항_팀단위,사이클,모빌,모빌빌리티,빌리티,자료구조,알고리즘,머신러닝,호기심,O,O,TDD,AI', '이용하는기술스택/우대사항_팀단위,프로젝트,Android,iOS', '이용하는기술스택/우대사항_팀웍,소통,금융,인더스트리,스타트업', '이용하는기술스택/우대사항_파이프라인,라인,개발환경,운영환경,CI,CD', '이용하는기술스택/우대사항_파이프라인,라인,구축,최적화,프레임워크,컨테이너,모델,서빙,AWS Sagemaker,MLOps,Kubeflow,MLflow,Kubernetes,ECS,ML,LLM Ops,Prompt Engineering', '이용하는기술스택/우대사항_파이프라인,라인,구축,클라우드,인프라,유지보수성,확장성,CI,CD,AWS', '이용하는기술스택/우대사항_파이프라인,라인,안정적,구축,이벤트,메시징,분산,처리,빌드,배포,자동화,대용량,데이터,협업,리팩토링,동료,자극,팀원,리딩,채용절차,완료,평판,평판조회,조회,이후,Kubernetes,Cloud,Native,Batch,Streaming,Kafka,Elasticsearch,Redis,CI,CD,NoSQL,Node,js,TypeScript,Git,Jira,Wiki', '이용하는기술스택/우대사항_파이프라인,라인,파악,자기주도적,주도적,스타트업,Front,end,Back,end API,Front,end,React', '이용하는기술스택/우대사항_파인,파인튜닝,튜닝,모델,성능,검증,프로세스,구축,서버,트래픽,제어,영어,커뮤니케이션,OpenAI GPT API,LangChain,FlowiseAI,RAG,VectorDB,Go,High,speed upstream,Low,speed downstream', '이용하는기술스택/우대사항_패키지,MVVM,Coroutines,Jetpack Compose,android,bluetooth,android,location', '이용하는기술스택/우대사항_패턴,데이터,데이터베이스,프로토콜,협업,SW,Class,ASP,NET Core,MVVM,Linux,Git,Docker,Oracle,SQL Server,MySQL,MariaDB,PostgreSQL,influxDB,MongoDB,Modbus,OPC,UA,SW', '이용하는기술스택/우대사항_퍼블리싱,HTML', '이용하는기술스택/우대사항_포토키오스,키오스,국가사업,프로젝트', '이용하는기술스택/우대사항_표준화,고가용성,확장,효율적,아키텍쳐,GraphQL,gRPC,IDL,Redis,Memcached,In,memory Cache', '이용하는기술스택/우대사항_프레임워크,객체지향,프로그래밍,Jest,Mocha,ELK Stack,AWS', '이용하는기술스택/우대사항_프레임워크,디자인,가이드,커스텀,라이브러리,기술스택,Webpack,Vite,UI,Typescript,Vue,SCSS,Quasar,Vite,AWS', '이용하는기술스택/우대사항_프레임워크,디자인,구축,탐구,웹,웹최적화,최적화,성능,시용기간,구성원,조직문화,핵심가치,책임감,역량,진보,변화,도전,성장,목표,업계,전문,소통,다양성,추진력,외국어,글로벌,테크,플랫폼,크루,디지털,교육경험,혁신,REST API,SSR,StroyBook,Cypress,Playwright,E,E,Interview Process,Core Value,Accountability,Progress,Professionalism,Team work,Mission,Vision,Misson,Vision,AI', '이용하는기술스택/우대사항_프레임워크,라이브러리,배포,구축,영어,소통,어려움,인공지능,구글,틱스,서치,서치콘솔,리터,상태관리,스타일링,클라우드,컴퓨팅,Next,js,D,js,AWS,CI,CD,TypeScript,SPA,React,Next,js,ContextAPI,React,Query,scss,emotion,styled,components,AWS,Amplify,EC,CI,CD,Github Actions', '이용하는기술스택/우대사항_프레임워크,무리,블록,블록체인,체인,프로젝트,서버,Next,js,React,Web,RESTful API,UI,UX', '이용하는기술스택/우대사항_프레임워크,보안,클린,아키텍처,프로젝트,컨테이너,배포,데이터,비즈니스,아키텍쳐,Spring,REST API,Python,Django,flask,backend,DDD,Kubernetes,Docker', '이용하는기술스택/우대사항_프레임워크,빌드,툴,라이브러리,지식,클라우드,JavaScript,DevOps,Front,end', '이용하는기술스택/우대사항_프레임워크,적극적,클라우드,아키텍처,영어,AWS,Azure', '이용하는기술스택/우대사항_프레임워크,효율,향상,자동화,스타트업,주도적,긍정적,적극적,커뮤니케이션,Next js,UX,UI', '이용하는기술스택/우대사항_프로그래밍,단순,문제,자동화,튜닝,네트워크,전문적,지식,대용량,트래픽,대응,프로젝트,프로세스,보안,계신,SRE,Go,Rust,Python,Platform,Service Mesh,Linkerd,Istio,AppMesh,Linux Kernel,CNCF,DevOps,Container,microservice architecture,Router,Switch,WiFi,VPN,Firewall', '이용하는기술스택/우대사항_프로그래밍,자동화,배포,스크립팅,데이터베이스,최적화,대용량,데이터,처리,트래픽,아키텍,업무처리,적극적,피드백,내고,Typescript,OAuth,API,Docker', '이용하는기술스택/우대사항_프로그래밍,전문,프론트,프론트엔드,엔드,백엔드,데이터,오너십,성장,동료,개발자,디자이너,기획자,적극적,문제,문제해결,해결,커뮤니케이션,애자,프로세스,스프린트,빌드,배포,자동화,지식,Java,Kotlin,TypeScript,JavaScript,MVP', '이용하는기술스택/우대사항_프로그래밍,출장,출장가능자,4주,프로젝트,Cloud,GCP,AWS,Azure,RESTful API,CNCF', '이용하는기술스택/우대사항_프로그래밍,크로스,플랫폼,모바일,앱,디버깅,성능,트렌드,프로젝트,로그,산업기능요원,편입,보충역,Flutter,GraphQL,Browser', '이용하는기술스택/우대사항_프로그램,제작,배포,네트워크,POS,DLL,Delphi,C,MFC', '이용하는기술스택/우대사항_프로덕트,인프라,물류서비스,연동경험,머스,솔루션,지그재그,사방,사방넷,플레이오토,오토,AWS,ex', '이용하는기술스택/우대사항_프로덕트,클라우드,데이터,인프라,구축,시각화,툴,프로세싱,분석,모델링,도출,Apache Spark,AWS,BI,Tableau,Apache Superset,Power BI', '이용하는기술스택/우대사항_프로메테우스,메트릭,수집,모니터링,모듈,패키지,처리,파이프라인,라인,구축,모델,서빙,RPM,dpkg,Rust,Go,ML', '이용하는기술스택/우대사항_프로세스,가이드,컨벤션,기술스택,Web,TypeScript,React,NextJS,Redux,Redux Saga,styled,components', '이용하는기술스택/우대사항_프로세스,자료구조,네트워크,운영체제,알고리즘,라이브러리,유경험자,클린,클린코드,리팩토링,API,Python Pandas,Falcon,FastAPI,Swagger,OpenAPI,RESTful', '이용하는기술스택/우대사항_프로젝트,RTOS,JAVA', '이용하는기술스택/우대사항_프로젝트,mobile native application,JIRA Communication,AEM Authoring,PM', '이용하는기술스택/우대사항_프로젝트,고도화,파이프라인,라인,클라우드,인프라,적합성,계발,애착,줄,아시,효율성,프로세스,성장,매사,주도적,책임감,TypeScript,NestJS,MLOps,Terraform,IaC,MSA,TDD,Test Driven Development,LOVO Backend,TypeScript,NestJS,Express,NodeJS,AWS ECS,EC,Lambda,API Gateway,S,CloudFront,SQS,SNS,SageMaker,AWS CodePipeline,CodeBuild,CodeDeploy,CodeStar,AWS CloudWatch,CloudTrail,DataDog,Pulumi,IaC,MongoDB,Stripe,LOVO Backend', '이용하는기술스택/우대사항_프로젝트,고도화,파이프라인,라인,클라우드,인프라,적합성,계발,애착,줄,아시,효율성,프로세스,성장,매사,주도적,책임감,TypeScript,NestJS,MLOps,Terraform,IaC,MSA,TDD,Test Driven Development,LOVO Backend,TypeScript,NestJS,Express,NodeJS,Python,Flask,FastAPI,PyTorch,AWS ECS,EC,Lambda,API Gateway,S,CloudFront,SQS,SNS,SageMaker,AWS CodePipeline,CodeBuild,CodeDeploy,AWS CloudWatch,CloudTrail,DataDog,Terraform,IaC,MongoDB,Redis,Stripe,LOVO', '이용하는기술스택/우대사항_프로젝트,구축,배포,글로벌,국어,효율적,워크로드,로드,대규모,트래픽,대응,성능,최적화,백엔드,엔드,A,Z,React Native Code Push,AWS', '이용하는기술스택/우대사항_프로젝트,구축,배포,글로벌,런칭,효율적,워크로드,로드,대규모,트래픽,대응,성능,최적화,React Native,A,Z,AWS', '이용하는기술스택/우대사항_프로젝트,논문,모니터링,로봇,배경,배경지식,지식,최적화,성능,소프트웨어,석사,박사,학위,D Data,Computer Vision,Machine Learning,ROS,Robot operating system,CUDA,Tensor RT,Deep Learning Network,GAN,Photorealistic synthetic data', '이용하는기술스택/우대사항_프로젝트,대용량,분산,분산처리,처리,구축,객체지향,숙달,문제,문제해결,해결,능력,커뮤니케이션,MSA,kafka,Redis,CI,CD,AWS', '이용하는기술스택/우대사항_프로젝트,데이터,파이프라인,라인,솔루션,백엔드,엔드,능력,서버,아키텍처,클린,도메인,공부,오픈소스,듀,듀테크,테크,스타트업,개발자,기획자,디자이너,협업,부채,효율적,토론,적극적,네이밍,성장,업계,프로세스,TDD,MSA,Spark,Kafka,DDD,DDD,Trouble Shooting', '이용하는기술스택/우대사항_프로젝트,도메인,검증,역량,소프트웨어,프로세스,QA', '이용하는기술스택/우대사항_프로젝트,디컴파일,컴파일,셈,앱,앱권한,권한,분석,일치,입사지원서,포트폴리오,APK,IPA,pseudo code,Unreal Engine,Unity Engine,Anti,Cheat', '이용하는기술스택/우대사항_프로젝트,리딩,리더,데이터,재생에너지,에너지,전력,전력시장,스타트업,정보통신,자격증,Design,UI framework,Library,B,C,B,B', '이용하는기술스택/우대사항_프로젝트,메인,메인테이너,이너,2인,협업,네트워크,프로그래밍,암호학적,학적,프리미티브,분산,컴퓨팅,블록,블록체인,체인', '이용하는기술스택/우대사항_프로젝트,배포,개발주기,논리적,토론,능력,문제,식별,해결,팀원,타인,개발환경,동료,점진적,거부감,UI,UX', '이용하는기술스택/우대사항_프로젝트,배포,머신러닝,오픈소스,딥러닝,논문,컴퓨터과학,석박사,박사,학위,컨퍼런스,출판,ML,AI,Kaggle,AI,NLP,Top Tier', '이용하는기술스택/우대사항_프로젝트,배포,오픈소스,Unit Test,UI Test,ARCore,Connectivity,NFC', '이용하는기술스택/우대사항_프로젝트,배포,이티브,앱,플랫폼,의사소통,능력,나신,최적화,리팩토링,개발자,디자이너,기획자,협업,동료,누비랩,기술자,문제,해결,마음,집중,기술적,부분,주도적,돌파,자세,프로베이션,역량,프로세스,런스,포트폴리오,깃,깃허브,허브,형식,스펙터라,리더,Native Android,Kotlin,Screen Transition,React Native,Typescript,React Query,Firebase,App Library,Github,FastLane,Codepush,PDF,CEO,HR', '이용하는기술스택/우대사항_프로젝트,부하,부하테스트,자동화,구축,대용량,트래픽,처리,분산,데이터,플리케이션,코드리뷰,품질향상,향상,MSA,System Architecture,MSA,LINUX,DoCKER,AWS ECS,JMeter,Junit,AWS,CI,CD,Server Architecture,Kafka,Redis,Elasticsearch', '이용하는기술스택/우대사항_프로젝트,분석,리딩,핀테크,테크,예약,예약서비스,트렌드,지식,개선점,목표,IT,Ownership', '이용하는기술스택/우대사항_프로젝트,블록,블록체인,체인,백엔드,엔드,크립토,Go Ethereum,geth,Open Ethereum,parity,Solidity,Web,EVM,Ethereum,Polygon,Layer,Layer,API,AWS DevOps,Web,js,Ethers,js', '이용하는기술스택/우대사항_프로젝트,빌드,자동화,배포,협력,협력툴,툴,팀원,협업,PL,PM,CI,CD,Notion,Jira,HTML,CSS,JavaScript', '이용하는기술스택/우대사항_프로젝트,사이클,구축,프론트,프론트엔드,엔드,유닛,유닛테스트,디자인,인프라,핀테크,테크,도메인,E,E,PWA,Progressive Web Apps,AWS,CI,CD', '이용하는기술스택/우대사항_프로젝트,소스코드,형상,형상관리,협업,데이터,크롤링,PL,Git', '이용하는기술스택/우대사항_프로젝트,안드로이드,아이,아이폰,폰,앱,플랫폼,Flutter,RESTFul,UX,UI', '이용하는기술스택/우대사항_프로젝트,오픈소스,웹,웹서비스,프로세스,셋팅,리딩,비즈니스,커뮤니케이션,Next,js,TypeScript', '이용하는기술스택/우대사항_프로젝트,웹,책임감,성실,React,Vue,SPA,TypeScript', '이용하는기술스택/우대사항_프로젝트,유경험자,통신사,부서와의,조율,소통,SI,PM,PL,PO', '이용하는기술스택/우대사항_프로젝트,유지보수,인증서,네트워크,보안,보안지식,지식,교육기관,OO', '이용하는기술스택/우대사항_프로젝트,해커톤,동향,AI,AI,AI', '이용하는기술스택/우대사항_프로토콜,헤더,캐시,웹,웹소켓,소켓,대량,분산,분산처리,처리,레플리카,대응,흐름,흐름제어,제어,쇼핑몰,솔루션,디비,운영경험,컴퓨터공학,전공자,자료구조,네트워크,운영체제,알고리즘,대용량,트래픽,성능,최적화,Web,http,proxy,Network,tcp,geoip,firewall,dns,vpn,vpc,MySQL DB,MongoDB,Aggregate,ReplSet,ElasticSearch,Linux,Web Server,scale out,Queue,bulk,E,Commerce,Secure Coding', '이용하는기술스택/우대사항_프론트,프론트엔드,엔드,개발경험,백엔드개발,React,vercel,UI,UX', '이용하는기술스택/우대사항_프론트,프론트엔드,엔드,백엔드,풀스택,개발자,스타트업,스프린트,채용절차,역량,런스,Jira', '이용하는기술스택/우대사항_프론트,프론트엔드,엔드,성능,검색엔진최적화,엔진,최적화,성장,백앤드,앤드,개발자,소통,SEO,TDD', '이용하는기술스택/우대사항_프론트,프론트엔드,엔드,성능,최적화,연구활동,트래픽,웹,웹서비스,인앱브라우저,앱,브라우저,협업,협업툴,툴,Jira,Confluence,Slack,Github,Figma', '이용하는기술스택/우대사항_프론트,프론트엔드,엔드,성능,최적화,프로젝트,업그레이드,커스텀,애니메이션,패턴,모바일,앱,심사,정책,지식,데이터,엔지니어링,React native,React native,Android,iOS,Container,Presenter,Javascript,React native,Sendbird react native sdk,CI,CD', '이용하는기술스택/우대사항_프론트,프론트엔드,엔드,웹,성능,노하우,고도화,플리케이션,제작,능력,백엔드,사이드,개념,Three,JS,D', '이용하는기술스택/우대사항_플랫폼,AWS', '이용하는기술스택/우대사항_플랫폼,기획,사이클,역량,동영상,유튜브,지식,디자인,대용량,트래픽,디자이너,협업,협업역량,HTTP,Restful,API', '이용하는기술스택/우대사항_플랫폼,기획,회원,회원정책,정책,배포,데이터,Admin,Flow,Confluence,JIRA,GA', '이용하는기술스택/우대사항_플랫폼,도메인,백로그,로그,주도적,문제,해결,엣지케이스,케이스,Backend Production,SaaS,Python,FastAPI,SQLAlchemy,Pytest,RDBMS,Microservice', '이용하는기술스택/우대사항_플랫폼,라이브러리,이유,고가용성,확장,대규모,실시간,트래픽,처리,트러블슈팅,성능,성능개선,구체적,토스플레이스,Kotlin,Java,Gradle,Netty,Spring Mvc,Spring Webflux,Spring Boot,Spring Cloud Gateway,Spring Cloud Config,JPA,Hibernate,MySQL,MongoDB,Hadoop,Redis,Memcached,Zookeeper,Kubernetes,Istio,Haproxy,Nginx,GoCD,ArgoCD,Consul,Vault,Git,Docker,Spinnaker,Jenkins,Ceph,Harbor,Kafka,ELK,Prometheus,Thanos,influxData,Grafana', '이용하는기술스택/우대사항_플랫폼,라이브러리,이유,고가용성,확장,대규모,실시간,트래픽,처리,트러블슈팅,성능,성능개선,구체적,토스플레이스,패키지,빌드,React,TypeScript,Next,js,React,Query,Recoil,Yarn Berry,Pnpm,Webpack,ESBuild,SWC,Babel,Jest,Vitest,CI,CD,GitHub Actions', '이용하는기술스택/우대사항_플랫폼,백엔드,엔드,개발경험,스타트업,풀스택,프로젝트,E,Commerce,Commerce,Spring Framework,React,Vue,SPA,IT,Team lead,AWS,EC,S,Git,Jira,Confluence', '이용하는기술스택/우대사항_플랫폼,비즈니스,머스,동영상,런칭,스타트업,성장,트렌드,적극적,학습,IT,LMS,to', '이용하는기술스택/우대사항_플랫폼,서버,중계,프로토콜,The Things Stack,LoRaWAN,IoT,NB,IoT,IoT,IoT', '이용하는기술스택/우대사항_플랫폼,성능,패턴,객체지향,프로그래밍,서버,배포,모니터링,엔진,Nest,js,E,Commerce,ORM,Typeorm,Prisma,JPA,MVC,OOP,Container,Sentry,Datadog,MQ,RabbitMQ,Redis Pub,Sub,ElasticSearch', '이용하는기술스택/우대사항_플랫폼,스타트업,프로젝트,E,Commerce,Commerce', '이용하는기술스택/우대사항_플랫폼,아키텍쳐,브랜치,지식,페어,코딩,긍정적,한정적,발생시,트러블슈팅,Git,TDD', '이용하는기술스택/우대사항_플랫폼,적극적,커뮤니케이션', '이용하는기술스택/우대사항_플랫폼,적극적,커뮤니케이션,Python,TensorFlow,Random Forest,NLP,React', '이용하는기술스택/우대사항_플랫폼,키텍,패턴,지식,금융,증권,웹,Android,iOS,MVVM,MVC,MVP,JavaScript,TypeScript,HTML,CSS,Agile', '이용하는기술스택/우대사항_플랫폼,프로세스,구축,자동화,소프트웨어,테스팅,스팅,자격증,스토리,포트폴리오,형식,QA,QA,ISTQB,CSTS,PDF', '이용하는기술스택/우대사항_플랫폼,프로세스,정립,자격증,QA,ISTQB,CSTS', '이용하는기술스택/우대사항_플러터,동영상,동영상서비스,코드푸시,푸시,프론트,프론트엔드,엔드,프레임워크,앱,앱결제,Svelt,React', '이용하는기술스택/우대사항_플리케이션,문제점,주도적,책임감,문제,정의,해결책', '이용하는기술스택/우대사항_플리케이션,애니메이션,도메인,플랫폼,오픈소스,모바일,Contribution', '이용하는기술스택/우대사항_플리케이션,지식,오픈소스,프로젝트,기여경험,마이크로,마이크로서비스,아키텍쳐,클라우드,개발경험,IPS,IDS,Kubernetes,AWS', '이용하는기술스택/우대사항_플리케이션,크로스,크로스플랫폼,플랫폼,앱,국가유공자,보훈,보훈대상자,고용촉진지원금,촉진,iOS,Android,Mac,Flutter,React Native', '이용하는기술스택/우대사항_핀테크,테크,금융,금융기업,보안,27001,구축,ISO,PCI,DSS,ISMS,P,DevSecOps,Python,Golang', '이용하는기술스택/우대사항_하드웨어,디버깅,동아리,학회,전공학점,정보처리기사,처리,기사,자격증,BLE MCU,RTOS,PC GUI,C,or', '이용하는기술스택/우대사항_하드웨어,제어,C,Ex,Delphi,C,Cloud Server', '이용하는기술스택/우대사항_하이브리드,모바일,앱,웹,웹표준,보안,디자인,패턴,소프트웨어,엔지니어링,학사,SEO,OOP,MVVM,CS,CE', '이용하는기술스택/우대사항_하이브리드,앱,이티브,상호,상호작용,작용,반응형,웹,디자인,프로젝트,성능,최적화,객체지향,숙달,JavaScript,bridge,AWS,Application', '이용하는기술스택/우대사항_학사,학위,이미지,처리,프로젝트,인턴,인턴십,알고리즘,자료구조,프로그래밍,능숙자,숙자,C,C,Javascript,Python,device,camera,board,controller', '이용하는기술스택/우대사항_학술대회,논문,컴퓨터공학,산업공학,통계학,수학,전공자,AI Engineering,ML,Ops,AI,ML', '이용하는기술스택/우대사항_학습,능력,문제,해결,프로세스,사이언스,전공자,문서화,나신,그래픽스,팀워크,커뮤니케이션,월드,게임,메타버스,D', '이용하는기술스택/우대사항_학습,대용량,데이터,처리,트래픽,마이크로,마이크로서비스,키텍,테이블,블록,블록체인,체인,지식,동료,성장,NoSQL,RDS', '이용하는기술스택/우대사항_학습,데이터,구축,지식,라벨,라벨링,법률,AI,AI,Python', '이용하는기술스택/우대사항_학습,해결,모니터링,소프트웨어,아키텍처,동료,동기,동기부여,기기,기획,디자인,문제,정의,해결책,협업,능력,업무영역,한계,성장,성장과정,능동적,배려,마음,적극적,태도,Webflux,Grafana,pinpoint,IOT', '이용하는기술스택/우대사항_학위,네트워크,보안,클라우드,구축,자동화,모니터링,성능,부하,부천,부천지사,지사,웹,웹툰융합센터,툰,융합,grafana,prometheus,CI,CD,jenkins,codedeploy,Spring Boot', '이용하는기술스택/우대사항_학회,저널,논문,자기주도적,주도적,스타트업,친구,CVPR,ICCV,ECCV,NIPS,AAAI,SIGGRAPH', '이용하는기술스택/우대사항_학회,저널,저자,프로젝트,소프트웨어,엔지니어링,역량,모델,수정,프로세스,기업문화적합,Computer Vision,Graphics,CVPR,ICCV,NIPS,SIGGRAPH,Implicit Neural Representation,NeRF,D Reconstruction,Geneartive AI,Multi,modal AI,Reinforcement Learning', '이용하는기술스택/우대사항_함수,프로그래밍,동시성,모바일,이티브,크로스,크로스플랫폼,플랫폼,인프라,구축,프로토콜,주도적인,테스트코드,인공지능,과제전형,Scala,Clojure,Golang,Rust,Spring WebFlux,Coroutine,RxKotlin,Kotlin,Swift,Flutter,React Native,AWS,gRPC,Protobuf', '이용하는기술스택/우대사항_항공,항공예약엔진,예약,엔진,호텔,호텔예약엔진,여행시스템', '이용하는기술스택/우대사항_해당직무,공공,공공기관,공공데이터,데이터,개방,프로젝트,유경험자,포트폴리오', '이용하는기술스택/우대사항_해당직무,인턴,인턴경력,알바,알바경험,통계,통계분석능숙자,분석,숙자,컴퓨터활용능력,능력', '이용하는기술스택/우대사항_해당직무,포트폴리오,영상,데이터,처리,프로젝트', '이용하는기술스택/우대사항_해당직무,포트폴리오,영상,데이터,처리,프로젝트,머신러닝,유경험자,Python', '이용하는기술스택/우대사항_행동,분석,데이터,엔지니어링,지식,이커머스,성장,비즈니스,journey', '이용하는기술스택/우대사항_헥사고날,아키텍처,소프트웨어,Go,Python,MySQL,DynamoDB,Redis,Elasticsearch,AWS,Kubernetes,cloud native,Kafka', '이용하는기술스택/우대사항_헥사고날,아키텍처,소프트웨어,마이크로,마이크로서비스,도메인,대용량,트래픽,처리,MySQL,DynamoDB,Redis,Elasticsearch,AWS,Kubernetes,cloud native,Kafka', '이용하는기술스택/우대사항_헬스,헬스케어,개발환경,구축,배포,데이터,데이터베이스,최적화,파이프라인,라인,자동화,Docker,MVP,SQL,NoSQL,CI,CD', '이용하는기술스택/우대사항_헬스,헬스케어,자연어,모델,영문,논문,분석,LLM,Linux,Docker', '이용하는기술스택/우대사항_헬스,헬스케어,플랫폼,앱,성능튜닝,노하우,주도적,열정적,협업,DevOps', '이용하는기술스택/우대사항_협업,100만,피드백,실험,가설,검증,네트워크,암호화,알고리즘,문제,해결,하위,호환,대규모,시나리오,구축,문서,커뮤니티,발표,JIRA,Notion,Asana,Agile,Scrum,Sprint,MAU,A,B Test,Architecture Migration,Android,Automated UI Test,Android Library,SDK,API,Android,Android', '이용하는기술스택/우대사항_협업,Typescript,ES,GraphQL', '이용하는기술스택/우대사항_협업,블록,블록체인,체인,암호화폐,거래소,증권사,금융권,Github,AWS,Lambda,EC,API Gateway,RDS', '이용하는기술스택/우대사항_협업,소통,플랫폼,백엔드,엔드,트래픽,웹,웹서비스,인앱브라우저,앱,브라우저,페어,코딩,웹사이트,성능,측정,최적화,보안,Node,js,Next,js,Webpack,Lint,TypeScript,JavaScript', '이용하는기술스택/우대사항_협업,자동화,스페이스,스페이스워크,TypeScript,React Native,SVG,Canvas,Git,Jira', '이용하는기술스택/우대사항_협업,자율주행,엔진,다종,하드웨어,네트워크,구축,지식,계신,Git,Unity or Unreal,D,FMI,Functional Mockup Interface,OSI,Open Simulation Interface', '이용하는기술스택/우대사항_협업,툴,게임,글로벌,JIRA,Slack,Notion,Product', '이용하는기술스택/우대사항_협업,툴,성능,디자인,패턴,팀원,부서와의,소통,그래픽,클린,아키텍처,Notion,Slack,Figma,OpenGL ES,MVVM', '이용하는기술스택/우대사항_협업,툴,프레임워크,애플리케이션,웹,성능,혹,노하우,개발자,플로우,지식,GitHub,Slack,Zeplin,NextJS,NestJS,Jest,Mocha,UI,CI,CD,AI', '이용하는기술스택/우대사항_협업,프레임워크,의욕,Sass,svn,git,Gulp,Webpack,CI,CD,Vuejs,React,UI,UX', '이용하는기술스택/우대사항_협업,프레임워크,트렌드,Rest API,API,Git,redmine', '이용하는기술스택/우대사항_협업,프로젝트,배포,알고리즘,네트워크,데이터베이스,프론트,벡엔드,엔드,데이터,기능단위,개발자,애자일,자일,프로세스,스프린트,빌드,자동화,개발환경,구축,지식,Swagger,MVP', '이용하는기술스택/우대사항_협업,하드웨어,제어,개발이력,개발자,Python,MSA', '이용하는기술스택/우대사항_협업,협업도구,툴,영어,의사소통,Jira,Confluence,Slack,optional,Xebrio,Visure', '이용하는기술스택/우대사항_협업,협업툴,툴,기획,블록,블록체인,체인,금융,금융업계,업계,종사자,성공적,프로덕트,디테일,의사소통,능력,Jira,Figma,Lucidcharts,Notion,A to Z', '이용하는기술스택/우대사항_형상,형상관리,영어,개발관련,의사소통,Linux Application,Linux,Android Application,Framework,Git,Yocto,Android Build', '이용하는기술스택/우대사항_형상,형상관리,협업,협업관리,툴,Docker,git', '이용하는기술스택/우대사항_환경자,보안,클라우드,배포,스키마,데이터,데이터링,스토,스토리지,활동적,긍정적,E,Commerce,ASP,Net,DB,DB', '이용하는기술스택/우대사항_환영,대용량,트래픽,처리,클라우드,AWS', '이용하는기술스택/우대사항_환영,리팩토링,실천,열린,마인드,대용량,node,js,typescript,Micro,Service Architecture,Front,End', '이용하는기술스택/우대사항_환영,비지니스,목표,프로덕트,실력,문제,문제해결,해결,디자이너,협업,커뮤니케이션,무리,싸이클,리더십,소규모,스타트업,성능,최적화,이해도과,PM,A,Z,TDD,BDD', '이용하는기술스택/우대사항_환영,비지니스,목표,프로덕트,실력,문제,문제해결,해결,디자이너,협업,커뮤니케이션,무리,싸이클,리더십,소규모,스타트업,성능,최적화,이해도과,인터랙션,애니메이션,PM,A,Z,TDD,BDD,GUI', '이용하는기술스택/우대사항_효율적,데이터,데이터베이스,성능,최적화,백엔드,엔드,아키텍처,프레임워크,라이브러리,구축,프로덕트,기획,배포,사이클,동료,누비랩,개발자,기술자,문제,해결,디자이너,기획자,마음,집중,기술적,부분,주도적,돌파,자세,프로베이션,역량,엔지니어,도전적,주세,단순,나열,누비어,프로세스,런스,포트폴리오,깃,깃허브,허브,형식,프로젝트,스펙터라,플랫폼,리더,Node,js,CI,CD,Python,FastAPI,Django,Flask,Node,js,Nest,js,Typescript,Javascript,TypeOrm,MySQL,mongoDB,Python,AWS,EKS,ECS,ECR,S,EC,RDS,RedShift,etc,Slack,Jira,G,Suite,Github,Docker,user side,Lesson learned,Nuvier,PDF,CEO,HR', '이용하는기술스택/우대사항_nan', '직급']\n",
      "Shape of transformed DataFrame: (1850, 1019)\n"
     ]
    }
   ],
   "source": [
    "# 전처리된 설명변수들을 구하기\n",
    "X_train_processed = preprocessor.fit_transform(X)\n",
    "\n",
    "# ColumnTransformer에서 변환된 각 특성의 이름을 가져와서 컬럼 이름으로 사용\n",
    "column_names = ['const'] + preprocessor.named_transformers_['cat'].get_feature_names_out(categorical_features).tolist() + numeric_features.tolist()\n",
    "\n",
    "# 출력하여 확인\n",
    "print(\"Column names:\", column_names)\n",
    "print(\"Shape of transformed DataFrame:\", X_train_processed.shape)"
   ]
  },
  {
   "cell_type": "markdown",
   "metadata": {},
   "source": [
    "### 1. feature에 비해 인덱스가 적어 유의미한 결과를 얻기 힘듦 (1850, 1019)\n",
    "### 2. 모델이 0을 예측할 확률이 낮은 수치인 6%"
   ]
  },
  {
   "cell_type": "markdown",
   "metadata": {},
   "source": []
  }
 ],
 "metadata": {
  "kernelspec": {
   "display_name": "base",
   "language": "python",
   "name": "python3"
  },
  "language_info": {
   "codemirror_mode": {
    "name": "ipython",
    "version": 3
   },
   "file_extension": ".py",
   "mimetype": "text/x-python",
   "name": "python",
   "nbconvert_exporter": "python",
   "pygments_lexer": "ipython3",
   "version": "3.11.5"
  }
 },
 "nbformat": 4,
 "nbformat_minor": 2
}
