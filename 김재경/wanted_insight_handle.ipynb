{
 "cells": [
  {
   "cell_type": "code",
   "execution_count": 19,
   "metadata": {},
   "outputs": [],
   "source": [
    "import pandas as pd\n",
    "import re"
   ]
  },
  {
   "cell_type": "code",
   "execution_count": 8,
   "metadata": {},
   "outputs": [
    {
     "data": {
      "text/html": [
       "<div>\n",
       "<style scoped>\n",
       "    .dataframe tbody tr th:only-of-type {\n",
       "        vertical-align: middle;\n",
       "    }\n",
       "\n",
       "    .dataframe tbody tr th {\n",
       "        vertical-align: top;\n",
       "    }\n",
       "\n",
       "    .dataframe thead th {\n",
       "        text-align: right;\n",
       "    }\n",
       "</style>\n",
       "<table border=\"1\" class=\"dataframe\">\n",
       "  <thead>\n",
       "    <tr style=\"text-align: right;\">\n",
       "      <th></th>\n",
       "      <th>기업명</th>\n",
       "      <th>업종분류</th>\n",
       "      <th>사원수</th>\n",
       "      <th>설립연도</th>\n",
       "      <th>매출액</th>\n",
       "    </tr>\n",
       "  </thead>\n",
       "  <tbody>\n",
       "    <tr>\n",
       "      <th>0</th>\n",
       "      <td>젭</td>\n",
       "      <td>시스템ㆍ응용 소프트웨어 개발 및 공급업</td>\n",
       "      <td>NaN</td>\n",
       "      <td>2년 (2022년 설립)</td>\n",
       "      <td>-원</td>\n",
       "    </tr>\n",
       "    <tr>\n",
       "      <th>0</th>\n",
       "      <td>서커스컴퍼니</td>\n",
       "      <td>시스템ㆍ응용 소프트웨어 개발 및 공급업</td>\n",
       "      <td>13명</td>\n",
       "      <td>11년 (2013년 설립)</td>\n",
       "      <td>22억2,380만원</td>\n",
       "    </tr>\n",
       "    <tr>\n",
       "      <th>0</th>\n",
       "      <td>블로코</td>\n",
       "      <td>시스템ㆍ응용 소프트웨어 개발 및 공급업</td>\n",
       "      <td>26명</td>\n",
       "      <td>9년 (2015년 설립)</td>\n",
       "      <td>22억1,128만원</td>\n",
       "    </tr>\n",
       "    <tr>\n",
       "      <th>0</th>\n",
       "      <td>피매치</td>\n",
       "      <td>자연과학 및 공학 융합 연구개발업</td>\n",
       "      <td>NaN</td>\n",
       "      <td>3년 (2021년 설립)</td>\n",
       "      <td>-원</td>\n",
       "    </tr>\n",
       "    <tr>\n",
       "      <th>0</th>\n",
       "      <td>만나플래닛</td>\n",
       "      <td>시스템ㆍ응용 소프트웨어 개발 및 공급업</td>\n",
       "      <td>NaN</td>\n",
       "      <td>8년 (2016년 설립)</td>\n",
       "      <td>123억8,113만원</td>\n",
       "    </tr>\n",
       "    <tr>\n",
       "      <th>...</th>\n",
       "      <td>...</td>\n",
       "      <td>...</td>\n",
       "      <td>...</td>\n",
       "      <td>...</td>\n",
       "      <td>...</td>\n",
       "    </tr>\n",
       "    <tr>\n",
       "      <th>0</th>\n",
       "      <td>인센드</td>\n",
       "      <td>시스템ㆍ응용 소프트웨어 개발 및 공급업</td>\n",
       "      <td>NaN</td>\n",
       "      <td>1년 (2023년 설립)</td>\n",
       "      <td>-원</td>\n",
       "    </tr>\n",
       "    <tr>\n",
       "      <th>0</th>\n",
       "      <td>큐픽스</td>\n",
       "      <td>의약품, 의료용품 및 화장품 도매업</td>\n",
       "      <td>NaN</td>\n",
       "      <td>7년 (2017년 설립)</td>\n",
       "      <td>-원</td>\n",
       "    </tr>\n",
       "    <tr>\n",
       "      <th>0</th>\n",
       "      <td>엔비티</td>\n",
       "      <td>세제, 화장품 및 광택제 제조업</td>\n",
       "      <td>6명</td>\n",
       "      <td>8년 (2016년 설립)</td>\n",
       "      <td>14억5,461만원</td>\n",
       "    </tr>\n",
       "    <tr>\n",
       "      <th>0</th>\n",
       "      <td>퍼니지</td>\n",
       "      <td>경비 및 경호 서비스업</td>\n",
       "      <td>6명</td>\n",
       "      <td>12년 (2012년 설립)</td>\n",
       "      <td>-원</td>\n",
       "    </tr>\n",
       "    <tr>\n",
       "      <th>0</th>\n",
       "      <td>아이오바이오</td>\n",
       "      <td>자연과학 연구개발업</td>\n",
       "      <td>37명</td>\n",
       "      <td>13년 (2011년 설립)</td>\n",
       "      <td>10억3,744만원</td>\n",
       "    </tr>\n",
       "  </tbody>\n",
       "</table>\n",
       "<p>1811 rows × 5 columns</p>\n",
       "</div>"
      ],
      "text/plain": [
       "       기업명                   업종분류  사원수            설립연도          매출액\n",
       "0        젭  시스템ㆍ응용 소프트웨어 개발 및 공급업  NaN   2년 (2022년 설립)           -원\n",
       "0   서커스컴퍼니  시스템ㆍ응용 소프트웨어 개발 및 공급업  13명  11년 (2013년 설립)   22억2,380만원\n",
       "0      블로코  시스템ㆍ응용 소프트웨어 개발 및 공급업  26명   9년 (2015년 설립)   22억1,128만원\n",
       "0      피매치     자연과학 및 공학 융합 연구개발업  NaN   3년 (2021년 설립)           -원\n",
       "0    만나플래닛  시스템ㆍ응용 소프트웨어 개발 및 공급업  NaN   8년 (2016년 설립)  123억8,113만원\n",
       "..     ...                    ...  ...             ...          ...\n",
       "0      인센드  시스템ㆍ응용 소프트웨어 개발 및 공급업  NaN   1년 (2023년 설립)           -원\n",
       "0      큐픽스    의약품, 의료용품 및 화장품 도매업  NaN   7년 (2017년 설립)           -원\n",
       "0      엔비티      세제, 화장품 및 광택제 제조업   6명   8년 (2016년 설립)   14억5,461만원\n",
       "0      퍼니지           경비 및 경호 서비스업   6명  12년 (2012년 설립)           -원\n",
       "0   아이오바이오             자연과학 연구개발업  37명  13년 (2011년 설립)   10억3,744만원\n",
       "\n",
       "[1811 rows x 5 columns]"
      ]
     },
     "execution_count": 8,
     "metadata": {},
     "output_type": "execute_result"
    }
   ],
   "source": [
    "data = pd.read_csv('./.gitignore/wanted_insight_data.csv', index_col= 0 )\n",
    "data"
   ]
  },
  {
   "cell_type": "code",
   "execution_count": 13,
   "metadata": {},
   "outputs": [],
   "source": [
    "data.loc[data.업종분류 == '-', '업종분류'] = None"
   ]
  },
  {
   "cell_type": "code",
   "execution_count": 25,
   "metadata": {},
   "outputs": [
    {
     "data": {
      "text/plain": [
       "array(['2년 (2022년 설립)', '11년 (2013년 설립)', '9년 (2015년 설립)',\n",
       "       '3년 (2021년 설립)', '8년 (2016년 설립)', '10년 (2014년 설립)',\n",
       "       '17년 (2007년 설립)', '13년 (2011년 설립)', '1년 (2023년 설립)',\n",
       "       '4년 (2020년 설립)', '6년 (2018년 설립)', '7년 (2017년 설립)', '5년 (2019년 설립)',\n",
       "       '23년 (2001년 설립)', '14년 (2010년 설립)', '26년 (1998년 설립)',\n",
       "       '29년 (1995년 설립)', '12년 (2012년 설립)', '28년 (1996년 설립)',\n",
       "       '20년 (2004년 설립)', '21년 (2003년 설립)', '24년 (2000년 설립)',\n",
       "       '18년 (2006년 설립)', '16년 (2008년 설립)', '19년 (2005년 설립)',\n",
       "       '25년 (1999년 설립)', '15년 (2009년 설립)', '30년 (1994년 설립)',\n",
       "       '31년 (1993년 설립)'], dtype=object)"
      ]
     },
     "execution_count": 25,
     "metadata": {},
     "output_type": "execute_result"
    }
   ],
   "source": [
    "data.설립연도.unique()"
   ]
  },
  {
   "cell_type": "code",
   "execution_count": 28,
   "metadata": {},
   "outputs": [],
   "source": [
    "data.설립연도 = data.설립연도.apply(lambda x: int(''.join(re.findall('(\\d\\d\\d\\d)', x))))"
   ]
  },
  {
   "cell_type": "code",
   "execution_count": 37,
   "metadata": {},
   "outputs": [],
   "source": [
    "data.loc[data.매출액 == '-원', '매출액'] = None\n",
    "data"
   ]
  },
  {
   "cell_type": "code",
   "execution_count": 42,
   "metadata": {},
   "outputs": [
    {
     "data": {
      "text/plain": [
       "기업명       0\n",
       "업종분류     28\n",
       "사원수     319\n",
       "설립연도      0\n",
       "매출액     733\n",
       "dtype: int64"
      ]
     },
     "execution_count": 42,
     "metadata": {},
     "output_type": "execute_result"
    }
   ],
   "source": [
    "data.isna().sum()"
   ]
  },
  {
   "cell_type": "code",
   "execution_count": 44,
   "metadata": {},
   "outputs": [
    {
     "data": {
      "text/plain": [
       "1343"
      ]
     },
     "execution_count": 44,
     "metadata": {},
     "output_type": "execute_result"
    }
   ],
   "source": [
    "data.duplicated().sum()"
   ]
  },
  {
   "cell_type": "code",
   "execution_count": 47,
   "metadata": {},
   "outputs": [],
   "source": [
    "data = data.drop_duplicates()"
   ]
  },
  {
   "cell_type": "code",
   "execution_count": 51,
   "metadata": {},
   "outputs": [
    {
     "data": {
      "text/plain": [
       "0"
      ]
     },
     "execution_count": 51,
     "metadata": {},
     "output_type": "execute_result"
    }
   ],
   "source": [
    "data.duplicated().sum()"
   ]
  },
  {
   "cell_type": "code",
   "execution_count": 52,
   "metadata": {},
   "outputs": [],
   "source": [
    "data.to_csv('wanted_insight_handle.csv')"
   ]
  },
  {
   "cell_type": "code",
   "execution_count": null,
   "metadata": {},
   "outputs": [],
   "source": []
  }
 ],
 "metadata": {
  "kernelspec": {
   "display_name": "base",
   "language": "python",
   "name": "python3"
  },
  "language_info": {
   "codemirror_mode": {
    "name": "ipython",
    "version": 3
   },
   "file_extension": ".py",
   "mimetype": "text/x-python",
   "name": "python",
   "nbconvert_exporter": "python",
   "pygments_lexer": "ipython3",
   "version": "3.11.5"
  }
 },
 "nbformat": 4,
 "nbformat_minor": 2
}
