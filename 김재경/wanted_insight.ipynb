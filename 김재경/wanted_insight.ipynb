{
 "cells": [
  {
   "cell_type": "code",
   "execution_count": 1,
   "metadata": {},
   "outputs": [
    {
     "name": "stdout",
     "output_type": "stream",
     "text": [
      "Hello World\n"
     ]
    }
   ],
   "source": [
    "print('Hello World')"
   ]
  },
  {
   "cell_type": "code",
   "execution_count": 2,
   "metadata": {},
   "outputs": [],
   "source": [
    "import pandas as pd\n",
    "from selenium import webdriver\n",
    "from selenium.webdriver.common.by import By\n",
    "from selenium.webdriver.chrome.options import Options\n",
    "from selenium.webdriver.common.keys import Keys\n",
    "from selenium.webdriver.support.ui import WebDriverWait\n",
    "from selenium.webdriver.support import expected_conditions as EC\n",
    "from selenium.common.exceptions import NoSuchElementException\n",
    "from selenium.common.exceptions import ElementClickInterceptedException\n",
    "from selenium.common.exceptions import TimeoutException\n",
    "import re\n",
    "import time"
   ]
  },
  {
   "cell_type": "code",
   "execution_count": null,
   "metadata": {},
   "outputs": [],
   "source": [
    "# 크롬옵션\n",
    "chrome_options = Options()\n",
    "# 꺼짐 방지\n",
    "chrome_options.add_argument('--disable-gpu') \n",
    "# 창 크기에 따라 XPATH가 달라져 크기 고정\n",
    "chrome_options.add_argument(\"--start-maximized\")\n",
    "# 알림표시 제거\n",
    "chrome_options.add_argument(\"--disable-notifications\")\n",
    "# 옵션 적용\n",
    "driver = webdriver.Chrome(options=chrome_options)\n",
    "\n",
    "wan_ins_url = '''https://insight.wanted.co.kr/'''\n",
    "driver.get(wan_ins_url)"
   ]
  },
  {
   "cell_type": "code",
   "execution_count": null,
   "metadata": {},
   "outputs": [],
   "source": [
    "# 기업 검색창 클릭\n",
    "driver.find_element(By.XPATH, '//*[@id=\"__next\"]/div[1]/nav/div/div[2]/a/div[2]').click()\n",
    "# 기업 입력\n",
    "driver.find_element(By.XPATH, '//*[@id=\"__next\"]/div[2]/div/div/form/div/div/input').send_keys(f'{기업명}')\n",
    "time.sleep(0.5)\n",
    "# 엔터\n",
    "driver.find_element(By.XPATH, '//*[@id=\"__next\"]/div[2]/div/div/form/div/div/input').send_keys(Keys.ENTER)\n",
    "\n",
    "employee = driver.find_element(By.XPATH, '//*[@id=\"summary\"]/div[2]/div[1]/div[2]/div[2]/div[1]/span').text\n",
    "sales_money = driver.find_element(By.XPATH, '//*[@id=\"summary\"]/div[2]/div[1]/div[3]/div[2]/div[1]/span').text\n",
    "sector = driver.find_element(By.XPATH, '//*[@id=\"summary\"]/div[2]/div[2]/dl[1]/dd').text\n",
    "corp_year = driver.find_element(By.XPATH, '//*[@id=\"summary\"]/div[2]/div[2]/dl[2]/dd').text\n",
    "corp_url = driver.find_element(By.XPATH, '//*[@id=\"summary\"]/div[2]/div[2]/dl[8]/dd').text"
   ]
  },
  {
   "cell_type": "code",
   "execution_count": null,
   "metadata": {},
   "outputs": [],
   "source": [
    "import pandas as pd\n",
    "from selenium import webdriver\n",
    "from selenium.webdriver.common.by import By\n",
    "from selenium.webdriver.chrome.options import Options\n",
    "from selenium.webdriver.common.keys import Keys\n",
    "from selenium.webdriver.support.ui import WebDriverWait\n",
    "from selenium.webdriver.support import expected_conditions as EC\n",
    "from selenium.common.exceptions import NoSuchElementException\n",
    "from selenium.common.exceptions import ElementClickInterceptedException\n",
    "from selenium.common.exceptions import TimeoutException\n",
    "import re\n",
    "import time\n",
    "\n",
    "last_les = pd.DataFrame(\n",
    "    columns = ['기업명', '사원수', '설립연도', '매출액', '기업 홈페이지 URL ']\n",
    "    )\n",
    "\n",
    "for corp_name in df.기업명:\n",
    "    # 크롬옵션\n",
    "    chrome_options = Options()\n",
    "    # 꺼짐 방지\n",
    "    chrome_options.add_argument('--disable-gpu') \n",
    "    # 창 크기에 따라 XPATH가 달라져 크기 고정\n",
    "    chrome_options.add_argument(\"--start-maximized\")\n",
    "    # 알림표시 제거\n",
    "    chrome_options.add_argument(\"--disable-notifications\")\n",
    "    # 옵션 적용\n",
    "    driver = webdriver.Chrome(options=chrome_options)\n",
    "    wan_ins_url = '''https://insight.wanted.co.kr/'''\n",
    "    driver.get(wan_ins_url)\n",
    "\n",
    "    # 기업 검색창 클릭\n",
    "    driver.find_element(\n",
    "        By.XPATH,\n",
    "        '//*[@id=\"__next\"]/div[1]/nav/div/div[2]/a/div[2]'\n",
    "        ).click()\n",
    "    # 기업 입력\n",
    "    driver.find_element(\n",
    "        By.XPATH, \n",
    "        '//*[@id=\"__next\"]/div[2]/div/div/form/div/div/input'\n",
    "        ).send_keys(f'{corp_name}')\n",
    "    time.sleep(0.6)\n",
    "    # 엔터\n",
    "    driver.find_element(\n",
    "        By.XPATH, \n",
    "        '//*[@id=\"__next\"]/div[2]/div/div/form/div/div/input'\n",
    "        ).send_keys(Keys.ENTER)\n",
    "    \n",
    "    try:\n",
    "        #Crawling-data\n",
    "        employee = driver.find_element(By.XPATH, '//*[@id=\"summary\"]/div[2]/div[1]/div[2]/div[2]/div[1]/span').text\n",
    "        sales_money = driver.find_element(By.XPATH, '//*[@id=\"summary\"]/div[2]/div[1]/div[3]/div[2]/div[1]/span').text\n",
    "        sector = driver.find_element(By.XPATH, '//*[@id=\"summary\"]/div[2]/div[2]/dl[1]/dd').text\n",
    "        corp_year = driver.find_element(By.XPATH, '//*[@id=\"summary\"]/div[2]/div[2]/dl[2]/dd').text\n",
    "        corp_url = driver.find_element(By.XPATH, '//*[@id=\"summary\"]/div[2]/div[2]/dl[8]/dd').text\n",
    "        #요소 못찾을시 결측치 처리    \n",
    "    except NoSuchElementException:\n",
    "        None\n",
    "\n",
    "    # Data concat\n",
    "    last_temp = pd.DataFrame(\n",
    "        [corp_name, employee, corp_year, sales_money, corp_url],\n",
    "        index = ['기업명', '사원수', '설립연도', '매출액', '기업 홈페이지 URL ']\n",
    "    ).T\n",
    "    last_les = pd.concat([last_les, last_temp])\n",
    "\n"
   ]
  }
 ],
 "metadata": {
  "kernelspec": {
   "display_name": "base",
   "language": "python",
   "name": "python3"
  },
  "language_info": {
   "codemirror_mode": {
    "name": "ipython",
    "version": 3
   },
   "file_extension": ".py",
   "mimetype": "text/x-python",
   "name": "python",
   "nbconvert_exporter": "python",
   "pygments_lexer": "ipython3",
   "version": "3.11.5"
  }
 },
 "nbformat": 4,
 "nbformat_minor": 2
}
