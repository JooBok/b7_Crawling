{
 "cells": [
  {
   "cell_type": "code",
   "execution_count": 1,
   "metadata": {},
   "outputs": [
    {
     "name": "stdout",
     "output_type": "stream",
     "text": [
      "Hello World\n"
     ]
    }
   ],
   "source": [
    "print('Hello World')"
   ]
  },
  {
   "cell_type": "code",
   "execution_count": 9,
   "metadata": {},
   "outputs": [],
   "source": [
    "import pandas as pd\n",
    "from selenium import webdriver\n",
    "from selenium.webdriver.common.by import By\n",
    "from selenium.webdriver.chrome.options import Options\n",
    "from selenium.webdriver.common.keys import Keys\n",
    "from selenium.webdriver.support.ui import WebDriverWait\n",
    "from selenium.webdriver.support import expected_conditions as EC\n",
    "from selenium.common.exceptions import NoSuchElementException\n",
    "from selenium.common.exceptions import ElementClickInterceptedException\n",
    "from selenium.common.exceptions import TimeoutException\n",
    "import re\n",
    "import time"
   ]
  },
  {
   "cell_type": "code",
   "execution_count": 10,
   "metadata": {},
   "outputs": [],
   "source": [
    "# 크롬옵션\n",
    "chrome_options = Options()\n",
    "# 꺼짐 방지\n",
    "chrome_options.add_argument('--disable-gpu') \n",
    "# 창 크기에 따라 XPATH가 달라져 크기 고정\n",
    "chrome_options.add_argument(\"--start-maximized\")\n",
    "# 알림표시 제거\n",
    "chrome_options.add_argument(\"--disable-notifications\")\n",
    "# 옵션 적용\n",
    "driver = webdriver.Chrome(options=chrome_options)\n",
    "\n",
    "wan_ins_url = '''https://insight.wanted.co.kr/'''\n",
    "driver.get(wan_ins_url)"
   ]
  },
  {
   "cell_type": "code",
   "execution_count": null,
   "metadata": {},
   "outputs": [],
   "source": [
    "# 기업 검색창 클릭\n",
    "driver.find_element(By.XPATH, '//*[@id=\"__next\"]/div[1]/nav/div/div[2]/a/div[2]').click()\n",
    "# 기업 입력\n",
    "driver.find_element(By.XPATH, '//*[@id=\"__next\"]/div[2]/div/div/form/div/div/input').send_keys(f'{기업명}')\n",
    "time.sleep(0.5)\n",
    "# 엔터\n",
    "driver.find_element(By.XPATH, '//*[@id=\"__next\"]/div[2]/div/div/form/div/div/input').send_keys(Keys.ENTER)\n",
    "\n",
    "employee = driver.find_element(By.XPATH, '//*[@id=\"summary\"]/div[2]/div[1]/div[2]/div[2]/div[1]/span').text\n",
    "sales_money = driver.find_element(By.XPATH, '//*[@id=\"summary\"]/div[2]/div[1]/div[3]/div[2]/div[1]/span').text\n",
    "sector = driver.find_element(By.XPATH, '//*[@id=\"summary\"]/div[2]/div[2]/dl[1]/dd').text\n",
    "corp_year = driver.find_element(By.XPATH, '//*[@id=\"summary\"]/div[2]/div[2]/dl[2]/dd').text\n",
    "corp_url = driver.find_element(By.XPATH, '//*[@id=\"summary\"]/div[2]/div[2]/dl[8]/dd').text"
   ]
  },
  {
   "cell_type": "code",
   "execution_count": 3,
   "metadata": {},
   "outputs": [
    {
     "name": "stdout",
     "output_type": "stream",
     "text": [
      "<class 'pandas.core.frame.DataFrame'>\n",
      "Index: 1962 entries, 0 to 1961\n",
      "Data columns (total 7 columns):\n",
      " #   Column         Non-Null Count  Dtype \n",
      "---  ------         --------------  ----- \n",
      " 0   기업명            1962 non-null   object\n",
      " 1   주소             1962 non-null   object\n",
      " 2   직무             1962 non-null   object\n",
      " 3   자격요건           1962 non-null   object\n",
      " 4   직급             1962 non-null   object\n",
      " 5   이용하는기술스택/우대사항  1962 non-null   object\n",
      " 6   해당 페이지 URL     1962 non-null   object\n",
      "dtypes: object(7)\n",
      "memory usage: 122.6+ KB\n"
     ]
    }
   ],
   "source": [
    "wan_res = pd.read_csv('./.gitignore/wanted_data.csv',index_col=0)\n",
    "wan_res.info()"
   ]
  },
  {
   "cell_type": "code",
   "execution_count": 30,
   "metadata": {},
   "outputs": [
    {
     "ename": "NoSuchWindowException",
     "evalue": "Message: no such window: target window already closed\nfrom unknown error: web view not found\n  (Session info: chrome=122.0.6261.94)\nStacktrace:\n\tGetHandleVerifier [0x00007FF76997AD22+56930]\n\t(No symbol) [0x00007FF7698EF622]\n\t(No symbol) [0x00007FF7697A42E5]\n\t(No symbol) [0x00007FF769781D4C]\n\t(No symbol) [0x00007FF7698123F7]\n\t(No symbol) [0x00007FF769827891]\n\t(No symbol) [0x00007FF76980BA43]\n\t(No symbol) [0x00007FF7697DD438]\n\t(No symbol) [0x00007FF7697DE4D1]\n\tGetHandleVerifier [0x00007FF769CF6AAD+3709933]\n\tGetHandleVerifier [0x00007FF769D4FFED+4075821]\n\tGetHandleVerifier [0x00007FF769D4817F+4043455]\n\tGetHandleVerifier [0x00007FF769A19756+706710]\n\t(No symbol) [0x00007FF7698FB8FF]\n\t(No symbol) [0x00007FF7698F6AE4]\n\t(No symbol) [0x00007FF7698F6C3C]\n\t(No symbol) [0x00007FF7698E68F4]\n\tBaseThreadInitThunk [0x00007FF91493257D+29]\n\tRtlUserThreadStart [0x00007FF91642AA58+40]\n",
     "output_type": "error",
     "traceback": [
      "\u001b[1;31m---------------------------------------------------------------------------\u001b[0m",
      "\u001b[1;31mNoSuchWindowException\u001b[0m                     Traceback (most recent call last)",
      "\u001b[1;32mc:\\Users\\user\\Documents\\b7_Crawling\\김재경\\wanted_insight.ipynb Cell 6\u001b[0m line \u001b[0;36m3\n\u001b[0;32m     <a href='vscode-notebook-cell:/c%3A/Users/user/Documents/b7_Crawling/%EA%B9%80%EC%9E%AC%EA%B2%BD/wanted_insight.ipynb#W4sZmlsZQ%3D%3D?line=29'>30</a>\u001b[0m driver\u001b[39m.\u001b[39mget(wan_ins_url)\n\u001b[0;32m     <a href='vscode-notebook-cell:/c%3A/Users/user/Documents/b7_Crawling/%EA%B9%80%EC%9E%AC%EA%B2%BD/wanted_insight.ipynb#W4sZmlsZQ%3D%3D?line=35'>36</a>\u001b[0m \u001b[39mfor\u001b[39;00m corp_name \u001b[39min\u001b[39;00m wan_corp_name:\n\u001b[0;32m     <a href='vscode-notebook-cell:/c%3A/Users/user/Documents/b7_Crawling/%EA%B9%80%EC%9E%AC%EA%B2%BD/wanted_insight.ipynb#W4sZmlsZQ%3D%3D?line=36'>37</a>\u001b[0m \n\u001b[0;32m     <a href='vscode-notebook-cell:/c%3A/Users/user/Documents/b7_Crawling/%EA%B9%80%EC%9E%AC%EA%B2%BD/wanted_insight.ipynb#W4sZmlsZQ%3D%3D?line=37'>38</a>\u001b[0m     \u001b[39m# 기업 검색창 클릭\u001b[39;00m\n\u001b[1;32m---> <a href='vscode-notebook-cell:/c%3A/Users/user/Documents/b7_Crawling/%EA%B9%80%EC%9E%AC%EA%B2%BD/wanted_insight.ipynb#W4sZmlsZQ%3D%3D?line=38'>39</a>\u001b[0m     WebDriverWait(driver, \u001b[39m10\u001b[39m)\u001b[39m.\u001b[39muntil(\n\u001b[0;32m     <a href='vscode-notebook-cell:/c%3A/Users/user/Documents/b7_Crawling/%EA%B9%80%EC%9E%AC%EA%B2%BD/wanted_insight.ipynb#W4sZmlsZQ%3D%3D?line=39'>40</a>\u001b[0m         EC\u001b[39m.\u001b[39mpresence_of_element_located(\n\u001b[0;32m     <a href='vscode-notebook-cell:/c%3A/Users/user/Documents/b7_Crawling/%EA%B9%80%EC%9E%AC%EA%B2%BD/wanted_insight.ipynb#W4sZmlsZQ%3D%3D?line=40'>41</a>\u001b[0m             (\n\u001b[0;32m     <a href='vscode-notebook-cell:/c%3A/Users/user/Documents/b7_Crawling/%EA%B9%80%EC%9E%AC%EA%B2%BD/wanted_insight.ipynb#W4sZmlsZQ%3D%3D?line=41'>42</a>\u001b[0m                 By\u001b[39m.\u001b[39mXPATH,\n\u001b[0;32m     <a href='vscode-notebook-cell:/c%3A/Users/user/Documents/b7_Crawling/%EA%B9%80%EC%9E%AC%EA%B2%BD/wanted_insight.ipynb#W4sZmlsZQ%3D%3D?line=42'>43</a>\u001b[0m                 \u001b[39m'\u001b[39m\u001b[39m//*[@id=\u001b[39m\u001b[39m\"\u001b[39m\u001b[39m__next\u001b[39m\u001b[39m\"\u001b[39m\u001b[39m]/div[1]/nav/div/div[2]/a/div[2]\u001b[39m\u001b[39m'\u001b[39m\n\u001b[0;32m     <a href='vscode-notebook-cell:/c%3A/Users/user/Documents/b7_Crawling/%EA%B9%80%EC%9E%AC%EA%B2%BD/wanted_insight.ipynb#W4sZmlsZQ%3D%3D?line=43'>44</a>\u001b[0m                 )\n\u001b[0;32m     <a href='vscode-notebook-cell:/c%3A/Users/user/Documents/b7_Crawling/%EA%B9%80%EC%9E%AC%EA%B2%BD/wanted_insight.ipynb#W4sZmlsZQ%3D%3D?line=44'>45</a>\u001b[0m                 )\n\u001b[0;32m     <a href='vscode-notebook-cell:/c%3A/Users/user/Documents/b7_Crawling/%EA%B9%80%EC%9E%AC%EA%B2%BD/wanted_insight.ipynb#W4sZmlsZQ%3D%3D?line=45'>46</a>\u001b[0m                 )\u001b[39m.\u001b[39mclick()\n\u001b[0;32m     <a href='vscode-notebook-cell:/c%3A/Users/user/Documents/b7_Crawling/%EA%B9%80%EC%9E%AC%EA%B2%BD/wanted_insight.ipynb#W4sZmlsZQ%3D%3D?line=47'>48</a>\u001b[0m     \u001b[39m# 기업 입력\u001b[39;00m\n\u001b[0;32m     <a href='vscode-notebook-cell:/c%3A/Users/user/Documents/b7_Crawling/%EA%B9%80%EC%9E%AC%EA%B2%BD/wanted_insight.ipynb#W4sZmlsZQ%3D%3D?line=48'>49</a>\u001b[0m     driver\u001b[39m.\u001b[39mfind_element(\n\u001b[0;32m     <a href='vscode-notebook-cell:/c%3A/Users/user/Documents/b7_Crawling/%EA%B9%80%EC%9E%AC%EA%B2%BD/wanted_insight.ipynb#W4sZmlsZQ%3D%3D?line=49'>50</a>\u001b[0m         By\u001b[39m.\u001b[39mXPATH, \n\u001b[0;32m     <a href='vscode-notebook-cell:/c%3A/Users/user/Documents/b7_Crawling/%EA%B9%80%EC%9E%AC%EA%B2%BD/wanted_insight.ipynb#W4sZmlsZQ%3D%3D?line=50'>51</a>\u001b[0m         \u001b[39m'\u001b[39m\u001b[39m//*[@id=\u001b[39m\u001b[39m\"\u001b[39m\u001b[39m__next\u001b[39m\u001b[39m\"\u001b[39m\u001b[39m]/div[2]/div/div/form/div/div/input\u001b[39m\u001b[39m'\u001b[39m\n\u001b[0;32m     <a href='vscode-notebook-cell:/c%3A/Users/user/Documents/b7_Crawling/%EA%B9%80%EC%9E%AC%EA%B2%BD/wanted_insight.ipynb#W4sZmlsZQ%3D%3D?line=51'>52</a>\u001b[0m         )\u001b[39m.\u001b[39msend_keys(\u001b[39mf\u001b[39m\u001b[39m'\u001b[39m\u001b[39m{\u001b[39;00mcorp_name\u001b[39m}\u001b[39;00m\u001b[39m'\u001b[39m)\n",
      "File \u001b[1;32mc:\\ProgramData\\anaconda3\\Lib\\site-packages\\selenium\\webdriver\\support\\wait.py:96\u001b[0m, in \u001b[0;36mWebDriverWait.until\u001b[1;34m(self, method, message)\u001b[0m\n\u001b[0;32m     94\u001b[0m \u001b[39mwhile\u001b[39;00m \u001b[39mTrue\u001b[39;00m:\n\u001b[0;32m     95\u001b[0m     \u001b[39mtry\u001b[39;00m:\n\u001b[1;32m---> 96\u001b[0m         value \u001b[39m=\u001b[39m method(\u001b[39mself\u001b[39m\u001b[39m.\u001b[39m_driver)\n\u001b[0;32m     97\u001b[0m         \u001b[39mif\u001b[39;00m value:\n\u001b[0;32m     98\u001b[0m             \u001b[39mreturn\u001b[39;00m value\n",
      "File \u001b[1;32mc:\\ProgramData\\anaconda3\\Lib\\site-packages\\selenium\\webdriver\\support\\expected_conditions.py:84\u001b[0m, in \u001b[0;36mpresence_of_element_located.<locals>._predicate\u001b[1;34m(driver)\u001b[0m\n\u001b[0;32m     83\u001b[0m \u001b[39mdef\u001b[39;00m \u001b[39m_predicate\u001b[39m(driver: WebDriverOrWebElement):\n\u001b[1;32m---> 84\u001b[0m     \u001b[39mreturn\u001b[39;00m driver\u001b[39m.\u001b[39mfind_element(\u001b[39m*\u001b[39mlocator)\n",
      "File \u001b[1;32mc:\\ProgramData\\anaconda3\\Lib\\site-packages\\selenium\\webdriver\\remote\\webdriver.py:741\u001b[0m, in \u001b[0;36mWebDriver.find_element\u001b[1;34m(self, by, value)\u001b[0m\n\u001b[0;32m    738\u001b[0m     by \u001b[39m=\u001b[39m By\u001b[39m.\u001b[39mCSS_SELECTOR\n\u001b[0;32m    739\u001b[0m     value \u001b[39m=\u001b[39m \u001b[39mf\u001b[39m\u001b[39m'\u001b[39m\u001b[39m[name=\u001b[39m\u001b[39m\"\u001b[39m\u001b[39m{\u001b[39;00mvalue\u001b[39m}\u001b[39;00m\u001b[39m\"\u001b[39m\u001b[39m]\u001b[39m\u001b[39m'\u001b[39m\n\u001b[1;32m--> 741\u001b[0m \u001b[39mreturn\u001b[39;00m \u001b[39mself\u001b[39m\u001b[39m.\u001b[39mexecute(Command\u001b[39m.\u001b[39mFIND_ELEMENT, {\u001b[39m\"\u001b[39m\u001b[39musing\u001b[39m\u001b[39m\"\u001b[39m: by, \u001b[39m\"\u001b[39m\u001b[39mvalue\u001b[39m\u001b[39m\"\u001b[39m: value})[\u001b[39m\"\u001b[39m\u001b[39mvalue\u001b[39m\u001b[39m\"\u001b[39m]\n",
      "File \u001b[1;32mc:\\ProgramData\\anaconda3\\Lib\\site-packages\\selenium\\webdriver\\remote\\webdriver.py:347\u001b[0m, in \u001b[0;36mWebDriver.execute\u001b[1;34m(self, driver_command, params)\u001b[0m\n\u001b[0;32m    345\u001b[0m response \u001b[39m=\u001b[39m \u001b[39mself\u001b[39m\u001b[39m.\u001b[39mcommand_executor\u001b[39m.\u001b[39mexecute(driver_command, params)\n\u001b[0;32m    346\u001b[0m \u001b[39mif\u001b[39;00m response:\n\u001b[1;32m--> 347\u001b[0m     \u001b[39mself\u001b[39m\u001b[39m.\u001b[39merror_handler\u001b[39m.\u001b[39mcheck_response(response)\n\u001b[0;32m    348\u001b[0m     response[\u001b[39m\"\u001b[39m\u001b[39mvalue\u001b[39m\u001b[39m\"\u001b[39m] \u001b[39m=\u001b[39m \u001b[39mself\u001b[39m\u001b[39m.\u001b[39m_unwrap_value(response\u001b[39m.\u001b[39mget(\u001b[39m\"\u001b[39m\u001b[39mvalue\u001b[39m\u001b[39m\"\u001b[39m, \u001b[39mNone\u001b[39;00m))\n\u001b[0;32m    349\u001b[0m     \u001b[39mreturn\u001b[39;00m response\n",
      "File \u001b[1;32mc:\\ProgramData\\anaconda3\\Lib\\site-packages\\selenium\\webdriver\\remote\\errorhandler.py:229\u001b[0m, in \u001b[0;36mErrorHandler.check_response\u001b[1;34m(self, response)\u001b[0m\n\u001b[0;32m    227\u001b[0m         alert_text \u001b[39m=\u001b[39m value[\u001b[39m\"\u001b[39m\u001b[39malert\u001b[39m\u001b[39m\"\u001b[39m]\u001b[39m.\u001b[39mget(\u001b[39m\"\u001b[39m\u001b[39mtext\u001b[39m\u001b[39m\"\u001b[39m)\n\u001b[0;32m    228\u001b[0m     \u001b[39mraise\u001b[39;00m exception_class(message, screen, stacktrace, alert_text)  \u001b[39m# type: ignore[call-arg]  # mypy is not smart enough here\u001b[39;00m\n\u001b[1;32m--> 229\u001b[0m \u001b[39mraise\u001b[39;00m exception_class(message, screen, stacktrace)\n",
      "\u001b[1;31mNoSuchWindowException\u001b[0m: Message: no such window: target window already closed\nfrom unknown error: web view not found\n  (Session info: chrome=122.0.6261.94)\nStacktrace:\n\tGetHandleVerifier [0x00007FF76997AD22+56930]\n\t(No symbol) [0x00007FF7698EF622]\n\t(No symbol) [0x00007FF7697A42E5]\n\t(No symbol) [0x00007FF769781D4C]\n\t(No symbol) [0x00007FF7698123F7]\n\t(No symbol) [0x00007FF769827891]\n\t(No symbol) [0x00007FF76980BA43]\n\t(No symbol) [0x00007FF7697DD438]\n\t(No symbol) [0x00007FF7697DE4D1]\n\tGetHandleVerifier [0x00007FF769CF6AAD+3709933]\n\tGetHandleVerifier [0x00007FF769D4FFED+4075821]\n\tGetHandleVerifier [0x00007FF769D4817F+4043455]\n\tGetHandleVerifier [0x00007FF769A19756+706710]\n\t(No symbol) [0x00007FF7698FB8FF]\n\t(No symbol) [0x00007FF7698F6AE4]\n\t(No symbol) [0x00007FF7698F6C3C]\n\t(No symbol) [0x00007FF7698E68F4]\n\tBaseThreadInitThunk [0x00007FF91493257D+29]\n\tRtlUserThreadStart [0x00007FF91642AA58+40]\n"
     ]
    }
   ],
   "source": [
    "import pandas as pd\n",
    "from selenium import webdriver\n",
    "from selenium.webdriver.common.by import By\n",
    "from selenium.webdriver.chrome.options import Options\n",
    "from selenium.webdriver.common.keys import Keys\n",
    "from selenium.webdriver.support.ui import WebDriverWait\n",
    "from selenium.webdriver.support import expected_conditions as EC\n",
    "from selenium.common.exceptions import NoSuchElementException\n",
    "from selenium.common.exceptions import TimeoutException\n",
    "import re\n",
    "import time\n",
    "\n",
    "wan_corp_name = wan_res.기업명.apply(lambda x: re.sub(r'[(a-zA-Z)]', '', x))\n",
    "\n",
    "last_les = pd.DataFrame(\n",
    "    columns = ['기업명', '사원수', '설립연도', '매출액', '기업 홈페이지 URL ']\n",
    "    )\n",
    "\n",
    "# 크롬옵션\n",
    "chrome_options = Options()\n",
    "# 꺼짐 방지\n",
    "chrome_options.add_argument('--disable-gpu') \n",
    "# 창 크기에 따라 XPATH가 달라져 크기 고정\n",
    "chrome_options.add_argument(\"--start-maximized\")\n",
    "# 알림표시 제거\n",
    "chrome_options.add_argument(\"--disable-notifications\")\n",
    "# 옵션 적용\n",
    "driver = webdriver.Chrome(options=chrome_options)\n",
    "wan_ins_url = '''https://insight.wanted.co.kr/'''\n",
    "driver.get(wan_ins_url)\n",
    "\n",
    "\n",
    "\n",
    "\n",
    "\n",
    "for corp_name in wan_corp_name:\n",
    "\n",
    "    # 기업 검색창 클릭\n",
    "    WebDriverWait(driver, 10).until(\n",
    "        EC.presence_of_element_located(\n",
    "            (\n",
    "                By.XPATH,\n",
    "                '//*[@id=\"__next\"]/div[1]/nav/div/div[2]/a/div[2]'\n",
    "                )\n",
    "                )\n",
    "                ).click()\n",
    "\n",
    "    # 기업 입력\n",
    "    driver.find_element(\n",
    "        By.XPATH, \n",
    "        '//*[@id=\"__next\"]/div[2]/div/div/form/div/div/input'\n",
    "        ).send_keys(f'{corp_name}')\n",
    "    time.sleep(1.2)\n",
    "    \n",
    "    try:        \n",
    "    # 엔터\n",
    "        driver.find_element(\n",
    "             By.XPATH,\n",
    "             '//*[@id=\"__next\"]/div[2]/div/div/form/div/div/input'\n",
    "             ).send_keys(Keys.ENTER)\n",
    "   \n",
    "    except driver.find_element(By.XPATH, '//*[@id=\"__next\"]/div[2]/div/div/form/div[2]/div').is_displayed():\n",
    "        driver.find_element(\n",
    "            By.XPATH,\n",
    "            '//*[@id=\"__next\"]/div[2]/div/div/form/div/div/input'\n",
    "            ).clear()\n",
    "        continue\n",
    "\n",
    "    employee = None\n",
    "    sales_money = None\n",
    "    sector = None\n",
    "    corp_year = None\n",
    "    corp_url = '-'\n",
    "    \n",
    "    try:\n",
    "        # Crawling-data\n",
    "        employee = WebDriverWait(driver, 3).until(\n",
    "                EC.presence_of_element_located(\n",
    "                    (\n",
    "                        By.XPATH, \n",
    "                        '//*[@id=\"summary\"]/div[2]/div[1]/div[2]/div[2]/div[1]/span'\n",
    "                        )\n",
    "                        )\n",
    "                        ).text\n",
    "        sales_money = re.sub('\\s','', driver.find_element(By.XPATH, '//*[@id=\"summary\"]/div[2]/div[2]/dl[4]/dd').text)\n",
    "        sector = driver.find_element(By.XPATH, '//*[@id=\"summary\"]/div[2]/div[2]/dl[1]/dd').text\n",
    "        corp_year = driver.find_element(By.XPATH, '//*[@id=\"summary\"]/div[2]/div[2]/dl[2]/dd').text\n",
    "        corp_url = driver.find_element(By.XPATH, '//*[@id=\"summary\"]/div[2]/div[2]/dl[8]/dd').text\n",
    "    except NoSuchElementException:\n",
    "        pass\n",
    "    except TimeoutException:\n",
    "        pass\n",
    "    \n",
    "    \n",
    "    # Data concat\n",
    "    last_temp = pd.DataFrame(\n",
    "        [corp_name, employee, corp_year, sales_money, corp_url],\n",
    "        index = ['기업명', '사원수', '설립연도', '매출액', '기업 홈페이지 URL ']\n",
    "    ).T\n",
    "    last_les = pd.concat([last_les, last_temp])\n",
    "\n",
    "    driver.back()\n",
    "    time.sleep(0.2)\n"
   ]
  },
  {
   "cell_type": "code",
   "execution_count": 17,
   "metadata": {},
   "outputs": [
    {
     "data": {
      "text/html": [
       "<div>\n",
       "<style scoped>\n",
       "    .dataframe tbody tr th:only-of-type {\n",
       "        vertical-align: middle;\n",
       "    }\n",
       "\n",
       "    .dataframe tbody tr th {\n",
       "        vertical-align: top;\n",
       "    }\n",
       "\n",
       "    .dataframe thead th {\n",
       "        text-align: right;\n",
       "    }\n",
       "</style>\n",
       "<table border=\"1\" class=\"dataframe\">\n",
       "  <thead>\n",
       "    <tr style=\"text-align: right;\">\n",
       "      <th></th>\n",
       "      <th>기업명</th>\n",
       "      <th>사원수</th>\n",
       "      <th>설립연도</th>\n",
       "      <th>매출액</th>\n",
       "      <th>기업 홈페이지 URL</th>\n",
       "    </tr>\n",
       "  </thead>\n",
       "  <tbody>\n",
       "    <tr>\n",
       "      <th>0</th>\n",
       "      <td>젭</td>\n",
       "      <td>None</td>\n",
       "      <td>None</td>\n",
       "      <td>None</td>\n",
       "      <td>None</td>\n",
       "    </tr>\n",
       "    <tr>\n",
       "      <th>0</th>\n",
       "      <td>서커스컴퍼니</td>\n",
       "      <td>13명</td>\n",
       "      <td>11년 (2013년 설립)</td>\n",
       "      <td>22억2,380만원</td>\n",
       "      <td>-</td>\n",
       "    </tr>\n",
       "    <tr>\n",
       "      <th>0</th>\n",
       "      <td>블로코</td>\n",
       "      <td>26명</td>\n",
       "      <td>9년 (2015년 설립)</td>\n",
       "      <td>22억1,128만원</td>\n",
       "      <td>-</td>\n",
       "    </tr>\n",
       "  </tbody>\n",
       "</table>\n",
       "</div>"
      ],
      "text/plain": [
       "      기업명   사원수            설립연도         매출액 기업 홈페이지 URL \n",
       "0       젭  None            None        None         None\n",
       "0  서커스컴퍼니   13명  11년 (2013년 설립)  22억2,380만원            -\n",
       "0     블로코   26명   9년 (2015년 설립)  22억1,128만원            -"
      ]
     },
     "execution_count": 17,
     "metadata": {},
     "output_type": "execute_result"
    }
   ],
   "source": [
    "last_les[last_les.기업 홈페이지 URL == '-' , '기업'] = None\n",
    "last_les"
   ]
  },
  {
   "cell_type": "code",
   "execution_count": 13,
   "metadata": {},
   "outputs": [
    {
     "data": {
      "text/plain": [
       "'22억2,380만원'"
      ]
     },
     "execution_count": 13,
     "metadata": {},
     "output_type": "execute_result"
    }
   ],
   "source": [
    "re.sub('\\s','', driver.find_element(By.XPATH, '//*[@id=\"summary\"]/div[2]/div[2]/dl[4]/dd').text)"
   ]
  }
 ],
 "metadata": {
  "kernelspec": {
   "display_name": "base",
   "language": "python",
   "name": "python3"
  },
  "language_info": {
   "codemirror_mode": {
    "name": "ipython",
    "version": 3
   },
   "file_extension": ".py",
   "mimetype": "text/x-python",
   "name": "python",
   "nbconvert_exporter": "python",
   "pygments_lexer": "ipython3",
   "version": "3.11.5"
  }
 },
 "nbformat": 4,
 "nbformat_minor": 2
}
