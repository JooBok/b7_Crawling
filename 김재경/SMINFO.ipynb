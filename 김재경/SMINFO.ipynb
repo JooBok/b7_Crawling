{
 "cells": [
  {
   "cell_type": "code",
   "execution_count": 2,
   "metadata": {},
   "outputs": [],
   "source": [
    "import pandas as pd\n",
    "from selenium import webdriver\n",
    "from selenium.webdriver.common.by import By\n",
    "from selenium.webdriver.chrome.options import Options\n",
    "from selenium.webdriver.common.keys import Keys\n",
    "from selenium.webdriver.support.ui import WebDriverWait\n",
    "from selenium.webdriver.support import expected_conditions as EC\n",
    "from selenium.common.exceptions import NoSuchElementException\n",
    "from selenium.common.exceptions import ElementClickInterceptedException\n",
    "from selenium.common.exceptions import TimeoutException\n",
    "from bs4 import BeautifulSoup\n",
    "import re\n",
    "import time"
   ]
  },
  {
   "cell_type": "code",
   "execution_count": 2,
   "metadata": {},
   "outputs": [],
   "source": [
    "# 크롬옵션\n",
    "chrome_options = Options()\n",
    "# 꺼짐 방지\n",
    "chrome_options.add_argument('--disable-gpu') \n",
    "# 알림표시 제거\n",
    "chrome_options.add_argument(\"--disable-popup-blocking\")\n",
    "chrome_options.add_argument(\"--disable-notifications\")\n",
    "# 옵션 적용\n",
    "driver = webdriver.Chrome(options=chrome_options)\n",
    "\n",
    "url = '''https://sminfo.mss.go.kr/cm/sv/CSV001R0.do'''\n",
    "driver.get(url)\n",
    "\n",
    "html = driver.page_source\n",
    "soup = BeautifulSoup(html, 'html.parser')\n",
    "\n",
    "time.sleep(0.1)\n",
    "first_window_handle = driver.window_handles[0]\n",
    "\n",
    "driver.switch_to.window(first_window_handle)\n",
    "time.sleep(0.1)\n",
    "id_input = driver.find_element(By.ID, \"login_id\")\n",
    "id_input.send_keys(\"anabiotic\")\n",
    "\n",
    "password_input = driver.find_element(By.ID, \"login_password\")\n",
    "password_input.send_keys(\"qwe920435!\")\n",
    "\n",
    "password_input.send_keys(Keys.ENTER)"
   ]
  },
  {
   "cell_type": "code",
   "execution_count": 3,
   "metadata": {},
   "outputs": [],
   "source": [
    "driver.find_element(By.XPATH, '//*[@id=\"wrap\"]/div[2]/div/ul/li[1]/a').click()\n",
    "driver.find_element(By.XPATH, '//*[@id=\"wrap\"]/div[2]/div/ul/li[1]/ul/li[1]/a').click()"
   ]
  },
  {
   "cell_type": "code",
   "execution_count": 4,
   "metadata": {},
   "outputs": [
    {
     "ename": "AttributeError",
     "evalue": "'WebDriver' object has no attribute 'find_element_by_id'",
     "output_type": "error",
     "traceback": [
      "\u001b[1;31m---------------------------------------------------------------------------\u001b[0m",
      "\u001b[1;31mAttributeError\u001b[0m                            Traceback (most recent call last)",
      "Cell \u001b[1;32mIn[4], line 1\u001b[0m\n\u001b[1;32m----> 1\u001b[0m search_input \u001b[38;5;241m=\u001b[39m \u001b[43mdriver\u001b[49m\u001b[38;5;241;43m.\u001b[39;49m\u001b[43mfind_element_by_id\u001b[49m(\u001b[38;5;124m\"\u001b[39m\u001b[38;5;124msearchTxt\u001b[39m\u001b[38;5;124m\"\u001b[39m)\n\u001b[0;32m      2\u001b[0m search_input\u001b[38;5;241m.\u001b[39msend_keys(\u001b[38;5;124m\"\u001b[39m\u001b[38;5;124m검색어 입력\u001b[39m\u001b[38;5;124m\"\u001b[39m)\n",
      "\u001b[1;31mAttributeError\u001b[0m: 'WebDriver' object has no attribute 'find_element_by_id'"
     ]
    }
   ],
   "source": [
    "search_input = driver.find_element_by_id(\"searchTxt\")\n",
    "search_input.send_keys(\"검색어 입력\")"
   ]
  },
  {
   "cell_type": "code",
   "execution_count": 4,
   "metadata": {},
   "outputs": [],
   "source": [
    "driver.find_element(By.XPATH, '//*[@id=\"contents_sub\"]/div[3]/form[4]/div/div[4]/button[1]').click()"
   ]
  },
  {
   "cell_type": "code",
   "execution_count": 5,
   "metadata": {},
   "outputs": [],
   "source": [
    "driver.find_element(By.XPATH, '/html/body').send_keys(Keys.PAGE_DOWN)"
   ]
  },
  {
   "cell_type": "code",
   "execution_count": 28,
   "metadata": {},
   "outputs": [
    {
     "data": {
      "text/plain": [
       "2013"
      ]
     },
     "execution_count": 28,
     "metadata": {},
     "output_type": "execute_result"
    }
   ],
   "source": [
    "# 설립연도\n",
    "int(''.join(re.findall('\\\\d\\\\d\\\\d\\\\d' ,driver.find_element(By.XPATH, '//*[@id=\"contents_sub\"]/div[3]/div/table/tbody/tr[2]/td[2]').text)))"
   ]
  },
  {
   "cell_type": "code",
   "execution_count": 23,
   "metadata": {},
   "outputs": [
    {
     "data": {
      "text/plain": [
       "'전남 무안군'"
      ]
     },
     "execution_count": 23,
     "metadata": {},
     "output_type": "execute_result"
    }
   ],
   "source": [
    "# 주소\n",
    "' '.join(re.findall(r'\\b(\\w+[구시도남군])\\b', driver.find_element(By.XPATH, '//*[@id=\"contents_sub\"]/div[3]/div/table/tbody/tr[4]/td').text))"
   ]
  },
  {
   "cell_type": "code",
   "execution_count": 9,
   "metadata": {},
   "outputs": [
    {
     "data": {
      "text/plain": [
       "652178"
      ]
     },
     "execution_count": 9,
     "metadata": {},
     "output_type": "execute_result"
    }
   ],
   "source": [
    "# 매출(단위 = 천원) 을 만원단위로\n",
    "int(int(driver.find_element(By.XPATH, '//*[@id=\"contents_sub\"]/div[3]/div/div[5]/table/tbody/tr[1]/td[5]').text.replace(',',''))/10)"
   ]
  },
  {
   "cell_type": "code",
   "execution_count": 38,
   "metadata": {},
   "outputs": [
    {
     "data": {
      "text/plain": [
       "'www.nbt.com'"
      ]
     },
     "execution_count": 38,
     "metadata": {},
     "output_type": "execute_result"
    }
   ],
   "source": [
    "# 기업 URL\n",
    "driver.find_element(By.XPATH, '//*[@id=\"contents_sub\"]/div[3]/div/table/tbody/tr[5]/td[1]/a').text"
   ]
  },
  {
   "cell_type": "code",
   "execution_count": 39,
   "metadata": {},
   "outputs": [
    {
     "data": {
      "text/plain": [
       "'광고매체 판매업'"
      ]
     },
     "execution_count": 39,
     "metadata": {},
     "output_type": "execute_result"
    }
   ],
   "source": [
    "# 표준산업\n",
    "driver.find_element(By.XPATH, '//*[@id=\"contents_sub\"]/div[3]/div/table/tbody/tr[6]/td[1]').text"
   ]
  },
  {
   "cell_type": "code",
   "execution_count": 43,
   "metadata": {},
   "outputs": [],
   "source": [
    "data = pd.read_csv('완벽.csv', index_col=0)\n",
    "corp_list = data.기업명"
   ]
  },
  {
   "cell_type": "code",
   "execution_count": 48,
   "metadata": {},
   "outputs": [],
   "source": [
    "corp_list = corp_list.drop_duplicates()"
   ]
  },
  {
   "cell_type": "code",
   "execution_count": 41,
   "metadata": {},
   "outputs": [
    {
     "name": "stdout",
     "output_type": "stream",
     "text": [
      "세이프에이아이 Message: no such window: target window already closed\n",
      "from unknown error: web view not found\n",
      "  (Session info: chrome=122.0.6261.70)\n",
      "Stacktrace:\n",
      "\tGetHandleVerifier [0x00007FF6D5EDAD22+56930]\n",
      "\t(No symbol) [0x00007FF6D5E4F622]\n",
      "\t(No symbol) [0x00007FF6D5D042E5]\n",
      "\t(No symbol) [0x00007FF6D5CE1D4C]\n",
      "\t(No symbol) [0x00007FF6D5D723F7]\n",
      "\t(No symbol) [0x00007FF6D5D87891]\n",
      "\t(No symbol) [0x00007FF6D5D6BA43]\n",
      "\t(No symbol) [0x00007FF6D5D3D438]\n",
      "\t(No symbol) [0x00007FF6D5D3E4D1]\n",
      "\tGetHandleVerifier [0x00007FF6D6256AAD+3709933]\n",
      "\tGetHandleVerifier [0x00007FF6D62AFFED+4075821]\n",
      "\tGetHandleVerifier [0x00007FF6D62A817F+4043455]\n",
      "\tGetHandleVerifier [0x00007FF6D5F79756+706710]\n",
      "\t(No symbol) [0x00007FF6D5E5B8FF]\n",
      "\t(No symbol) [0x00007FF6D5E56AE4]\n",
      "\t(No symbol) [0x00007FF6D5E56C3C]\n",
      "\t(No symbol) [0x00007FF6D5E468F4]\n",
      "\tBaseThreadInitThunk [0x00007FFCB755257D+29]\n",
      "\tRtlUserThreadStart [0x00007FFCB7B6AA58+40]\n",
      "\n"
     ]
    }
   ],
   "source": [
    "import pandas as pd\n",
    "from selenium import webdriver\n",
    "from selenium.webdriver.common.by import By\n",
    "from selenium.webdriver.chrome.options import Options\n",
    "from selenium.webdriver.common.keys import Keys\n",
    "from bs4 import BeautifulSoup\n",
    "import re\n",
    "import time\n",
    "\n",
    "# 크롬옵션\n",
    "chrome_options = Options()\n",
    "# 꺼짐 방지\n",
    "chrome_options.add_argument('--disable-gpu') \n",
    "# 알림표시 제거\n",
    "chrome_options.add_argument(\"--disable-popup-blocking\")\n",
    "chrome_options.add_argument(\"--disable-notifications\")\n",
    "# 옵션 적용\n",
    "driver = webdriver.Chrome(options=chrome_options)\n",
    "\n",
    "# 데이터 준비\n",
    "data = pd.read_csv('완벽.csv', index_col=0)\n",
    "\n",
    "corp_list = data.기업명\n",
    "test_list = []\n",
    "try:    \n",
    "    for zxc in data.주소:\n",
    "        test_list.append(zxc[5:8].strip())\n",
    "except:\n",
    "    test_list.append(zxc)\n",
    "data_1 = pd.DataFrame({\n",
    "    '기업명' : corp_list,\n",
    "    '주소' : test_list\n",
    "    })\n",
    "data_1 = data_1.drop_duplicates(subset=['기업명'])\n",
    "\n",
    "sm_res = pd.DataFrame(columns=['기업명', '설립연도', '주소', '매출액', '기업 홈페이지 URL', '업종분류'])\n",
    "\n",
    "# URL 입력\n",
    "url = '''https://sminfo.mss.go.kr/cm/sv/CSV001R0.do'''\n",
    "driver.get(url)\n",
    "\n",
    "html = driver.page_source\n",
    "soup = BeautifulSoup(html, 'html.parser')\n",
    "\n",
    "# 팝업 무시\n",
    "time.sleep(.1)\n",
    "first_window_handle = driver.window_handles[0]\n",
    "\n",
    "# 로그인\n",
    "driver.switch_to.window(first_window_handle)\n",
    "time.sleep(.1)\n",
    "id_input = driver.find_element(By.ID, \"login_id\")\n",
    "id_input.send_keys(\"anabiotic\")\n",
    "time.sleep(.1)\n",
    "password_input = driver.find_element(By.ID, \"login_password\")\n",
    "password_input.send_keys(\"qwe920435!\")\n",
    "time.sleep(.1)\n",
    "password_input.send_keys(Keys.ENTER)\n",
    "time.sleep(.3)\n",
    "# 기업정보보기 클릭\n",
    "driver.find_element(By.XPATH, '//*[@id=\"wrap\"]/div[2]/div/ul/li[1]/a').click()\n",
    "time.sleep(.1)\n",
    "driver.find_element(By.XPATH, '//*[@id=\"wrap\"]/div[2]/div/ul/li[1]/ul/li[1]/a').click()\n",
    "# 기업 리스트 검색\n",
    "try:\n",
    "    time.sleep(2)\n",
    "    for corp_name, address_name in zip(data_1.기업명, data_1.주소):\n",
    "        driver.find_element(By.ID, \"searchTxt\").send_keys(f\"{corp_name}\")\n",
    "        driver.find_element(By.XPATH, '//*[@id=\"contents_sub\"]/div[3]/form[4]/div/div[4]/button[1]').click()\n",
    "\n",
    "        # 클릭 위해서 페이지 다운\n",
    "        time.sleep(.1) \n",
    "        driver.find_element(By.XPATH, '/html/body').send_keys(Keys.PAGE_DOWN)\n",
    "        time.sleep(2)\n",
    "        # 검색어 검증\n",
    "        try:\n",
    "            for cat_list in range(1,11):\n",
    "                if corp_name in driver.find_element(By.XPATH, f'//*[@id=\"contents_sub\"]/div[3]/form[4]/div/div[7]/table/tbody/tr[{cat_list}]/td[1]/a').text and address_name in driver.find_element(By.XPATH, f'//*[@id=\"contents_sub\"]/div[3]/form[4]/div/div[7]/table/tbody/tr[{cat_list}]/td[5]').text:\n",
    "                    driver.find_element(By.XPATH, f'//*[@id=\"contents_sub\"]/div[3]/form[4]/div/div[7]/table/tbody/tr[{cat_list}]/td[1]/a').click()\n",
    "                    break\n",
    "                else:\n",
    "                    pass\n",
    "        except:\n",
    "            pass\n",
    "\n",
    "        # data_crawling\n",
    "        time.sleep(3)\n",
    "\n",
    "        # 설립연도\n",
    "        try:\n",
    "            corp_year = int(''.join(re.findall('\\\\d\\\\d\\\\d\\\\d' ,driver.find_element(By.XPATH, '//*[@id=\"contents_sub\"]/div[3]/div/table/tbody/tr[2]/td[2]').text)))\n",
    "        except:\n",
    "            corp_year = None\n",
    "        # 주소\n",
    "        try:\n",
    "            address = ' '.join(re.findall(r'\\b(\\w+[구시도남군])\\b', driver.find_element(By.XPATH, '//*[@id=\"contents_sub\"]/div[3]/div/table/tbody/tr[4]/td').text))\n",
    "        except:\n",
    "            address = None\n",
    "        # 매출(단위 = 천원)\n",
    "        try:\n",
    "            sales = int(int(driver.find_element(By.XPATH, '//*[@id=\"contents_sub\"]/div[3]/div/div[5]/table/tbody/tr[1]/td[5]').text.replace(',',''))/10)\n",
    "        except:\n",
    "            sales = None        \n",
    "        # 기업 URL\n",
    "        try:\n",
    "            corp_URL = driver.find_element(By.XPATH, '//*[@id=\"contents_sub\"]/div[3]/div/table/tbody/tr[5]/td[1]/a').text\n",
    "        except:\n",
    "            corp_URL = None        \n",
    "        # 표준산업\n",
    "        try:    \n",
    "            job_dis = driver.find_element(By.XPATH, '//*[@id=\"contents_sub\"]/div[3]/div/table/tbody/tr[6]/td[1]').text\n",
    "        except:\n",
    "            job_dis = None        \n",
    "        \n",
    "        sm_temp = pd.DataFrame([corp_name, corp_year, address, sales, corp_URL, job_dis], index = ['기업명', '설립연도', '주소', '매출액', '기업 홈페이지 URL', '업종분류'])\n",
    "        sm_res = pd.concat([sm_res, sm_temp])\n",
    "        \n",
    "        time.sleep(3)\n",
    "        \n",
    "        driver.back()\n",
    "\n",
    "except Exception as ex:\n",
    "    print(corp_name, ex)\n",
    "    pass\n"
   ]
  },
  {
   "cell_type": "code",
   "execution_count": 32,
   "metadata": {},
   "outputs": [],
   "source": [
    "def process_corporate_data_twice(corp_name, address_name):\n",
    "    sm_res = pd.DataFrame(columns=['기업명', '설립연도', '주소', '매출액', '기업 홈페이지 URL', '업종분류'])\n",
    "    try:\n",
    "        time.sleep(2)\n",
    "        driver.find_element(By.ID, \"searchTxt\").send_keys(f\"{corp_name}\")\n",
    "        driver.find_element(By.XPATH, '//*[@id=\"contents_sub\"]/div[3]/form[4]/div/div[4]/button[1]').click()\n",
    "        # 클릭 위해서 페이지 다운\n",
    "        time.sleep(0.1) \n",
    "        driver.find_element(By.XPATH, '/html/body').send_keys(Keys.PAGE_DOWN)\n",
    "        time.sleep(2)\n",
    "        # 검색어 검증\n",
    "        try:\n",
    "            for cat_list in range(1, 11):\n",
    "                if corp_name in driver.find_element(By.XPATH, f'//*[@id=\"contents_sub\"]/div[3]/form[4]/div/div[7]/table/tbody/tr[{cat_list}]/td[1]/a').text and address_name in driver.find_element(By.XPATH, f'//*[@id=\"contents_sub\"]/div[3]/form[4]/div/div[7]/table/tbody/tr[{cat_list}]/td[5]').text:\n",
    "                    driver.find_element(By.XPATH, f'//*[@id=\"contents_sub\"]/div[3]/form[4]/div/div[7]/table/tbody/tr[{cat_list}]/td[1]/a').click()\n",
    "                    break\n",
    "        except:\n",
    "            driver.find_element(By.XPATH, '//*[@id=\"wrap\"]/div[2]/div/ul/li[1]/a').click()\n",
    "            time.sleep(0.1)\n",
    "            driver.find_element(By.XPATH, '//*[@id=\"wrap\"]/div[2]/div/ul/li[1]/ul/li[1]/a').click()\n",
    "            pass\n",
    "        # data_crawling\n",
    "        time.sleep(3)\n",
    "        # 설립연도\n",
    "        try:\n",
    "            corp_year = int(''.join(re.findall('\\\\d\\\\d\\\\d\\\\d' ,driver.find_element(By.XPATH, '//*[@id=\"contents_sub\"]/div[3]/div/table/tbody/tr[2]/td[2]').text)))\n",
    "        except:\n",
    "            corp_year = None\n",
    "        # 주소\n",
    "        try:\n",
    "            address = ' '.join(re.findall(r'\\b(\\w+[구시도남군])\\b', driver.find_element(By.XPATH, '//*[@id=\"contents_sub\"]/div[3]/div/table/tbody/tr[4]/td').text))\n",
    "        except:\n",
    "            address = None\n",
    "        # 매출(단위 = 천원)\n",
    "        try:\n",
    "            sales = int(int(driver.find_element(By.XPATH, '//*[@id=\"contents_sub\"]/div[3]/div/div[5]/table/tbody/tr[1]/td[5]').text.replace(',',''))/10)\n",
    "        except:\n",
    "            sales = None        \n",
    "        # 기업 URL\n",
    "        try:\n",
    "            corp_URL = driver.find_element(By.XPATH, '//*[@id=\"contents_sub\"]/div[3]/div/table/tbody/tr[5]/td[1]/a').text\n",
    "        except:\n",
    "            corp_URL = None        \n",
    "        # 표준산업\n",
    "        try:    \n",
    "            job_dis = driver.find_element(By.XPATH, '//*[@id=\"contents_sub\"]/div[3]/div/table/tbody/tr[6]/td[1]').text\n",
    "        except:\n",
    "            job_dis = None        \n",
    "        sm_temp = pd.DataFrame([[corp_name, corp_year, address, sales, corp_URL, job_dis]], columns=['기업명', '설립연도', '주소', '매출액', '기업 홈페이지 URL', '업종분류'])\n",
    "        sm_res = pd.concat([sm_res, sm_temp])\n",
    "        \n",
    "        time.sleep(.2)\n",
    "        driver.back()\n",
    "\n",
    "        time.sleep(28)  # 35초 대기\n",
    "        return sm_res\n",
    "    \n",
    "    except Exception as ex:\n",
    "        print(corp_name, ex)\n",
    "        pass\n",
    "        time.sleep(35)  # 35초 대기\n",
    "        return sm_res\n",
    "        \n"
   ]
  },
  {
   "cell_type": "code",
   "execution_count": 33,
   "metadata": {},
   "outputs": [],
   "source": [
    "import pandas as pd\n",
    "from selenium import webdriver\n",
    "from selenium.webdriver.common.by import By\n",
    "from selenium.webdriver.chrome.options import Options\n",
    "from selenium.webdriver.common.keys import Keys\n",
    "import re\n",
    "import time\n",
    "\n",
    "# 데이터 준비\n",
    "data = pd.read_csv('완벽.csv', index_col=0)\n",
    "\n",
    "corp_list = data.기업명\n",
    "test_list = []\n",
    "try:    \n",
    "    for zxc in data.주소:\n",
    "        test_list.append(zxc[5:8].strip())\n",
    "except:\n",
    "    test_list.append(zxc)\n",
    "data_1 = pd.DataFrame({\n",
    "    '기업명' : corp_list,\n",
    "    '주소' : test_list\n",
    "})\n",
    "data_1 = data_1.drop_duplicates(subset=['기업명'])\n",
    "data_1.기업명 = data_1.기업명.apply(lambda x: re.sub('\\\\W', '', x))\n",
    "\n",
    "# 크롬옵션\n",
    "chrome_options = Options()\n",
    "chrome_options.add_argument('--disable-gpu') \n",
    "chrome_options.add_argument(\"--disable-popup-blocking\")\n",
    "chrome_options.add_argument(\"--disable-notifications\")\n",
    "driver = webdriver.Chrome(options=chrome_options)\n",
    "    \n",
    "# URL 입력\n",
    "url = '''https://sminfo.mss.go.kr/cm/sv/CSV001R0.do'''\n",
    "driver.get(url)\n",
    "# 팝업 무시\n",
    "time.sleep(0.1)\n",
    "first_window_handle = driver.window_handles[0]\n",
    "# 로그인\n",
    "driver.switch_to.window(first_window_handle)\n",
    "time.sleep(0.1)\n",
    "id_input = driver.find_element(By.ID, \"login_id\")\n",
    "id_input.send_keys(\"anabiotic\")\n",
    "time.sleep(0.1)\n",
    "password_input = driver.find_element(By.ID, \"login_password\")\n",
    "password_input.send_keys(\"qwe920435!\")\n",
    "time.sleep(0.1)\n",
    "password_input.send_keys(Keys.ENTER)\n",
    "time.sleep(0.3)\n",
    "# 기업정보보기 클릭\n",
    "driver.find_element(By.XPATH, '//*[@id=\"wrap\"]/div[2]/div/ul/li[1]/a').click()\n",
    "time.sleep(0.1)\n",
    "driver.find_element(By.XPATH, '//*[@id=\"wrap\"]/div[2]/div/ul/li[1]/ul/li[1]/a').click()\n",
    "    \n",
    "sm_res = pd.DataFrame(columns=['기업명', '설립연도', '주소', '매출액', '기업 홈페이지 URL', '업종분류'])\n",
    "\n",
    "# 기업 리스트 처리\n",
    "for corp_name, address_name in zip(data_1.기업명, data_1.주소):\n",
    "    res = process_corporate_data_twice(corp_name, address_name)\n",
    "    sm_res = pd.concat([sm_res, res])"
   ]
  },
  {
   "cell_type": "code",
   "execution_count": 35,
   "metadata": {},
   "outputs": [],
   "source": [
    "sm_res.to_excel('잡것완성.xlsx')"
   ]
  },
  {
   "cell_type": "code",
   "execution_count": 36,
   "metadata": {},
   "outputs": [
    {
     "data": {
      "text/plain": [
       "기업명              0\n",
       "설립연도           214\n",
       "주소             208\n",
       "매출액            246\n",
       "기업 홈페이지 URL    350\n",
       "업종분류           208\n",
       "dtype: int64"
      ]
     },
     "execution_count": 36,
     "metadata": {},
     "output_type": "execute_result"
    }
   ],
   "source": [
    "sm_res.isna().sum()"
   ]
  },
  {
   "cell_type": "raw",
   "metadata": {},
   "source": [
    "    기업명\t설립연도\t주소\t매출액\t기업 홈페이지 URL\t업종분류\n",
    "0\t젭\t    2021\t강남구\tNone\tNone\t데이터베이스 및 온라인정보 제공업\n",
    "0\t서커스컴퍼니\t2012\t강남구\t170563\twww.circuscompany.com\t응용 소프트웨어 개발 및 공급업\n",
    "0\t블로코\t2014\t성남시 분당구\t118214\tww.blocko.io\t응용 소프트웨어 개발 및 공급업\n",
    "0\t피매치\t2021\t성북구\t5286\twww.pmatch.co.kr\t자연과학 및 공학 융합 연구개발업\n",
    "0\t만나플래닛\t2016\t구로구\t1419493\tNone\t응용 소프트웨어 개발 및 공급업\n",
    "0\t패스트레인여신티켓\tNone\tNone\tNone\tNone\tNone\n",
    "0\t미트박스글로벌\tNone\tNone\tNone\tNone\tNone\n",
    "0\t로지스팟\tNone\tNone\tNone\tNone\tNone\n",
    "0\t이큐브랩\tNone\tNone\tNone\tNone\tNone\n",
    "0\t세이프에이아이\tNone\tNone\tNone\tNone\tNone\n",
    "0\t마크비전코리아\tNone\tNone\tNone\tNone\tNone\n",
    "0\t위시빈\tNone\tNone\tNone\tNone\tNone\n",
    "0\t비에이치에스엔\tNone\tNone\tNone\tNone\tNone\n",
    "0\t아이엠에스이\tNone\tNone\tNone\tNone\tNone\n",
    "0\t한국부동산데이터연구소\tNone\tNone\tNone\tNone\tNone\n",
    "0\t퀀텀유니버스\tNone\tNone\tNone\tNone\tNone\n",
    "0\t드래프타입\tNone\tNone\tNone\tNone\tNone\n",
    "0\t라포랩스퀸잇\tNone\tNone\tNone\tNone\tNone\n",
    "0\t커리어데이\tNone\tNone\tNone\tNone\tNone\n",
    "0\t파더스랩\tNone\tNone\tNone\tNone\tNone\n",
    "0\t마켓디자이너스\tNone\tNone\tNone\tNone\tNone\n",
    "0\t트루테크놀로지스\tNone\tNone\tNone\tNone\tNone\n",
    "0\t에타일렉트로닉스\tNone\tNone\tNone\tNone\tNone\n",
    "0\t프렉스코리아\tNone\tNone\tNone\tNone\tNone\n",
    "0\t체인앱시스\tNone\tNone\tNone\tNone\tNone\n",
    "0\t에너닷\tNone\tNone\tNone\tNone\tNone\n",
    "\n",
    "\n",
    "피피비스튜디오스. Alert Text: _!#$%^&*()'?`~-=+|.,/<>{}[]같은 특수 문자는 넣을 수 없습니다. 확인 하여 주십시요.\n",
    "\n",
    "오늘의작업장 Alert Text: _!#$%^&*()'?`~-=+|.,/<>{}[]같은 특수 문자는 넣을 수 없습니다. 확인 하여 주십시요.\n",
    "\n",
    "\n",
    "\n",
    "부터 10개 씩 기업명 확인하여 다음 기업명부터 정보가 잘 들어갔는지 확인해야함\n",
    "\n",
    "start_index = df[df['기업명'] == '?'].index[0]\n",
    "end_index = start_index + 5\n",
    "\n",
    "print(df.iloc[start_index:end_index])\n",
    "\n",
    "모요\n",
    "룩코\n",
    "레벨스\n",
    "와들\n",
    "\n",
    "r'[\\W_]+' 기호 제거 정규식\n",
    "\n",
    "\n",
    "\n",
    "None값 한번씩 채우기\n",
    "\n",
    "sm_res.to_excel('수정전.xlsx') - 수동 수정\n",
    "pd.read_excel('수정전.xlsx')\n",
    "전처리\n",
    "\n",
    "sm_res.to_csv('수정후.csv')"
   ]
  },
  {
   "cell_type": "code",
   "execution_count": 3,
   "metadata": {},
   "outputs": [],
   "source": [
    "dd = pd.read_excel('잡것완성.xlsx', index_col = 0)"
   ]
  },
  {
   "cell_type": "code",
   "execution_count": 6,
   "metadata": {},
   "outputs": [],
   "source": [
    "ddd = pd.read_csv('wanted_data.csv', index_col= 0 )"
   ]
  },
  {
   "cell_type": "code",
   "execution_count": 7,
   "metadata": {},
   "outputs": [],
   "source": [
    "ddd.기업명 = ddd.기업명.apply(lambda x: re.sub(r'\\([^)]*\\)','',x))\n",
    "ddd.기업명 = ddd.기업명.apply(lambda x: re.sub('\\\\W', '', x))"
   ]
  },
  {
   "cell_type": "code",
   "execution_count": 11,
   "metadata": {},
   "outputs": [
    {
     "data": {
      "text/html": [
       "<div>\n",
       "<style scoped>\n",
       "    .dataframe tbody tr th:only-of-type {\n",
       "        vertical-align: middle;\n",
       "    }\n",
       "\n",
       "    .dataframe tbody tr th {\n",
       "        vertical-align: top;\n",
       "    }\n",
       "\n",
       "    .dataframe thead th {\n",
       "        text-align: right;\n",
       "    }\n",
       "</style>\n",
       "<table border=\"1\" class=\"dataframe\">\n",
       "  <thead>\n",
       "    <tr style=\"text-align: right;\">\n",
       "      <th></th>\n",
       "      <th>기업명</th>\n",
       "      <th>주소</th>\n",
       "      <th>직무</th>\n",
       "      <th>자격요건</th>\n",
       "      <th>직급</th>\n",
       "      <th>이용하는기술스택/우대사항</th>\n",
       "      <th>해당 페이지 URL</th>\n",
       "    </tr>\n",
       "  </thead>\n",
       "  <tbody>\n",
       "    <tr>\n",
       "      <th>213</th>\n",
       "      <td>플라네타리움랩스코리아</td>\n",
       "      <td>강남구 테헤란로 223</td>\n",
       "      <td>소프트웨어 엔지니어</td>\n",
       "      <td>원자격•학력및성별무관•관련경력2년이상및그에준하는경력요구사항•1개이상의프로그래밍언어로...</td>\n",
       "      <td>2</td>\n",
       "      <td>• 오픈 소스 프로젝트 메인테이너, 혹은 기여 경험, • 2인 이상 팀에서 협업 해...</td>\n",
       "      <td>https://www.wanted.co.kr/wd/199628</td>\n",
       "    </tr>\n",
       "    <tr>\n",
       "      <th>497</th>\n",
       "      <td>플라네타리움랩스코리아</td>\n",
       "      <td>강남구 테헤란로 223</td>\n",
       "      <td>웹 개발자</td>\n",
       "      <td>원자격•학력및성별무관•관련경력2년이상및그에준하는경력요구사항•1개이상의프로그래밍언어로...</td>\n",
       "      <td>2</td>\n",
       "      <td>• 오픈 소스 프로젝트 메인테이너, 혹은 기여 경험, • 2인 이상 팀에서 협업 해...</td>\n",
       "      <td>https://www.wanted.co.kr/wd/199628</td>\n",
       "    </tr>\n",
       "    <tr>\n",
       "      <th>1823</th>\n",
       "      <td>플라네타리움랩스코리아</td>\n",
       "      <td>강남구 테헤란로 223</td>\n",
       "      <td>블록체인 플랫폼 엔지니어</td>\n",
       "      <td>원자격•학력및성별무관•관련경력2년이상및그에준하는경력요구사항•1개이상의프로그래밍언어로...</td>\n",
       "      <td>2</td>\n",
       "      <td>• 오픈 소스 프로젝트 메인테이너, 혹은 기여 경험, • 2인 이상 팀에서 협업 해...</td>\n",
       "      <td>https://www.wanted.co.kr/wd/199628</td>\n",
       "    </tr>\n",
       "  </tbody>\n",
       "</table>\n",
       "</div>"
      ],
      "text/plain": [
       "              기업명            주소             직무  \\\n",
       "213   플라네타리움랩스코리아  강남구 테헤란로 223     소프트웨어 엔지니어   \n",
       "497   플라네타리움랩스코리아  강남구 테헤란로 223          웹 개발자   \n",
       "1823  플라네타리움랩스코리아  강남구 테헤란로 223  블록체인 플랫폼 엔지니어   \n",
       "\n",
       "                                                   자격요건  직급  \\\n",
       "213   원자격•학력및성별무관•관련경력2년이상및그에준하는경력요구사항•1개이상의프로그래밍언어로...   2   \n",
       "497   원자격•학력및성별무관•관련경력2년이상및그에준하는경력요구사항•1개이상의프로그래밍언어로...   2   \n",
       "1823  원자격•학력및성별무관•관련경력2년이상및그에준하는경력요구사항•1개이상의프로그래밍언어로...   2   \n",
       "\n",
       "                                          이용하는기술스택/우대사항  \\\n",
       "213   • 오픈 소스 프로젝트 메인테이너, 혹은 기여 경험, • 2인 이상 팀에서 협업 해...   \n",
       "497   • 오픈 소스 프로젝트 메인테이너, 혹은 기여 경험, • 2인 이상 팀에서 협업 해...   \n",
       "1823  • 오픈 소스 프로젝트 메인테이너, 혹은 기여 경험, • 2인 이상 팀에서 협업 해...   \n",
       "\n",
       "                              해당 페이지 URL  \n",
       "213   https://www.wanted.co.kr/wd/199628  \n",
       "497   https://www.wanted.co.kr/wd/199628  \n",
       "1823  https://www.wanted.co.kr/wd/199628  "
      ]
     },
     "execution_count": 11,
     "metadata": {},
     "output_type": "execute_result"
    }
   ],
   "source": [
    "\n",
    "ddd[ddd.기업명 == '플라네타리움랩스코리아']"
   ]
  }
 ],
 "metadata": {
  "kernelspec": {
   "display_name": "Python 3",
   "language": "python",
   "name": "python3"
  },
  "language_info": {
   "codemirror_mode": {
    "name": "ipython",
    "version": 3
   },
   "file_extension": ".py",
   "mimetype": "text/x-python",
   "name": "python",
   "nbconvert_exporter": "python",
   "pygments_lexer": "ipython3",
   "version": "3.12.2"
  }
 },
 "nbformat": 4,
 "nbformat_minor": 2
}
