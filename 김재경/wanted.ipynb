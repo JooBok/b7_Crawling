{
 "cells": [
  {
   "cell_type": "code",
   "execution_count": 17,
   "metadata": {},
   "outputs": [],
   "source": [
    "import pandas as pd \n",
    "import numpy as np \n",
    "from bs4 import BeautifulSoup\n",
    "from selenium import webdriver\n",
    "from selenium.webdriver.common.by import By\n",
    "import warnings\n",
    "warnings.filterwarnings(\"ignore\")\n",
    "import re\n",
    "import time\n",
    "import requests"
   ]
  },
  {
   "cell_type": "code",
   "execution_count": 46,
   "metadata": {},
   "outputs": [],
   "source": [
    "url = '''https://www.wanted.co.kr/wdlist/518?country=kr&job_sort=job.recommend_order&years=-1&locations=all'''\n",
    "driver = webdriver.Chrome()\n",
    "driver.get(url)\n",
    "html = driver.page_source\n",
    "soup = BeautifulSoup(html, 'html.parser')"
   ]
  },
  {
   "cell_type": "code",
   "execution_count": 40,
   "metadata": {},
   "outputs": [],
   "source": [
    "# 개발섹터 선택\n",
    "driver.find_element(By.XPATH, '//*[@id=\"__next\"]/div[3]/article/div/div[2]/button/span[2]').click()"
   ]
  },
  {
   "cell_type": "code",
   "execution_count": 42,
   "metadata": {},
   "outputs": [
    {
     "ename": "NoSuchElementException",
     "evalue": "Message: no such element: Unable to locate element: {\"method\":\"xpath\",\"selector\":\"//*[@id=\"__next\"]/div[3]/article/div/div[2]/section/div[2]/div/button[2]\"}\n  (Session info: chrome=121.0.6167.185); For documentation on this error, please visit: https://www.selenium.dev/documentation/webdriver/troubleshooting/errors#no-such-element-exception\nStacktrace:\n\tGetHandleVerifier [0x00007FF7CF417012+3522402]\n\t(No symbol) [0x00007FF7CF038352]\n\t(No symbol) [0x00007FF7CEEE5ABB]\n\t(No symbol) [0x00007FF7CEF2BF0E]\n\t(No symbol) [0x00007FF7CEF2C08C]\n\t(No symbol) [0x00007FF7CEF6E437]\n\t(No symbol) [0x00007FF7CEF4F09F]\n\t(No symbol) [0x00007FF7CEF6BDA3]\n\t(No symbol) [0x00007FF7CEF4EE03]\n\t(No symbol) [0x00007FF7CEF1F4D4]\n\t(No symbol) [0x00007FF7CEF205F1]\n\tGetHandleVerifier [0x00007FF7CF449B9D+3730157]\n\tGetHandleVerifier [0x00007FF7CF49F02D+4079485]\n\tGetHandleVerifier [0x00007FF7CF4975D3+4048163]\n\tGetHandleVerifier [0x00007FF7CF16A649+718233]\n\t(No symbol) [0x00007FF7CF044A3F]\n\t(No symbol) [0x00007FF7CF03FA94]\n\t(No symbol) [0x00007FF7CF03FBC2]\n\t(No symbol) [0x00007FF7CF02F2E4]\n\tBaseThreadInitThunk [0x00007FFACBF426BD+29]\n\tRtlUserThreadStart [0x00007FFACC8EDFB8+40]\n",
     "output_type": "error",
     "traceback": [
      "\u001b[1;31m---------------------------------------------------------------------------\u001b[0m",
      "\u001b[1;31mNoSuchElementException\u001b[0m                    Traceback (most recent call last)",
      "\u001b[1;32mc:\\Users\\user\\Documents\\Data_Crawling\\김재경\\wanted.ipynb Cell 4\u001b[0m line \u001b[0;36m3\n\u001b[0;32m      <a href='vscode-notebook-cell:/c%3A/Users/user/Documents/Data_Crawling/%EA%B9%80%EC%9E%AC%EA%B2%BD/wanted.ipynb#W3sZmlsZQ%3D%3D?line=0'>1</a>\u001b[0m \u001b[39m# 직무선택 (5개씩)\u001b[39;00m\n\u001b[0;32m      <a href='vscode-notebook-cell:/c%3A/Users/user/Documents/Data_Crawling/%EA%B9%80%EC%9E%AC%EA%B2%BD/wanted.ipynb#W3sZmlsZQ%3D%3D?line=1'>2</a>\u001b[0m \u001b[39m# job_num = 2 ~ 38\u001b[39;00m\n\u001b[1;32m----> <a href='vscode-notebook-cell:/c%3A/Users/user/Documents/Data_Crawling/%EA%B9%80%EC%9E%AC%EA%B2%BD/wanted.ipynb#W3sZmlsZQ%3D%3D?line=2'>3</a>\u001b[0m driver\u001b[39m.\u001b[39mfind_element(By\u001b[39m.\u001b[39mXPATH, \u001b[39m'\u001b[39m\u001b[39m//*[@id=\u001b[39m\u001b[39m\"\u001b[39m\u001b[39m__next\u001b[39m\u001b[39m\"\u001b[39m\u001b[39m]/div[3]/article/div/div[2]/section/div[2]/div/button[2]\u001b[39m\u001b[39m'\u001b[39m)\u001b[39m.\u001b[39mclick()\n\u001b[0;32m      <a href='vscode-notebook-cell:/c%3A/Users/user/Documents/Data_Crawling/%EA%B9%80%EC%9E%AC%EA%B2%BD/wanted.ipynb#W3sZmlsZQ%3D%3D?line=3'>4</a>\u001b[0m driver\u001b[39m.\u001b[39mfind_element(By\u001b[39m.\u001b[39mXPATH, \u001b[39m'\u001b[39m\u001b[39m//*[@id=\u001b[39m\u001b[39m\"\u001b[39m\u001b[39m__next\u001b[39m\u001b[39m\"\u001b[39m\u001b[39m]/div[3]/article/div/div[2]/section/div[2]/div/button[3]\u001b[39m\u001b[39m'\u001b[39m)\u001b[39m.\u001b[39mclick()\n\u001b[0;32m      <a href='vscode-notebook-cell:/c%3A/Users/user/Documents/Data_Crawling/%EA%B9%80%EC%9E%AC%EA%B2%BD/wanted.ipynb#W3sZmlsZQ%3D%3D?line=5'>6</a>\u001b[0m driver\u001b[39m.\u001b[39mfind_element(By\u001b[39m.\u001b[39mXPATH, \u001b[39m'\u001b[39m\u001b[39m//*[@id=\u001b[39m\u001b[39m\"\u001b[39m\u001b[39m__next\u001b[39m\u001b[39m\"\u001b[39m\u001b[39m]/div[3]/article/div/div[2]/section/div[3]/button/span[2]\u001b[39m\u001b[39m'\u001b[39m)\u001b[39m.\u001b[39mclick()\n",
      "File \u001b[1;32mc:\\ProgramData\\anaconda3\\Lib\\site-packages\\selenium\\webdriver\\remote\\webdriver.py:741\u001b[0m, in \u001b[0;36mWebDriver.find_element\u001b[1;34m(self, by, value)\u001b[0m\n\u001b[0;32m    738\u001b[0m     by \u001b[39m=\u001b[39m By\u001b[39m.\u001b[39mCSS_SELECTOR\n\u001b[0;32m    739\u001b[0m     value \u001b[39m=\u001b[39m \u001b[39mf\u001b[39m\u001b[39m'\u001b[39m\u001b[39m[name=\u001b[39m\u001b[39m\"\u001b[39m\u001b[39m{\u001b[39;00mvalue\u001b[39m}\u001b[39;00m\u001b[39m\"\u001b[39m\u001b[39m]\u001b[39m\u001b[39m'\u001b[39m\n\u001b[1;32m--> 741\u001b[0m \u001b[39mreturn\u001b[39;00m \u001b[39mself\u001b[39m\u001b[39m.\u001b[39mexecute(Command\u001b[39m.\u001b[39mFIND_ELEMENT, {\u001b[39m\"\u001b[39m\u001b[39musing\u001b[39m\u001b[39m\"\u001b[39m: by, \u001b[39m\"\u001b[39m\u001b[39mvalue\u001b[39m\u001b[39m\"\u001b[39m: value})[\u001b[39m\"\u001b[39m\u001b[39mvalue\u001b[39m\u001b[39m\"\u001b[39m]\n",
      "File \u001b[1;32mc:\\ProgramData\\anaconda3\\Lib\\site-packages\\selenium\\webdriver\\remote\\webdriver.py:347\u001b[0m, in \u001b[0;36mWebDriver.execute\u001b[1;34m(self, driver_command, params)\u001b[0m\n\u001b[0;32m    345\u001b[0m response \u001b[39m=\u001b[39m \u001b[39mself\u001b[39m\u001b[39m.\u001b[39mcommand_executor\u001b[39m.\u001b[39mexecute(driver_command, params)\n\u001b[0;32m    346\u001b[0m \u001b[39mif\u001b[39;00m response:\n\u001b[1;32m--> 347\u001b[0m     \u001b[39mself\u001b[39m\u001b[39m.\u001b[39merror_handler\u001b[39m.\u001b[39mcheck_response(response)\n\u001b[0;32m    348\u001b[0m     response[\u001b[39m\"\u001b[39m\u001b[39mvalue\u001b[39m\u001b[39m\"\u001b[39m] \u001b[39m=\u001b[39m \u001b[39mself\u001b[39m\u001b[39m.\u001b[39m_unwrap_value(response\u001b[39m.\u001b[39mget(\u001b[39m\"\u001b[39m\u001b[39mvalue\u001b[39m\u001b[39m\"\u001b[39m, \u001b[39mNone\u001b[39;00m))\n\u001b[0;32m    349\u001b[0m     \u001b[39mreturn\u001b[39;00m response\n",
      "File \u001b[1;32mc:\\ProgramData\\anaconda3\\Lib\\site-packages\\selenium\\webdriver\\remote\\errorhandler.py:229\u001b[0m, in \u001b[0;36mErrorHandler.check_response\u001b[1;34m(self, response)\u001b[0m\n\u001b[0;32m    227\u001b[0m         alert_text \u001b[39m=\u001b[39m value[\u001b[39m\"\u001b[39m\u001b[39malert\u001b[39m\u001b[39m\"\u001b[39m]\u001b[39m.\u001b[39mget(\u001b[39m\"\u001b[39m\u001b[39mtext\u001b[39m\u001b[39m\"\u001b[39m)\n\u001b[0;32m    228\u001b[0m     \u001b[39mraise\u001b[39;00m exception_class(message, screen, stacktrace, alert_text)  \u001b[39m# type: ignore[call-arg]  # mypy is not smart enough here\u001b[39;00m\n\u001b[1;32m--> 229\u001b[0m \u001b[39mraise\u001b[39;00m exception_class(message, screen, stacktrace)\n",
      "\u001b[1;31mNoSuchElementException\u001b[0m: Message: no such element: Unable to locate element: {\"method\":\"xpath\",\"selector\":\"//*[@id=\"__next\"]/div[3]/article/div/div[2]/section/div[2]/div/button[2]\"}\n  (Session info: chrome=121.0.6167.185); For documentation on this error, please visit: https://www.selenium.dev/documentation/webdriver/troubleshooting/errors#no-such-element-exception\nStacktrace:\n\tGetHandleVerifier [0x00007FF7CF417012+3522402]\n\t(No symbol) [0x00007FF7CF038352]\n\t(No symbol) [0x00007FF7CEEE5ABB]\n\t(No symbol) [0x00007FF7CEF2BF0E]\n\t(No symbol) [0x00007FF7CEF2C08C]\n\t(No symbol) [0x00007FF7CEF6E437]\n\t(No symbol) [0x00007FF7CEF4F09F]\n\t(No symbol) [0x00007FF7CEF6BDA3]\n\t(No symbol) [0x00007FF7CEF4EE03]\n\t(No symbol) [0x00007FF7CEF1F4D4]\n\t(No symbol) [0x00007FF7CEF205F1]\n\tGetHandleVerifier [0x00007FF7CF449B9D+3730157]\n\tGetHandleVerifier [0x00007FF7CF49F02D+4079485]\n\tGetHandleVerifier [0x00007FF7CF4975D3+4048163]\n\tGetHandleVerifier [0x00007FF7CF16A649+718233]\n\t(No symbol) [0x00007FF7CF044A3F]\n\t(No symbol) [0x00007FF7CF03FA94]\n\t(No symbol) [0x00007FF7CF03FBC2]\n\t(No symbol) [0x00007FF7CF02F2E4]\n\tBaseThreadInitThunk [0x00007FFACBF426BD+29]\n\tRtlUserThreadStart [0x00007FFACC8EDFB8+40]\n"
     ]
    }
   ],
   "source": [
    "# 직무선택 (5개씩)\n",
    "# num = 2 ~ 38\n",
    "driver.find_element(By.XPATH, f'//*[@id=\"__next\"]/div[3]/article/div/div[2]/section/div[2]/div/button[{num}]').click()\n",
    "\n",
    "# 선택완료\n",
    "driver.find_element(By.XPATH, '//*[@id=\"__next\"]/div[3]/article/div/div[2]/section/div[3]/button/span[2]').click()"
   ]
  },
  {
   "cell_type": "code",
   "execution_count": 25,
   "metadata": {},
   "outputs": [],
   "source": [
    "driver.find_element(By.XPATH, '//*[@id=\"__next\"]/div[3]/article/div/div[2]/section/div[2]/div/button[2]').click()"
   ]
  },
  {
   "cell_type": "code",
   "execution_count": null,
   "metadata": {},
   "outputs": [],
   "source": []
  }
 ],
 "metadata": {
  "kernelspec": {
   "display_name": "base",
   "language": "python",
   "name": "python3"
  },
  "language_info": {
   "codemirror_mode": {
    "name": "ipython",
    "version": 3
   },
   "file_extension": ".py",
   "mimetype": "text/x-python",
   "name": "python",
   "nbconvert_exporter": "python",
   "pygments_lexer": "ipython3",
   "version": "3.11.5"
  }
 },
 "nbformat": 4,
 "nbformat_minor": 2
}
