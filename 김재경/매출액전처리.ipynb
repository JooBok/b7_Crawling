{
 "cells": [
  {
   "cell_type": "code",
   "execution_count": 1,
   "metadata": {},
   "outputs": [],
   "source": [
    "import pandas as pd"
   ]
  },
  {
   "cell_type": "code",
   "execution_count": null,
   "metadata": {},
   "outputs": [],
   "source": [
    "data_concat = pd.concat([data.기업명, data.매출액], axis= 1)\n",
    "data_sales = data_concat.dropna()\n",
    "data_sales"
   ]
  },
  {
   "cell_type": "code",
   "execution_count": null,
   "metadata": {},
   "outputs": [],
   "source": [
    "data_sales_1 = data_sales.매출액.apply(lambda x: x.replace(',',''))\n",
    "\n",
    "data_sales_res = []\n",
    "try:\n",
    "    for q in data_sales_1:\n",
    "        if '조' in q:\n",
    "                data_sales_res.append(int(''.join(re.findall(r'(\\d+)조', q)))*100000000 + int(''.join(re.findall(r'(\\d+)억', q)))*10000 + int(''.join(re.findall(r'억(\\d+)', q))))\n",
    "        elif '억원' in q:\n",
    "             data_sales_res.append(int(''.join(re.findall(r'(\\d+)억원', q)))*10000)\n",
    "        elif '억' in q:\n",
    "           data_sales_res.append(int(''.join(re.findall(r'(\\d+)억', q)))*10000 + int(''.join(re.findall(r'억(\\d+)', q))))   \n",
    "        else:\n",
    "            data_sales_res.append(int(''.join(re.findall(r'(\\d+)만원', q))))\n",
    "except:\n",
    "     print(q)"
   ]
  },
  {
   "cell_type": "code",
   "execution_count": null,
   "metadata": {},
   "outputs": [],
   "source": [
    "data_res = pd.concat([data_sales.기업명, data_sales_res])"
   ]
  },
  {
   "cell_type": "code",
   "execution_count": null,
   "metadata": {},
   "outputs": [],
   "source": [
    "data.merge(data_res, on = '기업명')"
   ]
  }
 ],
 "metadata": {
  "kernelspec": {
   "display_name": "base",
   "language": "python",
   "name": "python3"
  },
  "language_info": {
   "codemirror_mode": {
    "name": "ipython",
    "version": 3
   },
   "file_extension": ".py",
   "mimetype": "text/x-python",
   "name": "python",
   "nbconvert_exporter": "python",
   "pygments_lexer": "ipython3",
   "version": "3.11.5"
  }
 },
 "nbformat": 4,
 "nbformat_minor": 2
}
