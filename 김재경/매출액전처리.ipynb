{
 "cells": [
  {
   "cell_type": "code",
   "execution_count": 1,
   "metadata": {},
   "outputs": [],
   "source": [
    "import pandas as pd"
   ]
  },
  {
   "cell_type": "code",
   "execution_count": null,
   "metadata": {},
   "outputs": [],
   "source": [
    "sales_data = []\n",
    "\n",
    "for sales in data.매출액:\n",
    "    if sales != None:\n",
    "        sales_data.append(sales.replace(',',''))\n",
    "    else:\n",
    "        sales_data.append(None)"
   ]
  },
  {
   "cell_type": "code",
   "execution_count": null,
   "metadata": {},
   "outputs": [],
   "source": [
    "sales_data_res = []\n",
    "try:\n",
    "    for q in sales_data:\n",
    "        if '조' in q:\n",
    "                sales_data_res.append(int(''.join(re.findall(r'(\\d+)조', q)))*100000000 + int(''.join(re.findall(r'(\\d+)억', q)))*10000 + int(''.join(re.findall(r'억(\\d+)', q))))\n",
    "        elif '억원' in q:\n",
    "             sales_data_res.append(int(''.join(re.findall(r'(\\d+)억원', q)))*10000)\n",
    "        elif '억' in q:\n",
    "           sales_data_res.append(int(''.join(re.findall(r'(\\d+)억', q)))*10000 + int(''.join(re.findall(r'억(\\d+)', q))))   \n",
    "        else:\n",
    "            sales_data_res.append(int(''.join(re.findall(r'(\\d+)만원', q))))\n",
    "except:\n",
    "     print(q)"
   ]
  },
  {
   "cell_type": "code",
   "execution_count": null,
   "metadata": {},
   "outputs": [],
   "source": [
    "data.매출액 = sales_data_res"
   ]
  }
 ],
 "metadata": {
  "kernelspec": {
   "display_name": "base",
   "language": "python",
   "name": "python3"
  },
  "language_info": {
   "codemirror_mode": {
    "name": "ipython",
    "version": 3
   },
   "file_extension": ".py",
   "mimetype": "text/x-python",
   "name": "python",
   "nbconvert_exporter": "python",
   "pygments_lexer": "ipython3",
   "version": "3.11.5"
  }
 },
 "nbformat": 4,
 "nbformat_minor": 2
}
