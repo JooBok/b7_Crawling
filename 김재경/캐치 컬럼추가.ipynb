{
 "cells": [
  {
   "cell_type": "markdown",
   "metadata": {},
   "source": [
    "## 기업형태, 매출액, 사원수, 업종분류, 설립연도 추가"
   ]
  },
  {
   "cell_type": "code",
   "execution_count": 1,
   "metadata": {},
   "outputs": [],
   "source": [
    "import pandas as pd\n",
    "# 정적크롤링\n",
    "from bs4 import BeautifulSoup\n",
    "import requests\n",
    "import re\n",
    "# 동적크롤링\n",
    "from selenium import webdriver\n",
    "from selenium.webdriver.common.by import By\n",
    "import time\n",
    "from selenium.webdriver.common.keys import Keys"
   ]
  },
  {
   "cell_type": "code",
   "execution_count": 2,
   "metadata": {},
   "outputs": [
    {
     "data": {
      "text/plain": [
       "1962"
      ]
     },
     "execution_count": 2,
     "metadata": {},
     "output_type": "execute_result"
    }
   ],
   "source": [
    "# 파일 불러오기\n",
    "data = pd.read_csv('./.gitignore/wanted_data.csv')\n",
    "\n",
    "wan_corp_name = []\n",
    "\n",
    "for q in data.기업명.apply(lambda x: re.sub(r'[(a-zA-Z)]', '', x)):\n",
    "    wan_corp_name.append(re.sub('\\s', '', q))\n",
    "\n",
    "len(wan_corp_name)"
   ]
  },
  {
   "cell_type": "code",
   "execution_count": 3,
   "metadata": {},
   "outputs": [],
   "source": [
    "pro_extra2_res = pd.DataFrame(columns=['기업명','기업형태','매출액','사원수','업종분류','설립연도'])"
   ]
  },
  {
   "cell_type": "code",
   "execution_count": 4,
   "metadata": {},
   "outputs": [],
   "source": [
    "for name in wan_corp_name:\n",
    "    try:\n",
    "        url = f'https://www.catch.co.kr/Search/SearchDetail?Menu=2&Keyword={name}'\n",
    "\n",
    "        driver= webdriver.Chrome()\n",
    "        driver.get(url)\n",
    "\n",
    "        driver.find_element(By.XPATH, '//*[@id=\"leftTop\"]/ul/li/div[2]/p[1]/a').click()\n",
    "        time.sleep(0.2)\n",
    "\n",
    "        # 기업명\n",
    "        corp_name = name\n",
    "        # 기업형태\n",
    "        corp_type = driver.find_element(By.XPATH, '//*[@id=\"Contents\"]/div[2]/div[1]/table/tbody/tr[2]/td[1]').text\n",
    "        # 매출액\n",
    "        sales_money = driver.find_element(By.XPATH, '//*[@id=\"Contents\"]/div[2]/div[1]/table/tbody/tr[3]/td[1]').text\n",
    "        # 사원수\n",
    "        employee = driver.find_element(By.XPATH, '//*[@id=\"Contents\"]/div[2]/div[1]/table/tbody/tr[3]/td[2]').text\n",
    "        # 업종분류\n",
    "        sector = driver.find_element(By.XPATH, '//*[@id=\"Contents\"]/div[2]/div[1]/table/tbody/tr[4]/td[1]').text\n",
    "        # 설립연도\n",
    "        corp_year = driver.find_element(By.XPATH, '//*[@id=\"Contents\"]/div[2]/div[1]/table/tbody/tr[1]/td[2]').text\n",
    "\n",
    "        pro_extra2_temp = pd.DataFrame([corp_name,corp_type,sales_money,employee,sector,corp_year], index=['기업명','기업형태','매출액','사원수','업종분류','설립연도']).T\n",
    "        pro_extra2_res = pd.concat([pro_extra2_res,pro_extra2_temp])\n",
    "\n",
    "        time.sleep(0.2)\n",
    "    except:\n",
    "        pass\n",
    "    \n",
    "    driver.quit()"
   ]
  },
  {
   "cell_type": "code",
   "execution_count": 6,
   "metadata": {},
   "outputs": [],
   "source": [
    "pro_extra2_res.to_csv('../프로그래머스_캐치_추가.csv')"
   ]
  }
 ],
 "metadata": {
  "kernelspec": {
   "display_name": "base",
   "language": "python",
   "name": "python3"
  },
  "language_info": {
   "codemirror_mode": {
    "name": "ipython",
    "version": 3
   },
   "file_extension": ".py",
   "mimetype": "text/x-python",
   "name": "python",
   "nbconvert_exporter": "python",
   "pygments_lexer": "ipython3",
   "version": "3.11.5"
  }
 },
 "nbformat": 4,
 "nbformat_minor": 2
}
