{
 "cells": [
  {
   "cell_type": "code",
   "execution_count": 46,
   "metadata": {},
   "outputs": [],
   "source": [
    "import pandas as pd\n",
    "from scipy.stats import chi2_contingency\n",
    "import re\n",
    "import matplotlib as mpl\n",
    "import matplotlib.pyplot as plt \n",
    "import seaborn as sns"
   ]
  },
  {
   "cell_type": "code",
   "execution_count": 35,
   "metadata": {},
   "outputs": [],
   "source": [
    "data = pd.read_csv('data_res.csv', index_col = 0)"
   ]
  },
  {
   "cell_type": "code",
   "execution_count": 37,
   "metadata": {},
   "outputs": [],
   "source": [
    "data = data.dropna(subset='업종분류')"
   ]
  },
  {
   "cell_type": "code",
   "execution_count": 38,
   "metadata": {},
   "outputs": [
    {
     "data": {
      "text/plain": [
       "기업명                0\n",
       "업종분류               0\n",
       "사원수              922\n",
       "설립연도               0\n",
       "기업형태             815\n",
       "매출액              165\n",
       "주소                 8\n",
       "직무                 0\n",
       "자격요건              19\n",
       "직급                 0\n",
       "이용하는기술스택/우대사항      7\n",
       "해당 페이지 URL         0\n",
       "기업 홈페이지 URL       33\n",
       "수요                 0\n",
       "dtype: int64"
      ]
     },
     "execution_count": 38,
     "metadata": {},
     "output_type": "execute_result"
    }
   ],
   "source": [
    "data['수요'] = data['업종분류'].apply(lambda x: 1 if data['업종분류'].value_counts()[x] > 3 else 0)\n",
    "data.isna().sum()"
   ]
  },
  {
   "cell_type": "code",
   "execution_count": 47,
   "metadata": {},
   "outputs": [
    {
     "data": {
      "text/plain": [
       "<Axes: xlabel='수요', ylabel='count'>"
      ]
     },
     "execution_count": 47,
     "metadata": {},
     "output_type": "execute_result"
    },
    {
     "data": {
      "image/png": "[encoded data removed]",
      "text/plain": [
       "<Figure size 640x480 with 1 Axes>"
      ]
     },
     "metadata": {},
     "output_type": "display_data"
    }
   ],
   "source": [
    "plt.rc('font', family='Malgun Gothic')\n",
    "mpl.rcParams['axes.unicode_minus'] = False\n",
    "sns.countplot(x = data['수요'])"
   ]
  },
  {
   "cell_type": "code",
   "execution_count": 48,
   "metadata": {},
   "outputs": [
    {
     "data": {
      "text/html": [
       "<div>\n",
       "<style scoped>\n",
       "    .dataframe tbody tr th:only-of-type {\n",
       "        vertical-align: middle;\n",
       "    }\n",
       "\n",
       "    .dataframe tbody tr th {\n",
       "        vertical-align: top;\n",
       "    }\n",
       "\n",
       "    .dataframe thead th {\n",
       "        text-align: right;\n",
       "    }\n",
       "</style>\n",
       "<table border=\"1\" class=\"dataframe\">\n",
       "  <thead>\n",
       "    <tr style=\"text-align: right;\">\n",
       "      <th>사원수</th>\n",
       "      <th>1.0</th>\n",
       "      <th>2.0</th>\n",
       "      <th>3.0</th>\n",
       "      <th>4.0</th>\n",
       "      <th>5.0</th>\n",
       "      <th>6.0</th>\n",
       "      <th>7.0</th>\n",
       "      <th>8.0</th>\n",
       "      <th>9.0</th>\n",
       "      <th>10.0</th>\n",
       "      <th>...</th>\n",
       "      <th>1354.0</th>\n",
       "      <th>1441.0</th>\n",
       "      <th>1694.0</th>\n",
       "      <th>1766.0</th>\n",
       "      <th>2011.0</th>\n",
       "      <th>2175.0</th>\n",
       "      <th>2240.0</th>\n",
       "      <th>2867.0</th>\n",
       "      <th>3585.0</th>\n",
       "      <th>6962.0</th>\n",
       "    </tr>\n",
       "    <tr>\n",
       "      <th>수요</th>\n",
       "      <th></th>\n",
       "      <th></th>\n",
       "      <th></th>\n",
       "      <th></th>\n",
       "      <th></th>\n",
       "      <th></th>\n",
       "      <th></th>\n",
       "      <th></th>\n",
       "      <th></th>\n",
       "      <th></th>\n",
       "      <th></th>\n",
       "      <th></th>\n",
       "      <th></th>\n",
       "      <th></th>\n",
       "      <th></th>\n",
       "      <th></th>\n",
       "      <th></th>\n",
       "      <th></th>\n",
       "      <th></th>\n",
       "      <th></th>\n",
       "      <th></th>\n",
       "    </tr>\n",
       "  </thead>\n",
       "  <tbody>\n",
       "    <tr>\n",
       "      <th>0</th>\n",
       "      <td>0</td>\n",
       "      <td>6</td>\n",
       "      <td>3</td>\n",
       "      <td>3</td>\n",
       "      <td>2</td>\n",
       "      <td>0</td>\n",
       "      <td>0</td>\n",
       "      <td>3</td>\n",
       "      <td>3</td>\n",
       "      <td>0</td>\n",
       "      <td>...</td>\n",
       "      <td>0</td>\n",
       "      <td>3</td>\n",
       "      <td>3</td>\n",
       "      <td>0</td>\n",
       "      <td>1</td>\n",
       "      <td>1</td>\n",
       "      <td>3</td>\n",
       "      <td>0</td>\n",
       "      <td>0</td>\n",
       "      <td>0</td>\n",
       "    </tr>\n",
       "    <tr>\n",
       "      <th>1</th>\n",
       "      <td>39</td>\n",
       "      <td>21</td>\n",
       "      <td>23</td>\n",
       "      <td>19</td>\n",
       "      <td>27</td>\n",
       "      <td>17</td>\n",
       "      <td>25</td>\n",
       "      <td>20</td>\n",
       "      <td>15</td>\n",
       "      <td>29</td>\n",
       "      <td>...</td>\n",
       "      <td>32</td>\n",
       "      <td>0</td>\n",
       "      <td>0</td>\n",
       "      <td>25</td>\n",
       "      <td>0</td>\n",
       "      <td>0</td>\n",
       "      <td>1</td>\n",
       "      <td>7</td>\n",
       "      <td>2</td>\n",
       "      <td>3</td>\n",
       "    </tr>\n",
       "  </tbody>\n",
       "</table>\n",
       "<p>2 rows × 126 columns</p>\n",
       "</div>"
      ],
      "text/plain": [
       "사원수  1.0     2.0     3.0     4.0     5.0     6.0     7.0     8.0     9.0     \\\n",
       "수요                                                                            \n",
       "0         0       6       3       3       2       0       0       3       3   \n",
       "1        39      21      23      19      27      17      25      20      15   \n",
       "\n",
       "사원수  10.0    ...  1354.0  1441.0  1694.0  1766.0  2011.0  2175.0  2240.0  \\\n",
       "수요           ...                                                           \n",
       "0         0  ...       0       3       3       0       1       1       3   \n",
       "1        29  ...      32       0       0      25       0       0       1   \n",
       "\n",
       "사원수  2867.0  3585.0  6962.0  \n",
       "수요                           \n",
       "0         0       0       0  \n",
       "1         7       2       3  \n",
       "\n",
       "[2 rows x 126 columns]"
      ]
     },
     "metadata": {},
     "output_type": "display_data"
    },
    {
     "name": "stdout",
     "output_type": "stream",
     "text": [
      "Chi-square statistic: 417.8765682421834\n",
      "P-value: 3.088469063842907e-33\n",
      "귀무가설 기각. \n",
      "통계적으로 유의미한 연관성이 있다.\n"
     ]
    }
   ],
   "source": [
    "# contingency_table = pd.crosstab(data['수요'], data[ 이 부분 수정하시면 됩니다.])\n",
    "\n",
    "contingency_table = pd.crosstab(data['수요'], data['사원수'])\n",
    "display(contingency_table)\n",
    "chi2 , p_value , _, _= chi2_contingency(contingency_table)\n",
    "print('Chi-square statistic:', chi2)\n",
    "print('P-value:', p_value)\n",
    "alpha = 0.05\n",
    "\n",
    "if p_value < alpha:\n",
    "    print(\"귀무가설 기각. \\n통계적으로 유의미한 연관성이 있다.\")\n",
    "else:\n",
    "    print(\"귀무가설 기각할 수 없음. \\n통계적으로 유의미한 연관성이 없다.\")"
   ]
  },
  {
   "cell_type": "markdown",
   "metadata": {},
   "source": [
    "# 업종 분류별 수요가 높은 그룹의 특징\n",
    "\n",
    "* 주소                  \n",
    ">Chi-square statistic: 329.83904893681165                  \n",
    ">P-value: 5.056018572498105e-36                    \n",
    ">귀무가설 기각.                                      \n",
    ">통계적으로 유의미한 연관성이 있다.\n",
    "\n",
    "* 직급              \n",
    ">Chi-square statistic: 19.762825656511534              \n",
    ">P-value: 0.03157746933515181                      \n",
    ">귀무가설 기각.                              \n",
    ">통계적으로 유의미한 연관성이 있다.\n",
    "\n",
    "* 사원수\n",
    ">Chi-square statistic: 417.8765682421834                      \n",
    ">P-value: 3.088469063842907e-33                            \n",
    ">귀무가설 기각.                                  \n",
    ">통계적으로 유의미한 연관성이 있다.\n",
    "\n",
    "* 직무 \n",
    ">Chi-square statistic: 251.45571518200796            \n",
    ">P-value: 1.006600476331991e-21            \n",
    ">귀무가설 기각.            \n",
    ">통계적으로 유의미한 연관성이 있다."
   ]
  },
  {
   "cell_type": "raw",
   "metadata": {},
   "source": [
    "상위그룹 카운트\n",
    "\n",
    "\n",
    "수요가 높은 업종이 모여있는 주소지와 구인하는 직급, 사원수는 이러합니다.\n",
    "이런 인원들을 타겟으로 (수요가 높은업종 워드클라우드) 를 참고하여 교육서비스를 진행한다면\n",
    "취업시장 수요에 밀접한 교육서비스 제공이 가능하여 매출에 선 영향을 줄 것으로 기대합니다."
   ]
  }
 ],
 "metadata": {
  "kernelspec": {
   "display_name": "base",
   "language": "python",
   "name": "python3"
  },
  "language_info": {
   "codemirror_mode": {
    "name": "ipython",
    "version": 3
   },
   "file_extension": ".py",
   "mimetype": "text/x-python",
   "name": "python",
   "nbconvert_exporter": "python",
   "pygments_lexer": "ipython3",
   "version": "3.11.5"
  }
 },
 "nbformat": 4,
 "nbformat_minor": 2
}
