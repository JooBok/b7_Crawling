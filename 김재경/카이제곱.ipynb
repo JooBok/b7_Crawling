{
 "cells": [
  {
   "cell_type": "code",
   "execution_count": 1,
   "metadata": {},
   "outputs": [],
   "source": [
    "import pandas as pd\n",
    "from scipy.stats import chi2_contingency\n",
    "import re\n",
    "import matplotlib as mpl\n",
    "import matplotlib.pyplot as plt \n",
    "import seaborn as sns"
   ]
  },
  {
   "cell_type": "code",
   "execution_count": 2,
   "metadata": {},
   "outputs": [],
   "source": [
    "data = pd.read_csv('data_res.csv', index_col = 0)"
   ]
  },
  {
   "cell_type": "code",
   "execution_count": 3,
   "metadata": {},
   "outputs": [],
   "source": [
    "data = data.dropna(subset='업종분류')"
   ]
  },
  {
   "cell_type": "code",
   "execution_count": 4,
   "metadata": {},
   "outputs": [
    {
     "data": {
      "text/plain": [
       "기업명                0\n",
       "업종분류               0\n",
       "사원수              922\n",
       "설립연도               0\n",
       "기업형태             815\n",
       "매출액              165\n",
       "주소                 8\n",
       "직무                 0\n",
       "자격요건              19\n",
       "직급                 0\n",
       "이용하는기술스택/우대사항      7\n",
       "해당 페이지 URL         0\n",
       "기업 홈페이지 URL       33\n",
       "수요                 0\n",
       "dtype: int64"
      ]
     },
     "execution_count": 4,
     "metadata": {},
     "output_type": "execute_result"
    }
   ],
   "source": [
    "data['수요'] = data['업종분류'].apply(lambda x: 1 if data['업종분류'].value_counts()[x] > 3 else 0)\n",
    "data.isna().sum()"
   ]
  },
  {
   "cell_type": "code",
   "execution_count": 5,
   "metadata": {},
   "outputs": [
    {
     "data": {
      "text/plain": [
       "<Axes: xlabel='수요', ylabel='count'>"
      ]
     },
     "execution_count": 5,
     "metadata": {},
     "output_type": "execute_result"
    },
    {
     "data": {
      "image/png": "[encoded data removed]",
      "text/plain": [
       "<Figure size 640x480 with 1 Axes>"
      ]
     },
     "metadata": {},
     "output_type": "display_data"
    }
   ],
   "source": [
    "plt.rc('font', family='Malgun Gothic')\n",
    "mpl.rcParams['axes.unicode_minus'] = False\n",
    "sns.countplot(x = data['수요'])"
   ]
  },
  {
   "cell_type": "code",
   "execution_count": 66,
   "metadata": {},
   "outputs": [
    {
     "name": "stdout",
     "output_type": "stream",
     "text": [
      "<class 'pandas.core.frame.DataFrame'>\n",
      "Index: 1927 entries, 0 to 1964\n",
      "Data columns (total 14 columns):\n",
      " #   Column         Non-Null Count  Dtype  \n",
      "---  ------         --------------  -----  \n",
      " 0   기업명            1927 non-null   object \n",
      " 1   업종분류           1927 non-null   object \n",
      " 2   사원수            1005 non-null   float64\n",
      " 3   설립연도           1927 non-null   float64\n",
      " 4   기업형태           1112 non-null   object \n",
      " 5   매출액            1762 non-null   float64\n",
      " 6   주소             1919 non-null   object \n",
      " 7   직무             1927 non-null   object \n",
      " 8   자격요건           1908 non-null   object \n",
      " 9   직급             1927 non-null   int64  \n",
      " 10  이용하는기술스택/우대사항  1920 non-null   object \n",
      " 11  해당 페이지 URL     1927 non-null   object \n",
      " 12  기업 홈페이지 URL    1894 non-null   object \n",
      " 13  수요             1927 non-null   int64  \n",
      "dtypes: float64(3), int64(2), object(9)\n",
      "memory usage: 225.8+ KB\n"
     ]
    }
   ],
   "source": [
    "data.info()"
   ]
  },
  {
   "cell_type": "code",
   "execution_count": 67,
   "metadata": {},
   "outputs": [
    {
     "data": {
      "text/html": [
       "<div>\n",
       "<style scoped>\n",
       "    .dataframe tbody tr th:only-of-type {\n",
       "        vertical-align: middle;\n",
       "    }\n",
       "\n",
       "    .dataframe tbody tr th {\n",
       "        vertical-align: top;\n",
       "    }\n",
       "\n",
       "    .dataframe thead th {\n",
       "        text-align: right;\n",
       "    }\n",
       "</style>\n",
       "<table border=\"1\" class=\"dataframe\">\n",
       "  <thead>\n",
       "    <tr style=\"text-align: right;\">\n",
       "      <th>주소</th>\n",
       "      <th>강원도 인제군</th>\n",
       "      <th>강원도 춘천시</th>\n",
       "      <th>경기도 고양시 일산동구</th>\n",
       "      <th>경기도 고양시 일산서구</th>\n",
       "      <th>경기도 과천시</th>\n",
       "      <th>경기도 광명시</th>\n",
       "      <th>경기도 군포시</th>\n",
       "      <th>경기도 군포시 당동</th>\n",
       "      <th>경기도 남양주시</th>\n",
       "      <th>경기도 성남시 분당구</th>\n",
       "      <th>...</th>\n",
       "      <th>인천광역시 서구</th>\n",
       "      <th>인천광역시 연수구</th>\n",
       "      <th>전라남도 목포시</th>\n",
       "      <th>전라북도 완주군</th>\n",
       "      <th>전라북도 전주시 완산구</th>\n",
       "      <th>제주특별자치도 서귀포시</th>\n",
       "      <th>제주특별자치도 제주시</th>\n",
       "      <th>충청남도 아산시</th>\n",
       "      <th>충청남도 예산군</th>\n",
       "      <th>충청남도 천안시 서북구</th>\n",
       "    </tr>\n",
       "    <tr>\n",
       "      <th>수요</th>\n",
       "      <th></th>\n",
       "      <th></th>\n",
       "      <th></th>\n",
       "      <th></th>\n",
       "      <th></th>\n",
       "      <th></th>\n",
       "      <th></th>\n",
       "      <th></th>\n",
       "      <th></th>\n",
       "      <th></th>\n",
       "      <th></th>\n",
       "      <th></th>\n",
       "      <th></th>\n",
       "      <th></th>\n",
       "      <th></th>\n",
       "      <th></th>\n",
       "      <th></th>\n",
       "      <th></th>\n",
       "      <th></th>\n",
       "      <th></th>\n",
       "      <th></th>\n",
       "    </tr>\n",
       "  </thead>\n",
       "  <tbody>\n",
       "    <tr>\n",
       "      <th>0</th>\n",
       "      <td>0</td>\n",
       "      <td>2</td>\n",
       "      <td>3</td>\n",
       "      <td>1</td>\n",
       "      <td>0</td>\n",
       "      <td>0</td>\n",
       "      <td>0</td>\n",
       "      <td>0</td>\n",
       "      <td>0</td>\n",
       "      <td>6</td>\n",
       "      <td>...</td>\n",
       "      <td>0</td>\n",
       "      <td>1</td>\n",
       "      <td>3</td>\n",
       "      <td>0</td>\n",
       "      <td>0</td>\n",
       "      <td>1</td>\n",
       "      <td>1</td>\n",
       "      <td>0</td>\n",
       "      <td>3</td>\n",
       "      <td>3</td>\n",
       "    </tr>\n",
       "    <tr>\n",
       "      <th>1</th>\n",
       "      <td>4</td>\n",
       "      <td>0</td>\n",
       "      <td>0</td>\n",
       "      <td>10</td>\n",
       "      <td>2</td>\n",
       "      <td>4</td>\n",
       "      <td>3</td>\n",
       "      <td>3</td>\n",
       "      <td>3</td>\n",
       "      <td>175</td>\n",
       "      <td>...</td>\n",
       "      <td>8</td>\n",
       "      <td>33</td>\n",
       "      <td>0</td>\n",
       "      <td>1</td>\n",
       "      <td>2</td>\n",
       "      <td>0</td>\n",
       "      <td>19</td>\n",
       "      <td>12</td>\n",
       "      <td>0</td>\n",
       "      <td>14</td>\n",
       "    </tr>\n",
       "  </tbody>\n",
       "</table>\n",
       "<p>2 rows × 69 columns</p>\n",
       "</div>"
      ],
      "text/plain": [
       "주소  강원도 인제군  강원도 춘천시  경기도 고양시 일산동구  경기도 고양시 일산서구  경기도 과천시  경기도 광명시  경기도 군포시  \\\n",
       "수요                                                                            \n",
       "0         0        2             3             1        0        0        0   \n",
       "1         4        0             0            10        2        4        3   \n",
       "\n",
       "주소  경기도 군포시 당동  경기도 남양주시  경기도 성남시 분당구  ...  인천광역시 서구  인천광역시 연수구  전라남도 목포시  \\\n",
       "수요                                     ...                                  \n",
       "0            0         0            6  ...         0          1         3   \n",
       "1            3         3          175  ...         8         33         0   \n",
       "\n",
       "주소  전라북도 완주군  전라북도 전주시 완산구  제주특별자치도 서귀포시  제주특별자치도 제주시  충청남도 아산시  충청남도 예산군  \\\n",
       "수요                                                                          \n",
       "0          0             0             1            1         0         3   \n",
       "1          1             2             0           19        12         0   \n",
       "\n",
       "주소  충청남도 천안시 서북구  \n",
       "수요                \n",
       "0              3  \n",
       "1             14  \n",
       "\n",
       "[2 rows x 69 columns]"
      ]
     },
     "metadata": {},
     "output_type": "display_data"
    },
    {
     "name": "stdout",
     "output_type": "stream",
     "text": [
      "Chi-square statistic: 329.83904893681165\n",
      "P-value: 5.056018572498105e-36\n",
      "귀무가설 기각. \n",
      "통계적으로 유의미한 연관성이 있다.\n"
     ]
    }
   ],
   "source": [
    "# contingency_table = pd.crosstab(data['수요'], data[ 이 부분 수정하시면 됩니다.])\n",
    "\n",
    "contingency_table = pd.crosstab(data['수요'], data['주소'])\n",
    "display(contingency_table)\n",
    "chi2 , p_value , _, _= chi2_contingency(contingency_table)\n",
    "print('Chi-square statistic:', chi2)\n",
    "print('P-value:', p_value)\n",
    "alpha = 0.05\n",
    "\n",
    "if p_value < alpha:\n",
    "    print(\"귀무가설 기각. \\n통계적으로 유의미한 연관성이 있다.\")\n",
    "else:\n",
    "    print(\"귀무가설 기각할 수 없음. \\n통계적으로 유의미한 연관성이 없다.\")"
   ]
  },
  {
   "cell_type": "markdown",
   "metadata": {},
   "source": [
    "# 업종 분류별 수요가 높은 그룹의 특징\n",
    "\n",
    "* 주소                  \n",
    ">Chi-square statistic: 329.83904893681165                  \n",
    ">P-value: 5.056018572498105e-36                    \n",
    ">귀무가설 기각.                                      \n",
    ">통계적으로 유의미한 연관성이 있다.\n",
    "\n",
    "* 직급              \n",
    ">Chi-square statistic: 19.762825656511534              \n",
    ">P-value: 0.03157746933515181                      \n",
    ">귀무가설 기각.                              \n",
    ">통계적으로 유의미한 연관성이 있다.\n",
    "\n",
    "* 사원수\n",
    ">Chi-square statistic: 417.8765682421834                      \n",
    ">P-value: 3.088469063842907e-33                            \n",
    ">귀무가설 기각.                                  \n",
    ">통계적으로 유의미한 연관성이 있다.\n",
    "\n",
    "* 직무 \n",
    ">Chi-square statistic: 251.45571518200796            \n",
    ">P-value: 1.006600476331991e-21            \n",
    ">귀무가설 기각.            \n",
    ">통계적으로 유의미한 연관성이 있다."
   ]
  },
  {
   "cell_type": "raw",
   "metadata": {},
   "source": [
    "상위그룹 카운트\n",
    "\n",
    "\n",
    "수요가 높은 업종이 모여있는 주소지와 구인하는 직급, 사원수는 이러합니다.\n",
    "이런 인원들을 타겟으로 (수요가 높은업종 워드클라우드) 를 참고하여 교육서비스를 진행한다면\n",
    "취업시장 수요에 밀접한 교육서비스 제공이 가능하여 매출에 선 영향을 줄 것으로 기대합니다."
   ]
  },
  {
   "cell_type": "code",
   "execution_count": 13,
   "metadata": {},
   "outputs": [
    {
     "data": {
      "image/png": "[encoded data removed]",
      "text/plain": [
       "<Figure size 1000x600 with 1 Axes>"
      ]
     },
     "metadata": {},
     "output_type": "display_data"
    }
   ],
   "source": [
    "df = pd.DataFrame(data)\n",
    "\n",
    "# 주소별 기업 개수 계산\n",
    "address_count = df.loc[df['수요'] == 1, '주소'].value_counts().sort_values(ascending=False)\n",
    "address_count_1 = df.loc[df['수요'] == 0, '주소'].value_counts().sort_values(ascending=False)\n",
    "\n",
    "# 상위 5개 주소\n",
    "top_5_address = address_count.head(4)\n",
    "\n",
    "# 하위 5개 주소\n",
    "bottom_5_address = address_count_1.head(4)\n",
    "\n",
    "# 시각화\n",
    "plt.figure(figsize=(10, 6))\n",
    "\n",
    "# 상위 5개 주소 막대 그래프\n",
    "plt.bar(top_5_address.index, top_5_address.values, color='darkgreen', label='수요 높은 그룹 상위 4개 주소')\n",
    "\n",
    "# 하위 5개 주소 막대 그래프\n",
    "plt.bar(bottom_5_address.index + ' ', bottom_5_address.values, color='Orange', label='수요 낮은 그룹 상위 4개 주소')\n",
    "\n",
    "plt.xlabel('주소')\n",
    "plt.ylabel('수요수')\n",
    "plt.title('주소별 업무별로 나눈 수요 수(상위 4개)')\n",
    "plt.xticks(rotation=45)\n",
    "plt.grid(True)\n",
    "plt.legend()\n",
    "plt.show()"
   ]
  }
 ],
 "metadata": {
  "kernelspec": {
   "display_name": "base",
   "language": "python",
   "name": "python3"
  },
  "language_info": {
   "codemirror_mode": {
    "name": "ipython",
    "version": 3
   },
   "file_extension": ".py",
   "mimetype": "text/x-python",
   "name": "python",
   "nbconvert_exporter": "python",
   "pygments_lexer": "ipython3",
   "version": "3.11.5"
  }
 },
 "nbformat": 4,
 "nbformat_minor": 2
}
