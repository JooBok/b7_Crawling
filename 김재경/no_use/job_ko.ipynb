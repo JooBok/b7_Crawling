{
 "cells": [
  {
   "cell_type": "code",
   "execution_count": 16,
   "metadata": {},
   "outputs": [],
   "source": [
    "import pandas as pa\n",
    "import numpy as np\n",
    "import warnings\n",
    "warnings.filterwarnings('ignore')\n",
    "from selenium import webdriver\n",
    "from selenium.webdriver.common.by import By\n",
    "from bs4 import BeautifulSoup\n",
    "import re\n",
    "import time"
   ]
  },
  {
   "cell_type": "code",
   "execution_count": 18,
   "metadata": {},
   "outputs": [],
   "source": [
    "no = 1\n",
    "job_url = f'''https://www.jobkorea.co.kr/Search/?stext=aws&tabType=recruit&Page_No={no}'''\n",
    "driver = webdriver.Chrome()\n",
    "driver.get(job_url)\n",
    "html = driver.page_source\n",
    "soup = BeautifulSoup(html, 'html.parser')"
   ]
  },
  {
   "cell_type": "code",
   "execution_count": 9,
   "metadata": {},
   "outputs": [
    {
     "data": {
      "text/plain": [
       "'㈜세종교육'"
      ]
     },
     "execution_count": 9,
     "metadata": {},
     "output_type": "execute_result"
    }
   ],
   "source": [
    "# 공고 제목\n",
    "# 회사명\n",
    "\n",
    "re.sub('\\s', '', soup.select('div.post')[0].select('a')[1].text)\n",
    "soup.select('div.post')[0].select('a')[0].text"
   ]
  },
  {
   "cell_type": "code",
   "execution_count": 10,
   "metadata": {},
   "outputs": [],
   "source": [
    "soup.select('p.etc')[0].text\n",
    "# 기술\n",
    "tec = [b.text for b in soup.select('p.etc')]"
   ]
  },
  {
   "cell_type": "code",
   "execution_count": 5,
   "metadata": {},
   "outputs": [
    {
     "data": {
      "text/plain": [
       "'학력무관'"
      ]
     },
     "execution_count": 5,
     "metadata": {},
     "output_type": "execute_result"
    }
   ],
   "source": [
    "# 경력\n",
    "# 학력\n",
    "soup.select('span.exp')[0].text\n",
    "soup.select('span.edu')[0].text"
   ]
  },
  {
   "cell_type": "code",
   "execution_count": 15,
   "metadata": {},
   "outputs": [],
   "source": [
    "# 주소\n",
    "address = [c.text for c in soup.select('span.loc.long')]"
   ]
  },
  {
   "cell_type": "code",
   "execution_count": 6,
   "metadata": {},
   "outputs": [],
   "source": [
    "corp = []\n",
    "title = []\n",
    "exp = []\n",
    "edu = []\n",
    "for a in range(20):\n",
    "    corp.append(soup.select('div.post')[a].select('a')[0].text)\n",
    "    title.append(re.sub('\\s', '', soup.select('div.post')[a].select('a')[1].text))\n",
    "    exp.append(soup.select('span.exp')[a].text)\n",
    "    edu.append(soup.select('span.edu')[a].text)"
   ]
  },
  {
   "cell_type": "code",
   "execution_count": null,
   "metadata": {},
   "outputs": [],
   "source": []
  },
  {
   "cell_type": "markdown",
   "metadata": {},
   "source": [
    "# Job_korea_Crawling_program"
   ]
  },
  {
   "cell_type": "code",
   "execution_count": 20,
   "metadata": {},
   "outputs": [],
   "source": [
    "import pandas as pd\n",
    "import numpy as np\n",
    "import warnings\n",
    "warnings.filterwarnings('ignore')\n",
    "from selenium import webdriver\n",
    "from selenium.webdriver.common.by import By\n",
    "from bs4 import BeautifulSoup\n",
    "import re\n",
    "import time"
   ]
  },
  {
   "cell_type": "code",
   "execution_count": 21,
   "metadata": {},
   "outputs": [],
   "source": [
    "job_res = pd.DataFrame(columns=['회사명', '공고제목', '주소', '경력', '기술', '학력'])\n",
    "\n",
    "for no in range(1,5):  # 1 ~ 83:\n",
    "    jk_url = f'''https://www.jobkorea.co.kr/Search/?stext=aws&tabType=recruit&Page_No={no}'''\n",
    "\n",
    "    driver = webdriver.Chrome()\n",
    "    driver.get(job_url)\n",
    "    html = driver.page_source\n",
    "    soup = BeautifulSoup(html, 'html.parser')\n",
    "\n",
    "    corp = []\n",
    "    title = []\n",
    "    exp = []\n",
    "    edu = []\n",
    "\n",
    "    for a in range(20):\n",
    "        corp.append(soup.select('div.post')[a].select('a')[0].text)\n",
    "        title.append(re.sub('\\s', '', soup.select('div.post')[a].select('a')[1].text))\n",
    "        exp.append(soup.select('span.exp')[a].text)\n",
    "        edu.append(soup.select('span.edu')[a].text)\n",
    "\n",
    "    address = [c.text for c in soup.select('span.loc.long')]\n",
    "    tec = [b.text for b in soup.select('p.etc')]\n",
    "\n",
    "    job_temp = pd.DataFrame(\n",
    "        [\n",
    "        corp, title, address, exp, tec, edu\n",
    "        ], index = [\n",
    "            '회사명', '공고제목', '주소', '경력', '기술', '학력'\n",
    "            ]\n",
    "            ).T\n",
    "\n",
    "    job_res = pd.concat([job_res, job_temp])\n",
    "\n"
   ]
  },
  {
   "cell_type": "code",
   "execution_count": 27,
   "metadata": {},
   "outputs": [
    {
     "data": {
      "text/html": [
       "<div>\n",
       "<style scoped>\n",
       "    .dataframe tbody tr th:only-of-type {\n",
       "        vertical-align: middle;\n",
       "    }\n",
       "\n",
       "    .dataframe tbody tr th {\n",
       "        vertical-align: top;\n",
       "    }\n",
       "\n",
       "    .dataframe thead th {\n",
       "        text-align: right;\n",
       "    }\n",
       "</style>\n",
       "<table border=\"1\" class=\"dataframe\">\n",
       "  <thead>\n",
       "    <tr style=\"text-align: right;\">\n",
       "      <th></th>\n",
       "      <th>회사명</th>\n",
       "      <th>공고제목</th>\n",
       "      <th>주소</th>\n",
       "      <th>경력</th>\n",
       "      <th>기술</th>\n",
       "      <th>학력</th>\n",
       "    </tr>\n",
       "  </thead>\n",
       "  <tbody>\n",
       "    <tr>\n",
       "      <th>0</th>\n",
       "      <td>㈜세종교육</td>\n",
       "      <td>[IT취업률100프로]AIoT/AWS/풀스택개발(무료숙식교육/비전공자가능/수도권기숙...</td>\n",
       "      <td>경기 성남시</td>\n",
       "      <td>신입</td>\n",
       "      <td>직업전문학교, 서버관리, 클라이언트, 반응형웹, 빅데이터, 딥러닝, 인공지능</td>\n",
       "      <td>학력무관</td>\n",
       "    </tr>\n",
       "    <tr>\n",
       "      <th>1</th>\n",
       "      <td>㈜클로잇</td>\n",
       "      <td>[클로잇]AWS/AzureTA채용</td>\n",
       "      <td>서울 강남구</td>\n",
       "      <td>경력5년↑</td>\n",
       "      <td>AWS, SM, 아키텍쳐, Azure, 솔루션, 시스템운영, SI, 네트워크관리, ...</td>\n",
       "      <td>대졸↑</td>\n",
       "    </tr>\n",
       "    <tr>\n",
       "      <th>2</th>\n",
       "      <td>메가존클라우드㈜</td>\n",
       "      <td>FinancePreSalesEngineer,AWS</td>\n",
       "      <td>서울 강남구</td>\n",
       "      <td>경력2년↑</td>\n",
       "      <td>AWS, 네트워크관리, 솔루션영업, 솔루션, 시스템영업, 기술영업, 솔루션스아키텍트...</td>\n",
       "      <td>학력무관</td>\n",
       "    </tr>\n",
       "    <tr>\n",
       "      <th>3</th>\n",
       "      <td>메가존클라우드㈜</td>\n",
       "      <td>AWSManagedService(EnterpriseCloudEngineer)채용</td>\n",
       "      <td>서울 강남구</td>\n",
       "      <td>신입·경력</td>\n",
       "      <td>AWS, Cloud, Cloud Engineer, K8s, 소프트웨어개발, 솔루션</td>\n",
       "      <td>학력무관</td>\n",
       "    </tr>\n",
       "    <tr>\n",
       "      <th>4</th>\n",
       "      <td>빗썸코리아</td>\n",
       "      <td>[빗썸]클라우드엔지니어-AWS서비스운영</td>\n",
       "      <td>서울 강남구</td>\n",
       "      <td>경력5년↑</td>\n",
       "      <td>서버관리</td>\n",
       "      <td>학력무관</td>\n",
       "    </tr>\n",
       "  </tbody>\n",
       "</table>\n",
       "</div>"
      ],
      "text/plain": [
       "        회사명                                               공고제목      주소     경력  \\\n",
       "0     ㈜세종교육  [IT취업률100프로]AIoT/AWS/풀스택개발(무료숙식교육/비전공자가능/수도권기숙...  경기 성남시     신입   \n",
       "1      ㈜클로잇                                 [클로잇]AWS/AzureTA채용  서울 강남구  경력5년↑   \n",
       "2  메가존클라우드㈜                        FinancePreSalesEngineer,AWS  서울 강남구  경력2년↑   \n",
       "3  메가존클라우드㈜       AWSManagedService(EnterpriseCloudEngineer)채용  서울 강남구  신입·경력   \n",
       "4     빗썸코리아                              [빗썸]클라우드엔지니어-AWS서비스운영  서울 강남구  경력5년↑   \n",
       "\n",
       "                                                  기술    학력  \n",
       "0         직업전문학교, 서버관리, 클라이언트, 반응형웹, 빅데이터, 딥러닝, 인공지능  학력무관  \n",
       "1  AWS, SM, 아키텍쳐, Azure, 솔루션, 시스템운영, SI, 네트워크관리, ...   대졸↑  \n",
       "2  AWS, 네트워크관리, 솔루션영업, 솔루션, 시스템영업, 기술영업, 솔루션스아키텍트...  학력무관  \n",
       "3      AWS, Cloud, Cloud Engineer, K8s, 소프트웨어개발, 솔루션  학력무관  \n",
       "4                                               서버관리  학력무관  "
      ]
     },
     "execution_count": 27,
     "metadata": {},
     "output_type": "execute_result"
    }
   ],
   "source": [
    "job_res.head()"
   ]
  },
  {
   "cell_type": "code",
   "execution_count": 24,
   "metadata": {},
   "outputs": [
    {
     "data": {
      "text/plain": [
       "회사명     0\n",
       "공고제목    0\n",
       "주소      0\n",
       "경력      0\n",
       "기술      0\n",
       "학력      0\n",
       "dtype: int64"
      ]
     },
     "execution_count": 24,
     "metadata": {},
     "output_type": "execute_result"
    }
   ],
   "source": [
    "job_res.isna().sum()"
   ]
  },
  {
   "cell_type": "code",
   "execution_count": 33,
   "metadata": {},
   "outputs": [],
   "source": [
    "job_res.to_excel('job_res.xlsx')"
   ]
  },
  {
   "cell_type": "code",
   "execution_count": null,
   "metadata": {},
   "outputs": [],
   "source": []
  }
 ],
 "metadata": {
  "kernelspec": {
   "display_name": "base",
   "language": "python",
   "name": "python3"
  },
  "language_info": {
   "codemirror_mode": {
    "name": "ipython",
    "version": 3
   },
   "file_extension": ".py",
   "mimetype": "text/x-python",
   "name": "python",
   "nbconvert_exporter": "python",
   "pygments_lexer": "ipython3",
   "version": "3.11.5"
  }
 },
 "nbformat": 4,
 "nbformat_minor": 2
}
