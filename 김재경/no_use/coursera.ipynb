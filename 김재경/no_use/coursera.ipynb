{
 "cells": [
  {
   "cell_type": "code",
   "execution_count": 1,
   "metadata": {},
   "outputs": [
    {
     "name": "stdout",
     "output_type": "stream",
     "text": [
      "Hello World\n"
     ]
    }
   ],
   "source": [
    "print('Hello World')"
   ]
  },
  {
   "cell_type": "code",
   "execution_count": 1,
   "metadata": {},
   "outputs": [],
   "source": [
    "import pandas as pd \n",
    "import numpy as np \n",
    "from bs4 import BeautifulSoup\n",
    "from selenium import webdriver\n",
    "from selenium.webdriver.common.by import By\n",
    "from selenium.webdriver.chrome.service import service\n",
    "from selenium.webdriver.chrome.options import Options\n",
    "import warnings\n",
    "warnings.filterwarnings(\"ignore\")\n",
    "import re\n",
    "import time\n",
    "import requests\n",
    "from selenium.webdriver.common.keys import Keys"
   ]
  },
  {
   "cell_type": "markdown",
   "metadata": {},
   "source": [
    "# 구조\n",
    "> 스크롤             \n",
    "> 요소 보이면 크롤링                   \n",
    "> 스크롤 하다가 더보기 보이면 클릭"
   ]
  },
  {
   "cell_type": "code",
   "execution_count": null,
   "metadata": {},
   "outputs": [],
   "source": [
    "chrome_options = Options()\n",
    "# 전체화면\n",
    "chrome_options.add_argument(\"--start-maximized\")\n",
    "# 알림 표시 제거\n",
    "chrome_options.add_argument(\"--disable-notifications\")\n",
    "cour_url = '''https://www.coursera.org/search?query=aws'''\n",
    "driver = webdriver.Chrome(options=chrome_options)\n",
    "driver.get(cour_url)\n",
    "\n",
    "#스크롤하며 공고 찾기\n",
    "\n",
    "cour_res = pd.DataFrame(columns = ['강의명', '기술', '별점', '리뷰수'])\n",
    "\n",
    "for post_num in range(1, 999):\n",
    "    while True:\n",
    "        try:\n",
    "            # 공고 찾기\n",
    "            title = driver.find_element(\n",
    "                By.XPATH, f'//*[@id=\"rendered-content\"]/div/div/main/div[2]/div/div/div/div/div[2]/ul/li[{post_num}]/div/div/div/div/div/div[2]/div[1]/div[2]'\n",
    "                ).text\n",
    "            \n",
    "            # 있으면 클릭하고 break\n",
    "            if title.is_displayed():\n",
    "                try:\n",
    "                    # 강의명\n",
    "                    title = WebDriverWait(driver, 10).until(\n",
    "                            Ec.presence_of_element_located(\n",
    "                                (\n",
    "                                By.XPATH, f'//*[@id=\"rendered-content\"]/div/div/main/div[2]/div/div/div/div/div[2]/ul/li[{post_num}]/div/div/div/div/div/div[2]/div[1]/div[2]'\n",
    "                            )\n",
    "                            )\n",
    "                            ).text\n",
    "                    # 기술\n",
    "                    tec = driver.find_element(By.XPATH, f'//*[@id=\"rendered-content\"]/div/div/main/div[2]/div/div/div/div/div[2]/ul/li[{post_num}]/div/div/div/div/div/div[2]/div[2]').text\n",
    "                    # 별점\n",
    "                    star = driver.find_element(By.XPATH, f'//*[@id=\"rendered-content\"]/div/div/main/div[2]/div/div/div/div/div[2]/ul/li[{post_num}]/div/div/div/div/div/div[2]/div[3]').text.split('\\n')[0]\n",
    "                    # 리뷰수\n",
    "                    review = driver.find_element(By.XPATH, f'//*[@id=\"rendered-content\"]/div/div/main/div[2]/div/div/div/div/div[2]/ul/li[{post_num}]/div/div/div/div/div/div[2]/div[3]').text.split('\\n')[1]\n",
    "                except:\n",
    "                    None\n",
    "        # 없으면 오류제거하고 while True 반복 진행\n",
    "        except NoSuchElementException:\n",
    "            pass\n",
    "        # 스크롤 시작점=0, 500픽셀씩 내리기\n",
    "        driver.execute_script(\"window.scrollBy(0, 500);\")\n",
    "        time.sleep(2)\n",
    "        cour_temp = pd.DataFrame([title, tec, star, review], index = ['강의명', '기술', '별점', '리뷰수'])\n",
    "        cour_res = pd.concat([cour_res, cour_temp])\n"
   ]
  },
  {
   "cell_type": "markdown",
   "metadata": {},
   "source": [
    "# 구조 2"
   ]
  },
  {
   "cell_type": "code",
   "execution_count": 131,
   "metadata": {},
   "outputs": [],
   "source": [
    "from selenium import webdriver\n",
    "from selenium.webdriver.chrome.options import Options\n",
    "from selenium.webdriver.common.by import By\n",
    "from selenium.webdriver.support.ui import WebDriverWait\n",
    "from selenium.common.exceptions import NoSuchElementException\n",
    "from selenium.webdriver.support import expected_conditions as EC\n",
    "import pandas as pd\n",
    "import time\n",
    "\n",
    "chrome_options = Options()\n",
    "# 전체화면\n",
    "chrome_options.add_argument(\"--start-maximized\")\n",
    "# 알림 표시 제거\n",
    "chrome_options.add_argument(\"--disable-notifications\")\n",
    "cour_url = '''https://www.coursera.org/search?query=aws'''\n",
    "driver = webdriver.Chrome(options=chrome_options)\n",
    "driver.get(cour_url)\n",
    "\n",
    "cour_res = pd.DataFrame(columns = ['강의명', '기술', '별점', '리뷰수'])\n",
    "\n",
    "\n",
    "# 포스트 초기\n",
    "post_num = 1\n",
    "# pre = 지금 스크롤 높이\n",
    "pre_height = driver.execute_script('return document.body.scrollHeight')\n",
    "\n",
    "# 스크롤 하며 Crawling , 더보기 나오면 클릭 루프 시작\n",
    "while True:\n",
    "    try:\n",
    "        # 강의명\n",
    "        title_ele = WebDriverWait(driver, 5).until(\n",
    "            EC.presence_of_element_located(\n",
    "                (By.XPATH,  f'//*[@id=\"rendered-content\"]/div/div/main/div[2]/div/div/div/div/div[2]/ul[1]/li[{post_num}]/div/div/div/div/div/div[2]/div[1]'\n",
    "                 )\n",
    "                 )\n",
    "                 )\n",
    "        if title_ele.is_displayed():\n",
    "            title = title_ele.text.split('\\n')[1]\n",
    "            \n",
    "            # 기술\n",
    "            tec = driver.find_element(By.XPATH, f'//*[@id=\"__next\"]/main/div[2]/div/div/div/div/div[2]/ul/li[{post_num}]/div/div/div/div/div/div[2]/div[2]').text\n",
    "            \n",
    "            # 별점\n",
    "            star_review = driver.find_element(By.XPATH, f'//*[@id=\"__next\"]/main/div[2]/div/div/div/div/div[2]/ul/li[{post_num}]/div/div/div/div/div/div[2]/div[3]').text.split('\\n')\n",
    "            star = star_review[0]\n",
    "            review = star_review[1]\n",
    "            \n",
    "            # DataFrame에 추가\n",
    "            cour_temp = pd.DataFrame(\n",
    "                [title, tec, star, review],\n",
    "                index=['강의명', '기술', '별점', '리뷰수']\n",
    "                ).T\n",
    "            cour_res = pd.concat([cour_res, cour_temp])\n",
    "        \n",
    "        post_num += 1\n",
    "        \n",
    "    except NoSuchElementException:\n",
    "        pass\n",
    "    \n",
    "    # 스크롤 시작점=0, 500픽셀씩 내리기\n",
    "    driver.execute_script(\"window.scrollBy(0, 700);\")\n",
    "    time.sleep(2)\n",
    "    \n",
    "    # 새로운 스크롤 위치\n",
    "    new_height = driver.execute_script('return document.body.scrollHeight')\n",
    "    # 이전 스크롤 위치와 비교하여 같다면 페이지의 끝에 도달한 것이므로 루프 종료\n",
    "    if new_height == pre_height:\n",
    "        break\n",
    "    pre_height = new_height\n",
    "\n",
    "    # 더보기 버튼 나오면 누르기\n",
    "    try:\n",
    "        if driver.find_element(\n",
    "            By.XPATH,\n",
    "            '//*[@id=\"rendered-content\"]/div/div/main/div[2]/div/div/div/div/div[2]/div[4]/button/span'\n",
    "            ).is_displayed():\n",
    "            driver.find_element(\n",
    "                By.XPATH,\n",
    "                '//*[@id=\"rendered-content\"]/div/div/main/div[2]/div/div/div/div/div[2]/div[4]/button/span'\n",
    "                ).click\n",
    "    except:\n",
    "        Exception"
   ]
  },
  {
   "cell_type": "code",
   "execution_count": 127,
   "metadata": {},
   "outputs": [
    {
     "data": {
      "text/html": [
       "<div>\n",
       "<style scoped>\n",
       "    .dataframe tbody tr th:only-of-type {\n",
       "        vertical-align: middle;\n",
       "    }\n",
       "\n",
       "    .dataframe tbody tr th {\n",
       "        vertical-align: top;\n",
       "    }\n",
       "\n",
       "    .dataframe thead th {\n",
       "        text-align: right;\n",
       "    }\n",
       "</style>\n",
       "<table border=\"1\" class=\"dataframe\">\n",
       "  <thead>\n",
       "    <tr style=\"text-align: right;\">\n",
       "      <th></th>\n",
       "      <th>강의명</th>\n",
       "      <th>기술</th>\n",
       "      <th>별점</th>\n",
       "      <th>리뷰수</th>\n",
       "    </tr>\n",
       "  </thead>\n",
       "  <tbody>\n",
       "  </tbody>\n",
       "</table>\n",
       "</div>"
      ],
      "text/plain": [
       "Empty DataFrame\n",
       "Columns: [강의명, 기술, 별점, 리뷰수]\n",
       "Index: []"
      ]
     },
     "execution_count": 127,
     "metadata": {},
     "output_type": "execute_result"
    }
   ],
   "source": [
    "cour_res"
   ]
  },
  {
   "cell_type": "markdown",
   "metadata": {},
   "source": [
    "1. 같은 url에 페이지 스타일이 3개 \n",
    "> 스크롤 계속 내리면서 보는 스타일                   \n",
    "> 스크롤 계속 내리면 더보기 나오고 클릭해야하는 스타일                 \n",
    "> 페이지 클릭해서 넘어가는 스타일\n",
    "\n",
    "2. XPATH가 중간 중간에 변하는걸 확인"
   ]
  },
  {
   "cell_type": "markdown",
   "metadata": {},
   "source": [
    "# 폐기?"
   ]
  },
  {
   "cell_type": "code",
   "execution_count": null,
   "metadata": {},
   "outputs": [],
   "source": []
  }
 ],
 "metadata": {
  "kernelspec": {
   "display_name": "base",
   "language": "python",
   "name": "python3"
  },
  "language_info": {
   "codemirror_mode": {
    "name": "ipython",
    "version": 3
   },
   "file_extension": ".py",
   "mimetype": "text/x-python",
   "name": "python",
   "nbconvert_exporter": "python",
   "pygments_lexer": "ipython3",
   "version": "3.11.5"
  }
 },
 "nbformat": 4,
 "nbformat_minor": 2
}
