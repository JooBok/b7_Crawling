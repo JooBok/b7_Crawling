{
 "cells": [
  {
   "cell_type": "code",
   "execution_count": 3,
   "id": "01f8ea80-54ea-4cf3-8add-e589e361fd07",
   "metadata": {
    "tags": []
   },
   "outputs": [],
   "source": [
    "from bs4 import BeautifulSoup\n",
    "import pandas as pd\n",
    "import numpy as np\n",
    "import re\n",
    "import requests\n",
    "from selenium import webdriver\n",
    "from selenium.webdriver.common.by import By\n",
    "import warnings\n",
    "warnings.filterwarnings('ignore')"
   ]
  },
  {
   "cell_type": "code",
   "execution_count": 4,
   "id": "f938f9d4-74eb-4455-8059-9c94c9a27582",
   "metadata": {
    "tags": []
   },
   "outputs": [],
   "source": [
    "page = 1\n",
    "url_sri = f'https://www.saramin.co.kr/zf_user/search/recruit?search_area=main&search_done=y&search_optional_item=n&searchType=recently&searchword=aws&recruitPage={page}&recruitSort=relation&recruitPageCount=100&inner_com_type=&company_cd=0%2C1%2C2%2C3%2C4%2C5%2C6%2C7%2C9%2C10&show_applied=&quick_apply=&except_read=&ai_head_hunting=&mainSearch=n'"
   ]
  },
  {
   "cell_type": "code",
   "execution_count": 5,
   "id": "088ec97b-01db-450b-a4f3-9d13ecc5499d",
   "metadata": {
    "tags": []
   },
   "outputs": [],
   "source": [
    "driver = webdriver.Chrome()\n",
    "driver.get(url_sri)\n",
    "driver.get(url_sri)\n",
    "\n",
    "html = driver.page_source\n",
    "soup = BeautifulSoup(html, 'html.parser')"
   ]
  },
  {
   "cell_type": "code",
   "execution_count": 81,
   "id": "6c97978e-dc81-4227-85e4-da08d6745c96",
   "metadata": {
    "tags": []
   },
   "outputs": [],
   "source": [
    "# 글 제목\n",
    "title = [a.text for a in soup.select('h2.job_tit')]"
   ]
  },
  {
   "cell_type": "code",
   "execution_count": 82,
   "id": "3480e85a-7b37-46b8-a151-c6bcfc5f4ac3",
   "metadata": {
    "tags": []
   },
   "outputs": [],
   "source": [
    "# 주소\n",
    "# num = 1 ~ 100\n",
    "address = driver.find_element(By.XPATH, f'//*[@id=\"recruit_info_list\"]/div[1]/div[{1}]/div[2]/div[3]/span[1]').text"
   ]
  },
  {
   "cell_type": "code",
   "execution_count": 83,
   "id": "2be9fd79-dac5-4916-b18d-2d5790911fcd",
   "metadata": {
    "tags": []
   },
   "outputs": [],
   "source": [
    "# 경력\n",
    "cur = driver.find_element(By.XPATH, f'//*[@id=\"recruit_info_list\"]/div[1]/div[{1}]/div[2]/div[3]/span[2]').text"
   ]
  },
  {
   "cell_type": "code",
   "execution_count": 84,
   "id": "8c11d98e-c448-41b4-a89a-0322ce24d0fa",
   "metadata": {
    "tags": []
   },
   "outputs": [],
   "source": [
    "# 회사\n",
    "corp = [re.sub('\\s','',b.text) for b in soup.select('strong.corp_name')]"
   ]
  },
  {
   "cell_type": "code",
   "execution_count": 121,
   "id": "236937e5-5191-4b23-8a6b-93596b98d8db",
   "metadata": {
    "tags": []
   },
   "outputs": [],
   "source": [
    "# 기술\n",
    "\n",
    "# tec_temp = soup.select('div.job_sector')[0].text\n",
    "# re.sub('\\s','',tec_temp).split('외')[0]\n",
    "# re.sub('\\s',' ',tec_temp).split()[:-2]\n",
    "\n",
    "tec = []\n",
    "\n",
    "for c in soup.select('div.job_sector'):\n",
    "    if '외' in c.text:\n",
    "        tec.append(re.sub('\\s','',c.text).split('외')[0])\n",
    "    else:\n",
    "         tec.append(re.sub('\\s',' ',c.text).split('  ')[0])"
   ]
  },
  {
   "cell_type": "code",
   "execution_count": null,
   "id": "cc849bee-c3af-43b5-8964-5a30b3d585cf",
   "metadata": {},
   "outputs": [],
   "source": []
  },
  {
   "cell_type": "markdown",
   "id": "c4a617d4-738b-4ebf-b7a4-a8b1d58367c2",
   "metadata": {},
   "source": [
    "# Crawling Program"
   ]
  },
  {
   "cell_type": "code",
   "execution_count": 1,
   "id": "22f8283d-5b9d-432b-9b40-cefe9897a5a7",
   "metadata": {
    "tags": []
   },
   "outputs": [],
   "source": [
    "from bs4 import BeautifulSoup\n",
    "import pandas as pd\n",
    "import numpy as np\n",
    "import re\n",
    "import requests\n",
    "from selenium import webdriver\n",
    "from selenium.webdriver.common.by import By\n",
    "import warnings\n",
    "warnings.filterwarnings('ignore')\n",
    "import time"
   ]
  },
  {
   "cell_type": "code",
   "execution_count": 2,
   "id": "ccd40c59-9638-4e3f-a25d-ad4306c88145",
   "metadata": {
    "tags": []
   },
   "outputs": [],
   "source": [
    "res_sri = pd.DataFrame(columns= ['회사명', '공고제목', '주소', '경력', '기술'])"
   ]
  },
  {
   "cell_type": "code",
   "execution_count": 4,
   "id": "01e269e8-8021-4ed2-9348-f8638ef59d6f",
   "metadata": {
    "tags": []
   },
   "outputs": [],
   "source": [
    "for page in range(1, 2):\n",
    "    url_sri = f'https://www.saramin.co.kr/zf_user/search/recruit?search_area=main&search_done=y&search_optional_item=n&searchType=recently&searchword=aws&recruitPage={page}&recruitSort=relation&recruitPageCount=100&inner_com_type=&company_cd=0%2C1%2C2%2C3%2C4%2C5%2C6%2C7%2C9%2C10&show_applied=&quick_apply=&except_read=&ai_head_hunting=&mainSearch=n'\n",
    "    tec = []\n",
    "    address = []\n",
    "    cur = []\n",
    "    \n",
    "    driver = webdriver.Chrome()\n",
    "    driver.get(url_sri)\n",
    "    driver.get(url_sri)\n",
    "    html = driver.page_source\n",
    "    soup = BeautifulSoup(html, 'html.parser')\n",
    "    \n",
    "    title = [a.text for a in soup.select('h2.job_tit')]\n",
    "    corp = [re.sub('\\s','',b.text) for b in soup.select('strong.corp_name')]\n",
    "    \n",
    "    for g in range(1,101):\n",
    "        time.sleep(0.01)\n",
    "        try:\n",
    "            address.append(driver.find_element(By.XPATH, f'//*[@id=\"recruit_info_list\"]/div[1]/div[{g}]/div[2]/div[3]/span[1]').text)\n",
    "            cur.append(driver.find_element(By.XPATH, f'//*[@id=\"recruit_info_list\"]/div[1]/div[{g}]/div[2]/div[3]/span[2]').text)\n",
    "        except:\n",
    "            address.append(driver.find_element(By.XPATH, f'//*[@id=\"recruit_info_list\"]/div[1]/div[{g}]/div[1]/div[4]').text)\n",
    "\n",
    "    for c in soup.select('div.job_sector'):\n",
    "        if '외' in c.text:\n",
    "            tec.append(re.sub('\\s','',c.text).split('외')[0])\n",
    "        else:\n",
    "             tec.append(re.sub('\\s',' ',c.text).split('  ')[0])\n",
    "                \n",
    "    res_temp = pd.DataFrame([corp, title, address, cur, tec], index = ['회사명', '공고제목', '주소', '경력', '기술']).T\n",
    "    res_sri = pd.concat([res_sri, res_temp])"
   ]
  },
  {
   "cell_type": "code",
   "execution_count": 5,
   "id": "a7394fd0-a685-41e1-8196-4a9907407528",
   "metadata": {
    "tags": []
   },
   "outputs": [],
   "source": [
    "res_sri.to_excel('사람인.xlsx')"
   ]
  },
  {
   "cell_type": "raw",
   "id": "d59633b9-989b-49b9-bba8-9b8105360fa6",
   "metadata": {},
   "source": [
    "오류\n",
    "\n",
    "1. 주소와 경력의 결측치가 많은것을 확인. 일단 컬럼 제거\n",
    "selenium 사용 실수?\n",
    "\n",
    "문제 : 주소 관련 4가지 유형의 XPATH 확인 -- selenium 사용 각하\n",
    "\n",
    "Beautifulsoup 사용 인용"
   ]
  },
  {
   "cell_type": "code",
   "execution_count": 23,
   "id": "6052a13e-d3ad-4bd1-99de-c91e242d3920",
   "metadata": {
    "tags": []
   },
   "outputs": [
    {
     "data": {
      "text/plain": [
       "['경기전체', '경력', '5~15년', '학력무관', '정규직']"
      ]
     },
     "execution_count": 23,
     "metadata": {},
     "output_type": "execute_result"
    }
   ],
   "source": [
    "address_temp = soup.select('div.job_condition')[36].text.split()\n",
    "address_temp"
   ]
  },
  {
   "cell_type": "code",
   "execution_count": 28,
   "id": "046686c8-10f5-49ec-a7ce-c6b6751cd931",
   "metadata": {
    "tags": []
   },
   "outputs": [
    {
     "data": {
      "text/plain": [
       "True"
      ]
     },
     "execution_count": 28,
     "metadata": {},
     "output_type": "execute_result"
    }
   ],
   "source": [
    "address = ''.join(address_temp[:2])\n",
    "'경력' in address"
   ]
  },
  {
   "cell_type": "code",
   "execution_count": 32,
   "id": "f1a577b3-c1fd-4ee3-8709-08341335dc8c",
   "metadata": {
    "tags": []
   },
   "outputs": [],
   "source": [
    "address = []\n",
    "\n",
    "for k in soup.select('div.job_condition'):\n",
    "    address.append(''.join(k.text.split()[:2]))"
   ]
  },
  {
   "cell_type": "code",
   "execution_count": null,
   "id": "eebbe87b-39ac-4f91-8cf7-f56f307c0203",
   "metadata": {},
   "outputs": [],
   "source": []
  },
  {
   "cell_type": "markdown",
   "id": "07e65715-b4d3-47db-8ec9-35589a9bde96",
   "metadata": {},
   "source": [
    "# program 2 -- 완성"
   ]
  },
  {
   "cell_type": "code",
   "execution_count": 1,
   "id": "8ff24d12-0707-4ab2-b62f-a7b9f0ced4e1",
   "metadata": {
    "tags": []
   },
   "outputs": [],
   "source": [
    "from bs4 import BeautifulSoup\n",
    "import pandas as pd\n",
    "import numpy as np\n",
    "import re\n",
    "import requests\n",
    "from selenium import webdriver\n",
    "from selenium.webdriver.common.by import By\n",
    "import warnings\n",
    "warnings.filterwarnings('ignore')\n",
    "import time"
   ]
  },
  {
   "cell_type": "code",
   "execution_count": 6,
   "id": "72625f84-538a-4a98-a7f0-4aabaf629191",
   "metadata": {
    "tags": []
   },
   "outputs": [],
   "source": [
    "res_sri = pd.DataFrame(columns= ['회사명', '공고제목', '주소', '경력', '기술'])\n",
    "\n",
    "for page in range(1, 3):\n",
    "    url_sri = f'https://www.saramin.co.kr/zf_user/search/recruit?search_area=main&search_done=y&search_optional_item=n&searchType=recently&searchword=aws&recruitPage={page}&recruitSort=relation&recruitPageCount=100&inner_com_type=&company_cd=0%2C1%2C2%2C3%2C4%2C5%2C6%2C7%2C9%2C10&show_applied=&quick_apply=&except_read=&ai_head_hunting=&mainSearch=n'\n",
    "    tec = []\n",
    "    address = []\n",
    "    cur = []\n",
    "    \n",
    "    driver = webdriver.Chrome()\n",
    "    driver.get(url_sri)\n",
    "    driver.get(url_sri)\n",
    "    html = driver.page_source\n",
    "    soup = BeautifulSoup(html, 'html.parser')\n",
    "    \n",
    "    title = [a.text for a in soup.select('h2.job_tit')]\n",
    "    corp = [re.sub('\\s','',b.text) for b in soup.select('strong.corp_name')]\n",
    "\n",
    "    for k in soup.select('div.job_condition'):\n",
    "        if '경력' in ''.join(k.text.split()[:2]):\n",
    "            address.append(''.join(k.text.split()[:1]))\n",
    "        else:\n",
    "            address.append(''.join(k.text.split()[:2]))\n",
    "    \n",
    "    for g in range(1,101):\n",
    "        try:\n",
    "            cur.append(driver.find_element(By.XPATH, f'//*[@id=\"recruit_info_list\"]/div[1]/div[{g}]/div[2]/div[3]/span[2]').text)\n",
    "        except:\n",
    "            cur.append(None)\n",
    "\n",
    "    for c in soup.select('div.job_sector'):\n",
    "        if '외' in c.text:\n",
    "            tec.append(re.sub('\\s','',c.text).split('외')[0])\n",
    "        else:\n",
    "             tec.append(re.sub('\\s',' ',c.text).split('  ')[0])\n",
    "                \n",
    "    res_temp = pd.DataFrame([corp, title, address, cur, tec], index = ['회사명', '공고제목', '주소', '경력', '기술']).T\n",
    "    res_sri = pd.concat([res_sri, res_temp])"
   ]
  },
  {
   "cell_type": "code",
   "execution_count": 8,
   "id": "2fc1bb05-b754-49db-9eb6-3f1fdd459039",
   "metadata": {
    "tags": []
   },
   "outputs": [
    {
     "data": {
      "text/html": [
       "<div>\n",
       "<style scoped>\n",
       "    .dataframe tbody tr th:only-of-type {\n",
       "        vertical-align: middle;\n",
       "    }\n",
       "\n",
       "    .dataframe tbody tr th {\n",
       "        vertical-align: top;\n",
       "    }\n",
       "\n",
       "    .dataframe thead th {\n",
       "        text-align: right;\n",
       "    }\n",
       "</style>\n",
       "<table border=\"1\" class=\"dataframe\">\n",
       "  <thead>\n",
       "    <tr style=\"text-align: right;\">\n",
       "      <th></th>\n",
       "      <th>회사명</th>\n",
       "      <th>공고제목</th>\n",
       "      <th>주소</th>\n",
       "      <th>경력</th>\n",
       "      <th>기술</th>\n",
       "    </tr>\n",
       "  </thead>\n",
       "  <tbody>\n",
       "    <tr>\n",
       "      <th>0</th>\n",
       "      <td>메가존클라우드(주)</td>\n",
       "      <td>\\nAWS Managed Service (Enterprise Cloud Engine...</td>\n",
       "      <td>서울강남구</td>\n",
       "      <td>경력무관</td>\n",
       "      <td>AWS,유지보수,SQL,Python,쉘스크립트</td>\n",
       "    </tr>\n",
       "    <tr>\n",
       "      <th>1</th>\n",
       "      <td>(주)클로잇</td>\n",
       "      <td>\\n[클로잇] AWS / Azure TA 채용</td>\n",
       "      <td>서울강남구</td>\n",
       "      <td>경력 2~10년</td>\n",
       "      <td>AWS,IDC,SE(시스템엔지니어),클라우드,Azure</td>\n",
       "    </tr>\n",
       "    <tr>\n",
       "      <th>2</th>\n",
       "      <td>(주)빗썸코리아</td>\n",
       "      <td>\\n[빗썸] 클라우드엔지니어 - AWS 서비스 운영</td>\n",
       "      <td>서울강남구</td>\n",
       "      <td>경력 5~10년</td>\n",
       "      <td>AWS,핀테크,SE(시스템엔지니어),Kubernetes,DevOps</td>\n",
       "    </tr>\n",
       "    <tr>\n",
       "      <th>3</th>\n",
       "      <td>(주)솔로몬텍</td>\n",
       "      <td>\\n[솔로몬텍] AWS 클라우드 운영 경력직 채용</td>\n",
       "      <td>경기의왕시</td>\n",
       "      <td>경력5년↑</td>\n",
       "      <td>AWS,MSSQL,ISMS,클라우드,Linux</td>\n",
       "    </tr>\n",
       "    <tr>\n",
       "      <th>4</th>\n",
       "      <td>(주)에스비티글로벌</td>\n",
       "      <td>\\nAWS Cloud 구축 운영 (MSP) SA 2명 ,  DBA 1명</td>\n",
       "      <td>경기성남시</td>\n",
       "      <td>경력 3~19년</td>\n",
       "      <td>AWS,아키텍쳐,Python,GCP,Perl</td>\n",
       "    </tr>\n",
       "    <tr>\n",
       "      <th>...</th>\n",
       "      <td>...</td>\n",
       "      <td>...</td>\n",
       "      <td>...</td>\n",
       "      <td>...</td>\n",
       "      <td>...</td>\n",
       "    </tr>\n",
       "    <tr>\n",
       "      <th>95</th>\n",
       "      <td>(주)인피닛블록</td>\n",
       "      <td>\\n[인피닛블록] 인프라 엔지니어 채용</td>\n",
       "      <td>서울강남구</td>\n",
       "      <td>경력2년↑</td>\n",
       "      <td>AWS,ISMS,클라우드,Java,블록체인</td>\n",
       "    </tr>\n",
       "    <tr>\n",
       "      <th>96</th>\n",
       "      <td>주식회사스타랩스</td>\n",
       "      <td>\\n[스타랩스] 클라우드 DBA 경력직 채용</td>\n",
       "      <td>서울강남구</td>\n",
       "      <td>경력3년↑</td>\n",
       "      <td>AWS,클라우드,MySQL,ERP,솔루션</td>\n",
       "    </tr>\n",
       "    <tr>\n",
       "      <th>97</th>\n",
       "      <td>(주)피플펀드컴퍼니</td>\n",
       "      <td>\\n데브옵스 엔지니어(DevOps Engineer)</td>\n",
       "      <td>서울서초구</td>\n",
       "      <td>경력 3~10년</td>\n",
       "      <td>AWS,Python,Apache,SE(시스템엔지니어),VPN</td>\n",
       "    </tr>\n",
       "    <tr>\n",
       "      <th>98</th>\n",
       "      <td>메가존클라우드(주)</td>\n",
       "      <td>\\n글로벌 클라우드(Tech/Sales 등)  채용</td>\n",
       "      <td>서울강남구</td>\n",
       "      <td>경력무관</td>\n",
       "      <td>AWS,Splunk,SQL,기술영업,모의해킹</td>\n",
       "    </tr>\n",
       "    <tr>\n",
       "      <th>99</th>\n",
       "      <td>(주)미니게이트</td>\n",
       "      <td>\\n[경력] Backend - 플랫폼 운영&amp;개발 채용</td>\n",
       "      <td>서울강남구</td>\n",
       "      <td>경력8년↑</td>\n",
       "      <td>AWS,Spring,SpringBoot,API,Scala</td>\n",
       "    </tr>\n",
       "  </tbody>\n",
       "</table>\n",
       "<p>200 rows × 5 columns</p>\n",
       "</div>"
      ],
      "text/plain": [
       "           회사명                                               공고제목     주소  \\\n",
       "0   메가존클라우드(주)  \\nAWS Managed Service (Enterprise Cloud Engine...  서울강남구   \n",
       "1       (주)클로잇                         \\n[클로잇] AWS / Azure TA 채용   서울강남구   \n",
       "2     (주)빗썸코리아                      \\n[빗썸] 클라우드엔지니어 - AWS 서비스 운영   서울강남구   \n",
       "3      (주)솔로몬텍                       \\n[솔로몬텍] AWS 클라우드 운영 경력직 채용   경기의왕시   \n",
       "4   (주)에스비티글로벌           \\nAWS Cloud 구축 운영 (MSP) SA 2명 ,  DBA 1명   경기성남시   \n",
       "..         ...                                                ...    ...   \n",
       "95    (주)인피닛블록                             \\n[인피닛블록] 인프라 엔지니어 채용   서울강남구   \n",
       "96    주식회사스타랩스                          \\n[스타랩스] 클라우드 DBA 경력직 채용   서울강남구   \n",
       "97  (주)피플펀드컴퍼니                    \\n데브옵스 엔지니어(DevOps Engineer)     서울서초구   \n",
       "98  메가존클라우드(주)                      \\n글로벌 클라우드(Tech/Sales 등)  채용   서울강남구   \n",
       "99    (주)미니게이트                     \\n[경력] Backend - 플랫폼 운영&개발 채용   서울강남구   \n",
       "\n",
       "          경력                                     기술  \n",
       "0       경력무관              AWS,유지보수,SQL,Python,쉘스크립트  \n",
       "1   경력 2~10년         AWS,IDC,SE(시스템엔지니어),클라우드,Azure  \n",
       "2   경력 5~10년  AWS,핀테크,SE(시스템엔지니어),Kubernetes,DevOps  \n",
       "3      경력5년↑              AWS,MSSQL,ISMS,클라우드,Linux  \n",
       "4   경력 3~19년               AWS,아키텍쳐,Python,GCP,Perl  \n",
       "..       ...                                    ...  \n",
       "95     경력2년↑                AWS,ISMS,클라우드,Java,블록체인  \n",
       "96     경력3년↑                 AWS,클라우드,MySQL,ERP,솔루션  \n",
       "97  경력 3~10년      AWS,Python,Apache,SE(시스템엔지니어),VPN  \n",
       "98      경력무관               AWS,Splunk,SQL,기술영업,모의해킹  \n",
       "99     경력8년↑        AWS,Spring,SpringBoot,API,Scala  \n",
       "\n",
       "[200 rows x 5 columns]"
      ]
     },
     "execution_count": 8,
     "metadata": {},
     "output_type": "execute_result"
    }
   ],
   "source": [
    "res_sri"
   ]
  },
  {
   "cell_type": "code",
   "execution_count": 9,
   "id": "c191fe6a-8003-4a3e-a1f0-e7be6f169810",
   "metadata": {},
   "outputs": [],
   "source": [
    "res_sri.to_excel('sri.xlsx')"
   ]
  },
  {
   "cell_type": "code",
   "execution_count": 11,
   "id": "e144d618-ad40-4804-b3d7-720e6b980679",
   "metadata": {
    "tags": []
   },
   "outputs": [],
   "source": [
    "tec = []\n",
    "for c in soup.select('div.job_sector'):\n",
    "        if '외' in c.text:\n",
    "            tec.append(re.sub('\\s','',c.text).split('외')[0])\n",
    "        else:\n",
    "             tec.append(re.sub('\\s',' ',c.text).split('  ')[0])"
   ]
  },
  {
   "cell_type": "code",
   "execution_count": 13,
   "id": "289d47cb-e89d-4bc4-a3ea-9de8371c42c6",
   "metadata": {
    "collapsed": true,
    "jupyter": {
     "outputs_hidden": true
    },
    "tags": []
   },
   "outputs": [
    {
     "data": {
      "text/plain": [
       "['AWS,유지보수,클라우드,Azure,인프라',\n",
       " 'AWS,Python,Apache,SE(시스템엔지니어),Kubernetes',\n",
       " 'AWS,유지보수,풀스택,Spring,PostgreSQL',\n",
       " 'AWS,SQL,Python,Pytorch,챗봇',\n",
       " 'AWS,PostgreSQL,MariaDB,API,OracleDB',\n",
       " 'AWS,Python,VDI,H/W,VMware',\n",
       " 'AWS,RPA,GCP,DevOps,클라우드',\n",
       " 'AWS,클라우드,Azure,인프라,솔루션',\n",
       " 'AWS,PostgreSQL,RestAPI,SQL,SaaS',\n",
       " 'AWS,PostgreSQL,SpringBoot,SQL,MariaDB',\n",
       " 'AWS,Spring,Ajax,.NET,JSP',\n",
       " 'AWS,유지보수,IoT,클라우드,Linux',\n",
       " 'AWS,Android,모델링,iOS,클라우드',\n",
       " 'AWS,Python,ISMS,Java,클라우드',\n",
       " 'AWS,유지보수,SQL,Python,VMware',\n",
       " 'AWS,SE(시스템엔지니어),VPN,ISMS,클라우드',\n",
       " 'AWS,모델링,유지보수,MongoDB,DBMS',\n",
       " 'AWS,SOA,Python,GIS,Pytorch',\n",
       " 'AWS,유지보수,아키텍쳐,Windows,정보통신',\n",
       " 'AWS,SpringBoot,RestAPI,SQLite,JSP',\n",
       " 'AWS,SI개발,DBMS,MyBatis,Java',\n",
       " 'AWS,메타버스,Windows,SE(시스템엔지니어),VPN',\n",
       " 'AWS,SE(시스템엔지니어),GCP,DevOps,Linux',\n",
       " 'AWS,손익관리,HTML5,모델링,모의해킹',\n",
       " 'AWS,SE(시스템엔지니어),PaaS,Spark,클라우드',\n",
       " 'AWS,ETL,SQL,Python,OLAP',\n",
       " 'AWS,GCP,DevOps,클라우드,Azure',\n",
       " 'AWS,풀스택,아키텍쳐,SQL,Python',\n",
       " 'AWS,아키텍쳐,ABAP,ERP,SE(시스템엔지니어)',\n",
       " 'AWS,Spring,SpringBoot,RestAPI,SQL',\n",
       " 'AWS,Windows,VMware,SE(시스템엔지니어),미들웨어',\n",
       " 'AWS,사업관리,SpringBoot,Python,MongoDB',\n",
       " 'AWS,PostgreSQL,RestAPI,.NET,MariaDB',\n",
       " 'AWS,GCP,Kotlin,Git,Java',\n",
       " 'AWS,Python,챗봇,React,Java',\n",
       " 'AWS,PostgreSQL,SQL,MariaDB,Python',\n",
       " 'AWS,유지보수,Spring,SQL,Angular',\n",
       " 'AWS,IaaS,클라우드,Linux,네트워크',\n",
       " 'AWS,GCP,GoLang,클라우드,인프라',\n",
       " 'AWS,유지보수,Windows,Apache,IDC',\n",
       " 'AWS,유지보수,Git,MSSQL,React',\n",
       " 'AWS,Spring,SpringBoot,SQL,RestAPI',\n",
       " 'AWS,Redis,Spring,SpringBoot,Kafka',\n",
       " 'AWS,유지보수,알고리즘,Tensorflow,클라우드',\n",
       " 'AWS,유지보수,클라우드,네트워크,인프라',\n",
       " 'AWS,VMware,HTML5,CSS3,Git',\n",
       " 'AWS,유지보수,Spring,PostgreSQL,SpringBoot',\n",
       " 'AWS,아키텍쳐,SQL,MariaDB,Python',\n",
       " 'AWS,Python,Pytorch,RPA,MongoDB',\n",
       " 'AWS,PostgreSQL,SQL,SQLite,MariaDB',\n",
       " 'AWS,Spring,SpringBoot,VMware,HTML5',\n",
       " 'AWS,SpringBoot,RestAPI,MariaDB,Python',\n",
       " 'AWS,유지보수,Windows,PostgreSQL,VMware',\n",
       " 'AWS,Kotlin,Azure,Java,TypeScript',\n",
       " 'AWS,악성코드,보안관제,블록체인,인프라',\n",
       " 'AWS,유지보수,SE(시스템엔지니어),미들웨어,클라우드',\n",
       " 'AWS,클라우드,MySQL,DBA,SQL',\n",
       " 'AWS,유지보수,Spring,SQL,JSP',\n",
       " 'AWS,S/W,RestAPI,API,알고리즘',\n",
       " 'AWS,API,OracleDB,Git,ISMS',\n",
       " 'AWS,유지보수,헬스케어,Windows,PostgreSQL',\n",
       " 'AWS,방화벽,클라우드,Azure,인프라',\n",
       " 'AWS,풀스택,Spring,SpringBoot,API',\n",
       " 'AWS,유지보수,.NET,Python,ASP',\n",
       " 'AWS,Spring,SpringBoot,SQL,MariaDB',\n",
       " 'AWS,PostgreSQL,RestAPI,SQL,MariaDB',\n",
       " 'AWS,SQL,Python,RDBMS,SE(시스템엔지니어)',\n",
       " 'AWS,유지보수,STT,TTS,Python',\n",
       " 'AWS,ETL,SQL,Python,Kafka',\n",
       " ' AWS, MSSQL, DBA, SQL, 인터넷교육 수정일 24/02/19 ',\n",
       " 'AWS,Python,Java,클라우드,Django',\n",
       " 'AWS,클라우드,네트워크,인프라,PO(프로덕트오너)',\n",
       " 'AWS,SQL,Python,핀테크,기술영업',\n",
       " 'AWS,.NET,Python,SE(시스템엔지니어),Kubernetes',\n",
       " 'AWS,Redis,MariaDB,Kafka,SE(시스템엔지니어)',\n",
       " 'AWS,Spring,RestAPI,SQL,OCR',\n",
       " 'AWS,Python,SE(시스템엔지니어),Git,Kubernetes',\n",
       " 'AWS,MariaDB,Python,HTML5,IDC',\n",
       " 'AWS,Redux,Angular,API,SE(시스템엔지니어)',\n",
       " 'AWS,SE(시스템엔지니어),GCP,Kubernetes,미들웨어',\n",
       " 'AWS,Spring,SpringBoot,SQL,API',\n",
       " 'AWS,유지보수,메타버스,Python,SE(시스템엔지니어)',\n",
       " 'AWS,Flutter,ReactJS,인프라,C++',\n",
       " 'AWS,풀스택,SQL,ETL,Python',\n",
       " 'AWS,Spring,SpringBoot,PostgreSQL,SQL',\n",
       " 'AWS,유지보수,Redis,Spring,PostgreSQL',\n",
       " 'AWS,유지보수,AIX,Ajax,VDI',\n",
       " 'AWS,Redis,Spring,SpringBoot,SQL',\n",
       " 'AWS,웹마스터,유지보수,메타버스,Spring',\n",
       " 'AWS,Python,Apache,OracleDB,APM',\n",
       " 'AWS,QA/테스터,S/W,ETL,Python',\n",
       " 'AWS,Kotlin,클라우드,네트워크,게임개발',\n",
       " 'AWS,Redis,PostgreSQL,SQL,Python',\n",
       " 'AWS,SE(시스템엔지니어),PaaS,유지보수,클라우드',\n",
       " 'AWS,유지보수,Spring,PostgreSQL,SQL',\n",
       " 'AWS,ISMS,클라우드,Java,블록체인',\n",
       " 'AWS,클라우드,MySQL,ERP,솔루션',\n",
       " 'AWS,Python,Apache,SE(시스템엔지니어),VPN',\n",
       " 'AWS,Splunk,SQL,기술영업,모의해킹',\n",
       " 'AWS,Spring,SpringBoot,API,Scala']"
      ]
     },
     "execution_count": 13,
     "metadata": {},
     "output_type": "execute_result"
    }
   ],
   "source": [
    "soup.select('div.job_sector')[tec.append(re.sub('\\s',' ',c.text).split('  ')[0])"
   ]
  },
  {
   "cell_type": "code",
   "execution_count": 51,
   "id": "55a3a9f9-6594-4a24-bf65-67fa23b2661f",
   "metadata": {
    "tags": []
   },
   "outputs": [
    {
     "data": {
      "text/plain": [
       "['\\nAWS, 유지보수, 클라우드, Azure, 인프라 외', '', '', '', '', '', '', '', '', '', '']"
      ]
     },
     "execution_count": 51,
     "metadata": {},
     "output_type": "execute_result"
    }
   ],
   "source": [
    ".split('  ')"
   ]
  },
  {
   "cell_type": "code",
   "execution_count": null,
   "id": "5e331eed-1769-4edd-a71c-493e49b6c880",
   "metadata": {},
   "outputs": [],
   "source": [
    "soup.select('div.job_sector')[tec.append(re.sub('\\s',' ',c.text).split('  ')[0])\n",
    "                              \n",
    "for c in soup.select('div.job_sector'):\n",
    "        if '외' in c.text:\n",
    "            tec.append(re.sub('\\s','',c.text).split('외')[0])\n",
    "        else:\n",
    "            tec.append(re.sub('\\D\\D\\D\\s\\d\\d\\D\\d\\d\\D\\d\\d\\s', '',c.text).split('  ')"
   ]
  },
  {
   "cell_type": "code",
   "execution_count": 53,
   "id": "977ae0f7-beea-4644-8a1c-910e8d225270",
   "metadata": {
    "tags": []
   },
   "outputs": [],
   "source": [
    "res_sri = pd.DataFrame(columns= ['회사명', '공고제목', '주소', '경력', '기술'])\n",
    "\n",
    "for page in range(1, 4):\n",
    "    url_sri = f'https://www.saramin.co.kr/zf_user/search/recruit?search_area=main&search_done=y&search_optional_item=n&searchType=recently&searchword=aws&recruitPage={page}&recruitSort=relation&recruitPageCount=100&inner_com_type=&company_cd=0%2C1%2C2%2C3%2C4%2C5%2C6%2C7%2C9%2C10&show_applied=&quick_apply=&except_read=&ai_head_hunting=&mainSearch=n'\n",
    "    tec = []\n",
    "    address = []\n",
    "    cur = []\n",
    "    \n",
    "    driver = webdriver.Chrome()\n",
    "    driver.get(url_sri)\n",
    "    driver.get(url_sri)\n",
    "    html = driver.page_source\n",
    "    soup = BeautifulSoup(html, 'html.parser')\n",
    "    \n",
    "    title = [a.text for a in soup.select('h2.job_tit')]\n",
    "    corp = [re.sub('\\s','',b.text) for b in soup.select('strong.corp_name')]\n",
    "\n",
    "    for k in soup.select('div.job_condition'):\n",
    "        if '경력' in ''.join(k.text.split()[:2]):\n",
    "            address.append(''.join(k.text.split()[:1]))\n",
    "        else:\n",
    "            address.append(''.join(k.text.split()[:2]))\n",
    "    \n",
    "    for g in range(1,101):\n",
    "        try:\n",
    "            cur.append(driver.find_element(By.XPATH, f'//*[@id=\"recruit_info_list\"]/div[1]/div[{g}]/div[2]/div[3]/span[2]').text)\n",
    "        except:\n",
    "            cur.append(None)\n",
    "\n",
    "    for c in soup.select('div.job_sector'):\n",
    "        if '외' in c.text:\n",
    "            tec.append(re.sub('\\s','',c.text).split('외')[0])\n",
    "        else:\n",
    "            tec.append(re.sub('\\D\\D\\D\\s\\d\\d\\D\\d\\d\\D\\d\\d\\s', '',c.text).split('  '))\n",
    "                \n",
    "    res_temp = pd.DataFrame([corp, title, address, cur, tec], index = ['회사명', '공고제목', '주소', '경력', '기술']).T\n",
    "    res_sri = pd.concat([res_sri, res_temp])"
   ]
  },
  {
   "cell_type": "code",
   "execution_count": 54,
   "id": "c23da5b4-89d3-4a81-a796-d8e8b4b0c25b",
   "metadata": {
    "tags": []
   },
   "outputs": [],
   "source": [
    "res_sri.to_excel('sri_real.xlsx')"
   ]
  },
  {
   "cell_type": "code",
   "execution_count": null,
   "id": "ad4634e3-f79a-4417-aab2-97487c2423e4",
   "metadata": {},
   "outputs": [],
   "source": []
  }
 ],
 "metadata": {
  "kernelspec": {
   "display_name": "Python 3 (ipykernel)",
   "language": "python",
   "name": "python3"
  },
  "language_info": {
   "codemirror_mode": {
    "name": "ipython",
    "version": 3
   },
   "file_extension": ".py",
   "mimetype": "text/x-python",
   "name": "python",
   "nbconvert_exporter": "python",
   "pygments_lexer": "ipython3",
   "version": "3.11.5"
  }
 },
 "nbformat": 4,
 "nbformat_minor": 5
}
