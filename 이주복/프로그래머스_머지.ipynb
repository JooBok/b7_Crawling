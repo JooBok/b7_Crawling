{
 "cells": [
  {
   "cell_type": "code",
   "execution_count": 1,
   "metadata": {},
   "outputs": [],
   "source": [
    "import pandas as pd"
   ]
  },
  {
   "cell_type": "code",
   "execution_count": 2,
   "metadata": {},
   "outputs": [],
   "source": [
    "programmers = pd.read_csv('./programmers.csv')\n",
    "dart = pd.read_csv('./프로그래머스_다트_추가.csv', index_col=0)\n",
    "catch = pd.read_csv('./프로그래머스_캐치_추가.csv', index_col=0)"
   ]
  },
  {
   "cell_type": "markdown",
   "metadata": {},
   "source": [
    "1. 기업명: corp_name\n",
    "2. 업종분류: sector\n",
    "3. 사원수: employee\n",
    "4. 설립연도: corp_year\n",
    "5. 기업형태: corp_type\n",
    "6. 매출액: sales_money\n",
    "7. 주소: address\n",
    "8. 직무: job_description\n",
    "9. 이용하는 기술스택: job_skill\n",
    "10. 자격요건: job_requirements\n",
    "11. 직급(경력): career\n",
    "12. 우대사항: job_preferential\n",
    "13. 해당 페이지 URL: employment_url\n",
    "14. 기업 홈페이지 URL: corp_url"
   ]
  },
  {
   "cell_type": "code",
   "execution_count": null,
   "metadata": {},
   "outputs": [],
   "source": [
    "programmers.columns"
   ]
  },
  {
   "cell_type": "code",
   "execution_count": null,
   "metadata": {},
   "outputs": [],
   "source": [
    "dart.columns"
   ]
  },
  {
   "cell_type": "code",
   "execution_count": null,
   "metadata": {},
   "outputs": [],
   "source": [
    "catch.columns"
   ]
  },
  {
   "cell_type": "code",
   "execution_count": 3,
   "metadata": {},
   "outputs": [],
   "source": [
    "dart_merge = dart[['기업명','업종분류','설립연도']]"
   ]
  },
  {
   "cell_type": "code",
   "execution_count": 4,
   "metadata": {},
   "outputs": [],
   "source": [
    "pro_merge1 = pd.merge(programmers, dart_merge, how='outer')"
   ]
  },
  {
   "cell_type": "code",
   "execution_count": null,
   "metadata": {},
   "outputs": [],
   "source": [
    "programmers.index"
   ]
  },
  {
   "cell_type": "code",
   "execution_count": 26,
   "metadata": {},
   "outputs": [
    {
     "name": "stderr",
     "output_type": "stream",
     "text": [
      "C:\\Users\\BIG3-013\\AppData\\Local\\Temp\\ipykernel_24408\\1982286782.py:2: SettingWithCopyWarning: \n",
      "A value is trying to be set on a copy of a slice from a DataFrame\n",
      "\n",
      "See the caveats in the documentation: https://pandas.pydata.org/pandas-docs/stable/user_guide/indexing.html#returning-a-view-versus-a-copy\n",
      "  catch_merge.drop_duplicates(inplace=True)\n"
     ]
    }
   ],
   "source": [
    "catch_merge = catch[['기업명','기업형태','매출액']]\n",
    "catch_merge.drop_duplicates(inplace=True)"
   ]
  },
  {
   "cell_type": "code",
   "execution_count": 8,
   "metadata": {},
   "outputs": [
    {
     "data": {
      "text/plain": [
       "RangeIndex(start=0, stop=48, step=1)"
      ]
     },
     "execution_count": 8,
     "metadata": {},
     "output_type": "execute_result"
    }
   ],
   "source": [
    "pro_merge1.index"
   ]
  },
  {
   "cell_type": "code",
   "execution_count": 29,
   "metadata": {},
   "outputs": [],
   "source": [
    "allpro = pd.merge(pro_merge1, catch_merge, how='outer')"
   ]
  },
  {
   "cell_type": "code",
   "execution_count": 35,
   "metadata": {},
   "outputs": [
    {
     "data": {
      "text/plain": [
       "기업명             0\n",
       "사원수             0\n",
       "주소              0\n",
       "직무              0\n",
       "이용하는 기술스택       0\n",
       "자격요건            1\n",
       "직급              0\n",
       "우대사항            1\n",
       "해당 페이지 URL      0\n",
       "기업 홈페이지 URL     0\n",
       "업종분류           38\n",
       "설립연도           38\n",
       "기업형태           17\n",
       "매출액            17\n",
       "dtype: int64"
      ]
     },
     "execution_count": 35,
     "metadata": {},
     "output_type": "execute_result"
    }
   ],
   "source": [
    "allpro.isna().sum()"
   ]
  },
  {
   "cell_type": "code",
   "execution_count": 37,
   "metadata": {},
   "outputs": [],
   "source": [
    "allpro.to_excel('./pororo.xlsx')"
   ]
  }
 ],
 "metadata": {
  "kernelspec": {
   "display_name": "base",
   "language": "python",
   "name": "python3"
  },
  "language_info": {
   "codemirror_mode": {
    "name": "ipython",
    "version": 3
   },
   "file_extension": ".py",
   "mimetype": "text/x-python",
   "name": "python",
   "nbconvert_exporter": "python",
   "pygments_lexer": "ipython3",
   "version": "3.11.5"
  }
 },
 "nbformat": 4,
 "nbformat_minor": 2
}
