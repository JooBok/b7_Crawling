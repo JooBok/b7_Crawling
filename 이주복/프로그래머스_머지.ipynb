{
 "cells": [
  {
   "cell_type": "code",
   "execution_count": 1,
   "metadata": {},
   "outputs": [],
   "source": [
    "import pandas as pd"
   ]
  },
  {
   "cell_type": "code",
   "execution_count": 3,
   "metadata": {},
   "outputs": [],
   "source": [
    "# 파일 불러오기\n",
    "programmers = pd.read_csv('./programmers.csv')  # 프로그래머스 파일\n",
    "dart = pd.read_csv('./프로그래머스_다트_추가.csv', index_col=0)  # 다트 파일\n",
    "catch = pd.read_csv('./프로그래머스_캐치_추가.csv', index_col=0)  # 캐치 파일\n",
    "wantedi = pd.read_csv('./프로그래머스_원티드_추가.csv', index_col=0)  # 원티드 인사이트 파일"
   ]
  },
  {
   "cell_type": "markdown",
   "metadata": {},
   "source": [
    "1. 기업명: corp_name\n",
    "2. 업종분류: sector\n",
    "3. 사원수: employee\n",
    "4. 설립연도: corp_year\n",
    "5. 기업형태: corp_type\n",
    "6. 매출액: sales_money\n",
    "7. 주소: address\n",
    "8. 직무: job_description\n",
    "9. 이용하는 기술스택: job_skill\n",
    "10. 자격요건: job_requirements\n",
    "11. 직급(경력): career\n",
    "12. 우대사항: job_preferential\n",
    "13. 해당 페이지 URL: employment_url\n",
    "14. 기업 홈페이지 URL: corp_url"
   ]
  },
  {
   "cell_type": "markdown",
   "metadata": {},
   "source": [
    "## 다트와 캐치 머지\n",
    "- 다트: 업종분류, 설립연도\n",
    "- 캐치: 기업형태, 매출액"
   ]
  },
  {
   "cell_type": "code",
   "execution_count": 3,
   "metadata": {},
   "outputs": [],
   "source": [
    "# 다트파일에서 머지할 컬럼만 따로 저장\n",
    "dart_merge = dart[['기업명','업종분류','설립연도']]"
   ]
  },
  {
   "cell_type": "code",
   "execution_count": 4,
   "metadata": {},
   "outputs": [],
   "source": [
    "# 프로그래머스파일과 다트파일 머지\n",
    "pro_merge1 = pd.merge(programmers, dart_merge, how='outer')"
   ]
  },
  {
   "cell_type": "code",
   "execution_count": 5,
   "metadata": {},
   "outputs": [],
   "source": [
    "# 캐치파일에서 머지할 컬럼만 따로 저장\n",
    "catch_merge = catch[['기업명','기업형태','매출액']]\n",
    "catch_merge = catch_merge.drop_duplicates()  # 같은 내용이 많아 index가 추가되므로 중복 제거"
   ]
  },
  {
   "cell_type": "code",
   "execution_count": 6,
   "metadata": {},
   "outputs": [],
   "source": [
    "# 프로그래머스와 다트를 머지한 파일과 캐치파일 머지\n",
    "programmers_all = pd.merge(pro_merge1, catch_merge, how='outer')"
   ]
  },
  {
   "cell_type": "code",
   "execution_count": 7,
   "metadata": {},
   "outputs": [],
   "source": [
    "# 엑셀파일로 저장하여 눈으로 직접 확인\n",
    "programmers_all.to_excel('./merge1_end.xlsx')"
   ]
  },
  {
   "cell_type": "markdown",
   "metadata": {},
   "source": [
    "## 원티드 인사이트와 캐치 머지\n",
    "- 원티드 인사이트: 업종분류, 설립연도, 매출액\n",
    "- 캐치: 기업형태"
   ]
  },
  {
   "cell_type": "code",
   "execution_count": 16,
   "metadata": {},
   "outputs": [],
   "source": [
    "# 원티드 인사이트파일에서 머지할 컬럼만 따로 저장\n",
    "wantedi_merge = wantedi[['기업명','업종분류','설립연도','매출액']]\n",
    "wantedi_merge = wantedi_merge.drop_duplicates()"
   ]
  },
  {
   "cell_type": "code",
   "execution_count": 18,
   "metadata": {},
   "outputs": [],
   "source": [
    "# 원티드 인사이트 머지\n",
    "pro_all = pd.merge(programmers, wantedi_merge, how='outer')"
   ]
  },
  {
   "cell_type": "code",
   "execution_count": null,
   "metadata": {},
   "outputs": [],
   "source": [
    "# 캐치파일에서 머지할 컬럼만 따로 저장\n",
    "catch_merge = catch[['기업명','기업형태']]\n",
    "catch_merge = catch_merge.drop_duplicates()  # 같은 내용이 많아 index가 추가되므로 중복 제거"
   ]
  },
  {
   "cell_type": "code",
   "execution_count": 20,
   "metadata": {},
   "outputs": [
    {
     "ename": "NameError",
     "evalue": "name 'catch_merge' is not defined",
     "output_type": "error",
     "traceback": [
      "\u001b[1;31m---------------------------------------------------------------------------\u001b[0m",
      "\u001b[1;31mNameError\u001b[0m                                 Traceback (most recent call last)",
      "Cell \u001b[1;32mIn[20], line 2\u001b[0m\n\u001b[0;32m      1\u001b[0m \u001b[38;5;66;03m# 원티드 인사이트와 캐치 머지\u001b[39;00m\n\u001b[1;32m----> 2\u001b[0m pd\u001b[38;5;241m.\u001b[39mmerge(pro_all, catch_merge, how\u001b[38;5;241m=\u001b[39m\u001b[38;5;124m'\u001b[39m\u001b[38;5;124mouter\u001b[39m\u001b[38;5;124m'\u001b[39m)\n",
      "\u001b[1;31mNameError\u001b[0m: name 'catch_merge' is not defined"
     ]
    }
   ],
   "source": [
    "# 원티드 인사이트와 캐치 머지\n",
    "pd.merge(pro_all, catch_merge, how='outer')"
   ]
  },
  {
   "cell_type": "code",
   "execution_count": null,
   "metadata": {},
   "outputs": [],
   "source": []
  },
  {
   "cell_type": "code",
   "execution_count": 19,
   "metadata": {},
   "outputs": [],
   "source": [
    "# 엑셀파일로 저장하여 눈으로 직접 확인\n",
    "pro_all.to_excel('./merge2_end.xlsx')"
   ]
  }
 ],
 "metadata": {
  "kernelspec": {
   "display_name": "base",
   "language": "python",
   "name": "python3"
  },
  "language_info": {
   "codemirror_mode": {
    "name": "ipython",
    "version": 3
   },
   "file_extension": ".py",
   "mimetype": "text/x-python",
   "name": "python",
   "nbconvert_exporter": "python",
   "pygments_lexer": "ipython3",
   "version": "3.11.5"
  }
 },
 "nbformat": 4,
 "nbformat_minor": 2
}
