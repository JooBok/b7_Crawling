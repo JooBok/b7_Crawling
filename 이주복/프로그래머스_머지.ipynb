{
 "cells": [
  {
   "cell_type": "markdown",
   "metadata": {},
   "source": [
    "# 프로그래머스 부족한 컬럼 추가\n",
    "- 부족한 컬럼: 업종분류, 기업형태, 매출액, 설립연도"
   ]
  },
  {
   "cell_type": "code",
   "execution_count": 2,
   "metadata": {},
   "outputs": [],
   "source": [
    "import pandas as pd"
   ]
  },
  {
   "cell_type": "code",
   "execution_count": 3,
   "metadata": {},
   "outputs": [],
   "source": [
    "# 파일 불러오기\n",
    "programmers = pd.read_csv('./programmers.csv')  # 프로그래머스 파일\n",
    "dart = pd.read_csv('./프로그래머스_다트_추가.csv', index_col=0)  # 다트 파일\n",
    "catch = pd.read_csv('./프로그래머스_캐치_추가.csv', index_col=0)  # 캐치 파일\n",
    "wantedi = pd.read_csv('./프로그래머스_원티드_추가.csv', index_col=0)  # 원티드 인사이트 파일\n",
    "incruit = pd.read_csv('./incruit.csv')  # 인크루트 파일"
   ]
  },
  {
   "cell_type": "markdown",
   "metadata": {},
   "source": [
    "## 다트와 캐치 머지\n",
    "- 다트: 업종분류, 설립연도\n",
    "- 캐치: 기업형태, 매출액"
   ]
  },
  {
   "cell_type": "code",
   "execution_count": null,
   "metadata": {},
   "outputs": [],
   "source": [
    "# 다트파일에서 머지할 컬럼만 따로 저장\n",
    "dart_merge = dart[['기업명','업종분류','설립연도']]"
   ]
  },
  {
   "cell_type": "code",
   "execution_count": null,
   "metadata": {},
   "outputs": [],
   "source": [
    "# 프로그래머스파일과 다트파일 머지\n",
    "pro_merge1 = pd.merge(programmers, dart_merge, how='outer')"
   ]
  },
  {
   "cell_type": "code",
   "execution_count": null,
   "metadata": {},
   "outputs": [],
   "source": [
    "# 캐치파일에서 머지할 컬럼만 따로 저장\n",
    "catch_merge = catch[['기업명','기업형태','매출액']]\n",
    "catch_merge = catch_merge.drop_duplicates()  # 같은 내용이 많아 index가 추가되므로 중복 제거"
   ]
  },
  {
   "cell_type": "code",
   "execution_count": null,
   "metadata": {},
   "outputs": [],
   "source": [
    "# 프로그래머스와 다트를 머지한 파일과 캐치파일 머지\n",
    "programmers_all = pd.merge(pro_merge1, catch_merge, how='outer')"
   ]
  },
  {
   "cell_type": "code",
   "execution_count": null,
   "metadata": {},
   "outputs": [],
   "source": [
    "# 엑셀파일로 저장하여 눈으로 직접 확인\n",
    "programmers_all.to_excel('./merge1_end.xlsx')"
   ]
  },
  {
   "cell_type": "markdown",
   "metadata": {},
   "source": [
    "## 원티드 인사이트와 캐치 머지\n",
    "- 원티드 인사이트: 업종분류, 설립연도, 매출액\n",
    "- 캐치: 기업형태"
   ]
  },
  {
   "cell_type": "code",
   "execution_count": null,
   "metadata": {},
   "outputs": [],
   "source": [
    "# 원티드 인사이트파일에서 머지할 컬럼만 따로 저장\n",
    "wantedi_merge = wantedi[['기업명','업종분류','설립연도','매출액']]\n",
    "wantedi_merge = wantedi_merge.drop_duplicates()"
   ]
  },
  {
   "cell_type": "code",
   "execution_count": null,
   "metadata": {},
   "outputs": [],
   "source": [
    "# 원티드 인사이트 머지\n",
    "pro_all = pd.merge(programmers, wantedi_merge, how='outer')"
   ]
  },
  {
   "cell_type": "code",
   "execution_count": null,
   "metadata": {},
   "outputs": [],
   "source": [
    "# 캐치파일에서 머지할 컬럼만 따로 저장\n",
    "catch_merge = catch[['기업명','기업형태']]\n",
    "catch_merge = catch_merge.drop_duplicates()  # 같은 내용이 많아 index가 추가되므로 중복 제거"
   ]
  },
  {
   "cell_type": "code",
   "execution_count": null,
   "metadata": {},
   "outputs": [],
   "source": [
    "# 원티드 인사이트와 캐치 머지\n",
    "pro_end = pd.merge(pro_all, catch_merge, how='outer')"
   ]
  },
  {
   "cell_type": "code",
   "execution_count": null,
   "metadata": {},
   "outputs": [],
   "source": [
    "# 엑셀파일로 저장하여 눈으로 직접 확인\n",
    "pro_end.to_excel('./merge2_end.xlsx')"
   ]
  },
  {
   "cell_type": "markdown",
   "metadata": {},
   "source": [
    "## 인크루트 머지\n",
    "- 인크루트: 업종분류, 기업형태, 매출액, 설립연도"
   ]
  },
  {
   "cell_type": "code",
   "execution_count": 9,
   "metadata": {},
   "outputs": [],
   "source": [
    "# 인크루트에서 머지할 컬럼만 따로 저장\n",
    "incruit_merge = incruit[['기업명','업종분류','기업형태','매출액','설립연도']]\n",
    "incruit_merge = incruit_merge.drop_duplicates()"
   ]
  },
  {
   "cell_type": "code",
   "execution_count": 10,
   "metadata": {},
   "outputs": [],
   "source": [
    "check = pd.merge(programmers,incruit_merge, how='outer')"
   ]
  },
  {
   "cell_type": "code",
   "execution_count": 11,
   "metadata": {},
   "outputs": [],
   "source": [
    "check.to_excel('./check.xlsx')"
   ]
  }
 ],
 "metadata": {
  "kernelspec": {
   "display_name": "base",
   "language": "python",
   "name": "python3"
  },
  "language_info": {
   "codemirror_mode": {
    "name": "ipython",
    "version": 3
   },
   "file_extension": ".py",
   "mimetype": "text/x-python",
   "name": "python",
   "nbconvert_exporter": "python",
   "pygments_lexer": "ipython3",
   "version": "3.11.5"
  }
 },
 "nbformat": 4,
 "nbformat_minor": 2
}
