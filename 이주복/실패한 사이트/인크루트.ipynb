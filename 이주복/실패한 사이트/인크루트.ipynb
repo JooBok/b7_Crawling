{
 "cells": [
  {
   "cell_type": "markdown",
   "metadata": {},
   "source": [
    "## 기업형태, 설립일, 매출액, 사원수, 주소, 기업홈페이지URL"
   ]
  },
  {
   "cell_type": "code",
   "execution_count": 1,
   "metadata": {},
   "outputs": [],
   "source": [
    "import pandas as pd\n",
    "# 정적크롤링\n",
    "from bs4 import BeautifulSoup\n",
    "import requests\n",
    "import re\n",
    "# 동적크롤링\n",
    "from selenium import webdriver\n",
    "from selenium.webdriver.common.by import By\n",
    "import time\n",
    "from selenium.webdriver.common.keys import Keys"
   ]
  },
  {
   "cell_type": "code",
   "execution_count": 2,
   "metadata": {},
   "outputs": [],
   "source": [
    "# 파일 불러오기\n",
    "rallit = pd.read_csv('./rallit_1.csv')\n",
    "programmers = pd.read_csv('./programmers.csv')\n",
    "\n",
    "pro_corp_name = programmers['기업명']  # 프로그래머스 기업명\n",
    "ral_corp_name = rallit['기업명']  # 랠릿 기업명"
   ]
  },
  {
   "cell_type": "code",
   "execution_count": null,
   "metadata": {},
   "outputs": [],
   "source": [
    "for name in pro_corp_name:\n",
    "    url = f'https://search.incruit.com/list/search.asp?col=company&kw={name}'"
   ]
  },
  {
   "cell_type": "code",
   "execution_count": 6,
   "metadata": {},
   "outputs": [],
   "source": [
    "url = 'https://search.incruit.com/list/search.asp?col=company&kw=오비맥주'\n",
    "\n",
    "driver= webdriver.Chrome()\n",
    "driver.get(url)\n",
    "\n",
    "# 키워드 검색\n",
    "driver.find_element(By.XPATH, '//*[@id=\"incruit_contents\"]/div/div/div[2]/div[1]/div[2]/div[1]/span/a/span').click()\n",
    "driver.switch_to.window(driver.window_handles[-1])"
   ]
  },
  {
   "cell_type": "code",
   "execution_count": 19,
   "metadata": {},
   "outputs": [],
   "source": [
    "# 기업형태\n",
    "corp_type = driver.find_element(By.XPATH, '//*[@id=\"company_warp\"]/div[1]/div/div/div/div/div/div/ul[1]/li[2]/span/a').text\n",
    "# 설립일\n",
    "corp_year = driver.find_element(By.XPATH, '//*[@id=\"company_warp\"]/div[1]/div/div/div/div/div/div/ul[2]/li[2]/span').text\n",
    "# 매출액\n",
    "sales_money = driver.find_element(By.XPATH, '//*[@id=\"company_warp\"]/div[1]/div/div/div/div/div/div/ul[3]/li[1]/span').text\n",
    "# 사원수\n",
    "employee = driver.find_element(By.XPATH, '//*[@id=\"company_warp\"]/div[1]/div/div/div/div/div/div/ul[3]/li[2]/span').text\n",
    "# 주소\n",
    "adress = driver.find_element(By.XPATH, '//*[@id=\"company_warp\"]/div[4]/div/div[3]/div/ul/li[1]').text\n",
    "# 기업 홈페이지URL\n",
    "corp_url = driver.find_element(By.XPATH, '//*[@id=\"company_warp\"]/div[4]/div/div[3]/div/ul/li[2]/a').text"
   ]
  },
  {
   "cell_type": "code",
   "execution_count": null,
   "metadata": {},
   "outputs": [],
   "source": []
  },
  {
   "cell_type": "code",
   "execution_count": null,
   "metadata": {},
   "outputs": [],
   "source": []
  },
  {
   "cell_type": "code",
   "execution_count": null,
   "metadata": {},
   "outputs": [],
   "source": []
  },
  {
   "cell_type": "code",
   "execution_count": null,
   "metadata": {},
   "outputs": [],
   "source": []
  },
  {
   "cell_type": "code",
   "execution_count": null,
   "metadata": {},
   "outputs": [],
   "source": []
  },
  {
   "cell_type": "code",
   "execution_count": null,
   "metadata": {},
   "outputs": [],
   "source": []
  }
 ],
 "metadata": {
  "kernelspec": {
   "display_name": "base",
   "language": "python",
   "name": "python3"
  },
  "language_info": {
   "codemirror_mode": {
    "name": "ipython",
    "version": 3
   },
   "file_extension": ".py",
   "mimetype": "text/x-python",
   "name": "python",
   "nbconvert_exporter": "python",
   "pygments_lexer": "ipython3",
   "version": "3.11.5"
  }
 },
 "nbformat": 4,
 "nbformat_minor": 2
}
