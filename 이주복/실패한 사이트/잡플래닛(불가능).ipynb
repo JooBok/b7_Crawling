{
 "cells": [
  {
   "cell_type": "markdown",
   "metadata": {},
   "source": [
    "# 로그인 해야해서 중도포기"
   ]
  },
  {
   "cell_type": "code",
   "execution_count": null,
   "metadata": {},
   "outputs": [],
   "source": [
    "import pandas as pd\n",
    "# 정적크롤링\n",
    "from bs4 import BeautifulSoup\n",
    "import requests\n",
    "import re\n",
    "# 동적크롤링\n",
    "from selenium import webdriver\n",
    "from selenium.webdriver.common.by import By\n",
    "import time\n",
    "from selenium.webdriver.common.keys import Keys"
   ]
  },
  {
   "cell_type": "code",
   "execution_count": null,
   "metadata": {},
   "outputs": [],
   "source": [
    "# 파일 불러오기\n",
    "rallit = pd.read_csv('./rallit_1.csv')\n",
    "programmers = pd.read_csv('./programmers.csv')\n",
    "\n",
    "pro_corp_name = programmers['기업명']  # 프로그래머스 기업명\n",
    "ral_corp_name = rallit['기업명']  # 랠릿 기업명"
   ]
  },
  {
   "cell_type": "code",
   "execution_count": null,
   "metadata": {},
   "outputs": [],
   "source": [
    "url = 'https://www.jobplanet.co.kr/welcome/index'\n",
    "driver= webdriver.Chrome()\n",
    "driver.get(url)"
   ]
  },
  {
   "cell_type": "code",
   "execution_count": null,
   "metadata": {},
   "outputs": [],
   "source": [
    "driver.find_element(By.XPATH, '//*[@id=\"search_bar_search_query\"]').send_keys('ab180')  # 키워드 작성\n",
    "driver.find_element(By.XPATH, '//*[@id=\"search_form\"]/div/button').click()\n",
    "time.sleep(.1)\n",
    "driver.find_element(By.XPATH, '//*[@id=\"mainContents\"]/div[1]/div/div[2]/div[1]/div/a').click()\n",
    "driver.find_element(By.XPATH, '//*[@id=\"viewCompaniesMenu\"]/ul/li[1]/a/h2').click()"
   ]
  },
  {
   "cell_type": "code",
   "execution_count": null,
   "metadata": {},
   "outputs": [],
   "source": [
    "# 기업형태\n",
    "driver.find_element(By.XPATH, '//*[@id=\"contents_wrap\"]/div[1]/div[1]/div/div/div[2]/div/ul[1]/li[2]/div/div/strong').text\n",
    "# 사원수\n",
    "driver.find_element(By.XPATH, '//*[@id=\"contents_wrap\"]/div[1]/div[1]/div/div/div[2]/div/ul[1]/li[3]/div/div/strong').text\n",
    "# 설립연도\n",
    "driver.find_element(By.XPATH, '//*[@id=\"contents_wrap\"]/div[1]/div[1]/div/div/div[2]/div/ul[1]/li[4]/div/div/strong').text\n",
    "# 주소\n",
    "driver.find_element(By.XPATH, '//*[@id=\"contents_wrap\"]/div[1]/div[1]/div/div/div[2]/div/ul[2]/li[3]/dl/dd').text\n",
    "# 기업 홈페이지\n",
    "driver.find_element(By.XPATH, '//*[@id=\"contents_wrap\"]/div[1]/div[1]/div/div/div[2]/div/ul[2]/li[4]/dl/dd/a').text"
   ]
  }
 ],
 "metadata": {
  "kernelspec": {
   "display_name": "base",
   "language": "python",
   "name": "python3"
  },
  "language_info": {
   "codemirror_mode": {
    "name": "ipython",
    "version": 3
   },
   "file_extension": ".py",
   "mimetype": "text/x-python",
   "name": "python",
   "nbconvert_exporter": "python",
   "pygments_lexer": "ipython3",
   "version": "3.11.5"
  }
 },
 "nbformat": 4,
 "nbformat_minor": 2
}
