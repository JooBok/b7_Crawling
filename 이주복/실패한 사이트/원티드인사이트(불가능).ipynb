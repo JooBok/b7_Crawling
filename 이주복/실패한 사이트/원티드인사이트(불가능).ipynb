{
 "cells": [
  {
   "cell_type": "code",
   "execution_count": 2,
   "metadata": {},
   "outputs": [],
   "source": [
    "import pandas as pd\n",
    "# 정적크롤링\n",
    "from bs4 import BeautifulSoup\n",
    "import requests\n",
    "import re\n",
    "# 동적크롤링\n",
    "from selenium import webdriver\n",
    "from selenium.webdriver.common.by import By\n",
    "import time\n",
    "from selenium.webdriver.common.keys import Keys"
   ]
  },
  {
   "cell_type": "code",
   "execution_count": 3,
   "metadata": {},
   "outputs": [],
   "source": [
    "# 파일 불러오기\n",
    "rallit = pd.read_csv('./rallit_1.csv')\n",
    "programmers = pd.read_csv('./programmers.csv')\n",
    "\n",
    "pro_corp_name = programmers['기업명']  # 프로그래머스 기업명\n",
    "ral_corp_name = rallit['기업명']  # 랠릿 기업명"
   ]
  },
  {
   "cell_type": "code",
   "execution_count": 4,
   "metadata": {},
   "outputs": [],
   "source": [
    "# 홈페이지 접속 및 검색버튼 클릭\n",
    "url = 'https://insight.wanted.co.kr/'\n",
    "driver= webdriver.Chrome()\n",
    "driver.get(url)\n",
    "\n",
    "driver.find_element(By.XPATH, '//*[@id=\"__next\"]/div[1]/nav/div/div[2]/a/div[2]').click()"
   ]
  },
  {
   "cell_type": "code",
   "execution_count": 6,
   "metadata": {},
   "outputs": [],
   "source": [
    "# 요소 접근이 어려워서 현재 여기서 중단함\n",
    "driver.find_element(By.XPATH, '//*[@id=\"__next\"]/div[2]/div/div/form/div/div/input').send_keys('ab180')\n",
    "driver.find_element(By.XPATH, '//*[@id=\"__next\"]/div[2]/div/div/form/div[1]/div/div').click()"
   ]
  }
 ],
 "metadata": {
  "kernelspec": {
   "display_name": "base",
   "language": "python",
   "name": "python3"
  },
  "language_info": {
   "codemirror_mode": {
    "name": "ipython",
    "version": 3
   },
   "file_extension": ".py",
   "mimetype": "text/x-python",
   "name": "python",
   "nbconvert_exporter": "python",
   "pygments_lexer": "ipython3",
   "version": "3.11.5"
  }
 },
 "nbformat": 4,
 "nbformat_minor": 2
}
