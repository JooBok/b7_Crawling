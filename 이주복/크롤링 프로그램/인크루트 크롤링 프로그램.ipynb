{
 "cells": [
  {
   "cell_type": "code",
   "execution_count": 3,
   "id": "d6453f19",
   "metadata": {},
   "outputs": [],
   "source": [
    "import pandas as pd \n",
    "import numpy as np \n",
    "import requests\n",
    "import urllib.parse\n",
    "import re\n",
    "import time\n",
    "from bs4 import BeautifulSoup\n",
    "from selenium import webdriver\n",
    "from selenium.webdriver.common.by import By\n",
    "from selenium.webdriver.chrome.options import Options\n",
    "from selenium.webdriver.common.keys import Keys\n",
    "from selenium.webdriver.support.ui import WebDriverWait\n",
    "from selenium.webdriver.support import expected_conditions as EC\n",
    "from selenium.common.exceptions import NoSuchElementException"
   ]
  },
  {
   "cell_type": "code",
   "execution_count": 4,
   "id": "c666d65d",
   "metadata": {},
   "outputs": [],
   "source": [
    "# 파일 불러오기: 불러올 파일을 현재 폴더에 넣어두세요.\n",
    "df = pd.read_csv('./programmers.csv')  # 파일명만 변경하여 그대로 돌리시면 됩니다."
   ]
  },
  {
   "cell_type": "code",
   "execution_count": 5,
   "id": "6341dd20",
   "metadata": {},
   "outputs": [
    {
     "name": "stderr",
     "output_type": "stream",
     "text": [
      "c:\\ProgramData\\anaconda3\\Lib\\site-packages\\soupsieve\\css_parser.py:872: FutureWarning: The pseudo class ':contains' is deprecated, ':-soup-contains' should be used moving forward.\n",
      "  warnings.warn(\n"
     ]
    },
    {
     "name": "stdout",
     "output_type": "stream",
     "text": [
      "기업 정보를 크롤링하는 도중 오류가 발생했습니다: 'NoneType' object has no attribute 'text'\n",
      "기업 정보를 크롤링하는 도중 오류가 발생했습니다: 'NoneType' object has no attribute 'text'\n",
      "기업 정보를 크롤링하는 도중 오류가 발생했습니다: 'NoneType' object has no attribute 'text'\n",
      "기업 정보를 크롤링하는 도중 오류가 발생했습니다: 'NoneType' object has no attribute 'text'\n",
      "기업 정보를 크롤링하는 도중 오류가 발생했습니다: 'NoneType' object has no attribute 'text'\n",
      "테이블 요소를 찾을 수 없습니다: https://www.incruit.com/company/362756\n",
      "회사 정보를 찾을 수 없습니다: https://www.incruit.com/company/362756\n",
      "기업 정보를 크롤링하는 도중 오류가 발생했습니다: 'NoneType' object has no attribute 'text'\n",
      "기업 정보를 크롤링하는 도중 오류가 발생했습니다: 'NoneType' object has no attribute 'text'\n"
     ]
    }
   ],
   "source": [
    "# 웹 드라이버 초기화\n",
    "driver = webdriver.Chrome()\n",
    "\n",
    "# 기업명 리스트\n",
    "company_list = df.기업명\n",
    "\n",
    "# 데이터를 저장할 리스트 초기화\n",
    "data = []\n",
    "\n",
    "try:\n",
    "    for company_name in company_list:\n",
    "        formatted_keyword = urllib.parse.quote(company_name)  # 기업명을 URL 형식에 맞게 변환\n",
    "        url = f\"https://search.incruit.com/list/search.asp?col=company&kw={formatted_keyword}\"\n",
    "        \n",
    "        # 검색 결과가 있는지 확인\n",
    "        response = requests.get(url)\n",
    "        if \"검색결과가 없습니다\" not in response.text:\n",
    "            # URL로 이동\n",
    "            driver.get(url)\n",
    "            \n",
    "            # 첫 번째 기업 링크를 찾기 위한 XPath\n",
    "            first_company_xpath = './/div[1]/div/div[1]/span/a'\n",
    "    \n",
    "            # 첫 번째 기업 링크 클릭\n",
    "            first_company_link = WebDriverWait(driver, 10).until(\n",
    "                EC.presence_of_element_located((By.XPATH, first_company_xpath))\n",
    "            )\n",
    "            first_company_link.click()\n",
    "            \n",
    "            # 타임슬립 추가: 페이지가 완전히 로드될 때까지 기다리기 위해 2초 대기\n",
    "            time.sleep(2)\n",
    "    \n",
    "            # 새로 열린 페이지로 전환\n",
    "            driver.switch_to.window(driver.window_handles[1])\n",
    "            \n",
    "            # 새로 열린 페이지에서 데이터 크롤링\n",
    "            # 페이지 소스 가져오기\n",
    "            page_source = driver.page_source\n",
    "            \n",
    "            # BeautifulSoup을 사용하여 파싱\n",
    "            soup = BeautifulSoup(page_source, 'html.parser')\n",
    "            \n",
    "            try:\n",
    "                # 기업명, 설립연도, 매출액, 사원수, 업종분류, 기업형태 추출\n",
    "                table_li = soup.select_one('div.table_li')\n",
    "                if table_li:\n",
    "                    corp_name = company_name\n",
    "                    corp_year = table_li.select_one('strong:contains(\"설립일\") + span').text.strip()  # 설립일을 설립연도로 변경\n",
    "                    sales_money = table_li.select_one('strong:contains(\"매출액\") + span').text.strip()\n",
    "                    employee_count = table_li.select_one('strong:contains(\"사원수\") + span').text.strip()\n",
    "                    sector = table_li.select_one('strong:contains(\"업종\") + span').text.strip()  # 업종을 업종분류로 변경\n",
    "                    # 기업형태는 없는 경우도 있을 수 있으므로 예외 처리\n",
    "                    try:\n",
    "                        company_scale = table_li.select_one('strong:contains(\"기업형태\") + span').text.strip()\n",
    "                    except AttributeError:\n",
    "                        company_scale = None\n",
    "                    \n",
    "                    # 데이터 추가\n",
    "                    data.append({\n",
    "                        '기업명': corp_name,\n",
    "                        '설립연도': corp_year,\n",
    "                        '매출액': sales_money,\n",
    "                        '사원수': employee_count,\n",
    "                        '업종분류': sector,\n",
    "                        '기업형태': company_scale\n",
    "                    })\n",
    "                else:\n",
    "                    print(\"테이블 요소를 찾을 수 없습니다:\", driver.current_url)\n",
    "                \n",
    "                # 주소와 홈페이지 URL 추출\n",
    "                myCompany_info = soup.select_one('ul.myCompany_info')\n",
    "                if myCompany_info:\n",
    "                    address = myCompany_info.select_one('li:contains(\"주소\")').text.strip().split(':')[-1].strip()\n",
    "                    homepage = myCompany_info.select_one('li:contains(\"홈페이지\")').text.strip().split(':')[-1].strip()\n",
    "                    # 데이터 추가\n",
    "                    data[-1]['주소'] = address\n",
    "                    data[-1]['기업 홈페이지 URL'] = homepage  # 변수 이름을 기업 홈페이지 URL로 변경\n",
    "                else:\n",
    "                    print(\"회사 정보를 찾을 수 없습니다:\", driver.current_url)\n",
    "            except Exception as e:\n",
    "                print(f\"기업 정보를 크롤링하는 도중 오류가 발생했습니다: {e}\")\n",
    "                \n",
    "            # 새로 열린 페이지 닫기\n",
    "            driver.close()\n",
    "\n",
    "            # 다시 처음 페이지로 전환\n",
    "            driver.switch_to.window(driver.window_handles[0])\n",
    "\n",
    "except Exception as e:\n",
    "    print(f\"검색 및 데이터 수집 도중 오류가 발생했습니다: {e}\")\n",
    "\n",
    "finally:\n",
    "    # 웹 드라이버 종료\n",
    "    driver.quit()"
   ]
  },
  {
   "cell_type": "code",
   "execution_count": 8,
   "id": "37536560",
   "metadata": {},
   "outputs": [],
   "source": [
    "# 데이터프레임 생성\n",
    "df = pd.DataFrame(data)"
   ]
  },
  {
   "cell_type": "code",
   "execution_count": 9,
   "id": "549a03dd",
   "metadata": {},
   "outputs": [],
   "source": [
    "# CSV 파일로 저장\n",
    "df.to_csv('incruit_result.csv', index=False)"
   ]
  }
 ],
 "metadata": {
  "kernelspec": {
   "display_name": "Python 3 (ipykernel)",
   "language": "python",
   "name": "python3"
  },
  "language_info": {
   "codemirror_mode": {
    "name": "ipython",
    "version": 3
   },
   "file_extension": ".py",
   "mimetype": "text/x-python",
   "name": "python",
   "nbconvert_exporter": "python",
   "pygments_lexer": "ipython3",
   "version": "3.11.5"
  }
 },
 "nbformat": 4,
 "nbformat_minor": 5
}
