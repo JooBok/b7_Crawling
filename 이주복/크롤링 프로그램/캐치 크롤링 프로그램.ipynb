{
 "cells": [
  {
   "cell_type": "markdown",
   "metadata": {},
   "source": [
    "# 캐치 크롤링\n",
    "- 크롤링할 컬럼: 기업명, 기업형태, 매출액, 사원수, 업종분류, 설립연도\n",
    "- 절차\n",
    "1. url로 기업명 입력\n",
    "2. 기업정보 사이트 접속\n",
    "3. 내용 크롤링\n",
    "4. concat\n",
    "5. 다음 url 입력\n",
    "\n",
    "위 절차를 반복합니다."
   ]
  },
  {
   "cell_type": "code",
   "execution_count": null,
   "metadata": {},
   "outputs": [],
   "source": [
    "import pandas as pd\n",
    "# 정적크롤링\n",
    "from bs4 import BeautifulSoup\n",
    "import requests\n",
    "import re\n",
    "# 동적크롤링\n",
    "from selenium import webdriver\n",
    "from selenium.webdriver.common.by import By\n",
    "from selenium.webdriver.common.keys import Keys\n",
    "import time"
   ]
  },
  {
   "cell_type": "code",
   "execution_count": null,
   "metadata": {},
   "outputs": [],
   "source": [
    "# 파일 불러오기: 불러올 파일을 현재 폴더에 넣어두세요.\n",
    "df = pd.read_csv('./programmers.csv')  # 파일명만 변경하여 그대로 돌리시면 됩니다.\n",
    "df_corp_name = df['기업명']  # 기업명 불러오기"
   ]
  },
  {
   "cell_type": "code",
   "execution_count": null,
   "metadata": {},
   "outputs": [],
   "source": [
    "# 임시 프레임\n",
    "catch_res = pd.DataFrame(columns=['기업명','기업형태','매출액','사원수','업종분류','설립연도'])"
   ]
  },
  {
   "cell_type": "code",
   "execution_count": null,
   "metadata": {},
   "outputs": [],
   "source": [
    "# 크롤링 프로그램\n",
    "for name in df_corp_name:\n",
    "    try:\n",
    "        url = f'https://www.catch.co.kr/Search/SearchDetail?Menu=2&Keyword={name}'\n",
    "\n",
    "        driver= webdriver.Chrome()\n",
    "        driver.get(url)\n",
    "\n",
    "        driver.find_element(By.XPATH, '//*[@id=\"leftTop\"]/ul/li/div[2]/p[1]/a').click()\n",
    "        time.sleep(0.2)\n",
    "\n",
    "        # 기업명\n",
    "        corp_name = name\n",
    "        # 기업형태\n",
    "        corp_type = driver.find_element(By.XPATH, '//*[@id=\"Contents\"]/div[2]/div[1]/table/tbody/tr[2]/td[1]').text\n",
    "        # 매출액\n",
    "        sales_money = driver.find_element(By.XPATH, '//*[@id=\"Contents\"]/div[2]/div[1]/table/tbody/tr[3]/td[1]').text\n",
    "        # 사원수\n",
    "        employee = driver.find_element(By.XPATH, '//*[@id=\"Contents\"]/div[2]/div[1]/table/tbody/tr[3]/td[2]').text\n",
    "        # 업종분류\n",
    "        try:\n",
    "            sector = driver.find_element(By.XPATH, '//*[@id=\"Contents\"]/div[2]/div[1]/table/tbody/tr[5]/td[1]').text\n",
    "        except:\n",
    "            sector = driver.find_element(By.XPATH, '//*[@id=\"Contents\"]/div[2]/div[1]/table/tbody/tr[4]/td[1]').text\n",
    "        # 설립연도\n",
    "        corp_year = driver.find_element(By.XPATH, '//*[@id=\"Contents\"]/div[2]/div[1]/table/tbody/tr[1]/td[2]').text\n",
    "\n",
    "        catch_temp = pd.DataFrame([corp_name, corp_type, sales_money, employee, sector, corp_year],\n",
    "                                   index=['기업명','기업형태','매출액','사원수','업종분류','설립연도']).T\n",
    "        catch_res = pd.concat([catch_res, catch_temp])\n",
    "\n",
    "        time.sleep(0.2)\n",
    "    except:\n",
    "        pass\n",
    "    \n",
    "    driver.quit()"
   ]
  },
  {
   "cell_type": "code",
   "execution_count": null,
   "metadata": {},
   "outputs": [],
   "source": [
    "catch_res.to_csv('./catch_result2.csv')  # 파일명만 변경하여 저장하시면 됩니다."
   ]
  },
  {
   "cell_type": "markdown",
   "metadata": {},
   "source": [
    "# 코드 수정"
   ]
  },
  {
   "cell_type": "code",
   "execution_count": 1,
   "metadata": {},
   "outputs": [],
   "source": [
    "import pandas as pd\n",
    "# 정적크롤링\n",
    "from bs4 import BeautifulSoup\n",
    "import requests\n",
    "import re\n",
    "# 동적크롤링\n",
    "from selenium import webdriver\n",
    "from selenium.webdriver.common.by import By\n",
    "from selenium.webdriver.common.keys import Keys\n",
    "import time"
   ]
  },
  {
   "cell_type": "code",
   "execution_count": 2,
   "metadata": {},
   "outputs": [],
   "source": [
    "# 파일 불러오기: 불러올 파일을 현재 폴더에 넣어두세요.\n",
    "df = pd.read_csv('./programmers.csv')  # 파일명만 변경하여 그대로 돌리시면 됩니다.\n",
    "df_corp_name = df['기업명']  # 기업명 불러오기"
   ]
  },
  {
   "cell_type": "code",
   "execution_count": 3,
   "metadata": {},
   "outputs": [],
   "source": [
    "# 임시 프레임\n",
    "catch_res = pd.DataFrame(columns=['기업명','기업형태','매출액','사원수','업종분류','설립연도'])"
   ]
  },
  {
   "cell_type": "code",
   "execution_count": 4,
   "metadata": {},
   "outputs": [],
   "source": [
    "# 크롤링 프로그램\n",
    "for name in df_corp_name:\n",
    "    url = f'https://www.catch.co.kr/Search/SearchDetail?Menu=2&Keyword={name}'  # 기업명으로 URL불러오기\n",
    "\n",
    "    driver= webdriver.Chrome()\n",
    "    driver.get(url)\n",
    "    \n",
    "    try:\n",
    "        driver.find_element(By.XPATH, '//*[@id=\"leftTop\"]/ul/li/div[2]/p[1]/a').click()\n",
    "        time.sleep(0.2)\n",
    "        soup = BeautifulSoup(driver.page_source, 'html.parser')\n",
    "\n",
    "        # 기업명\n",
    "        corp_name = name\n",
    "        corp_year = soup.select('td')[1].text  # 설립연도\n",
    "        corp_type = soup.select('td')[2].text  # 기업 형태\n",
    "        if len(soup.select('td')) == 10:\n",
    "            sales_money = soup.select('td')[4].text  # 매출액\n",
    "            employee = soup.select('td')[8].text  # 사원수\n",
    "            sector = soup.select('td')[9].text  # 업종분류\n",
    "        elif len(soup.select('td')) == 8:\n",
    "            sales_money = soup.select('td')[4].text  # 매출액\n",
    "            employee = soup.select('td')[5].text  # 사원수\n",
    "            sector = soup.select('td')[6].text  # 업종분류        \n",
    "        else:\n",
    "            employee = soup.select('td')[4].text  # 사원수\n",
    "            sector = soup.select('td')[5].text  # 업종분류\n",
    "\n",
    "        catch_temp = pd.DataFrame([corp_name, corp_type, sales_money, employee, sector, corp_year],\n",
    "                                   index=['기업명','기업형태','매출액','사원수','업종분류','설립연도']).T\n",
    "        catch_res = pd.concat([catch_res, catch_temp])\n",
    "\n",
    "        time.sleep(0.2)\n",
    "    except:\n",
    "        pass\n",
    "    \n",
    "driver.quit()"
   ]
  },
  {
   "cell_type": "code",
   "execution_count": 28,
   "metadata": {},
   "outputs": [],
   "source": [
    "catch_res.to_csv('./catch_result.csv')  # 파일명만 변경하여 저장하시면 됩니다."
   ]
  }
 ],
 "metadata": {
  "kernelspec": {
   "display_name": "base",
   "language": "python",
   "name": "python3"
  },
  "language_info": {
   "codemirror_mode": {
    "name": "ipython",
    "version": 3
   },
   "file_extension": ".py",
   "mimetype": "text/x-python",
   "name": "python",
   "nbconvert_exporter": "python",
   "pygments_lexer": "ipython3",
   "version": "3.11.5"
  }
 },
 "nbformat": 4,
 "nbformat_minor": 2
}
