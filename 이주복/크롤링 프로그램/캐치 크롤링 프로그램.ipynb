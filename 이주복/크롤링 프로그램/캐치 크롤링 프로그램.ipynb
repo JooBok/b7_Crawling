{
 "cells": [
  {
   "cell_type": "markdown",
   "metadata": {},
   "source": [
    "# 캐치 크롤링\n",
    "- 크롤링할 컬럼: 기업명, 기업형태, 매출액, 사원수, 업종분류, 설립연도\n",
    "- 절차\n",
    "1. url로 기업명 입력\n",
    "2. 기업정보 사이트 접속\n",
    "3. 내용 크롤링\n",
    "4. concat\n",
    "5. 다음 url 입력\n",
    "\n",
    "위 절차를 반복합니다."
   ]
  },
  {
   "cell_type": "code",
   "execution_count": null,
   "metadata": {},
   "outputs": [],
   "source": [
    "import pandas as pd\n",
    "# 정적크롤링\n",
    "from bs4 import BeautifulSoup\n",
    "import requests\n",
    "import re\n",
    "# 동적크롤링\n",
    "from selenium import webdriver\n",
    "from selenium.webdriver.common.by import By\n",
    "from selenium.webdriver.common.keys import Keys\n",
    "import time"
   ]
  },
  {
   "cell_type": "code",
   "execution_count": null,
   "metadata": {},
   "outputs": [],
   "source": [
    "# 파일 불러오기: 불러올 파일을 현재 폴더에 넣어두세요.\n",
    "df = pd.read_csv('./programmers.csv')  # 파일명만 변경하여 그대로 돌리시면 됩니다.\n",
    "df_corp_name = df['기업명']  # 기업명 불러오기"
   ]
  },
  {
   "cell_type": "code",
   "execution_count": null,
   "metadata": {},
   "outputs": [],
   "source": [
    "# 임시 프레임\n",
    "catch_res = pd.DataFrame(columns=['기업명','기업형태','매출액','사원수','업종분류','설립연도'])"
   ]
  },
  {
   "cell_type": "code",
   "execution_count": null,
   "metadata": {},
   "outputs": [],
   "source": [
    "# 크롤링 프로그램\n",
    "for name in df_corp_name:\n",
    "    try:\n",
    "        url = f'https://www.catch.co.kr/Search/SearchDetail?Menu=2&Keyword={name}'\n",
    "\n",
    "        driver= webdriver.Chrome()\n",
    "        driver.get(url)\n",
    "\n",
    "        driver.find_element(By.XPATH, '//*[@id=\"leftTop\"]/ul/li/div[2]/p[1]/a').click()\n",
    "        time.sleep(0.2)\n",
    "\n",
    "        # 기업명\n",
    "        corp_name = name\n",
    "        # 기업형태\n",
    "        corp_type = driver.find_element(By.XPATH, '//*[@id=\"Contents\"]/div[2]/div[1]/table/tbody/tr[2]/td[1]').text\n",
    "        # 매출액\n",
    "        sales_money = driver.find_element(By.XPATH, '//*[@id=\"Contents\"]/div[2]/div[1]/table/tbody/tr[3]/td[1]').text\n",
    "        # 사원수\n",
    "        employee = driver.find_element(By.XPATH, '//*[@id=\"Contents\"]/div[2]/div[1]/table/tbody/tr[3]/td[2]').text\n",
    "        # 업종분류\n",
    "        try:\n",
    "            sector = driver.find_element(By.XPATH, '//*[@id=\"Contents\"]/div[2]/div[1]/table/tbody/tr[5]/td[1]').text\n",
    "        except:\n",
    "            sector = driver.find_element(By.XPATH, '//*[@id=\"Contents\"]/div[2]/div[1]/table/tbody/tr[4]/td[1]').text\n",
    "        # 설립연도\n",
    "        corp_year = driver.find_element(By.XPATH, '//*[@id=\"Contents\"]/div[2]/div[1]/table/tbody/tr[1]/td[2]').text\n",
    "\n",
    "        catch_temp = pd.DataFrame([corp_name, corp_type, sales_money, employee, sector, corp_year],\n",
    "                                   index=['기업명','기업형태','매출액','사원수','업종분류','설립연도']).T\n",
    "        catch_res = pd.concat([catch_res, catch_temp])\n",
    "\n",
    "        time.sleep(0.2)\n",
    "    except:\n",
    "        pass\n",
    "    \n",
    "    driver.quit()"
   ]
  },
  {
   "cell_type": "code",
   "execution_count": null,
   "metadata": {},
   "outputs": [],
   "source": [
    "catch_res.to_csv('./catch_result2.csv')  # 파일명만 변경하여 저장하시면 됩니다."
   ]
  },
  {
   "cell_type": "markdown",
   "metadata": {},
   "source": [
    "# 코드 수정"
   ]
  },
  {
   "cell_type": "code",
   "execution_count": null,
   "metadata": {},
   "outputs": [],
   "source": [
    "import pandas as pd\n",
    "# 정적크롤링\n",
    "from bs4 import BeautifulSoup\n",
    "import requests\n",
    "import re\n",
    "# 동적크롤링\n",
    "from selenium import webdriver\n",
    "from selenium.webdriver.common.by import By\n",
    "from selenium.webdriver.common.keys import Keys\n",
    "import time"
   ]
  },
  {
   "cell_type": "code",
   "execution_count": null,
   "metadata": {},
   "outputs": [],
   "source": [
    "# 파일 불러오기: 불러올 파일을 현재 폴더에 넣어두세요.\n",
    "df = pd.read_csv('./programmers.csv')  # 파일명만 변경하여 그대로 돌리시면 됩니다.\n",
    "df_corp_name = df['기업명']  # 기업명 불러오기"
   ]
  },
  {
   "cell_type": "code",
   "execution_count": null,
   "metadata": {},
   "outputs": [],
   "source": [
    "# 임시 프레임\n",
    "catch_res = pd.DataFrame(columns=['기업명','기업형태','매출액','사원수','업종분류','설립연도'])"
   ]
  },
  {
   "cell_type": "code",
   "execution_count": null,
   "metadata": {},
   "outputs": [],
   "source": [
    "# 크롤링 프로그램\n",
    "for name in df_corp_name:\n",
    "    url = f'https://www.catch.co.kr/Search/SearchDetail?Menu=2&Keyword={name}'  # 기업명으로 URL불러오기\n",
    "\n",
    "    driver= webdriver.Chrome()\n",
    "    driver.get(url)\n",
    "    \n",
    "    try:\n",
    "        driver.find_element(By.XPATH, '//*[@id=\"leftTop\"]/ul/li/div[2]/p[1]/a').click()\n",
    "        time.sleep(0.2)\n",
    "        soup = BeautifulSoup(driver.page_source, 'html.parser')\n",
    "\n",
    "        # 기업명\n",
    "        corp_name = name\n",
    "        corp_year = soup.select('td')[1].text  # 설립연도\n",
    "        corp_type = soup.select('td')[2].text  # 기업 형태\n",
    "        if len(soup.select('td')) == 10:\n",
    "            sales_money = soup.select('td')[4].text  # 매출액\n",
    "            employee = soup.select('td')[8].text  # 사원수\n",
    "            sector = soup.select('td')[9].text  # 업종분류\n",
    "        elif len(soup.select('td')) == 8:\n",
    "            sales_money = soup.select('td')[4].text  # 매출액\n",
    "            employee = soup.select('td')[5].text  # 사원수\n",
    "            sector = soup.select('td')[6].text  # 업종분류        \n",
    "        else:\n",
    "            employee = soup.select('td')[4].text  # 사원수\n",
    "            sector = soup.select('td')[5].text  # 업종분류\n",
    "\n",
    "        catch_temp = pd.DataFrame([corp_name, corp_type, sales_money, employee, sector, corp_year],\n",
    "                                   index=['기업명','기업형태','매출액','사원수','업종분류','설립연도']).T\n",
    "        catch_res = pd.concat([catch_res, catch_temp])\n",
    "\n",
    "        time.sleep(0.2)\n",
    "    except:\n",
    "        pass\n",
    "    \n",
    "driver.quit()"
   ]
  },
  {
   "cell_type": "code",
   "execution_count": null,
   "metadata": {},
   "outputs": [],
   "source": [
    "catch_res.to_csv('./catch_result.csv')  # 파일명만 변경하여 저장하시면 됩니다."
   ]
  },
  {
   "cell_type": "markdown",
   "metadata": {},
   "source": [
    "# 2차 수정(최종본)\n",
    "※ 주의사항: 사이트가 불안정하여 오류가 날 경우 time.sleep을 넉넉하게 설정하여 주세요"
   ]
  },
  {
   "cell_type": "code",
   "execution_count": 2,
   "metadata": {},
   "outputs": [],
   "source": [
    "import pandas as pd\n",
    "import numpy as np\n",
    "# 정적크롤링\n",
    "from bs4 import BeautifulSoup\n",
    "import requests\n",
    "import re\n",
    "# 동적크롤링\n",
    "from selenium import webdriver\n",
    "from selenium.webdriver.common.by import By\n",
    "from selenium.webdriver.common.keys import Keys\n",
    "import time"
   ]
  },
  {
   "cell_type": "code",
   "execution_count": 3,
   "metadata": {},
   "outputs": [],
   "source": [
    "corp_df = pd.read_csv('./catch_result.csv', index_col=0)  # 데이터 불러오기\n",
    "df_res = pd.DataFrame(columns=['기업규모', '기업형태', '당기손익', '대표자', '매출액',\n",
    "                                '사원수', '상세업종', '설립일', '신용등급', '영업이익', '카테고리'])  # 결과를 저장할 빈 프레임"
   ]
  },
  {
   "cell_type": "code",
   "execution_count": 4,
   "metadata": {},
   "outputs": [],
   "source": [
    "# 크롤링 프로그램\n",
    "for name in corp_df['기업명']:\n",
    "    url = f'https://www.catch.co.kr/Search/SearchDetail?Menu=2&Keyword={name}'  # 기업명으로 URL불러오기\n",
    "\n",
    "    driver= webdriver.Chrome()\n",
    "    driver.get(url)\n",
    "\n",
    "    driver.find_element(By.XPATH, '//*[@id=\"leftTop\"]/ul/li/div[2]/p[1]/a').click()\n",
    "    time.sleep(0.3)\n",
    "    soup = BeautifulSoup(driver.page_source, 'html.parser')\n",
    "\n",
    "    list = ['기업명']  # 컬럼이 될 리스트\n",
    "    list2 = [name]  # 값이 될 리스트\n",
    "    for i in soup.find_all('tbody')[0].select('th'):\n",
    "        list.append(i.text)\n",
    "\n",
    "    for j in soup.find_all('tbody')[0].select('td'):\n",
    "        list2.append(j.text)\n",
    "\n",
    "    df_temp = pd.DataFrame([list2], columns=list)\n",
    "    df_temp.reset_index(drop=True, inplace=True)\n",
    "    df_res = pd.concat([df_res, df_temp], ignore_index=True)  # 결과 DataFrame과 새로운 DataFrame을 결합\n",
    "    df_res.reset_index(drop=True, inplace=True)\n",
    "\n",
    "driver.quit()"
   ]
  },
  {
   "cell_type": "code",
   "execution_count": 8,
   "metadata": {},
   "outputs": [],
   "source": [
    "df_result = df_res[['기업명','기업규모','매출액','사원수','설립일','상세업종']]  # 필요한 컬럼만 추출 전처리 필요함\n",
    "df_result.to_csv('./catch_result.csv')  # csv파일로 저장"
   ]
  }
 ],
 "metadata": {
  "kernelspec": {
   "display_name": "base",
   "language": "python",
   "name": "python3"
  },
  "language_info": {
   "codemirror_mode": {
    "name": "ipython",
    "version": 3
   },
   "file_extension": ".py",
   "mimetype": "text/x-python",
   "name": "python",
   "nbconvert_exporter": "python",
   "pygments_lexer": "ipython3",
   "version": "3.12.1"
  }
 },
 "nbformat": 4,
 "nbformat_minor": 2
}
