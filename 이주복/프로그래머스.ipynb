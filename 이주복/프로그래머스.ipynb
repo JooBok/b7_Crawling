{
 "cells": [
  {
   "cell_type": "code",
   "execution_count": 1,
   "metadata": {},
   "outputs": [],
   "source": [
    "import pandas as pd\n",
    "# 정적크롤링\n",
    "from bs4 import BeautifulSoup\n",
    "import requests\n",
    "import re\n",
    "# 동적크롤링\n",
    "from selenium import webdriver\n",
    "from selenium.webdriver.common.by import By\n",
    "import time"
   ]
  },
  {
   "cell_type": "markdown",
   "metadata": {},
   "source": [
    "특성\n",
    "1. 기업명 \t\t\t\t\t가능\n",
    "2. 업종분류 \t\t\t\t불가능\n",
    "3. 사원수 \t\t\t\t\t가능\n",
    "4. 설립연도 \t\t\t\t불가능\n",
    "5. 기업형태 \t\t\t\t불가능\n",
    "6. 매출액 \t\t\t\t\t불가능\n",
    "7. 주소 \t\t\t\t\t가능\n",
    "8. 직무 \t\t\t\t\t가능\n",
    "9. 이용하는 기술스택\t\t\t가능\n",
    "10. 자격요건 \t\t\t\t가능\n",
    "11. 직급\t\t\t\t\t불가능 -> 경력으로 대체\n",
    "12. 우대사항\t\t\t\t가능\n",
    "13. 해당 페이지 URL \t\t\t가능\n",
    "14. 기업 홈페이지 URL \t\t\t가능"
   ]
  },
  {
   "cell_type": "code",
   "execution_count": 50,
   "metadata": {},
   "outputs": [],
   "source": [
    "url = 'https://career.programmers.co.kr/job?page=1&tags=AWS%20EC2&order=recent'\n",
    "\n",
    "driver = webdriver.Chrome()\n",
    "driver.get(url)"
   ]
  },
  {
   "cell_type": "code",
   "execution_count": 51,
   "metadata": {},
   "outputs": [],
   "source": [
    "driver.find_element(By.XPATH, '//*[@id=\"list-positions-wrapper\"]/ul/li[1]/div[2]/div[1]/h5/a').click()\n",
    "driver.switch_to.window(driver.window_handles[-1])\n",
    "\n",
    "soup = BeautifulSoup(driver.page_source, 'html.parser')"
   ]
  },
  {
   "cell_type": "code",
   "execution_count": 15,
   "metadata": {},
   "outputs": [
    {
     "data": {
      "text/plain": [
       "'AB180'"
      ]
     },
     "execution_count": 15,
     "metadata": {},
     "output_type": "execute_result"
    }
   ],
   "source": [
    "# 1. 기업명\n",
    "driver.find_element(By.XPATH, '//*[@id=\"career-app-legacy\"]/div/div[1]/div[1]/header/div/div[2]/h4/a').text"
   ]
  },
  {
   "cell_type": "code",
   "execution_count": 17,
   "metadata": {},
   "outputs": [
    {
     "data": {
      "text/plain": [
       "'대한민국 서울특별시 서초구 강남대로61길 17, 강남대로61길 17'"
      ]
     },
     "execution_count": 17,
     "metadata": {},
     "output_type": "execute_result"
    }
   ],
   "source": [
    "# 7. 주소\n",
    "driver.find_element(By.XPATH, '//*[@id=\"career-app-legacy\"]/div/div[1]/div[1]/section/div/div[2]/div/div[2]').text"
   ]
  },
  {
   "cell_type": "code",
   "execution_count": 14,
   "metadata": {},
   "outputs": [
    {
     "data": {
      "text/plain": [
       "'데브옵스'"
      ]
     },
     "execution_count": 14,
     "metadata": {},
     "output_type": "execute_result"
    }
   ],
   "source": [
    "# 8. 직무\n",
    "driver.find_element(By.XPATH, '//*[@id=\"career-app-legacy\"]/div/div[1]/div[1]/section/div/div[1]/div[1]/div[2]').text"
   ]
  },
  {
   "cell_type": "code",
   "execution_count": 23,
   "metadata": {},
   "outputs": [
    {
     "data": {
      "text/plain": [
       "'Go\\nPython\\nApache Druid\\nAWS DynamoDB\\nAWS EC2'"
      ]
     },
     "execution_count": 23,
     "metadata": {},
     "output_type": "execute_result"
    }
   ],
   "source": [
    "# 9. 이용하는 기술 스택\n",
    "driver.find_element(By.XPATH, '//*[@id=\"career-app-legacy\"]/div/div[1]/div[1]/div[2]/section/ul').text"
   ]
  },
  {
   "cell_type": "code",
   "execution_count": 22,
   "metadata": {},
   "outputs": [
    {
     "data": {
      "text/plain": [
       "'5년 이상의 DevOps 업무 경험\\nAWS 와 K8S 운영 경험\\n하나 이상의 개발 언어로 개발 혹은 자동화를 수행해본 경험\\n대용량 트래픽 서비스 시스템 개발 및 운영 경험\\nIaC(Infrastructure as Code) 및 지속적 통합과 배포 자동화 구축 경험'"
      ]
     },
     "execution_count": 22,
     "metadata": {},
     "output_type": "execute_result"
    }
   ],
   "source": [
    "# 10. 자격요건\n",
    "driver.find_element(By.XPATH, '//*[@id=\"career-app-legacy\"]/div/div[1]/div[1]/div[3]/section[1]/div/div/div/ul[5]').text"
   ]
  },
  {
   "cell_type": "code",
   "execution_count": 24,
   "metadata": {},
   "outputs": [
    {
     "data": {
      "text/plain": [
       "'5 ~ 10년'"
      ]
     },
     "execution_count": 24,
     "metadata": {},
     "output_type": "execute_result"
    }
   ],
   "source": [
    "# 11. 직급\n",
    "driver.find_element(By.XPATH, '//*[@id=\"career-app-legacy\"]/div/div[1]/div[1]/section/div/div[1]/div[4]/div[2]').text"
   ]
  },
  {
   "cell_type": "code",
   "execution_count": 25,
   "metadata": {},
   "outputs": [
    {
     "data": {
      "text/plain": [
       "'더 적은 비용으로 시스템을 운영하기 위한 비용 관리 경험\\n클라우드 서비스 위에서의 트러블 슈팅 및 성능 분석 경험\\n퍼포먼스 테스트 및 성능 부하 테스트에 대한 경험\\n자동화된 DR을 통한 고가용성 확보 경험\\nAdTech 관련 도메인 경험'"
      ]
     },
     "execution_count": 25,
     "metadata": {},
     "output_type": "execute_result"
    }
   ],
   "source": [
    "# 12. 우대사항\n",
    "driver.find_element(By.XPATH, '//*[@id=\"career-app-legacy\"]/div/div[1]/div[1]/div[3]/section[1]/div/div/div/ul[6]').text"
   ]
  },
  {
   "cell_type": "code",
   "execution_count": 44,
   "metadata": {},
   "outputs": [
    {
     "data": {
      "text/plain": [
       "'https://career.programmers.co.kr/job_positions/11945'"
      ]
     },
     "execution_count": 44,
     "metadata": {},
     "output_type": "execute_result"
    }
   ],
   "source": [
    "# 13. 해당페이지 URL\n",
    "soup.select('meta')[10].get('content')"
   ]
  },
  {
   "cell_type": "code",
   "execution_count": 52,
   "metadata": {},
   "outputs": [],
   "source": [
    "# 3,5번 크롤링을 위한 기업 클릭\n",
    "driver.find_element(By.XPATH, '//*[@id=\"career-app-legacy\"]/div/div[1]/div[1]/header/div/div[2]/h4/a').click()\n",
    "driver.switch_to.window(driver.window_handles[-1])\n",
    "\n",
    "soup = BeautifulSoup(driver.page_source, 'html.parser')"
   ]
  },
  {
   "cell_type": "code",
   "execution_count": 53,
   "metadata": {},
   "outputs": [
    {
     "data": {
      "text/plain": [
       "'101 명'"
      ]
     },
     "execution_count": 53,
     "metadata": {},
     "output_type": "execute_result"
    }
   ],
   "source": [
    "# 3. 사원 수\n",
    "driver.find_element(By.XPATH, '//*[@id=\"career-app-legacy\"]/div/div/div/div[2]/section[1]/ul/li[2]/h6[2]').text"
   ]
  },
  {
   "cell_type": "code",
   "execution_count": 65,
   "metadata": {},
   "outputs": [
    {
     "data": {
      "text/plain": [
       "'https://www.ab180.co/'"
      ]
     },
     "execution_count": 65,
     "metadata": {},
     "output_type": "execute_result"
    }
   ],
   "source": [
    "# 14. 기업 홈페이지 URL\n",
    "soup.select('h6.list-value a')[0].get('href')"
   ]
  },
  {
   "cell_type": "markdown",
   "metadata": {},
   "source": [
    "코드 통합"
   ]
  },
  {
   "cell_type": "code",
   "execution_count": 70,
   "metadata": {},
   "outputs": [],
   "source": [
    "url = 'https://career.programmers.co.kr/job?page=1&tags=AWS%20EC2&order=recent'\n",
    "\n",
    "driver = webdriver.Chrome()\n",
    "driver.get(url)\n",
    "\n",
    "driver.find_element(By.XPATH, '//*[@id=\"list-positions-wrapper\"]/ul/li[1]/div[2]/div[1]/h5/a')\n",
    "driver.find_element(By.XPATH, '//*[@id=\"list-positions-wrapper\"]/ul/li[1]/div[2]/div[1]/h5/a').click()\n",
    "driver.switch_to.window(driver.window_handles[-1])\n",
    "time.sleep(1)\n",
    "\n",
    "soup = BeautifulSoup(driver.page_source, 'html.parser')\n",
    "time.sleep(1)\n",
    "\n",
    "# 1. 기업명\n",
    "corp_name = driver.find_element(By.XPATH, '//*[@id=\"career-app-legacy\"]/div/div[1]/div[1]/header/div/div[2]/h4/a').text\n",
    "# 7. 주소\n",
    "address = driver.find_element(By.XPATH, '//*[@id=\"career-app-legacy\"]/div/div[1]/div[1]/section/div/div[2]/div/div[2]').text\n",
    "# 8. 직무\n",
    "job_description = driver.find_element(By.XPATH, '//*[@id=\"career-app-legacy\"]/div/div[1]/div[1]/section/div/div[1]/div[1]/div[2]').text\n",
    "# 9. 이용하는 기술 스택\n",
    "job_skill = driver.find_element(By.XPATH, '//*[@id=\"career-app-legacy\"]/div/div[1]/div[1]/div[2]/section/ul').text\n",
    "# 10. 자격요건\n",
    "job_requirements = driver.find_element(By.XPATH, '//*[@id=\"career-app-legacy\"]/div/div[1]/div[1]/div[3]/section[1]/div/div/div/ul[5]').text\n",
    "# 11. 직급\n",
    "career = driver.find_element(By.XPATH, '//*[@id=\"career-app-legacy\"]/div/div[1]/div[1]/section/div/div[1]/div[4]/div[2]').text\n",
    "# 12. 우대사항\n",
    "job_preferential = driver.find_element(By.XPATH, '//*[@id=\"career-app-legacy\"]/div/div[1]/div[1]/div[3]/section[1]/div/div/div/ul[6]').text\n",
    "# 13. 해당페이지 URL\n",
    "employment_url = soup.select('meta')[10].get('content')\n",
    "\n",
    "# 3,5번 크롤링을 위한 기업 클릭\n",
    "driver.find_element(By.XPATH, '//*[@id=\"career-app-legacy\"]/div/div[1]/div[1]/header/div/div[2]/h4/a').click()\n",
    "driver.switch_to.window(driver.window_handles[-1])\n",
    "time.sleep(1)\n",
    "\n",
    "soup = BeautifulSoup(driver.page_source, 'html.parser')\n",
    "\n",
    "# 3. 사원 수\n",
    "employee = driver.find_element(By.XPATH, '//*[@id=\"career-app-legacy\"]/div/div/div/div[2]/section[1]/ul/li[2]/h6[2]').text\n",
    "# 14. 기업 홈페이지 URL\n",
    "corp_url = soup.select('h6.list-value a')[0].get('href')\n",
    "\n",
    "programers_temp = pd.DataFrame(\n",
    "    [corp_name,employee,address,job_description,job_skill,job_requirements,career,job_preferential,\n",
    "    employment_url,corp_url], \n",
    "    index = ['기업명','사원수','주소','직무','이용하는 기술스택','자격요건','직급','우대사항','해당 페이지 URL','기업 홈페이지 URL']).T"
   ]
  },
  {
   "cell_type": "code",
   "execution_count": 74,
   "metadata": {},
   "outputs": [],
   "source": [
    "programers_temp.T.to_csv('./pro.csv', encoding='cp949', index=0)"
   ]
  },
  {
   "cell_type": "markdown",
   "metadata": {},
   "source": [
    "## 페이지 반복"
   ]
  },
  {
   "cell_type": "code",
   "execution_count": null,
   "metadata": {},
   "outputs": [],
   "source": [
    "while 1:\n",
    "    url = f'https://career.programmers.co.kr/job?page={page}&tags=AWS%20EC2&order=recent'\n",
    "    if page < "
   ]
  },
  {
   "cell_type": "code",
   "execution_count": null,
   "metadata": {},
   "outputs": [],
   "source": []
  },
  {
   "cell_type": "code",
   "execution_count": null,
   "metadata": {},
   "outputs": [],
   "source": []
  },
  {
   "cell_type": "code",
   "execution_count": null,
   "metadata": {},
   "outputs": [],
   "source": []
  },
  {
   "cell_type": "code",
   "execution_count": null,
   "metadata": {},
   "outputs": [],
   "source": []
  },
  {
   "cell_type": "code",
   "execution_count": null,
   "metadata": {},
   "outputs": [],
   "source": []
  },
  {
   "cell_type": "code",
   "execution_count": null,
   "metadata": {},
   "outputs": [],
   "source": []
  },
  {
   "cell_type": "code",
   "execution_count": null,
   "metadata": {},
   "outputs": [],
   "source": []
  },
  {
   "cell_type": "code",
   "execution_count": null,
   "metadata": {},
   "outputs": [],
   "source": []
  },
  {
   "cell_type": "markdown",
   "metadata": {},
   "source": [
    "# 통합"
   ]
  },
  {
   "cell_type": "code",
   "execution_count": 66,
   "metadata": {},
   "outputs": [],
   "source": [
    "# 모든 컬럼 프레임\n",
    "programers_result = pd.DataFrame(columns=[\n",
    "    '기업명','업종분류','사원수','설립연도','기업형태','매출액','주소','직무','이용하는 기술스택',\n",
    "    '자격요건','직급','우대사항','해당 페이지 URL','기업 홈페이지 URL'])"
   ]
  },
  {
   "cell_type": "code",
   "execution_count": null,
   "metadata": {},
   "outputs": [],
   "source": [
    "pd.concat"
   ]
  }
 ],
 "metadata": {
  "kernelspec": {
   "display_name": "base",
   "language": "python",
   "name": "python3"
  },
  "language_info": {
   "codemirror_mode": {
    "name": "ipython",
    "version": 3
   },
   "file_extension": ".py",
   "mimetype": "text/x-python",
   "name": "python",
   "nbconvert_exporter": "python",
   "pygments_lexer": "ipython3",
   "version": "3.11.5"
  }
 },
 "nbformat": 4,
 "nbformat_minor": 2
}
