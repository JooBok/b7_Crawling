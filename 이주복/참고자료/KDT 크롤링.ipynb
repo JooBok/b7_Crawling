{
 "cells": [
  {
   "cell_type": "code",
   "execution_count": 1,
   "id": "e835dfa0-1da7-44e9-8c2d-2e6400046914",
   "metadata": {
    "tags": []
   },
   "outputs": [],
   "source": [
    "import pandas as pd\n",
    "# 정적크롤링\n",
    "from bs4 import BeautifulSoup\n",
    "import requests\n",
    "import re\n",
    "# 동적크롤링\n",
    "from selenium import webdriver\n",
    "from selenium.webdriver.common.by import By\n",
    "import time"
   ]
  },
  {
   "cell_type": "code",
   "execution_count": 2,
   "id": "aec83099-286f-4840-9ca9-ffaf3573647e",
   "metadata": {
    "tags": []
   },
   "outputs": [],
   "source": [
    "# 빈 데이터프레임\n",
    "kdt_res = pd.DataFrame(index=['기관명', '훈련과정명', '훈련시작일자', '훈련종료일자', '총훈련기간', '총훈련시간', '취업률']).T"
   ]
  },
  {
   "cell_type": "code",
   "execution_count": 3,
   "id": "a49db361-6537-4dda-871f-fb4f7b656b97",
   "metadata": {
    "tags": []
   },
   "outputs": [],
   "source": [
    "# 페이지 반복\n",
    "for page in range(1,50):\n",
    "    url = f'''\n",
    "    https://www.hrd.go.kr/hrdp/ti/ptiao/PTIAO0300L.do?crseTracseSeSelected=%EC%A0%84%EC%B2%B4&ncsSelected=&a\n",
    "    reaSelected=%EC%A0%84%EA%B5%AD+%3E+%EC%A0%84%EC%B2%B4&searchTotalKeyword=undefined&crseTracseSe=A%7C%ED%9B\n",
    "    %88%EB%A0%A8%EC%9C%A0%ED%98%95+%EC%A0%84%EC%B2%B4&area=00%7C%EC%A0%84%EA%B5%AD+%EC%A0%84%EC%B2%B4&pageId=6&\n",
    "    bgrlInstYn=undefined&currentTab=1&pageIndex={page}&kDgtlYn=undefined&crseTracseSeNum=&pageSize=10&orderKey=2\n",
    "    &orderBy=ASC&mberId=&mberSe=&pop=&kdgLinkYn=&monthGubun=12&topMenuYn=&gb=&keywordType=1&keyword=&keyword2=&keyw\n",
    "    ord1=&startDate=20240220&endDate=20250220&i2=A&dghtSe=A&traingMthCd=A&totamtSuptYn=A&tracseId=&tracseTme=&intrst\n",
    "    InfoAdiCn=&pageOrder=2ASC&pageRow=10&tracseId=AIG20230000455498&tracseTme=3&tracseId=AIG20220000366871&tracseTme=5&\n",
    "    tracseId=AIG20230000412664&tracseTme=4&tracseId=AIG20230000455731&tracseTme=3&tracseId=AIG20220000366834&tracseTme=2\n",
    "    &tracseId=AIG20230000455775&tracseTme=2&tracseId=AIG20230000412780&tracseTme=2\n",
    "    '''\n",
    "    req = requests.get(url)\n",
    "    content = req.content\n",
    "    soup = BeautifulSoup(content, 'html.parser')\n",
    "    \n",
    "# 내용 추가\n",
    "    zone = [re.sub('\\n\\t+', '', z.text) for z in soup.select('p.zone')]  # 기관명\n",
    "    name = [re.sub('\\n\\t+', '', n.text) for n in soup.select('p.tit a')]  # 과정명\n",
    "\n",
    "    start_day = []  # 시작일자\n",
    "    end_day = []  # 종료일자\n",
    "\n",
    "    for d in soup.select('dl.item.term'):\n",
    "        if re.findall('\\d+-\\d+-\\d+', d.text) == []:\n",
    "            pass\n",
    "        else:\n",
    "            start_day.append(re.findall('\\d+-\\d+-\\d+', d.text)[0])\n",
    "            end_day.append(re.findall('\\d+-\\d+-\\d+', d.text)[1])\n",
    "\n",
    "    day = []  # 총훈련일자\n",
    "    time = []  # 총훈련기간\n",
    "\n",
    "    for t in soup.select('dl.item.time2'):\n",
    "        day.append(re.sub(',','', re.findall('\\S+', t.text)[1]))\n",
    "        time.append(re.sub(',','', re.findall('\\S+', t.text)[2]))\n",
    "\n",
    "    rate = [re.sub('\\n','',re.sub('\\n+\\t+', '', a.text)) for a in soup.select('dd.graph')]  # 취업률  \n",
    "\n",
    "# 페이지별 데이터프레임\n",
    "    kdt_temp = pd.DataFrame([zone, name, start_day, end_day, day, time, rate],\n",
    "                            index = ['기관명', '훈련과정명', '훈련시작일자', '훈련종료일자', '총훈련기간', '총훈련시간', '취업률']).T\n",
    "# 빈 프레임에 추가    \n",
    "    kdt_res = pd.concat([kdt_res, kdt_temp])"
   ]
  },
  {
   "cell_type": "code",
   "execution_count": 12,
   "id": "0889ebd0-2772-4587-832e-4f9b4857ad40",
   "metadata": {
    "tags": []
   },
   "outputs": [],
   "source": [
    "# csv파일 저장\n",
    "kdt_res.to_csv('./kdt.csv', encoding='cp949', index=False)"
   ]
  }
 ],
 "metadata": {
  "kernelspec": {
   "display_name": "Python 3 (ipykernel)",
   "language": "python",
   "name": "python3"
  },
  "language_info": {
   "codemirror_mode": {
    "name": "ipython",
    "version": 3
   },
   "file_extension": ".py",
   "mimetype": "text/x-python",
   "name": "python",
   "nbconvert_exporter": "python",
   "pygments_lexer": "ipython3",
   "version": "3.11.5"
  }
 },
 "nbformat": 4,
 "nbformat_minor": 5
}
