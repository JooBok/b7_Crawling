{
 "cells": [
  {
   "cell_type": "code",
   "execution_count": 1,
   "metadata": {},
   "outputs": [],
   "source": [
    "import pandas as pd\n",
    "import re"
   ]
  },
  {
   "cell_type": "code",
   "execution_count": 2,
   "metadata": {},
   "outputs": [],
   "source": [
    "pro_df = pd.read_csv('./크롤링 프로그램/programmers.csv')\n",
    "cat_df = pd.read_csv('./크롤링 프로그램/catch_result.csv', index_col=0)\n",
    "dart_df = pd.read_csv('./크롤링 프로그램/dart_result.csv')\n",
    "incru_df = pd.read_csv('./크롤링 프로그램/incruit_result.csv')"
   ]
  },
  {
   "cell_type": "markdown",
   "metadata": {},
   "source": [
    "## 1. 프로그래머스 전처리\n",
    "- 주소: 시(도), 구\n",
    "- 사원수: int타입\n",
    "- 직급: 최소단위 기준"
   ]
  },
  {
   "cell_type": "code",
   "execution_count": 3,
   "metadata": {},
   "outputs": [],
   "source": [
    "# 주소 전처리\n",
    "address_list = []\n",
    "\n",
    "for ad in pro_df['주소']:\n",
    "    # 우편번호 패턴을 찾아서 제거\n",
    "    ad = re.sub('^\\d{5}\\s', '', ad).strip()\n",
    "    # 글자 변경\n",
    "    if '대한민국' in ad:\n",
    "        ad = re.sub('대한민국', '', ad).strip()\n",
    "    elif '서울' in ad and '특별시' not in ad:\n",
    "        ad = re.sub('서울','서울특별시',ad).strip()\n",
    "    elif '경기' in ad and '경기도' not in ad:\n",
    "        ad = re.sub('경기','경기도',ad).strip()\n",
    "    elif '인천' in ad and '광역시' not in ad:\n",
    "        ad = re.sub('인천','인천광역시',ad).strip()\n",
    "\n",
    "    address_list.append(ad)\n",
    "\n",
    "# 구,시,도로 끝나는 단어 리스트 정렬\n",
    "add_list = [' '.join(re.findall(r'\\b(\\w+[구시도])\\b', address)) for address in address_list]\n",
    "\n",
    "pro_df['주소'] = add_list"
   ]
  },
  {
   "cell_type": "code",
   "execution_count": 4,
   "metadata": {},
   "outputs": [],
   "source": [
    "# 사원수 전처리\n",
    "employee_list = []\n",
    "\n",
    "# '명' 및 공백 제거\n",
    "for emp in pro_df['사원수']:\n",
    "    employee_list.append(int(re.sub('명','',emp).strip()))\n",
    "\n",
    "pro_df['사원수'] = employee_list\n",
    "pro_df['사원수'] = pro_df['사원수'].astype(int)"
   ]
  },
  {
   "cell_type": "code",
   "execution_count": 5,
   "metadata": {},
   "outputs": [],
   "source": [
    "# 직급 전처리\n",
    "career_list = []\n",
    "\n",
    "for car in pro_df['직급']:\n",
    "    if '무관' not in car:  # 무관이 없는 경우 최소단위\n",
    "        career_list.append(car.split('~')[0].strip())\n",
    "\n",
    "    elif '신입' in car:  # 신입인 경우 0\n",
    "        career_list.append(0)\n",
    "                           \n",
    "    else:  # 무관이 있는 경우 0\n",
    "        career_list.append(0) \n",
    "\n",
    "pro_df['직급'] = career_list\n",
    "pro_df['직급'] = pro_df['직급'].astype(int)  # int타입 변경"
   ]
  },
  {
   "cell_type": "code",
   "execution_count": 6,
   "metadata": {},
   "outputs": [],
   "source": [
    "pro_df.to_csv('./1차 전처리.csv')\n",
    "pro_df.to_excel('./1차 확인.xlsx')"
   ]
  },
  {
   "cell_type": "markdown",
   "metadata": {},
   "source": [
    "## 2. 캐치 전처리\n",
    "- 매출액: 만의 단위로 int타입\n",
    "- 사원수: "
   ]
  },
  {
   "cell_type": "code",
   "execution_count": null,
   "metadata": {},
   "outputs": [],
   "source": [
    "cat_df"
   ]
  },
  {
   "cell_type": "code",
   "execution_count": null,
   "metadata": {},
   "outputs": [],
   "source": []
  },
  {
   "cell_type": "code",
   "execution_count": null,
   "metadata": {},
   "outputs": [],
   "source": []
  },
  {
   "cell_type": "markdown",
   "metadata": {},
   "source": [
    "# 3. 다트 전처리"
   ]
  },
  {
   "cell_type": "markdown",
   "metadata": {},
   "source": [
    "# 4. 인크루트 전처리"
   ]
  }
 ],
 "metadata": {
  "kernelspec": {
   "display_name": "base",
   "language": "python",
   "name": "python3"
  },
  "language_info": {
   "codemirror_mode": {
    "name": "ipython",
    "version": 3
   },
   "file_extension": ".py",
   "mimetype": "text/x-python",
   "name": "python",
   "nbconvert_exporter": "python",
   "pygments_lexer": "ipython3",
   "version": "3.11.5"
  }
 },
 "nbformat": 4,
 "nbformat_minor": 2
}
