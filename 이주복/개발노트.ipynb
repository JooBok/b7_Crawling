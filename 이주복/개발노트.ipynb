{
 "cells": [
  {
   "cell_type": "code",
   "execution_count": 72,
   "id": "3119e74d-2c71-4911-9d15-65c7c3da26cb",
   "metadata": {
    "tags": []
   },
   "outputs": [],
   "source": [
    "import pandas as pd\n",
    "# 정적크롤링\n",
    "from bs4 import BeautifulSoup\n",
    "import requests\n",
    "import re\n",
    "# 동적크롤링\n",
    "from selenium import webdriver\n",
    "from selenium.webdriver.common.by import By\n",
    "import time"
   ]
  },
  {
   "cell_type": "markdown",
   "id": "606c9847-c3e0-417f-821a-da9cc50d60c8",
   "metadata": {},
   "source": [
    "1. 빈 데이터프레임 생성\n",
    "2. 각 컬럼 리스트화 하여 변수 지정\n",
    "3. 각 컬럼 임시 데이터프레임에 추가\n",
    "4. 빈 데이터프레임에 임시 데이터프레임 concat\n",
    "5. 2~4과정 페이지 반복문으로 묶기\n",
    "6. 엑셀또는 csv파일로 저장"
   ]
  },
  {
   "cell_type": "markdown",
   "id": "fcb208f0",
   "metadata": {},
   "source": [
    "# 강의 사이트"
   ]
  },
  {
   "cell_type": "markdown",
   "id": "505b7915-4555-4009-989f-265e73951e42",
   "metadata": {
    "jp-MarkdownHeadingCollapsed": true,
    "tags": []
   },
   "source": [
    "## HRD-NET"
   ]
  },
  {
   "cell_type": "code",
   "execution_count": 69,
   "id": "a162de2f-a75c-44a0-aaec-27627b7f25f2",
   "metadata": {
    "tags": []
   },
   "outputs": [],
   "source": [
    "# 동적크롤링과 소스코드 연동\n",
    "url = 'https://www.hrd.go.kr/hrdp/ti/ptiao/PTIAO0300L.do?crseTracseSeSelected=%EC%A0%84%EC%B2%B4&ncsSelected=&areaSelected=&searchTotalKeyword=undefined&area=00%7C%EC%A0%84%EA%B5%AD+%EC%A0%84%EC%B2%B4&pageId=2&bgrlInstYn=&currentTab=1&pageIndex=1&kDgtlYn=&crseTracseSeNum=&pageSize=10&orderKey=2&orderBy=ASC&mberId=&mberSe=&pop=&kdgLinkYn=&monthGubun=12&topMenuYn=&gb=1&keywordType=1&keyword=AWS&keyword2=&keyword1=&startDate=20240221&endDate=20250221&i2=A&dghtSe=A&traingMthCd=A&totamtSuptYn=A&totTraingTime=A&tracseId=&tracseTme=&intrstInfoAdiCn=&pageOrder=2ASC&pageRow=100&tracseId=AIG20230000456640&tracseTme=16&tracseId=AIG20220000385887&tracseTme=8&tracseId=AIG20220000400463&tracseTme=7&tracseId=AIG20230000450709&tracseTme=1&tracseId=AIG20230000445756&tracseTme=1&tracseId=AIG20230000447342&tracseTme=1&tracseId=AIG20220000387503&tracseTme=7&tracseId=AIG20220000396141&tracseTme=9&tracseId=AIG20233000931929&tracseTme=3&tracseId=AIG20230000412798&tracseTme=2'\n",
    "driver = webdriver.Chrome()\n",
    "driver.get(url)\n",
    "\n",
    "soup = BeautifulSoup(driver.page_source, 'html.parser')"
   ]
  },
  {
   "cell_type": "code",
   "execution_count": 70,
   "id": "ea4b63a6-061c-44a5-9255-66f9cd4a7b55",
   "metadata": {
    "tags": []
   },
   "outputs": [
    {
     "data": {
      "text/plain": [
       "<selenium.webdriver.remote.webelement.WebElement (session=\"83f474f46e2b38f3b176a4ef9b6fadc8\", element=\"f.22C6F207B8B12A731849F9A8DADBA164.d.B67F925B283BA117399CB91090C22FF8.e.95\")>"
      ]
     },
     "execution_count": 70,
     "metadata": {},
     "output_type": "execute_result"
    }
   ],
   "source": [
    "driver.find_element(By.XPATH, f'//*[@id=\"contentArea\"]/div[6]/ul/li[1]/div[2]/p/a')"
   ]
  },
  {
   "cell_type": "code",
   "execution_count": 5,
   "id": "7c2dc76d-059e-401b-8fae-0cdc9b5c9a7a",
   "metadata": {
    "tags": []
   },
   "outputs": [
    {
     "data": {
      "text/plain": [
       "[]"
      ]
     },
     "execution_count": 5,
     "metadata": {},
     "output_type": "execute_result"
    }
   ],
   "source": [
    "driver.find_elements(By.XPATH, f'//*[@id=\"contentArea\"]/div[6]/ul/li[97]/div[2]/p/a')"
   ]
  },
  {
   "cell_type": "code",
   "execution_count": 71,
   "id": "40e14717-0032-4630-b211-cf825c9aecd8",
   "metadata": {
    "tags": []
   },
   "outputs": [
    {
     "ename": "KeyboardInterrupt",
     "evalue": "",
     "output_type": "error",
     "traceback": [
      "\u001b[1;31m---------------------------------------------------------------------------\u001b[0m",
      "\u001b[1;31mKeyboardInterrupt\u001b[0m                         Traceback (most recent call last)",
      "Cell \u001b[1;32mIn[71], line 13\u001b[0m\n\u001b[0;32m     11\u001b[0m \u001b[38;5;66;03m# 특성 추가\u001b[39;00m\n\u001b[0;32m     12\u001b[0m content \u001b[38;5;241m=\u001b[39m req\u001b[38;5;241m.\u001b[39mcontent\n\u001b[1;32m---> 13\u001b[0m soup \u001b[38;5;241m=\u001b[39m BeautifulSoup(content, \u001b[38;5;124m'\u001b[39m\u001b[38;5;124mhtml.parser\u001b[39m\u001b[38;5;124m'\u001b[39m)\n\u001b[0;32m     15\u001b[0m title \u001b[38;5;241m=\u001b[39m re\u001b[38;5;241m.\u001b[39msub(\u001b[38;5;124m'\u001b[39m\u001b[38;5;130;01m\\n\u001b[39;00m\u001b[38;5;124m'\u001b[39m,\u001b[38;5;124m'\u001b[39m\u001b[38;5;124m'\u001b[39m,soup\u001b[38;5;241m.\u001b[39mselect(\u001b[38;5;124m'\u001b[39m\u001b[38;5;124mh4\u001b[39m\u001b[38;5;124m'\u001b[39m)[\u001b[38;5;241m0\u001b[39m]\u001b[38;5;241m.\u001b[39mtext)\u001b[38;5;241m.\u001b[39mstrip()\n\u001b[0;32m     16\u001b[0m academy \u001b[38;5;241m=\u001b[39m re\u001b[38;5;241m.\u001b[39msub(\u001b[38;5;124m'\u001b[39m\u001b[38;5;130;01m\\n\u001b[39;00m\u001b[38;5;124m'\u001b[39m,\u001b[38;5;124m'\u001b[39m\u001b[38;5;124m'\u001b[39m,soup\u001b[38;5;241m.\u001b[39mselect(\u001b[38;5;124m'\u001b[39m\u001b[38;5;124mp.add\u001b[39m\u001b[38;5;124m'\u001b[39m)[\u001b[38;5;241m0\u001b[39m]\u001b[38;5;241m.\u001b[39mtext)\u001b[38;5;241m.\u001b[39mstrip()\n",
      "File \u001b[1;32mC:\\ProgramData\\anaconda3\\Lib\\site-packages\\bs4\\__init__.py:335\u001b[0m, in \u001b[0;36mBeautifulSoup.__init__\u001b[1;34m(self, markup, features, builder, parse_only, from_encoding, exclude_encodings, element_classes, **kwargs)\u001b[0m\n\u001b[0;32m    333\u001b[0m \u001b[38;5;28mself\u001b[39m\u001b[38;5;241m.\u001b[39mbuilder\u001b[38;5;241m.\u001b[39minitialize_soup(\u001b[38;5;28mself\u001b[39m)\n\u001b[0;32m    334\u001b[0m \u001b[38;5;28;01mtry\u001b[39;00m:\n\u001b[1;32m--> 335\u001b[0m     \u001b[38;5;28mself\u001b[39m\u001b[38;5;241m.\u001b[39m_feed()\n\u001b[0;32m    336\u001b[0m     success \u001b[38;5;241m=\u001b[39m \u001b[38;5;28;01mTrue\u001b[39;00m\n\u001b[0;32m    337\u001b[0m     \u001b[38;5;28;01mbreak\u001b[39;00m\n",
      "File \u001b[1;32mC:\\ProgramData\\anaconda3\\Lib\\site-packages\\bs4\\__init__.py:478\u001b[0m, in \u001b[0;36mBeautifulSoup._feed\u001b[1;34m(self)\u001b[0m\n\u001b[0;32m    475\u001b[0m \u001b[38;5;66;03m# Convert the document to Unicode.\u001b[39;00m\n\u001b[0;32m    476\u001b[0m \u001b[38;5;28mself\u001b[39m\u001b[38;5;241m.\u001b[39mbuilder\u001b[38;5;241m.\u001b[39mreset()\n\u001b[1;32m--> 478\u001b[0m \u001b[38;5;28mself\u001b[39m\u001b[38;5;241m.\u001b[39mbuilder\u001b[38;5;241m.\u001b[39mfeed(\u001b[38;5;28mself\u001b[39m\u001b[38;5;241m.\u001b[39mmarkup)\n\u001b[0;32m    479\u001b[0m \u001b[38;5;66;03m# Close out any unfinished strings and close all the open tags.\u001b[39;00m\n\u001b[0;32m    480\u001b[0m \u001b[38;5;28mself\u001b[39m\u001b[38;5;241m.\u001b[39mendData()\n",
      "File \u001b[1;32mC:\\ProgramData\\anaconda3\\Lib\\site-packages\\bs4\\builder\\_htmlparser.py:380\u001b[0m, in \u001b[0;36mHTMLParserTreeBuilder.feed\u001b[1;34m(self, markup)\u001b[0m\n\u001b[0;32m    378\u001b[0m parser\u001b[38;5;241m.\u001b[39msoup \u001b[38;5;241m=\u001b[39m \u001b[38;5;28mself\u001b[39m\u001b[38;5;241m.\u001b[39msoup\n\u001b[0;32m    379\u001b[0m \u001b[38;5;28;01mtry\u001b[39;00m:\n\u001b[1;32m--> 380\u001b[0m     parser\u001b[38;5;241m.\u001b[39mfeed(markup)\n\u001b[0;32m    381\u001b[0m \u001b[38;5;28;01mexcept\u001b[39;00m \u001b[38;5;167;01mAssertionError\u001b[39;00m \u001b[38;5;28;01mas\u001b[39;00m e:\n\u001b[0;32m    382\u001b[0m     \u001b[38;5;66;03m# html.parser raises AssertionError in rare cases to\u001b[39;00m\n\u001b[0;32m    383\u001b[0m     \u001b[38;5;66;03m# indicate a fatal problem with the markup, especially\u001b[39;00m\n\u001b[0;32m    384\u001b[0m     \u001b[38;5;66;03m# when there's an error in the doctype declaration.\u001b[39;00m\n\u001b[0;32m    385\u001b[0m     \u001b[38;5;28;01mraise\u001b[39;00m ParserRejectedMarkup(e)\n",
      "File \u001b[1;32mC:\\ProgramData\\anaconda3\\Lib\\html\\parser.py:110\u001b[0m, in \u001b[0;36mHTMLParser.feed\u001b[1;34m(self, data)\u001b[0m\n\u001b[0;32m    104\u001b[0m \u001b[38;5;250m\u001b[39m\u001b[38;5;124mr\u001b[39m\u001b[38;5;124;03m\"\"\"Feed data to the parser.\u001b[39;00m\n\u001b[0;32m    105\u001b[0m \n\u001b[0;32m    106\u001b[0m \u001b[38;5;124;03mCall this as often as you want, with as little or as much text\u001b[39;00m\n\u001b[0;32m    107\u001b[0m \u001b[38;5;124;03mas you want (may include '\\n').\u001b[39;00m\n\u001b[0;32m    108\u001b[0m \u001b[38;5;124;03m\"\"\"\u001b[39;00m\n\u001b[0;32m    109\u001b[0m \u001b[38;5;28mself\u001b[39m\u001b[38;5;241m.\u001b[39mrawdata \u001b[38;5;241m=\u001b[39m \u001b[38;5;28mself\u001b[39m\u001b[38;5;241m.\u001b[39mrawdata \u001b[38;5;241m+\u001b[39m data\n\u001b[1;32m--> 110\u001b[0m \u001b[38;5;28mself\u001b[39m\u001b[38;5;241m.\u001b[39mgoahead(\u001b[38;5;241m0\u001b[39m)\n",
      "File \u001b[1;32mC:\\ProgramData\\anaconda3\\Lib\\html\\parser.py:172\u001b[0m, in \u001b[0;36mHTMLParser.goahead\u001b[1;34m(self, end)\u001b[0m\n\u001b[0;32m    170\u001b[0m     k \u001b[38;5;241m=\u001b[39m \u001b[38;5;28mself\u001b[39m\u001b[38;5;241m.\u001b[39mparse_starttag(i)\n\u001b[0;32m    171\u001b[0m \u001b[38;5;28;01melif\u001b[39;00m startswith(\u001b[38;5;124m\"\u001b[39m\u001b[38;5;124m</\u001b[39m\u001b[38;5;124m\"\u001b[39m, i):\n\u001b[1;32m--> 172\u001b[0m     k \u001b[38;5;241m=\u001b[39m \u001b[38;5;28mself\u001b[39m\u001b[38;5;241m.\u001b[39mparse_endtag(i)\n\u001b[0;32m    173\u001b[0m \u001b[38;5;28;01melif\u001b[39;00m startswith(\u001b[38;5;124m\"\u001b[39m\u001b[38;5;124m<!--\u001b[39m\u001b[38;5;124m\"\u001b[39m, i):\n\u001b[0;32m    174\u001b[0m     k \u001b[38;5;241m=\u001b[39m \u001b[38;5;28mself\u001b[39m\u001b[38;5;241m.\u001b[39mparse_comment(i)\n",
      "File \u001b[1;32mC:\\ProgramData\\anaconda3\\Lib\\html\\parser.py:413\u001b[0m, in \u001b[0;36mHTMLParser.parse_endtag\u001b[1;34m(self, i)\u001b[0m\n\u001b[0;32m    410\u001b[0m         \u001b[38;5;28mself\u001b[39m\u001b[38;5;241m.\u001b[39mhandle_data(rawdata[i:gtpos])\n\u001b[0;32m    411\u001b[0m         \u001b[38;5;28;01mreturn\u001b[39;00m gtpos\n\u001b[1;32m--> 413\u001b[0m \u001b[38;5;28mself\u001b[39m\u001b[38;5;241m.\u001b[39mhandle_endtag(elem)\n\u001b[0;32m    414\u001b[0m \u001b[38;5;28mself\u001b[39m\u001b[38;5;241m.\u001b[39mclear_cdata_mode()\n\u001b[0;32m    415\u001b[0m \u001b[38;5;28;01mreturn\u001b[39;00m gtpos\n",
      "File \u001b[1;32mC:\\ProgramData\\anaconda3\\Lib\\site-packages\\bs4\\builder\\_htmlparser.py:176\u001b[0m, in \u001b[0;36mBeautifulSoupHTMLParser.handle_endtag\u001b[1;34m(self, name, check_already_closed)\u001b[0m\n\u001b[0;32m    174\u001b[0m     \u001b[38;5;28mself\u001b[39m\u001b[38;5;241m.\u001b[39malready_closed_empty_element\u001b[38;5;241m.\u001b[39mremove(name)\n\u001b[0;32m    175\u001b[0m \u001b[38;5;28;01melse\u001b[39;00m:\n\u001b[1;32m--> 176\u001b[0m     \u001b[38;5;28mself\u001b[39m\u001b[38;5;241m.\u001b[39msoup\u001b[38;5;241m.\u001b[39mhandle_endtag(name)\n",
      "File \u001b[1;32mC:\\ProgramData\\anaconda3\\Lib\\site-packages\\bs4\\__init__.py:771\u001b[0m, in \u001b[0;36mBeautifulSoup.handle_endtag\u001b[1;34m(self, name, nsprefix)\u001b[0m\n\u001b[0;32m    769\u001b[0m \u001b[38;5;66;03m#print(\"End tag: \" + name)\u001b[39;00m\n\u001b[0;32m    770\u001b[0m \u001b[38;5;28mself\u001b[39m\u001b[38;5;241m.\u001b[39mendData()\n\u001b[1;32m--> 771\u001b[0m \u001b[38;5;28mself\u001b[39m\u001b[38;5;241m.\u001b[39m_popToTag(name, nsprefix)\n",
      "File \u001b[1;32mC:\\ProgramData\\anaconda3\\Lib\\site-packages\\bs4\\__init__.py:711\u001b[0m, in \u001b[0;36mBeautifulSoup._popToTag\u001b[1;34m(self, name, nsprefix, inclusivePop)\u001b[0m\n\u001b[0;32m    709\u001b[0m stack_size \u001b[38;5;241m=\u001b[39m \u001b[38;5;28mlen\u001b[39m(\u001b[38;5;28mself\u001b[39m\u001b[38;5;241m.\u001b[39mtagStack)\n\u001b[0;32m    710\u001b[0m \u001b[38;5;28;01mfor\u001b[39;00m i \u001b[38;5;129;01min\u001b[39;00m \u001b[38;5;28mrange\u001b[39m(stack_size \u001b[38;5;241m-\u001b[39m \u001b[38;5;241m1\u001b[39m, \u001b[38;5;241m0\u001b[39m, \u001b[38;5;241m-\u001b[39m\u001b[38;5;241m1\u001b[39m):\n\u001b[1;32m--> 711\u001b[0m     \u001b[38;5;28;01mif\u001b[39;00m \u001b[38;5;129;01mnot\u001b[39;00m \u001b[38;5;28mself\u001b[39m\u001b[38;5;241m.\u001b[39mopen_tag_counter\u001b[38;5;241m.\u001b[39mget(name):\n\u001b[0;32m    712\u001b[0m         \u001b[38;5;28;01mbreak\u001b[39;00m\n\u001b[0;32m    713\u001b[0m     t \u001b[38;5;241m=\u001b[39m \u001b[38;5;28mself\u001b[39m\u001b[38;5;241m.\u001b[39mtagStack[i]\n",
      "\u001b[1;31mKeyboardInterrupt\u001b[0m: "
     ]
    }
   ],
   "source": [
    "# 훈련 클릭 반복문\n",
    "page = 1\n",
    "\n",
    "while 1:\n",
    "    time.sleep(1)\n",
    "    if driver.find_elements(By.XPATH, f'//*[@id=\"contentArea\"]/div[6]/ul/li[{page}]/div[2]/p/a') != []:\n",
    "        driver.find_element(By.XPATH, f'//*[@id=\"contentArea\"]/div[6]/ul/li[{page}]/div[2]/p/a').click()\n",
    "        soup = BeautifulSoup(driver.page_source, 'html.parser')\n",
    "        page += 1\n",
    "        \n",
    "        # 특성 추가\n",
    "        content = req.content\n",
    "        soup = BeautifulSoup(content, 'html.parser')\n",
    "\n",
    "        title = re.sub('\\n','',soup.select('h4')[0].text).strip()\n",
    "        academy = re.sub('\\n','',soup.select('p.add')[0].text).strip()\n",
    "        rating = re.sub('점','',soup.select('span.starRating')[0]['title'].split('기준')[-1])\n",
    "        category = re.sub('\\n','',soup.select('span.con')[1].text).strip()\n",
    "        start_day = re.findall('\\d\\d\\d\\d-\\d\\d-\\d\\d', soup.select('span.con')[5].text)[0]\n",
    "        end_day = re.findall('\\d\\d\\d\\d-\\d\\d-\\d\\d', soup.select('span.con')[5].text)[1]\n",
    "        routation = re.findall('\\S+', soup.select('span.con')[5].text)[2]\n",
    "        edutype = re.sub(' +','', re.sub('\\n','', soup.select('span.con')[12].text))\n",
    "\n",
    "        pd.DataFrame([title, academy, rating, category, start_day, end_day, routation, edutype],\n",
    "                     index = ['강의제목','학원명','만족도','NCS직무분류','훈련시작일자','훈련종료일자','회차','훈련유형']).T\n",
    "        \n",
    "    else:\n",
    "        break"
   ]
  },
  {
   "cell_type": "markdown",
   "id": "96847f37-af8e-456c-ba00-6d4115fb5e25",
   "metadata": {},
   "source": [
    "내용 크롤링"
   ]
  },
  {
   "cell_type": "code",
   "execution_count": 4,
   "id": "736a809a-f96a-45c7-a6ed-322b2158c6cb",
   "metadata": {
    "tags": []
   },
   "outputs": [],
   "source": [
    "driver.find_element(By.XPATH, f'//*[@id=\"contentArea\"]/div[6]/ul/li[1]/div[2]/p/a').click()\n",
    "soup = BeautifulSoup(driver.page_source, 'html.parser')"
   ]
  },
  {
   "cell_type": "code",
   "execution_count": 7,
   "id": "c95166ea-986e-467f-9212-4b65793df5c5",
   "metadata": {
    "tags": []
   },
   "outputs": [
    {
     "data": {
      "text/plain": [
       "[<h4 class=\"text1\">훈련과정 간편비교</h4>,\n",
       " <h4 class=\"bult-h4\">맞춤검색 저장</h4>,\n",
       " <h4 class=\"bult-h4\">맞춤검색 불러오기</h4>]"
      ]
     },
     "execution_count": 7,
     "metadata": {},
     "output_type": "execute_result"
    }
   ],
   "source": [
    "soup.select('h4')"
   ]
  },
  {
   "cell_type": "markdown",
   "id": "c8286024-16cb-4fd1-97a0-f4809e353f88",
   "metadata": {},
   "source": [
    "재생성"
   ]
  },
  {
   "cell_type": "code",
   "execution_count": 9,
   "id": "b59f2655-18cf-47f5-a099-0fd38f557892",
   "metadata": {
    "tags": []
   },
   "outputs": [],
   "source": [
    "url = 'https://www.hrd.go.kr/hrdp/co/pcobo/PCOBO0100P.do?tracseId=AIG20230000456640&tracseTme=16&crseTracseSe=C0105&trainstCstmrId=500020051277#undefined'\n",
    "\n",
    "req = requests.get(url)\n",
    "content = req.content\n",
    "soup = BeautifulSoup(content, 'html.parser')"
   ]
  },
  {
   "cell_type": "code",
   "execution_count": 68,
   "id": "61924117-bdb6-4d0e-bcb6-cbce3a71d527",
   "metadata": {
    "tags": []
   },
   "outputs": [],
   "source": [
    "url = 'https://www.hrd.go.kr/hrdp/co/pcobo/PCOBO0100P.do?tracseId=AIG20230000456640&tracseTme=16&crseTracseSe=C0105&trainstCstmrId=500020051277#undefined'\n",
    "\n",
    "req = requests.get(url)\n",
    "content = req.content\n",
    "soup = BeautifulSoup(content, 'html.parser')\n",
    "\n",
    "title = re.sub('\\n','',soup.select('h4')[0].text).strip()\n",
    "academy = re.sub('\\n','',soup.select('p.add')[0].text).strip()\n",
    "rating = re.sub('점','',soup.select('span.starRating')[0]['title'].split('기준')[-1])\n",
    "category = re.sub('\\n','',soup.select('span.con')[1].text).strip()\n",
    "start_day = re.findall('\\d\\d\\d\\d-\\d\\d-\\d\\d', soup.select('span.con')[5].text)[0]\n",
    "end_day = re.findall('\\d\\d\\d\\d-\\d\\d-\\d\\d', soup.select('span.con')[5].text)[1]\n",
    "routation = re.findall('\\S+', soup.select('span.con')[5].text)[2]\n",
    "edutype = re.sub(' +','', re.sub('\\n','', soup.select('span.con')[12].text))\n",
    "\n",
    "pd.DataFrame([title, academy, rating, category, start_day, end_day, routation, edutype],\n",
    "             index = ['강의제목','학원명','만족도','NCS직무분류','훈련시작일자','훈련종료일자','회차','훈련유형']).T"
   ]
  },
  {
   "cell_type": "markdown",
   "id": "16fc22a2",
   "metadata": {},
   "source": [
    "### 기존 KDT 가져오기"
   ]
  },
  {
   "cell_type": "code",
   "execution_count": 7,
   "id": "788c3264",
   "metadata": {},
   "outputs": [],
   "source": [
    "import pandas as pd\n",
    "# 정적크롤링\n",
    "from bs4 import BeautifulSoup\n",
    "import requests\n",
    "import re\n",
    "# 동적크롤링\n",
    "from selenium import webdriver\n",
    "from selenium.webdriver.common.by import By\n",
    "import time"
   ]
  },
  {
   "cell_type": "code",
   "execution_count": 12,
   "id": "9d8a104c",
   "metadata": {},
   "outputs": [],
   "source": [
    "# 빈 데이터프레임\n",
    "hrd_res = pd.DataFrame(index=['기관명', '훈련과정명', '훈련시작일자', '훈련종료일자', '총훈련기간', '총훈련시간', '취업률']).T"
   ]
  },
  {
   "cell_type": "code",
   "execution_count": 13,
   "id": "611e54c6",
   "metadata": {},
   "outputs": [],
   "source": [
    "# 페이지 반복\n",
    "for page in range(1,50):\n",
    "    url = f'''\n",
    "    https://www.hrd.go.kr/hrdp/ti/ptiao/PTIAO0300L.do?area=00%7C%EC%A0%84%EA%B5%AD+%EC%A0%84%EC%B2%B4&gb=1\n",
    "    &bgrlInstYn=&pageId=2&pageIndex={page}&orderKey=&orderBy=&currentTab=1&tracseTab=1&dmdr=0&monthGubun=12&gb=\n",
    "    &keywordType=1&keyword=AWS&keyword2=&keyword1=&startDate=20240226&endDate=20250226&tracseGbn=&traingMthCd\n",
    "    =&tracseId=&tracseTme=&intrstInfoAdiCn=&tracseId=AIG20210000328553&tracseTme=6&tracseId=AIG20230000455630\n",
    "    &tracseTme=4&tracseId=AIG20210000328828&tracseTme=10&tracseId=AIG20220000383576&tracseTme=7&tracseId=\n",
    "    AIG20220000409523&tracseTme=83&tracseId=&tracseTme=&intrstInfoAdiCn=&tracseId=&tracseTme=&intrstInfoAdiCn\n",
    "    =&tracseId=&tracseTme=&intrstInfoAdiCn=&tracseId=&tracseTme=&intrstInfoAdiCn=&tracseId=&tracseTme=&\n",
    "    intrstInfoAdiCn=&_csrf=54600b11-a30a-41ba-b8de-b09d2eed3dab\n",
    "    '''\n",
    "    req = requests.get(url)\n",
    "    content = req.content\n",
    "    soup = BeautifulSoup(content, 'html.parser')\n",
    "    \n",
    "# 내용 추가\n",
    "    zone = [re.sub('\\n\\t+', '', z.text) for z in soup.select('p.zone')]  # 기관명\n",
    "    name = [re.sub('\\n\\t+', '', n.text) for n in soup.select('p.tit a')]  # 과정명\n",
    "\n",
    "    start_day = []  # 시작일자\n",
    "    end_day = []  # 종료일자\n",
    "\n",
    "    for d in soup.select('dl.item.term'):\n",
    "        if re.findall('\\d+-\\d+-\\d+', d.text) == []:\n",
    "            pass\n",
    "        else:\n",
    "            start_day.append(re.findall('\\d+-\\d+-\\d+', d.text)[0])\n",
    "            end_day.append(re.findall('\\d+-\\d+-\\d+', d.text)[1])\n",
    "\n",
    "    day = []  # 총훈련일자\n",
    "    time = []  # 총훈련기간\n",
    "\n",
    "    for t in soup.select('dl.item.time2'):\n",
    "        day.append(re.sub(',','', re.findall('\\S+', t.text)[1]))\n",
    "        time.append(re.sub(',','', re.findall('\\S+', t.text)[2]))\n",
    "\n",
    "    rate = [re.sub('\\n','',re.sub('\\n+\\t+', '', a.text)) for a in soup.select('dd.graph')]  # 취업률  \n",
    "\n",
    "# 페이지별 데이터프레임\n",
    "    hrd_temp = pd.DataFrame([zone, name, start_day, end_day, day, time, rate],\n",
    "                            index = ['기관명', '훈련과정명', '훈련시작일자', '훈련종료일자', '총훈련기간', '총훈련시간', '취업률']).T\n",
    "# 빈 프레임에 추가    \n",
    "    hrd_res = pd.concat([hrd_res, hrd_temp])"
   ]
  },
  {
   "cell_type": "code",
   "execution_count": 14,
   "id": "c8bffd01",
   "metadata": {},
   "outputs": [
    {
     "data": {
      "text/html": [
       "<div>\n",
       "<style scoped>\n",
       "    .dataframe tbody tr th:only-of-type {\n",
       "        vertical-align: middle;\n",
       "    }\n",
       "\n",
       "    .dataframe tbody tr th {\n",
       "        vertical-align: top;\n",
       "    }\n",
       "\n",
       "    .dataframe thead th {\n",
       "        text-align: right;\n",
       "    }\n",
       "</style>\n",
       "<table border=\"1\" class=\"dataframe\">\n",
       "  <thead>\n",
       "    <tr style=\"text-align: right;\">\n",
       "      <th></th>\n",
       "      <th>기관명</th>\n",
       "      <th>훈련과정명</th>\n",
       "      <th>훈련시작일자</th>\n",
       "      <th>훈련종료일자</th>\n",
       "      <th>총훈련기간</th>\n",
       "      <th>총훈련시간</th>\n",
       "      <th>취업률</th>\n",
       "    </tr>\n",
       "  </thead>\n",
       "  <tbody>\n",
       "    <tr>\n",
       "      <th>0</th>\n",
       "      <td>연희직업전문학교(주)</td>\n",
       "      <td>자바, 파이썬을 활용한 AWS 클라우드 인공지능 실무과정</td>\n",
       "      <td>2024-02-26</td>\n",
       "      <td>2024-07-26</td>\n",
       "      <td>104일</td>\n",
       "      <td>총826시간</td>\n",
       "      <td>82.4 %</td>\n",
       "    </tr>\n",
       "    <tr>\n",
       "      <th>1</th>\n",
       "      <td>코드랩아카데미학원</td>\n",
       "      <td>AI 인공지능컨택센터(AICC) 웹서비스개발</td>\n",
       "      <td>2024-02-26</td>\n",
       "      <td>2024-08-27</td>\n",
       "      <td>125일</td>\n",
       "      <td>총1000시간</td>\n",
       "      <td>취업률(해당없음)</td>\n",
       "    </tr>\n",
       "    <tr>\n",
       "      <th>2</th>\n",
       "      <td>더조은컴퓨터아카데미</td>\n",
       "      <td>자바(JAVA) 웹개발(백앤드)&amp;앱개발자(클라우드활용) 취업캠프</td>\n",
       "      <td>2024-02-26</td>\n",
       "      <td>2024-09-09</td>\n",
       "      <td>135일</td>\n",
       "      <td>총1080시간</td>\n",
       "      <td>74.2 %</td>\n",
       "    </tr>\n",
       "    <tr>\n",
       "      <th>3</th>\n",
       "      <td>코드랩아카데미학원</td>\n",
       "      <td>[데이터자격시험]빅데이터 분석 준전문가자격증(ADsP)</td>\n",
       "      <td>2024-02-26</td>\n",
       "      <td>2024-04-15</td>\n",
       "      <td>20일</td>\n",
       "      <td>총60시간</td>\n",
       "      <td>44.4 %</td>\n",
       "    </tr>\n",
       "    <tr>\n",
       "      <th>4</th>\n",
       "      <td>아이티윌</td>\n",
       "      <td>개발자를 위한 AWS DevOps 입문(CI/CD 무중단 배포)</td>\n",
       "      <td>2024-02-26</td>\n",
       "      <td>2024-03-24</td>\n",
       "      <td>28일</td>\n",
       "      <td>총31시간</td>\n",
       "      <td>취업률(해당없음)</td>\n",
       "    </tr>\n",
       "    <tr>\n",
       "      <th>...</th>\n",
       "      <td>...</td>\n",
       "      <td>...</td>\n",
       "      <td>...</td>\n",
       "      <td>...</td>\n",
       "      <td>...</td>\n",
       "      <td>...</td>\n",
       "      <td>...</td>\n",
       "    </tr>\n",
       "    <tr>\n",
       "      <th>0</th>\n",
       "      <td>이젠컴퓨터아카데미수원</td>\n",
       "      <td>AWS클라우드기반 CS개발자(자바,파이썬,C언어)양성</td>\n",
       "      <td>2024-05-21</td>\n",
       "      <td>2024-11-12</td>\n",
       "      <td>119일</td>\n",
       "      <td>총950시간</td>\n",
       "      <td>76.6 %</td>\n",
       "    </tr>\n",
       "    <tr>\n",
       "      <th>1</th>\n",
       "      <td>한국ICT인재개발원</td>\n",
       "      <td>지능형 도우미 서비스 융합 웹서비스 개발자 과정</td>\n",
       "      <td>2024-06-10</td>\n",
       "      <td>2024-12-31</td>\n",
       "      <td>140일</td>\n",
       "      <td>총1120시간</td>\n",
       "      <td>85.8 %</td>\n",
       "    </tr>\n",
       "    <tr>\n",
       "      <th>2</th>\n",
       "      <td>한국기술교육직업전문학교</td>\n",
       "      <td>(정보시스템구축)윈도우 및 리눅스 기반 네트워크 &amp; 서버 보안 전문가 B</td>\n",
       "      <td>2024-06-24</td>\n",
       "      <td>2024-12-13</td>\n",
       "      <td>119일</td>\n",
       "      <td>총900시간</td>\n",
       "      <td>62.5 %</td>\n",
       "    </tr>\n",
       "    <tr>\n",
       "      <th>3</th>\n",
       "      <td>한국ICT인재개발원</td>\n",
       "      <td>[디지털컨버전스]클라우드AWS기반 자바 SW융합 웹서비스 풀스택 실무과정(1)</td>\n",
       "      <td>2024-07-15</td>\n",
       "      <td>2024-12-27</td>\n",
       "      <td>113일</td>\n",
       "      <td>총900시간</td>\n",
       "      <td>85.8 %</td>\n",
       "    </tr>\n",
       "    <tr>\n",
       "      <th>4</th>\n",
       "      <td>중앙능력개발원</td>\n",
       "      <td>클라우드기반 AWS 융합 스프링부트(자바) 풀스텍 웹 개발자 양성과정 A</td>\n",
       "      <td>2024-09-24</td>\n",
       "      <td>2025-03-11</td>\n",
       "      <td>113일</td>\n",
       "      <td>총900시간</td>\n",
       "      <td>90.2 %</td>\n",
       "    </tr>\n",
       "  </tbody>\n",
       "</table>\n",
       "<p>95 rows × 7 columns</p>\n",
       "</div>"
      ],
      "text/plain": [
       "             기관명                                        훈련과정명      훈련시작일자  \\\n",
       "0    연희직업전문학교(주)              자바, 파이썬을 활용한 AWS 클라우드 인공지능 실무과정  2024-02-26   \n",
       "1      코드랩아카데미학원                     AI 인공지능컨택센터(AICC) 웹서비스개발  2024-02-26   \n",
       "2     더조은컴퓨터아카데미          자바(JAVA) 웹개발(백앤드)&앱개발자(클라우드활용) 취업캠프  2024-02-26   \n",
       "3      코드랩아카데미학원               [데이터자격시험]빅데이터 분석 준전문가자격증(ADsP)  2024-02-26   \n",
       "4           아이티윌          개발자를 위한 AWS DevOps 입문(CI/CD 무중단 배포)  2024-02-26   \n",
       "..           ...                                          ...         ...   \n",
       "0    이젠컴퓨터아카데미수원                AWS클라우드기반 CS개발자(자바,파이썬,C언어)양성  2024-05-21   \n",
       "1     한국ICT인재개발원                   지능형 도우미 서비스 융합 웹서비스 개발자 과정  2024-06-10   \n",
       "2   한국기술교육직업전문학교     (정보시스템구축)윈도우 및 리눅스 기반 네트워크 & 서버 보안 전문가 B  2024-06-24   \n",
       "3     한국ICT인재개발원  [디지털컨버전스]클라우드AWS기반 자바 SW융합 웹서비스 풀스택 실무과정(1)  2024-07-15   \n",
       "4        중앙능력개발원     클라우드기반 AWS 융합 스프링부트(자바) 풀스텍 웹 개발자 양성과정 A  2024-09-24   \n",
       "\n",
       "        훈련종료일자 총훈련기간    총훈련시간        취업률  \n",
       "0   2024-07-26  104일   총826시간     82.4 %  \n",
       "1   2024-08-27  125일  총1000시간  취업률(해당없음)  \n",
       "2   2024-09-09  135일  총1080시간     74.2 %  \n",
       "3   2024-04-15   20일    총60시간     44.4 %  \n",
       "4   2024-03-24   28일    총31시간  취업률(해당없음)  \n",
       "..         ...   ...      ...        ...  \n",
       "0   2024-11-12  119일   총950시간     76.6 %  \n",
       "1   2024-12-31  140일  총1120시간     85.8 %  \n",
       "2   2024-12-13  119일   총900시간     62.5 %  \n",
       "3   2024-12-27  113일   총900시간     85.8 %  \n",
       "4   2025-03-11  113일   총900시간     90.2 %  \n",
       "\n",
       "[95 rows x 7 columns]"
      ]
     },
     "execution_count": 14,
     "metadata": {},
     "output_type": "execute_result"
    }
   ],
   "source": [
    "hrd_res"
   ]
  },
  {
   "cell_type": "code",
   "execution_count": 16,
   "id": "1fb9d089",
   "metadata": {},
   "outputs": [],
   "source": [
    "hrd_res.to_csv('./hrd.csv', encoding='cp949', index=False)"
   ]
  },
  {
   "cell_type": "markdown",
   "id": "b52858be",
   "metadata": {},
   "source": [
    "## 유튜브\n",
    "- 데이터가 많이 없어서 직접 생성"
   ]
  },
  {
   "cell_type": "code",
   "execution_count": 63,
   "id": "e92bc4ed",
   "metadata": {},
   "outputs": [
    {
     "data": {
      "text/html": [
       "<div>\n",
       "<style scoped>\n",
       "    .dataframe tbody tr th:only-of-type {\n",
       "        vertical-align: middle;\n",
       "    }\n",
       "\n",
       "    .dataframe tbody tr th {\n",
       "        vertical-align: top;\n",
       "    }\n",
       "\n",
       "    .dataframe thead th {\n",
       "        text-align: right;\n",
       "    }\n",
       "</style>\n",
       "<table border=\"1\" class=\"dataframe\">\n",
       "  <thead>\n",
       "    <tr style=\"text-align: right;\">\n",
       "      <th></th>\n",
       "      <th>제목</th>\n",
       "      <th>알고리즘 스코어</th>\n",
       "      <th>알고리즘 지수</th>\n",
       "      <th>조회수</th>\n",
       "      <th>댓글 수</th>\n",
       "      <th>좋아요 수</th>\n",
       "      <th>게시일</th>\n",
       "    </tr>\n",
       "  </thead>\n",
       "  <tbody>\n",
       "    <tr>\n",
       "      <th>0</th>\n",
       "      <td>AWS의 최신 생성AI서비스 Bedrock 소개와 무료 강의</td>\n",
       "      <td>44</td>\n",
       "      <td>보통</td>\n",
       "      <td>11,380</td>\n",
       "      <td>16</td>\n",
       "      <td>326</td>\n",
       "      <td>2024-01-07</td>\n",
       "    </tr>\n",
       "    <tr>\n",
       "      <th>1</th>\n",
       "      <td>와.. 이 좋은 걸 여태 몰랐네..AWS\"전액 무료\" AI활용 온라인 강의!!</td>\n",
       "      <td>57</td>\n",
       "      <td>높음</td>\n",
       "      <td>2110</td>\n",
       "      <td>4</td>\n",
       "      <td>79</td>\n",
       "      <td>2024-02-09</td>\n",
       "    </tr>\n",
       "    <tr>\n",
       "      <th>2</th>\n",
       "      <td>[AWS] AWS VPC 상세히 알아보기 - 이론강의</td>\n",
       "      <td>94</td>\n",
       "      <td>매우 높음</td>\n",
       "      <td>6,660</td>\n",
       "      <td>16</td>\n",
       "      <td>175</td>\n",
       "      <td>2021-09-13</td>\n",
       "    </tr>\n",
       "    <tr>\n",
       "      <th>3</th>\n",
       "      <td>개발자를 위한 AWS DevOps 입문 강의 출시되었습니다.</td>\n",
       "      <td>77</td>\n",
       "      <td>매우 높음</td>\n",
       "      <td>1179</td>\n",
       "      <td>18</td>\n",
       "      <td>18</td>\n",
       "      <td>2022-06-14</td>\n",
       "    </tr>\n",
       "    <tr>\n",
       "      <th>4</th>\n",
       "      <td>클라우드는 직접 해봐야 압니다. AWS 전문가에게 배울 수 있는 절호의 기회를 소개...</td>\n",
       "      <td>45</td>\n",
       "      <td>보통</td>\n",
       "      <td>1,683</td>\n",
       "      <td>8</td>\n",
       "      <td>33</td>\n",
       "      <td>2023-08-23</td>\n",
       "    </tr>\n",
       "    <tr>\n",
       "      <th>5</th>\n",
       "      <td>비용이 0원에 가까운 백엔드 아키텍쳐(with.AWS Bulders Korea Pr...</td>\n",
       "      <td>62</td>\n",
       "      <td>높음</td>\n",
       "      <td>1535</td>\n",
       "      <td>11</td>\n",
       "      <td>51</td>\n",
       "      <td>2023-08-25</td>\n",
       "    </tr>\n",
       "    <tr>\n",
       "      <th>6</th>\n",
       "      <td>무료 AWS기초, 자격증준비 필수교육 오픈</td>\n",
       "      <td>53</td>\n",
       "      <td>높음</td>\n",
       "      <td>6,791</td>\n",
       "      <td>18</td>\n",
       "      <td>123</td>\n",
       "      <td>2023-05-31</td>\n",
       "    </tr>\n",
       "    <tr>\n",
       "      <th>7</th>\n",
       "      <td>AWS와 함께 엔지니어의 세계관 확장-AWS 11개 자격증을 취귿한 정태환</td>\n",
       "      <td>59</td>\n",
       "      <td>높음</td>\n",
       "      <td>1223</td>\n",
       "      <td>8</td>\n",
       "      <td>35</td>\n",
       "      <td>2024-01-24</td>\n",
       "    </tr>\n",
       "    <tr>\n",
       "      <th>8</th>\n",
       "      <td>클라우드 경력 개발을 위한 AWS 자격증 취득 노하우</td>\n",
       "      <td>70</td>\n",
       "      <td>매우 높음</td>\n",
       "      <td>1,414</td>\n",
       "      <td>3</td>\n",
       "      <td>40</td>\n",
       "      <td>2023-03-06</td>\n",
       "    </tr>\n",
       "    <tr>\n",
       "      <th>9</th>\n",
       "      <td>AI서비스 제작의 기반이 되는 클라우드 '무료'로 배워보세요!(ft.AWSomeday)</td>\n",
       "      <td>19</td>\n",
       "      <td>낮음</td>\n",
       "      <td>8659</td>\n",
       "      <td>10</td>\n",
       "      <td>168</td>\n",
       "      <td>2023-11-04</td>\n",
       "    </tr>\n",
       "    <tr>\n",
       "      <th>10</th>\n",
       "      <td>신입 대기업 입사 첫날(feat.코알누가 당신의 시니어라면?)</td>\n",
       "      <td>76</td>\n",
       "      <td>매우 높음</td>\n",
       "      <td>11,423</td>\n",
       "      <td>29</td>\n",
       "      <td>106</td>\n",
       "      <td>2023-08-22</td>\n",
       "    </tr>\n",
       "  </tbody>\n",
       "</table>\n",
       "</div>"
      ],
      "text/plain": [
       "                                                   제목  알고리즘 스코어 알고리즘 지수  \\\n",
       "0                   AWS의 최신 생성AI서비스 Bedrock 소개와 무료 강의        44      보통   \n",
       "1         와.. 이 좋은 걸 여태 몰랐네..AWS\"전액 무료\" AI활용 온라인 강의!!        57      높음   \n",
       "2                       [AWS] AWS VPC 상세히 알아보기 - 이론강의        94   매우 높음   \n",
       "3                   개발자를 위한 AWS DevOps 입문 강의 출시되었습니다.        77   매우 높음   \n",
       "4   클라우드는 직접 해봐야 압니다. AWS 전문가에게 배울 수 있는 절호의 기회를 소개...        45      보통   \n",
       "5   비용이 0원에 가까운 백엔드 아키텍쳐(with.AWS Bulders Korea Pr...        62      높음   \n",
       "6                             무료 AWS기초, 자격증준비 필수교육 오픈        53      높음   \n",
       "7           AWS와 함께 엔지니어의 세계관 확장-AWS 11개 자격증을 취귿한 정태환        59      높음   \n",
       "8                       클라우드 경력 개발을 위한 AWS 자격증 취득 노하우        70   매우 높음   \n",
       "9    AI서비스 제작의 기반이 되는 클라우드 '무료'로 배워보세요!(ft.AWSomeday)        19      낮음   \n",
       "10                 신입 대기업 입사 첫날(feat.코알누가 당신의 시니어라면?)        76   매우 높음   \n",
       "\n",
       "      조회수   댓글 수  좋아요 수         게시일  \n",
       "0   11,380    16    326  2024-01-07  \n",
       "1     2110     4     79  2024-02-09  \n",
       "2    6,660    16    175  2021-09-13  \n",
       "3     1179    18     18  2022-06-14  \n",
       "4    1,683     8     33  2023-08-23  \n",
       "5     1535    11     51  2023-08-25  \n",
       "6    6,791    18    123  2023-05-31  \n",
       "7     1223     8     35  2024-01-24  \n",
       "8    1,414     3     40  2023-03-06  \n",
       "9     8659    10    168  2023-11-04  \n",
       "10  11,423    29    106  2023-08-22  "
      ]
     },
     "execution_count": 63,
     "metadata": {},
     "output_type": "execute_result"
    }
   ],
   "source": [
    "pd.read_csv('./유튜브 AWS 강의 및 자격증.csv', encoding='cp949')"
   ]
  },
  {
   "cell_type": "markdown",
   "id": "9964e71e",
   "metadata": {},
   "source": [
    "## Udemy - 동적크롤링 불가능"
   ]
  },
  {
   "cell_type": "code",
   "execution_count": 76,
   "id": "970fbff3",
   "metadata": {},
   "outputs": [],
   "source": [
    "url = 'https://www.udemy.com/course/aws-certified-sysops-administrator-associate-korean/'\n",
    "\n",
    "req = requests.get(url)\n",
    "html = req.content\n",
    "soup = BeautifulSoup(html, 'html.parser')"
   ]
  },
  {
   "cell_type": "code",
   "execution_count": 82,
   "id": "d3500c6b",
   "metadata": {},
   "outputs": [],
   "source": [
    "title = soup.select('h1')[0].text  # 강의명"
   ]
  },
  {
   "cell_type": "code",
   "execution_count": 127,
   "id": "548ca853",
   "metadata": {},
   "outputs": [],
   "source": [
    "rating = soup.select('span.ud-heading-sm.star-rating-module--rating-number--2-qA2')[0].text  # 평점"
   ]
  },
  {
   "cell_type": "code",
   "execution_count": 149,
   "id": "339e0862",
   "metadata": {},
   "outputs": [
    {
     "data": {
      "text/plain": [
       "'3.6'"
      ]
     },
     "execution_count": 149,
     "metadata": {},
     "output_type": "execute_result"
    }
   ],
   "source": [
    "soup.select('span')[13].text  # 평점 2"
   ]
  },
  {
   "cell_type": "code",
   "execution_count": 125,
   "id": "f599d6d5",
   "metadata": {},
   "outputs": [],
   "source": [
    "# 평점 수\n",
    "spans = soup.select('span')\n",
    "\n",
    "for span in spans:\n",
    "    if '개의 평점' in span.text:\n",
    "        rating_count = span\n",
    "\n",
    "rating_count = rating_count.text"
   ]
  },
  {
   "cell_type": "code",
   "execution_count": 152,
   "id": "2de43706",
   "metadata": {},
   "outputs": [
    {
     "data": {
      "text/plain": [
       "'4'"
      ]
     },
     "execution_count": 152,
     "metadata": {},
     "output_type": "execute_result"
    }
   ],
   "source": [
    "re.sub('\\D+','', soup.select('span')[14].text)  # 평점 수 2"
   ]
  },
  {
   "cell_type": "code",
   "execution_count": 140,
   "id": "6b6472bc",
   "metadata": {},
   "outputs": [],
   "source": [
    "student = re.sub('\\D','',soup.select('div.enrollment')[0].text)  # 수강생 수"
   ]
  },
  {
   "cell_type": "code",
   "execution_count": 187,
   "id": "a29dcd23",
   "metadata": {},
   "outputs": [
    {
     "data": {
      "text/plain": [
       "'12024'"
      ]
     },
     "execution_count": 187,
     "metadata": {},
     "output_type": "execute_result"
    }
   ],
   "source": [
    "re.sub('\\D+','',soup.select('span')[19].text)"
   ]
  },
  {
   "cell_type": "code",
   "execution_count": 189,
   "id": "fd348bcf",
   "metadata": {},
   "outputs": [
    {
     "data": {
      "text/plain": [
       "' 1/2024'"
      ]
     },
     "execution_count": 189,
     "metadata": {},
     "output_type": "execute_result"
    }
   ],
   "source": [
    "soup.select('span')[19].text.split(':')[1]  # 마지막 업데이트"
   ]
  },
  {
   "cell_type": "markdown",
   "id": "4088e02b",
   "metadata": {},
   "source": [
    "### 동적 크롤링으로 나머지 불러오기"
   ]
  },
  {
   "cell_type": "code",
   "execution_count": 213,
   "id": "f696a9c0",
   "metadata": {},
   "outputs": [],
   "source": [
    "url = 'https://www.udemy.com/course/aws-certified-sysops-administrator-associate-korean/'\n",
    "\n",
    "driver = webdriver.Chrome()\n",
    "driver.get(url)"
   ]
  },
  {
   "cell_type": "code",
   "execution_count": null,
   "id": "b2a64973",
   "metadata": {},
   "outputs": [],
   "source": [
    "# 동적 크롤링창 바꾸기\n",
    "\n",
    "\n",
    "driver.switch_to.window(driver.window_handles[-1])"
   ]
  },
  {
   "cell_type": "markdown",
   "id": "0dd037ba",
   "metadata": {},
   "source": [
    "## 멀티캠퍼스"
   ]
  },
  {
   "cell_type": "code",
   "execution_count": 229,
   "id": "b491d91c",
   "metadata": {},
   "outputs": [],
   "source": [
    "url = 'https://www.multicampus.com/search?kwd=AWS&category=CF&subCategory=&reSrchFlag=false&pageNum=1&pageSize=&sort=&startDate=&endDate=&learning=&learningWay=&PaperPro=&level=&property=&setCm=&contents=&books=&learningDate=&board=&cls=&langClub=&global=&filterToggleBtn=#lnk'\n",
    "\n",
    "driver = webdriver.Chrome()\n",
    "driver.get(url)\n",
    "\n",
    "time.sleep(1)\n",
    "soup = BeautifulSoup(driver.page_source, 'html.parser')"
   ]
  },
  {
   "cell_type": "code",
   "execution_count": 223,
   "id": "972ab6df",
   "metadata": {},
   "outputs": [
    {
     "ename": "AttributeError",
     "evalue": "'WebDriver' object has no attribute 'window_hadles'",
     "output_type": "error",
     "traceback": [
      "\u001b[1;31m---------------------------------------------------------------------------\u001b[0m",
      "\u001b[1;31mAttributeError\u001b[0m                            Traceback (most recent call last)",
      "Cell \u001b[1;32mIn[223], line 1\u001b[0m\n\u001b[1;32m----> 1\u001b[0m driver\u001b[38;5;241m.\u001b[39mswitch_to\u001b[38;5;241m.\u001b[39mwindow(driver\u001b[38;5;241m.\u001b[39mwindow_hadles[\u001b[38;5;241m-\u001b[39m\u001b[38;5;241m1\u001b[39m])\n",
      "\u001b[1;31mAttributeError\u001b[0m: 'WebDriver' object has no attribute 'window_hadles'"
     ]
    }
   ],
   "source": [
    "stars = []\n",
    "\n",
    "for i in range(1,11):\n",
    "    driver.find_element(By.XPATH, '//*[@id=\"data-cate-CF\"]/div[1]/ul/li[{i}]/div/div[2]/div[2]/div/a/div')\n",
    "    driver.find_element(By.XPATH, '//*[@id=\"data-cate-CF\"]/div[1]/ul/li[{i}]/div/div[2]/div[2]/div/a/div').click()\n",
    "\n",
    "    time.sleep(1)\n",
    "    driver.switch_to.window(driver.window_handles[-1])\n",
    "\n",
    "    soup = BeautifulSoup(driver.page_source, 'html.parser')\n",
    "    star = soup.select('span.starRating')[0]['title']\n",
    "    stars.append(star)\n",
    "\n",
    "    driver.close()\n",
    "    time.sleep(.5)\n",
    "    driver.switch_to.window(driver.window_handles[-1])"
   ]
  },
  {
   "cell_type": "code",
   "execution_count": null,
   "id": "53b4bf53",
   "metadata": {},
   "outputs": [],
   "source": [
    "//*[@id=\"data-cate-CF\"]/div[1]/ul/li[1]/div/div[2]/div[2]/div/a/div\n",
    "//*[@id=\"data-cate-CF\"]/div[1]/ul/li[2]/div/div[2]/div[2]/div/a/div"
   ]
  },
  {
   "cell_type": "code",
   "execution_count": 230,
   "id": "925663f4",
   "metadata": {},
   "outputs": [
    {
     "ename": "NoSuchElementException",
     "evalue": "Message: no such element: Unable to locate element: {\"method\":\"xpath\",\"selector\":\"//*[@id=\"data-cate-CF\"]/div[1]/ul/li[2]/div/div[2]/div[2]/div/a/div\"}\n  (Session info: chrome=122.0.6261.57); For documentation on this error, please visit: https://www.selenium.dev/documentation/webdriver/troubleshooting/errors#no-such-element-exception\nStacktrace:\n\tGetHandleVerifier [0x00007FF787B94C82+3505170]\n\t(No symbol) [0x00007FF7877C0852]\n\t(No symbol) [0x00007FF787674145]\n\t(No symbol) [0x00007FF7876B9ADD]\n\t(No symbol) [0x00007FF7876B9C1C]\n\t(No symbol) [0x00007FF7876FAB27]\n\t(No symbol) [0x00007FF7876DBECF]\n\t(No symbol) [0x00007FF7876F83B2]\n\t(No symbol) [0x00007FF7876DBC33]\n\t(No symbol) [0x00007FF7876AD618]\n\t(No symbol) [0x00007FF7876AE6B1]\n\tGetHandleVerifier [0x00007FF787BC67DD+3708781]\n\tGetHandleVerifier [0x00007FF787C1FC5D+4074477]\n\tGetHandleVerifier [0x00007FF787C17DDF+4042095]\n\tGetHandleVerifier [0x00007FF7878EA136+708806]\n\t(No symbol) [0x00007FF7877CCB0F]\n\t(No symbol) [0x00007FF7877C7D14]\n\t(No symbol) [0x00007FF7877C7E6C]\n\t(No symbol) [0x00007FF7877B79A4]\n\tBaseThreadInitThunk [0x00007FFCEBAC257D+29]\n\tRtlUserThreadStart [0x00007FFCED40AA58+40]\n",
     "output_type": "error",
     "traceback": [
      "\u001b[1;31m---------------------------------------------------------------------------\u001b[0m",
      "\u001b[1;31mNoSuchElementException\u001b[0m                    Traceback (most recent call last)",
      "Cell \u001b[1;32mIn[230], line 2\u001b[0m\n\u001b[0;32m      1\u001b[0m \u001b[38;5;28;01mfor\u001b[39;00m i \u001b[38;5;129;01min\u001b[39;00m \u001b[38;5;28mrange\u001b[39m(\u001b[38;5;241m1\u001b[39m,\u001b[38;5;241m11\u001b[39m):\n\u001b[1;32m----> 2\u001b[0m     driver\u001b[38;5;241m.\u001b[39mfind_element(By\u001b[38;5;241m.\u001b[39mXPATH, \u001b[38;5;124mf\u001b[39m\u001b[38;5;124m'\u001b[39m\u001b[38;5;124m//*[@id=\u001b[39m\u001b[38;5;124m\"\u001b[39m\u001b[38;5;124mdata-cate-CF\u001b[39m\u001b[38;5;124m\"\u001b[39m\u001b[38;5;124m]/div[1]/ul/li[\u001b[39m\u001b[38;5;132;01m{\u001b[39;00mi\u001b[38;5;132;01m}\u001b[39;00m\u001b[38;5;124m]/div/div[2]/div[2]/div/a/div\u001b[39m\u001b[38;5;124m'\u001b[39m)\n\u001b[0;32m      3\u001b[0m     driver\u001b[38;5;241m.\u001b[39mfind_element(By\u001b[38;5;241m.\u001b[39mXPATH, \u001b[38;5;124mf\u001b[39m\u001b[38;5;124m'\u001b[39m\u001b[38;5;124m//*[@id=\u001b[39m\u001b[38;5;124m\"\u001b[39m\u001b[38;5;124mdata-cate-CF\u001b[39m\u001b[38;5;124m\"\u001b[39m\u001b[38;5;124m]/div[1]/ul/li[\u001b[39m\u001b[38;5;132;01m{\u001b[39;00mi\u001b[38;5;132;01m}\u001b[39;00m\u001b[38;5;124m]/div/div[2]/div[2]/div/a/div\u001b[39m\u001b[38;5;124m'\u001b[39m)\u001b[38;5;241m.\u001b[39mclick()\n\u001b[0;32m      5\u001b[0m     time\u001b[38;5;241m.\u001b[39msleep(\u001b[38;5;241m.5\u001b[39m)\n",
      "File \u001b[1;32m~\\AppData\\Roaming\\Python\\Python311\\site-packages\\selenium\\webdriver\\remote\\webdriver.py:741\u001b[0m, in \u001b[0;36mWebDriver.find_element\u001b[1;34m(self, by, value)\u001b[0m\n\u001b[0;32m    738\u001b[0m     by \u001b[38;5;241m=\u001b[39m By\u001b[38;5;241m.\u001b[39mCSS_SELECTOR\n\u001b[0;32m    739\u001b[0m     value \u001b[38;5;241m=\u001b[39m \u001b[38;5;124mf\u001b[39m\u001b[38;5;124m'\u001b[39m\u001b[38;5;124m[name=\u001b[39m\u001b[38;5;124m\"\u001b[39m\u001b[38;5;132;01m{\u001b[39;00mvalue\u001b[38;5;132;01m}\u001b[39;00m\u001b[38;5;124m\"\u001b[39m\u001b[38;5;124m]\u001b[39m\u001b[38;5;124m'\u001b[39m\n\u001b[1;32m--> 741\u001b[0m \u001b[38;5;28;01mreturn\u001b[39;00m \u001b[38;5;28mself\u001b[39m\u001b[38;5;241m.\u001b[39mexecute(Command\u001b[38;5;241m.\u001b[39mFIND_ELEMENT, {\u001b[38;5;124m\"\u001b[39m\u001b[38;5;124musing\u001b[39m\u001b[38;5;124m\"\u001b[39m: by, \u001b[38;5;124m\"\u001b[39m\u001b[38;5;124mvalue\u001b[39m\u001b[38;5;124m\"\u001b[39m: value})[\u001b[38;5;124m\"\u001b[39m\u001b[38;5;124mvalue\u001b[39m\u001b[38;5;124m\"\u001b[39m]\n",
      "File \u001b[1;32m~\\AppData\\Roaming\\Python\\Python311\\site-packages\\selenium\\webdriver\\remote\\webdriver.py:347\u001b[0m, in \u001b[0;36mWebDriver.execute\u001b[1;34m(self, driver_command, params)\u001b[0m\n\u001b[0;32m    345\u001b[0m response \u001b[38;5;241m=\u001b[39m \u001b[38;5;28mself\u001b[39m\u001b[38;5;241m.\u001b[39mcommand_executor\u001b[38;5;241m.\u001b[39mexecute(driver_command, params)\n\u001b[0;32m    346\u001b[0m \u001b[38;5;28;01mif\u001b[39;00m response:\n\u001b[1;32m--> 347\u001b[0m     \u001b[38;5;28mself\u001b[39m\u001b[38;5;241m.\u001b[39merror_handler\u001b[38;5;241m.\u001b[39mcheck_response(response)\n\u001b[0;32m    348\u001b[0m     response[\u001b[38;5;124m\"\u001b[39m\u001b[38;5;124mvalue\u001b[39m\u001b[38;5;124m\"\u001b[39m] \u001b[38;5;241m=\u001b[39m \u001b[38;5;28mself\u001b[39m\u001b[38;5;241m.\u001b[39m_unwrap_value(response\u001b[38;5;241m.\u001b[39mget(\u001b[38;5;124m\"\u001b[39m\u001b[38;5;124mvalue\u001b[39m\u001b[38;5;124m\"\u001b[39m, \u001b[38;5;28;01mNone\u001b[39;00m))\n\u001b[0;32m    349\u001b[0m     \u001b[38;5;28;01mreturn\u001b[39;00m response\n",
      "File \u001b[1;32m~\\AppData\\Roaming\\Python\\Python311\\site-packages\\selenium\\webdriver\\remote\\errorhandler.py:229\u001b[0m, in \u001b[0;36mErrorHandler.check_response\u001b[1;34m(self, response)\u001b[0m\n\u001b[0;32m    227\u001b[0m         alert_text \u001b[38;5;241m=\u001b[39m value[\u001b[38;5;124m\"\u001b[39m\u001b[38;5;124malert\u001b[39m\u001b[38;5;124m\"\u001b[39m]\u001b[38;5;241m.\u001b[39mget(\u001b[38;5;124m\"\u001b[39m\u001b[38;5;124mtext\u001b[39m\u001b[38;5;124m\"\u001b[39m)\n\u001b[0;32m    228\u001b[0m     \u001b[38;5;28;01mraise\u001b[39;00m exception_class(message, screen, stacktrace, alert_text)  \u001b[38;5;66;03m# type: ignore[call-arg]  # mypy is not smart enough here\u001b[39;00m\n\u001b[1;32m--> 229\u001b[0m \u001b[38;5;28;01mraise\u001b[39;00m exception_class(message, screen, stacktrace)\n",
      "\u001b[1;31mNoSuchElementException\u001b[0m: Message: no such element: Unable to locate element: {\"method\":\"xpath\",\"selector\":\"//*[@id=\"data-cate-CF\"]/div[1]/ul/li[2]/div/div[2]/div[2]/div/a/div\"}\n  (Session info: chrome=122.0.6261.57); For documentation on this error, please visit: https://www.selenium.dev/documentation/webdriver/troubleshooting/errors#no-such-element-exception\nStacktrace:\n\tGetHandleVerifier [0x00007FF787B94C82+3505170]\n\t(No symbol) [0x00007FF7877C0852]\n\t(No symbol) [0x00007FF787674145]\n\t(No symbol) [0x00007FF7876B9ADD]\n\t(No symbol) [0x00007FF7876B9C1C]\n\t(No symbol) [0x00007FF7876FAB27]\n\t(No symbol) [0x00007FF7876DBECF]\n\t(No symbol) [0x00007FF7876F83B2]\n\t(No symbol) [0x00007FF7876DBC33]\n\t(No symbol) [0x00007FF7876AD618]\n\t(No symbol) [0x00007FF7876AE6B1]\n\tGetHandleVerifier [0x00007FF787BC67DD+3708781]\n\tGetHandleVerifier [0x00007FF787C1FC5D+4074477]\n\tGetHandleVerifier [0x00007FF787C17DDF+4042095]\n\tGetHandleVerifier [0x00007FF7878EA136+708806]\n\t(No symbol) [0x00007FF7877CCB0F]\n\t(No symbol) [0x00007FF7877C7D14]\n\t(No symbol) [0x00007FF7877C7E6C]\n\t(No symbol) [0x00007FF7877B79A4]\n\tBaseThreadInitThunk [0x00007FFCEBAC257D+29]\n\tRtlUserThreadStart [0x00007FFCED40AA58+40]\n"
     ]
    }
   ],
   "source": [
    "for i in range(1,11):\n",
    "    driver.find_element(By.XPATH, f'//*[@id=\"data-cate-CF\"]/div[1]/ul/li[{i}]/div/div[2]/div[2]/div/a/div')\n",
    "    driver.find_element(By.XPATH, f'//*[@id=\"data-cate-CF\"]/div[1]/ul/li[{i}]/div/div[2]/div[2]/div/a/div').click()\n",
    "\n",
    "    time.sleep(.5)"
   ]
  },
  {
   "cell_type": "code",
   "execution_count": null,
   "id": "c4af0438",
   "metadata": {},
   "outputs": [],
   "source": []
  },
  {
   "cell_type": "code",
   "execution_count": null,
   "id": "2a89f7bb",
   "metadata": {},
   "outputs": [],
   "source": []
  },
  {
   "cell_type": "code",
   "execution_count": null,
   "id": "e490f6cc",
   "metadata": {},
   "outputs": [],
   "source": []
  },
  {
   "cell_type": "code",
   "execution_count": null,
   "id": "79a47143",
   "metadata": {},
   "outputs": [],
   "source": []
  },
  {
   "cell_type": "code",
   "execution_count": null,
   "id": "2d1f6bc4",
   "metadata": {},
   "outputs": [],
   "source": []
  },
  {
   "cell_type": "code",
   "execution_count": null,
   "id": "433dc1ce",
   "metadata": {},
   "outputs": [],
   "source": []
  },
  {
   "cell_type": "code",
   "execution_count": null,
   "id": "d3bdf808",
   "metadata": {},
   "outputs": [],
   "source": []
  },
  {
   "cell_type": "code",
   "execution_count": null,
   "id": "41869838",
   "metadata": {},
   "outputs": [],
   "source": []
  },
  {
   "cell_type": "markdown",
   "id": "51aaf5aa",
   "metadata": {},
   "source": [
    "# 구인구직 사이트"
   ]
  },
  {
   "cell_type": "markdown",
   "id": "f591fe5f-e03e-452e-bb99-f63d549dd278",
   "metadata": {},
   "source": [
    "## 잡코리아"
   ]
  },
  {
   "cell_type": "code",
   "execution_count": 84,
   "id": "875064ed-a70e-4809-a57c-e0574bbc2e7d",
   "metadata": {
    "tags": []
   },
   "outputs": [],
   "source": [
    "driver = webdriver.Chrome()\n",
    "url = 'https://www.jobkorea.co.kr/Search/?stext=AWS&tabType=recruit&Page_No=1&Ord=RegDtDesc&focusTab=&focusGno=44063713'\n",
    "driver.get(url)"
   ]
  },
  {
   "cell_type": "code",
   "execution_count": 85,
   "id": "029fe9a5-5ee2-4ac9-b1b5-403b08dfeeca",
   "metadata": {
    "tags": []
   },
   "outputs": [],
   "source": [
    "stars = []\n",
    "\n",
    "for i in range(1,11):\n",
    "    driver.find_element(By.XPATH, f'//*[@id=\"contentArea\"]/div[6]/ul/li[{i}]/div/p')\n",
    "    driver.find_element(By.XPATH, f'//*[@id=\"contentArea\"]/div[6]/ul/li[{i}]/div/p/a').click()\n",
    "\n",
    "    time.sleep(1)\n",
    "    driver.switch_to.window(driver.window_handles[-1])\n",
    "\n",
    "    soup = BeautifulSoup(driver.page_source, 'html.parser')\n",
    "    star = soup.select('span.starRating')[0]['title']\n",
    "    stars.append(star)\n",
    "\n",
    "    driver.close()\n",
    "    time.sleep(.5)\n",
    "    driver.switch_to.window(driver.window_handles[-1])"
   ]
  },
  {
   "cell_type": "code",
   "execution_count": 86,
   "id": "d1ee9b51-85de-47c8-ac16-5f29f6dab156",
   "metadata": {
    "tags": []
   },
   "outputs": [
    {
     "data": {
      "text/plain": [
       "['만족도 100점 기준92.9점',\n",
       " '만족도 100점 기준86.6점',\n",
       " '만족도 100점 기준68.5점',\n",
       " '만족도 100점 기준0점',\n",
       " '만족도 100점 기준90.5점',\n",
       " '만족도 100점 기준84.2점',\n",
       " '만족도 100점 기준87.5점',\n",
       " '만족도 100점 기준84.2점',\n",
       " '만족도 100점 기준73.1점',\n",
       " '만족도 100점 기준84.1점']"
      ]
     },
     "execution_count": 86,
     "metadata": {},
     "output_type": "execute_result"
    }
   ],
   "source": [
    "stars"
   ]
  },
  {
   "cell_type": "markdown",
   "id": "bb80f341",
   "metadata": {},
   "source": [
    "## 원티드"
   ]
  },
  {
   "cell_type": "code",
   "execution_count": 18,
   "id": "3932a4a2-b58e-4288-8836-56999e2bcc3f",
   "metadata": {},
   "outputs": [],
   "source": [
    "import pandas as pd\n",
    "# 정적크롤링\n",
    "from bs4 import BeautifulSoup\n",
    "import requests\n",
    "import re\n",
    "# 동적크롤링\n",
    "from selenium import webdriver\n",
    "from selenium.webdriver.common.by import By\n",
    "import time"
   ]
  },
  {
   "cell_type": "code",
   "execution_count": 20,
   "id": "6592592a-893a-4e2b-8056-10157c7f00b0",
   "metadata": {},
   "outputs": [],
   "source": [
    "url = 'https://www.wanted.co.kr/wdlist/518?country=kr&job_sort=job.recommend_order&years=-1&skill_tags=1698&selected=10110&selected=873&selected=872&selected=669&selected=660&locations=seoul.all'\n",
    "driver = webdriver.Chrome()\n",
    "driver.get(url)"
   ]
  },
  {
   "cell_type": "code",
   "execution_count": 16,
   "id": "6f45b428-3dae-4476-bb6f-40b032eae855",
   "metadata": {},
   "outputs": [],
   "source": [
    "from selenium import webdriver\n",
    "from selenium.webdriver.chrome.options import Options\n",
    "\n",
    "# Chrome 옵션 설정\n",
    "chrome_options = Options()\n",
    "chrome_options.add_argument(\"--disable-notifications\") # 알림 차단\n",
    "chrome_options.add_experimental_option(\"prefs\", {\n",
    "    \"profile.default_content_setting_values.geolocation\": 2, # 위치 정보 요청 차단\n",
    "    \"profile.default_content_setting_values.notifications\": 2, # 알림 요청 차단\n",
    "    \"profile.default_content_setting_values.media_stream_camera\": 2, # 카메라 요청 차단\n",
    "    \"profile.default_content_setting_values.media_stream_mic\": 2, # 마이크 요청 차단\n",
    "})\n",
    "\n",
    "# 웹드라이버 초기화\n",
    "driver = webdriver.Chrome(options=chrome_options)\n",
    "\n",
    "# 웹사이트 열기\n",
    "driver.get(url)\n",
    "\n",
    "# 크롤링 로직...\n",
    "\n",
    "# 드라이버 종료\n",
    "# driver.quit()\n"
   ]
  }
 ],
 "metadata": {
  "kernelspec": {
   "display_name": "Python 3 (ipykernel)",
   "language": "python",
   "name": "python3"
  },
  "language_info": {
   "codemirror_mode": {
    "name": "ipython",
    "version": 3
   },
   "file_extension": ".py",
   "mimetype": "text/x-python",
   "name": "python",
   "nbconvert_exporter": "python",
   "pygments_lexer": "ipython3",
   "version": "3.11.5"
  }
 },
 "nbformat": 4,
 "nbformat_minor": 5
}
