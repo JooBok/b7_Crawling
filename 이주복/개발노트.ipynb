{
 "cells": [
  {
   "cell_type": "code",
   "execution_count": 72,
   "id": "3119e74d-2c71-4911-9d15-65c7c3da26cb",
   "metadata": {
    "tags": []
   },
   "outputs": [],
   "source": [
    "import pandas as pd\n",
    "# 정적크롤링\n",
    "from bs4 import BeautifulSoup\n",
    "import requests\n",
    "import re\n",
    "# 동적크롤링\n",
    "from selenium import webdriver\n",
    "from selenium.webdriver.common.by import By\n",
    "import time"
   ]
  },
  {
   "cell_type": "markdown",
   "id": "606c9847-c3e0-417f-821a-da9cc50d60c8",
   "metadata": {},
   "source": [
    "1. 빈 데이터프레임 생성\n",
    "2. 각 컬럼 리스트화 하여 변수 지정\n",
    "3. 각 컬럼 임시 데이터프레임에 추가\n",
    "4. 빈 데이터프레임에 임시 데이터프레임 concat\n",
    "5. 2~4과정 페이지 반복문으로 묶기\n",
    "6. 엑셀또는 csv파일로 저장"
   ]
  },
  {
   "cell_type": "markdown",
   "id": "505b7915-4555-4009-989f-265e73951e42",
   "metadata": {
    "jp-MarkdownHeadingCollapsed": true,
    "tags": []
   },
   "source": [
    "# HRD-NET AWS키워드 검색"
   ]
  },
  {
   "cell_type": "code",
   "execution_count": 69,
   "id": "a162de2f-a75c-44a0-aaec-27627b7f25f2",
   "metadata": {
    "tags": []
   },
   "outputs": [],
   "source": [
    "# 동적크롤링과 소스코드 연동\n",
    "url = 'https://www.hrd.go.kr/hrdp/ti/ptiao/PTIAO0300L.do?crseTracseSeSelected=%EC%A0%84%EC%B2%B4&ncsSelected=&areaSelected=&searchTotalKeyword=undefined&area=00%7C%EC%A0%84%EA%B5%AD+%EC%A0%84%EC%B2%B4&pageId=2&bgrlInstYn=&currentTab=1&pageIndex=1&kDgtlYn=&crseTracseSeNum=&pageSize=10&orderKey=2&orderBy=ASC&mberId=&mberSe=&pop=&kdgLinkYn=&monthGubun=12&topMenuYn=&gb=1&keywordType=1&keyword=AWS&keyword2=&keyword1=&startDate=20240221&endDate=20250221&i2=A&dghtSe=A&traingMthCd=A&totamtSuptYn=A&totTraingTime=A&tracseId=&tracseTme=&intrstInfoAdiCn=&pageOrder=2ASC&pageRow=100&tracseId=AIG20230000456640&tracseTme=16&tracseId=AIG20220000385887&tracseTme=8&tracseId=AIG20220000400463&tracseTme=7&tracseId=AIG20230000450709&tracseTme=1&tracseId=AIG20230000445756&tracseTme=1&tracseId=AIG20230000447342&tracseTme=1&tracseId=AIG20220000387503&tracseTme=7&tracseId=AIG20220000396141&tracseTme=9&tracseId=AIG20233000931929&tracseTme=3&tracseId=AIG20230000412798&tracseTme=2'\n",
    "driver = webdriver.Chrome()\n",
    "driver.get(url)\n",
    "\n",
    "soup = BeautifulSoup(driver.page_source, 'html.parser')"
   ]
  },
  {
   "cell_type": "code",
   "execution_count": 70,
   "id": "ea4b63a6-061c-44a5-9255-66f9cd4a7b55",
   "metadata": {
    "tags": []
   },
   "outputs": [
    {
     "data": {
      "text/plain": [
       "<selenium.webdriver.remote.webelement.WebElement (session=\"83f474f46e2b38f3b176a4ef9b6fadc8\", element=\"f.22C6F207B8B12A731849F9A8DADBA164.d.B67F925B283BA117399CB91090C22FF8.e.95\")>"
      ]
     },
     "execution_count": 70,
     "metadata": {},
     "output_type": "execute_result"
    }
   ],
   "source": [
    "driver.find_element(By.XPATH, f'//*[@id=\"contentArea\"]/div[6]/ul/li[1]/div[2]/p/a')"
   ]
  },
  {
   "cell_type": "code",
   "execution_count": 5,
   "id": "7c2dc76d-059e-401b-8fae-0cdc9b5c9a7a",
   "metadata": {
    "tags": []
   },
   "outputs": [
    {
     "data": {
      "text/plain": [
       "[]"
      ]
     },
     "execution_count": 5,
     "metadata": {},
     "output_type": "execute_result"
    }
   ],
   "source": [
    "driver.find_elements(By.XPATH, f'//*[@id=\"contentArea\"]/div[6]/ul/li[97]/div[2]/p/a')"
   ]
  },
  {
   "cell_type": "code",
   "execution_count": 71,
   "id": "40e14717-0032-4630-b211-cf825c9aecd8",
   "metadata": {
    "tags": []
   },
   "outputs": [
    {
     "ename": "KeyboardInterrupt",
     "evalue": "",
     "output_type": "error",
     "traceback": [
      "\u001b[1;31m---------------------------------------------------------------------------\u001b[0m",
      "\u001b[1;31mKeyboardInterrupt\u001b[0m                         Traceback (most recent call last)",
      "Cell \u001b[1;32mIn[71], line 13\u001b[0m\n\u001b[0;32m     11\u001b[0m \u001b[38;5;66;03m# 특성 추가\u001b[39;00m\n\u001b[0;32m     12\u001b[0m content \u001b[38;5;241m=\u001b[39m req\u001b[38;5;241m.\u001b[39mcontent\n\u001b[1;32m---> 13\u001b[0m soup \u001b[38;5;241m=\u001b[39m BeautifulSoup(content, \u001b[38;5;124m'\u001b[39m\u001b[38;5;124mhtml.parser\u001b[39m\u001b[38;5;124m'\u001b[39m)\n\u001b[0;32m     15\u001b[0m title \u001b[38;5;241m=\u001b[39m re\u001b[38;5;241m.\u001b[39msub(\u001b[38;5;124m'\u001b[39m\u001b[38;5;130;01m\\n\u001b[39;00m\u001b[38;5;124m'\u001b[39m,\u001b[38;5;124m'\u001b[39m\u001b[38;5;124m'\u001b[39m,soup\u001b[38;5;241m.\u001b[39mselect(\u001b[38;5;124m'\u001b[39m\u001b[38;5;124mh4\u001b[39m\u001b[38;5;124m'\u001b[39m)[\u001b[38;5;241m0\u001b[39m]\u001b[38;5;241m.\u001b[39mtext)\u001b[38;5;241m.\u001b[39mstrip()\n\u001b[0;32m     16\u001b[0m academy \u001b[38;5;241m=\u001b[39m re\u001b[38;5;241m.\u001b[39msub(\u001b[38;5;124m'\u001b[39m\u001b[38;5;130;01m\\n\u001b[39;00m\u001b[38;5;124m'\u001b[39m,\u001b[38;5;124m'\u001b[39m\u001b[38;5;124m'\u001b[39m,soup\u001b[38;5;241m.\u001b[39mselect(\u001b[38;5;124m'\u001b[39m\u001b[38;5;124mp.add\u001b[39m\u001b[38;5;124m'\u001b[39m)[\u001b[38;5;241m0\u001b[39m]\u001b[38;5;241m.\u001b[39mtext)\u001b[38;5;241m.\u001b[39mstrip()\n",
      "File \u001b[1;32mC:\\ProgramData\\anaconda3\\Lib\\site-packages\\bs4\\__init__.py:335\u001b[0m, in \u001b[0;36mBeautifulSoup.__init__\u001b[1;34m(self, markup, features, builder, parse_only, from_encoding, exclude_encodings, element_classes, **kwargs)\u001b[0m\n\u001b[0;32m    333\u001b[0m \u001b[38;5;28mself\u001b[39m\u001b[38;5;241m.\u001b[39mbuilder\u001b[38;5;241m.\u001b[39minitialize_soup(\u001b[38;5;28mself\u001b[39m)\n\u001b[0;32m    334\u001b[0m \u001b[38;5;28;01mtry\u001b[39;00m:\n\u001b[1;32m--> 335\u001b[0m     \u001b[38;5;28mself\u001b[39m\u001b[38;5;241m.\u001b[39m_feed()\n\u001b[0;32m    336\u001b[0m     success \u001b[38;5;241m=\u001b[39m \u001b[38;5;28;01mTrue\u001b[39;00m\n\u001b[0;32m    337\u001b[0m     \u001b[38;5;28;01mbreak\u001b[39;00m\n",
      "File \u001b[1;32mC:\\ProgramData\\anaconda3\\Lib\\site-packages\\bs4\\__init__.py:478\u001b[0m, in \u001b[0;36mBeautifulSoup._feed\u001b[1;34m(self)\u001b[0m\n\u001b[0;32m    475\u001b[0m \u001b[38;5;66;03m# Convert the document to Unicode.\u001b[39;00m\n\u001b[0;32m    476\u001b[0m \u001b[38;5;28mself\u001b[39m\u001b[38;5;241m.\u001b[39mbuilder\u001b[38;5;241m.\u001b[39mreset()\n\u001b[1;32m--> 478\u001b[0m \u001b[38;5;28mself\u001b[39m\u001b[38;5;241m.\u001b[39mbuilder\u001b[38;5;241m.\u001b[39mfeed(\u001b[38;5;28mself\u001b[39m\u001b[38;5;241m.\u001b[39mmarkup)\n\u001b[0;32m    479\u001b[0m \u001b[38;5;66;03m# Close out any unfinished strings and close all the open tags.\u001b[39;00m\n\u001b[0;32m    480\u001b[0m \u001b[38;5;28mself\u001b[39m\u001b[38;5;241m.\u001b[39mendData()\n",
      "File \u001b[1;32mC:\\ProgramData\\anaconda3\\Lib\\site-packages\\bs4\\builder\\_htmlparser.py:380\u001b[0m, in \u001b[0;36mHTMLParserTreeBuilder.feed\u001b[1;34m(self, markup)\u001b[0m\n\u001b[0;32m    378\u001b[0m parser\u001b[38;5;241m.\u001b[39msoup \u001b[38;5;241m=\u001b[39m \u001b[38;5;28mself\u001b[39m\u001b[38;5;241m.\u001b[39msoup\n\u001b[0;32m    379\u001b[0m \u001b[38;5;28;01mtry\u001b[39;00m:\n\u001b[1;32m--> 380\u001b[0m     parser\u001b[38;5;241m.\u001b[39mfeed(markup)\n\u001b[0;32m    381\u001b[0m \u001b[38;5;28;01mexcept\u001b[39;00m \u001b[38;5;167;01mAssertionError\u001b[39;00m \u001b[38;5;28;01mas\u001b[39;00m e:\n\u001b[0;32m    382\u001b[0m     \u001b[38;5;66;03m# html.parser raises AssertionError in rare cases to\u001b[39;00m\n\u001b[0;32m    383\u001b[0m     \u001b[38;5;66;03m# indicate a fatal problem with the markup, especially\u001b[39;00m\n\u001b[0;32m    384\u001b[0m     \u001b[38;5;66;03m# when there's an error in the doctype declaration.\u001b[39;00m\n\u001b[0;32m    385\u001b[0m     \u001b[38;5;28;01mraise\u001b[39;00m ParserRejectedMarkup(e)\n",
      "File \u001b[1;32mC:\\ProgramData\\anaconda3\\Lib\\html\\parser.py:110\u001b[0m, in \u001b[0;36mHTMLParser.feed\u001b[1;34m(self, data)\u001b[0m\n\u001b[0;32m    104\u001b[0m \u001b[38;5;250m\u001b[39m\u001b[38;5;124mr\u001b[39m\u001b[38;5;124;03m\"\"\"Feed data to the parser.\u001b[39;00m\n\u001b[0;32m    105\u001b[0m \n\u001b[0;32m    106\u001b[0m \u001b[38;5;124;03mCall this as often as you want, with as little or as much text\u001b[39;00m\n\u001b[0;32m    107\u001b[0m \u001b[38;5;124;03mas you want (may include '\\n').\u001b[39;00m\n\u001b[0;32m    108\u001b[0m \u001b[38;5;124;03m\"\"\"\u001b[39;00m\n\u001b[0;32m    109\u001b[0m \u001b[38;5;28mself\u001b[39m\u001b[38;5;241m.\u001b[39mrawdata \u001b[38;5;241m=\u001b[39m \u001b[38;5;28mself\u001b[39m\u001b[38;5;241m.\u001b[39mrawdata \u001b[38;5;241m+\u001b[39m data\n\u001b[1;32m--> 110\u001b[0m \u001b[38;5;28mself\u001b[39m\u001b[38;5;241m.\u001b[39mgoahead(\u001b[38;5;241m0\u001b[39m)\n",
      "File \u001b[1;32mC:\\ProgramData\\anaconda3\\Lib\\html\\parser.py:172\u001b[0m, in \u001b[0;36mHTMLParser.goahead\u001b[1;34m(self, end)\u001b[0m\n\u001b[0;32m    170\u001b[0m     k \u001b[38;5;241m=\u001b[39m \u001b[38;5;28mself\u001b[39m\u001b[38;5;241m.\u001b[39mparse_starttag(i)\n\u001b[0;32m    171\u001b[0m \u001b[38;5;28;01melif\u001b[39;00m startswith(\u001b[38;5;124m\"\u001b[39m\u001b[38;5;124m</\u001b[39m\u001b[38;5;124m\"\u001b[39m, i):\n\u001b[1;32m--> 172\u001b[0m     k \u001b[38;5;241m=\u001b[39m \u001b[38;5;28mself\u001b[39m\u001b[38;5;241m.\u001b[39mparse_endtag(i)\n\u001b[0;32m    173\u001b[0m \u001b[38;5;28;01melif\u001b[39;00m startswith(\u001b[38;5;124m\"\u001b[39m\u001b[38;5;124m<!--\u001b[39m\u001b[38;5;124m\"\u001b[39m, i):\n\u001b[0;32m    174\u001b[0m     k \u001b[38;5;241m=\u001b[39m \u001b[38;5;28mself\u001b[39m\u001b[38;5;241m.\u001b[39mparse_comment(i)\n",
      "File \u001b[1;32mC:\\ProgramData\\anaconda3\\Lib\\html\\parser.py:413\u001b[0m, in \u001b[0;36mHTMLParser.parse_endtag\u001b[1;34m(self, i)\u001b[0m\n\u001b[0;32m    410\u001b[0m         \u001b[38;5;28mself\u001b[39m\u001b[38;5;241m.\u001b[39mhandle_data(rawdata[i:gtpos])\n\u001b[0;32m    411\u001b[0m         \u001b[38;5;28;01mreturn\u001b[39;00m gtpos\n\u001b[1;32m--> 413\u001b[0m \u001b[38;5;28mself\u001b[39m\u001b[38;5;241m.\u001b[39mhandle_endtag(elem)\n\u001b[0;32m    414\u001b[0m \u001b[38;5;28mself\u001b[39m\u001b[38;5;241m.\u001b[39mclear_cdata_mode()\n\u001b[0;32m    415\u001b[0m \u001b[38;5;28;01mreturn\u001b[39;00m gtpos\n",
      "File \u001b[1;32mC:\\ProgramData\\anaconda3\\Lib\\site-packages\\bs4\\builder\\_htmlparser.py:176\u001b[0m, in \u001b[0;36mBeautifulSoupHTMLParser.handle_endtag\u001b[1;34m(self, name, check_already_closed)\u001b[0m\n\u001b[0;32m    174\u001b[0m     \u001b[38;5;28mself\u001b[39m\u001b[38;5;241m.\u001b[39malready_closed_empty_element\u001b[38;5;241m.\u001b[39mremove(name)\n\u001b[0;32m    175\u001b[0m \u001b[38;5;28;01melse\u001b[39;00m:\n\u001b[1;32m--> 176\u001b[0m     \u001b[38;5;28mself\u001b[39m\u001b[38;5;241m.\u001b[39msoup\u001b[38;5;241m.\u001b[39mhandle_endtag(name)\n",
      "File \u001b[1;32mC:\\ProgramData\\anaconda3\\Lib\\site-packages\\bs4\\__init__.py:771\u001b[0m, in \u001b[0;36mBeautifulSoup.handle_endtag\u001b[1;34m(self, name, nsprefix)\u001b[0m\n\u001b[0;32m    769\u001b[0m \u001b[38;5;66;03m#print(\"End tag: \" + name)\u001b[39;00m\n\u001b[0;32m    770\u001b[0m \u001b[38;5;28mself\u001b[39m\u001b[38;5;241m.\u001b[39mendData()\n\u001b[1;32m--> 771\u001b[0m \u001b[38;5;28mself\u001b[39m\u001b[38;5;241m.\u001b[39m_popToTag(name, nsprefix)\n",
      "File \u001b[1;32mC:\\ProgramData\\anaconda3\\Lib\\site-packages\\bs4\\__init__.py:711\u001b[0m, in \u001b[0;36mBeautifulSoup._popToTag\u001b[1;34m(self, name, nsprefix, inclusivePop)\u001b[0m\n\u001b[0;32m    709\u001b[0m stack_size \u001b[38;5;241m=\u001b[39m \u001b[38;5;28mlen\u001b[39m(\u001b[38;5;28mself\u001b[39m\u001b[38;5;241m.\u001b[39mtagStack)\n\u001b[0;32m    710\u001b[0m \u001b[38;5;28;01mfor\u001b[39;00m i \u001b[38;5;129;01min\u001b[39;00m \u001b[38;5;28mrange\u001b[39m(stack_size \u001b[38;5;241m-\u001b[39m \u001b[38;5;241m1\u001b[39m, \u001b[38;5;241m0\u001b[39m, \u001b[38;5;241m-\u001b[39m\u001b[38;5;241m1\u001b[39m):\n\u001b[1;32m--> 711\u001b[0m     \u001b[38;5;28;01mif\u001b[39;00m \u001b[38;5;129;01mnot\u001b[39;00m \u001b[38;5;28mself\u001b[39m\u001b[38;5;241m.\u001b[39mopen_tag_counter\u001b[38;5;241m.\u001b[39mget(name):\n\u001b[0;32m    712\u001b[0m         \u001b[38;5;28;01mbreak\u001b[39;00m\n\u001b[0;32m    713\u001b[0m     t \u001b[38;5;241m=\u001b[39m \u001b[38;5;28mself\u001b[39m\u001b[38;5;241m.\u001b[39mtagStack[i]\n",
      "\u001b[1;31mKeyboardInterrupt\u001b[0m: "
     ]
    }
   ],
   "source": [
    "# 훈련 클릭 반복문\n",
    "page = 1\n",
    "\n",
    "while 1:\n",
    "    time.sleep(1)\n",
    "    if driver.find_elements(By.XPATH, f'//*[@id=\"contentArea\"]/div[6]/ul/li[{page}]/div[2]/p/a') != []:\n",
    "        driver.find_element(By.XPATH, f'//*[@id=\"contentArea\"]/div[6]/ul/li[{page}]/div[2]/p/a').click()\n",
    "        soup = BeautifulSoup(driver.page_source, 'html.parser')\n",
    "        page += 1\n",
    "        \n",
    "        # 특성 추가\n",
    "        content = req.content\n",
    "        soup = BeautifulSoup(content, 'html.parser')\n",
    "\n",
    "        title = re.sub('\\n','',soup.select('h4')[0].text).strip()\n",
    "        academy = re.sub('\\n','',soup.select('p.add')[0].text).strip()\n",
    "        rating = re.sub('점','',soup.select('span.starRating')[0]['title'].split('기준')[-1])\n",
    "        category = re.sub('\\n','',soup.select('span.con')[1].text).strip()\n",
    "        start_day = re.findall('\\d\\d\\d\\d-\\d\\d-\\d\\d', soup.select('span.con')[5].text)[0]\n",
    "        end_day = re.findall('\\d\\d\\d\\d-\\d\\d-\\d\\d', soup.select('span.con')[5].text)[1]\n",
    "        routation = re.findall('\\S+', soup.select('span.con')[5].text)[2]\n",
    "        edutype = re.sub(' +','', re.sub('\\n','', soup.select('span.con')[12].text))\n",
    "\n",
    "        pd.DataFrame([title, academy, rating, category, start_day, end_day, routation, edutype],\n",
    "                     index = ['강의제목','학원명','만족도','NCS직무분류','훈련시작일자','훈련종료일자','회차','훈련유형']).T\n",
    "        \n",
    "    else:\n",
    "        break"
   ]
  },
  {
   "cell_type": "markdown",
   "id": "96847f37-af8e-456c-ba00-6d4115fb5e25",
   "metadata": {},
   "source": [
    "내용 크롤링"
   ]
  },
  {
   "cell_type": "code",
   "execution_count": 4,
   "id": "736a809a-f96a-45c7-a6ed-322b2158c6cb",
   "metadata": {
    "tags": []
   },
   "outputs": [],
   "source": [
    "driver.find_element(By.XPATH, f'//*[@id=\"contentArea\"]/div[6]/ul/li[1]/div[2]/p/a').click()\n",
    "soup = BeautifulSoup(driver.page_source, 'html.parser')"
   ]
  },
  {
   "cell_type": "code",
   "execution_count": 7,
   "id": "c95166ea-986e-467f-9212-4b65793df5c5",
   "metadata": {
    "tags": []
   },
   "outputs": [
    {
     "data": {
      "text/plain": [
       "[<h4 class=\"text1\">훈련과정 간편비교</h4>,\n",
       " <h4 class=\"bult-h4\">맞춤검색 저장</h4>,\n",
       " <h4 class=\"bult-h4\">맞춤검색 불러오기</h4>]"
      ]
     },
     "execution_count": 7,
     "metadata": {},
     "output_type": "execute_result"
    }
   ],
   "source": [
    "soup.select('h4')"
   ]
  },
  {
   "cell_type": "code",
   "execution_count": null,
   "id": "3ebbd62d-549f-4325-aaf5-7ac27fe74e3b",
   "metadata": {},
   "outputs": [],
   "source": []
  },
  {
   "cell_type": "markdown",
   "id": "c8286024-16cb-4fd1-97a0-f4809e353f88",
   "metadata": {},
   "source": [
    "재생성"
   ]
  },
  {
   "cell_type": "code",
   "execution_count": 9,
   "id": "b59f2655-18cf-47f5-a099-0fd38f557892",
   "metadata": {
    "tags": []
   },
   "outputs": [],
   "source": [
    "url = 'https://www.hrd.go.kr/hrdp/co/pcobo/PCOBO0100P.do?tracseId=AIG20230000456640&tracseTme=16&crseTracseSe=C0105&trainstCstmrId=500020051277#undefined'\n",
    "\n",
    "req = requests.get(url)\n",
    "content = req.content\n",
    "soup = BeautifulSoup(content, 'html.parser')"
   ]
  },
  {
   "cell_type": "code",
   "execution_count": 68,
   "id": "61924117-bdb6-4d0e-bcb6-cbce3a71d527",
   "metadata": {
    "tags": []
   },
   "outputs": [],
   "source": [
    "url = 'https://www.hrd.go.kr/hrdp/co/pcobo/PCOBO0100P.do?tracseId=AIG20230000456640&tracseTme=16&crseTracseSe=C0105&trainstCstmrId=500020051277#undefined'\n",
    "\n",
    "req = requests.get(url)\n",
    "content = req.content\n",
    "soup = BeautifulSoup(content, 'html.parser')\n",
    "\n",
    "title = re.sub('\\n','',soup.select('h4')[0].text).strip()\n",
    "academy = re.sub('\\n','',soup.select('p.add')[0].text).strip()\n",
    "rating = re.sub('점','',soup.select('span.starRating')[0]['title'].split('기준')[-1])\n",
    "category = re.sub('\\n','',soup.select('span.con')[1].text).strip()\n",
    "start_day = re.findall('\\d\\d\\d\\d-\\d\\d-\\d\\d', soup.select('span.con')[5].text)[0]\n",
    "end_day = re.findall('\\d\\d\\d\\d-\\d\\d-\\d\\d', soup.select('span.con')[5].text)[1]\n",
    "routation = re.findall('\\S+', soup.select('span.con')[5].text)[2]\n",
    "edutype = re.sub(' +','', re.sub('\\n','', soup.select('span.con')[12].text))\n",
    "\n",
    "pd.DataFrame([title, academy, rating, category, start_day, end_day, routation, edutype],\n",
    "             index = ['강의제목','학원명','만족도','NCS직무분류','훈련시작일자','훈련종료일자','회차','훈련유형']).T"
   ]
  },
  {
   "cell_type": "markdown",
   "id": "f591fe5f-e03e-452e-bb99-f63d549dd278",
   "metadata": {},
   "source": [
    "# 잡코리아"
   ]
  },
  {
   "cell_type": "code",
   "execution_count": 84,
   "id": "875064ed-a70e-4809-a57c-e0574bbc2e7d",
   "metadata": {
    "tags": []
   },
   "outputs": [],
   "source": [
    "driver = webdriver.Chrome()\n",
    "url = 'https://www.jobkorea.co.kr/Search/?stext=AWS&tabType=recruit&Page_No=1&Ord=RegDtDesc&focusTab=&focusGno=44063713'\n",
    "driver.get(url)"
   ]
  },
  {
   "cell_type": "code",
   "execution_count": 85,
   "id": "029fe9a5-5ee2-4ac9-b1b5-403b08dfeeca",
   "metadata": {
    "tags": []
   },
   "outputs": [],
   "source": [
    "stars = []\n",
    "\n",
    "for i in range(1,11):\n",
    "    driver.find_element(By.XPATH, f'//*[@id=\"contentArea\"]/div[6]/ul/li[{i}]/div/p')\n",
    "    driver.find_element(By.XPATH, f'//*[@id=\"contentArea\"]/div[6]/ul/li[{i}]/div/p/a').click()\n",
    "\n",
    "    time.sleep(1)\n",
    "    driver.switch_to.window(driver.window_handles[-1])\n",
    "\n",
    "    soup = BeautifulSoup(driver.page_source, 'html.parser')\n",
    "    star = soup.select('span.starRating')[0]['title']\n",
    "    stars.append(star)\n",
    "\n",
    "    driver.close()\n",
    "    time.sleep(.5)\n",
    "    driver.switch_to.window(driver.window_handles[-1])"
   ]
  },
  {
   "cell_type": "code",
   "execution_count": 86,
   "id": "d1ee9b51-85de-47c8-ac16-5f29f6dab156",
   "metadata": {
    "tags": []
   },
   "outputs": [
    {
     "data": {
      "text/plain": [
       "['만족도 100점 기준92.9점',\n",
       " '만족도 100점 기준86.6점',\n",
       " '만족도 100점 기준68.5점',\n",
       " '만족도 100점 기준0점',\n",
       " '만족도 100점 기준90.5점',\n",
       " '만족도 100점 기준84.2점',\n",
       " '만족도 100점 기준87.5점',\n",
       " '만족도 100점 기준84.2점',\n",
       " '만족도 100점 기준73.1점',\n",
       " '만족도 100점 기준84.1점']"
      ]
     },
     "execution_count": 86,
     "metadata": {},
     "output_type": "execute_result"
    }
   ],
   "source": [
    "stars"
   ]
  },
  {
   "cell_type": "code",
   "execution_count": null,
   "id": "6c8fbf3c-5c77-49a8-9687-1a27009305d7",
   "metadata": {},
   "outputs": [],
   "source": []
  },
  {
   "cell_type": "code",
   "execution_count": null,
   "id": "20465f15-9585-4cba-881a-1c87d92c86dc",
   "metadata": {},
   "outputs": [],
   "source": [
    "url"
   ]
  },
  {
   "cell_type": "code",
   "execution_count": null,
   "id": "3932a4a2-b58e-4288-8836-56999e2bcc3f",
   "metadata": {},
   "outputs": [],
   "source": []
  },
  {
   "cell_type": "code",
   "execution_count": null,
   "id": "6592592a-893a-4e2b-8056-10157c7f00b0",
   "metadata": {},
   "outputs": [],
   "source": []
  },
  {
   "cell_type": "code",
   "execution_count": null,
   "id": "6b2dd8b0-fb5f-4c9f-a472-c0d72fd99126",
   "metadata": {},
   "outputs": [],
   "source": []
  },
  {
   "cell_type": "code",
   "execution_count": null,
   "id": "8f48d0ba-ed57-4d76-96a3-ccf1abdda2a7",
   "metadata": {},
   "outputs": [],
   "source": []
  },
  {
   "cell_type": "code",
   "execution_count": null,
   "id": "30a06140-a2a3-4325-9dbd-5d26e8a0f2fa",
   "metadata": {},
   "outputs": [],
   "source": []
  },
  {
   "cell_type": "code",
   "execution_count": null,
   "id": "6f45b428-3dae-4476-bb6f-40b032eae855",
   "metadata": {},
   "outputs": [],
   "source": []
  },
  {
   "cell_type": "code",
   "execution_count": null,
   "id": "1032e02f-0b67-40e0-8e69-2428e08e2e63",
   "metadata": {},
   "outputs": [],
   "source": []
  },
  {
   "cell_type": "code",
   "execution_count": null,
   "id": "ad22dd83-8124-4770-bf9b-935e2a0df491",
   "metadata": {},
   "outputs": [],
   "source": []
  },
  {
   "cell_type": "markdown",
   "id": "6aa2e0f9-eebf-466b-9769-6265a2340ccc",
   "metadata": {
    "tags": []
   },
   "source": [
    "### 반복문"
   ]
  },
  {
   "cell_type": "code",
   "execution_count": null,
   "id": "f3ab5364-1d8e-4ac7-bfce-68acce7f21ec",
   "metadata": {},
   "outputs": [],
   "source": [
    "# 1번부터 20번까지\n",
    "for page in range(1,21):\n",
    "    driver.find_element(By.XPATH, f'//*[@id=\"content\"]/div/div/div[1]/div/div[2]/div[2]/div/div[1]/ul/li[{page}]/div/div[2]/a').click()"
   ]
  }
 ],
 "metadata": {
  "kernelspec": {
   "display_name": "Python 3 (ipykernel)",
   "language": "python",
   "name": "python3"
  },
  "language_info": {
   "codemirror_mode": {
    "name": "ipython",
    "version": 3
   },
   "file_extension": ".py",
   "mimetype": "text/x-python",
   "name": "python",
   "nbconvert_exporter": "python",
   "pygments_lexer": "ipython3",
   "version": "3.11.5"
  }
 },
 "nbformat": 4,
 "nbformat_minor": 5
}
