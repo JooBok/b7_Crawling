{
 "cells": [
  {
   "cell_type": "markdown",
   "metadata": {},
   "source": [
    "## 업종분류, 설립연도, 주소 추가"
   ]
  },
  {
   "cell_type": "code",
   "execution_count": 6,
   "metadata": {},
   "outputs": [],
   "source": [
    "import pandas as pd\n",
    "# 정적크롤링\n",
    "from bs4 import BeautifulSoup\n",
    "import requests\n",
    "import re\n",
    "# 동적크롤링\n",
    "from selenium import webdriver\n",
    "from selenium.webdriver.common.by import By\n",
    "import time\n",
    "from selenium.webdriver.common.keys import Keys"
   ]
  },
  {
   "cell_type": "code",
   "execution_count": 2,
   "metadata": {},
   "outputs": [],
   "source": [
    "# 파일 불러오기\n",
    "programmers = pd.read_csv('./programmers.csv')\n",
    "pro_corp_name = programmers['기업명']  # 프로그래머스 기업명"
   ]
  },
  {
   "cell_type": "markdown",
   "metadata": {},
   "source": [
    "## 다트 크롤링"
   ]
  },
  {
   "cell_type": "code",
   "execution_count": 10,
   "metadata": {},
   "outputs": [],
   "source": [
    "pro_extra_res = pd.DataFrame(columns=['기업명','주소','업종분류','설립연도','기업홈페이지URL'])"
   ]
  },
  {
   "cell_type": "code",
   "execution_count": 11,
   "metadata": {},
   "outputs": [],
   "source": [
    "url = 'https://dart.fss.or.kr/dsae001/main.do#none'\n",
    "\n",
    "driver= webdriver.Chrome()\n",
    "driver.get(url)\n",
    "\n",
    "driver.find_element(By.XPATH, '//*[@id=\"textCrpNm\"]').clear()\n",
    "\n",
    "for i in pro_corp_name:\n",
    "    try:\n",
    "        driver.find_element(By.XPATH, '//*[@id=\"textCrpNm\"]').send_keys(i)  # 키워드 작성\n",
    "        driver.find_element(By.XPATH, '//*[@id=\"rightWrap\"]/div[1]/div[1]/ul/li[3]/a').click()\n",
    "        driver.find_element(By.XPATH, '//*[@id=\"rightWrap\"]/div[1]/div[1]/ul/li[3]/a').click()\n",
    "        time.sleep(.1)\n",
    "        driver.find_element(By.XPATH, '//*[@id=\"corpTabel\"]/tbody/tr/td[1]/span/a').click()\n",
    "\n",
    "        soup = BeautifulSoup(driver.page_source, 'html.parser')\n",
    "\n",
    "        # 기업명\n",
    "        corp_name = i\n",
    "        # 주소\n",
    "        address = driver.find_element(By.XPATH, '//*[@id=\"corpDetailTabel\"]/tbody/tr[9]/td').text\n",
    "        # 업종명\n",
    "        sector = driver.find_element(By.XPATH, '//*[@id=\"corpDetailTabel\"]/tbody/tr[14]/td').text\n",
    "        # 설립일\n",
    "        corp_year = driver.find_element(By.XPATH, '//*[@id=\"corpDetailTabel\"]/tbody/tr[15]/td').text\n",
    "        # 기업 홈페이지\n",
    "        corp_url = driver.find_element(By.XPATH, '//*[@id=\"homePage\"]').text\n",
    "\n",
    "        pro_extra_temp = pd.DataFrame([corp_name,address,sector,corp_year,corp_url], index=['기업명','주소','업종분류','설립연도','기업홈페이지URL']).T\n",
    "        pro_extra_res = pd.concat([pro_extra_res, pro_extra_temp])\n",
    "\n",
    "        # 키워드 지우기\n",
    "        driver.find_element(By.XPATH, '//*[@id=\"textCrpNm\"]').clear()\n",
    "        time.sleep(.1)\n",
    "        \n",
    "    except:\n",
    "        driver.find_element(By.XPATH, '//*[@id=\"textCrpNm\"]').clear()\n",
    "\n",
    "driver.quit()"
   ]
  },
  {
   "cell_type": "code",
   "execution_count": 10,
   "metadata": {},
   "outputs": [],
   "source": [
    "pro_extra_res.to_csv('./프로그래머스_다트_추가.csv')"
   ]
  }
 ],
 "metadata": {
  "kernelspec": {
   "display_name": "base",
   "language": "python",
   "name": "python3"
  },
  "language_info": {
   "codemirror_mode": {
    "name": "ipython",
    "version": 3
   },
   "file_extension": ".py",
   "mimetype": "text/x-python",
   "name": "python",
   "nbconvert_exporter": "python",
   "pygments_lexer": "ipython3",
   "version": "3.11.5"
  }
 },
 "nbformat": 4,
 "nbformat_minor": 2
}
