{
 "cells": [
  {
   "cell_type": "markdown",
   "id": "126de9d6",
   "metadata": {},
   "source": [
    "# goormEDU Crawling Program\n"
   ]
  },
  {
   "cell_type": "code",
   "execution_count": 1,
   "id": "4a467203",
   "metadata": {},
   "outputs": [],
   "source": [
    "from bs4 import BeautifulSoup\n",
    "import requests\n",
    "import pandas as pd\n",
    "import re\n",
    "from selenium import webdriver\n",
    "from selenium.webdriver.common.by import By\n",
    "\n",
    "\n",
    "page = 1\n",
    "url = 'https://edu.goorm.io/category/programming?page=1&sort=accuracy'\n",
    "\n",
    "driver = webdriver.Chrome()\n",
    "\n",
    "driver.get(url)\n",
    "driver.get(url)\n",
    "\n",
    "soup = BeautifulSoup(driver.page_source,'html.parser')\n"
   ]
  },
  {
   "cell_type": "code",
   "execution_count": 8,
   "id": "fc6bb265",
   "metadata": {},
   "outputs": [],
   "source": [
    "#'강의명', '강의자', '온라인강의 소요시간', '교육과정', '가격', '평균평점'\n",
    "res_goorm = pd.DataFrame(columns=['강의명', '강의자', '온라인강의 소요시간', '교육과정', '가격', '평균평점'])"
   ]
  },
  {
   "cell_type": "code",
   "execution_count": 6,
   "id": "ef0d4945",
   "metadata": {},
   "outputs": [
    {
     "ename": "IndexError",
     "evalue": "list index out of range",
     "output_type": "error",
     "traceback": [
      "\u001b[1;31m---------------------------------------------------------------------------\u001b[0m",
      "\u001b[1;31mIndexError\u001b[0m                                Traceback (most recent call last)",
      "Cell \u001b[1;32mIn[6], line 2\u001b[0m\n\u001b[0;32m      1\u001b[0m \u001b[38;5;66;03m#강의명\u001b[39;00m\n\u001b[1;32m----> 2\u001b[0m soup\u001b[38;5;241m.\u001b[39mselect(\u001b[38;5;124m'\u001b[39m\u001b[38;5;124mdiv._1v8zxY mb-1\u001b[39m\u001b[38;5;124m'\u001b[39m)[\u001b[38;5;241m0\u001b[39m]\n",
      "\u001b[1;31mIndexError\u001b[0m: list index out of range"
     ]
    }
   ],
   "source": [
    "#강의명\n",
    "soup.select('div._1v8zxY mb-1')[0]"
   ]
  },
  {
   "cell_type": "code",
   "execution_count": 13,
   "id": "3a31c02e",
   "metadata": {},
   "outputs": [
    {
     "ename": "IndexError",
     "evalue": "list index out of range",
     "output_type": "error",
     "traceback": [
      "\u001b[1;31m---------------------------------------------------------------------------\u001b[0m",
      "\u001b[1;31mIndexError\u001b[0m                                Traceback (most recent call last)",
      "Cell \u001b[1;32mIn[13], line 2\u001b[0m\n\u001b[0;32m      1\u001b[0m \u001b[38;5;66;03m#강의자\u001b[39;00m\n\u001b[1;32m----> 2\u001b[0m soup\u001b[38;5;241m.\u001b[39mselect(\u001b[38;5;124m'\u001b[39m\u001b[38;5;124mdiv._3M41pF\u001b[39m\u001b[38;5;124m'\u001b[39m)[\u001b[38;5;241m0\u001b[39m]\u001b[38;5;241m.\u001b[39mtext\n",
      "\u001b[1;31mIndexError\u001b[0m: list index out of range"
     ]
    }
   ],
   "source": [
    "#강의자\n",
    "soup.select('div._3M41pF')[0].text"
   ]
  },
  {
   "cell_type": "code",
   "execution_count": null,
   "id": "770e5597",
   "metadata": {},
   "outputs": [],
   "source": [
    "#온라인 강의 소요시간"
   ]
  },
  {
   "cell_type": "code",
   "execution_count": null,
   "id": "2c6aee3a",
   "metadata": {},
   "outputs": [],
   "source": [
    "#교육과정"
   ]
  },
  {
   "cell_type": "code",
   "execution_count": 7,
   "id": "396773f6",
   "metadata": {},
   "outputs": [
    {
     "data": {
      "text/plain": [
       "['무료',\n",
       " '무료',\n",
       " '무료',\n",
       " '무료',\n",
       " '무료',\n",
       " '무료',\n",
       " '무료',\n",
       " '무료',\n",
       " '₩30,000',\n",
       " '₩23,100',\n",
       " '₩23,100',\n",
       " '₩33,000',\n",
       " '무료',\n",
       " '무료',\n",
       " '₩199,000',\n",
       " '₩199,000',\n",
       " '₩77,000',\n",
       " '₩55,000',\n",
       " '₩55,000',\n",
       " '₩44,000']"
      ]
     },
     "execution_count": 7,
     "metadata": {},
     "output_type": "execute_result"
    }
   ],
   "source": [
    "#가격\n",
    "soup.select('span._1zPZlD')[0].text\n",
    "prices =[p.text for p in soup.select('span._1zPZlD')]\n"
   ]
  },
  {
   "cell_type": "code",
   "execution_count": null,
   "id": "6384cacf",
   "metadata": {},
   "outputs": [],
   "source": []
  },
  {
   "cell_type": "code",
   "execution_count": null,
   "id": "cfb576c3",
   "metadata": {},
   "outputs": [],
   "source": [
    "#평균평점"
   ]
  },
  {
   "cell_type": "code",
   "execution_count": null,
   "id": "4239347d",
   "metadata": {},
   "outputs": [],
   "source": [
    "import requests\n",
    "from bs4 import BeautifulSoup\n",
    "import csv\n",
    "import time\n",
    "\n",
    "def get_course_info(course_url):\n",
    "    response = requests.get(course_url)\n",
    "    soup = BeautifulSoup(response.text, 'html.parser')\n",
    "    \n",
    "    # 강좌 소개, 교육 과정, 교육 후기 등의 정보를 추출\n",
    "    intro = soup.find('div', class_='course-intro').text.strip()\n",
    "    curriculum = soup.find('div', class_='course-curriculum').text.strip()\n",
    "    reviews_tag = soup.find('div', class_='course-reviews')\n",
    "    if reviews_tag:\n",
    "        reviews = reviews_tag.text.strip()\n",
    "    else:\n",
    "        reviews = \"수강 후기가 없습니다.\"\n",
    "    \n",
    "    return intro, curriculum, reviews\n",
    "\n",
    "def scrape_goorm_edu():\n",
    "    base_url = \"https://edu.goorm.io/category/programming?page={}&sort=accuracy\"\n",
    "    all_course_info = []\n",
    "    \n",
    "    for page in range(1, 24):  # 페이지: 1부터 23까지\n",
    "        url = base_url.format(page)\n",
    "        response = requests.get(url)\n",
    "        soup = BeautifulSoup(response.text, 'html.parser')\n",
    "\n",
    "        # 각 페이지의 강의 리스트에서 강의명, 강의자, 가격을 추출\n",
    "        courses = soup.find_all('div', class_='course-detail')\n",
    "        for course in courses:\n",
    "            title = course.find('div', class_='course-title').text.strip()\n",
    "            instructor = course.find('div', class_='instructor').text.strip()\n",
    "            price = course.find('div', class_='price').text.strip()\n",
    "            course_url = \"https://edu.goorm.io\" + course.find('a')['href']\n",
    "            \n",
    "            # 각각의 강의 페이지에서 강좌 소개, 교육 과정, 교육 후기를 가져오기\n",
    "            intro, curriculum, reviews = get_course_info(course_url)\n",
    "            \n",
    "            all_course_info.append({\n",
    "                \"Title\": title,\n",
    "                \"Instructor\": instructor,\n",
    "                \"Price\": price,\n",
    "                \"Intro\": intro,\n",
    "                \"Curriculum\": curriculum,\n",
    "                \"Reviews\": reviews\n",
    "            })\n",
    "            \n",
    "            # 잠시 대기하여 서버부하 줄이기\n",
    "            time.sleep(1)\n",
    "    \n",
    "    return all_course_info\n",
    "\n",
    "def save_to_csv(course_info, filename):\n",
    "    with open(filename, 'w', newline='', encoding='utf-8') as csvfile:\n",
    "        fieldnames = ['Title', 'Instructor', 'Price', 'Intro', 'Curriculum', 'Reviews']\n",
    "        writer = csv.DictWriter(csvfile, fieldnames=fieldnames)\n",
    "        \n",
    "        writer.writeheader()\n",
    "        for course in course_info:\n",
    "            writer.writerow(course)\n",
    "\n",
    "if __name__ == \"__main__\":\n",
    "    # Goorm Edu 사이트에서 강의 정보를 크롤링하기\n",
    "    all_course_info = scrape_goorm_edu()\n",
    "    \n",
    "    # CSV 파일로 저장합니다.\n",
    "    save_to_csv(all_course_info, 'goorm_edu_courses.csv')\n",
    "    \n",
    "    print(\"크롤링이 완료되었습니다.\")\n"
   ]
  }
 ],
 "metadata": {
  "kernelspec": {
   "display_name": "Python 3 (ipykernel)",
   "language": "python",
   "name": "python3"
  },
  "language_info": {
   "codemirror_mode": {
    "name": "ipython",
    "version": 3
   },
   "file_extension": ".py",
   "mimetype": "text/x-python",
   "name": "python",
   "nbconvert_exporter": "python",
   "pygments_lexer": "ipython3",
   "version": "3.11.5"
  }
 },
 "nbformat": 4,
 "nbformat_minor": 5
}
