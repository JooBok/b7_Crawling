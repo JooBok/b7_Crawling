{
 "cells": [
  {
   "cell_type": "raw",
   "id": "22efd508-ba2e-4410-8681-6f8907d80178",
   "metadata": {},
   "source": [
    "1. 목표 설정\n",
    "  최근 트랜드를 읽어\n",
    "  좋은 컨텐츠가 포함된 aws 강의를 개설할 것이다\n",
    "  \n",
    "  1-1 트랜드\n",
    "  [ 강의 가격, 수요, 공급, 강의 목차, 강의 방식, 온오프 유무]\n",
    "  \n",
    "  AWS 강의 시장의 성장률을 분석하여 예상 수익을 예측. 이를 통해 시장의 향후 동향을 파악하고   비즈니스 전략을 수립  \n",
    "  \n",
    "2. 크롤링 대상 사이트 선정\n",
    "  \n",
    "  2-1 취업시장 / \n",
    "  잡코리아, 사람인, wanted\n",
    "  [ 회사들의 취업자 요구 능력을 파악 ] [ aws 가능자 취업 수요 ]\n",
    "  \n",
    "  2-2 강의 / \n",
    "  AWS 공식 홈페이지, Udemy, Coursera, 부트텐트, 인프런, 코딩애플, 구름EDU, 유데미, 유튜브\n",
    "  [ 강의목차, 가격, 공급량, 강의방식, 강의를 수강한 고객의 리뷰 파악]\n",
    "\n",
    "3. 크롤링 기술 선택\n",
    "  [ beautifulsoup, selenium ]\n",
    "\n",
    "\n",
    "4. 데이터 수집 및 저장\n",
    "\n",
    "\n",
    "5. 데이터 분석 및 시각화\n",
    "  수집한 데이터를 분석, 시각화\n",
    "  ex) 강의 제공자별 평가, 강의 가격대별 분포\n",
    "\n",
    "\n",
    "6. 결과 해석 및 활용\n",
    "  분석 해석 및 인사이트 도출"
   ]
  }
 ],
 "metadata": {
  "kernelspec": {
   "display_name": "Python 3 (ipykernel)",
   "language": "python",
   "name": "python3"
  },
  "language_info": {
   "codemirror_mode": {
    "name": "ipython",
    "version": 3
   },
   "file_extension": ".py",
   "mimetype": "text/x-python",
   "name": "python",
   "nbconvert_exporter": "python",
   "pygments_lexer": "ipython3",
   "version": "3.11.5"
  }
 },
 "nbformat": 4,
 "nbformat_minor": 5
}
